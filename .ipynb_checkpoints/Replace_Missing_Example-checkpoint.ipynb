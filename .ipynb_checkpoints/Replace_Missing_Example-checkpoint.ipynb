{
 "cells": [
  {
   "cell_type": "code",
   "execution_count": 1,
   "metadata": {},
   "outputs": [
    {
     "data": {
      "text/plain": [
       "20-element Array{Union{Missing, String},1}:\n",
       " \"b\" \n",
       " \"b\" \n",
       " \"a\" \n",
       " \"b\" \n",
       " \"a\" \n",
       " \"NA\"\n",
       " \"b\" \n",
       " \"a\" \n",
       " \"b\" \n",
       " \"a\" \n",
       " \"a\" \n",
       " \"NA\"\n",
       " \"NA\"\n",
       " \"NA\"\n",
       " \"b\" \n",
       " \"b\" \n",
       " \"NA\"\n",
       " \"NA\"\n",
       " \"NA\"\n",
       " \"NA\""
      ]
     },
     "execution_count": 1,
     "metadata": {},
     "output_type": "execute_result"
    }
   ],
   "source": [
    "a = rand([\"a\",\"b\",\"NA\"], 20)\n",
    "a2 = Array{Union{Missing, String}}(a)"
   ]
  },
  {
   "cell_type": "code",
   "execution_count": 2,
   "metadata": {},
   "outputs": [],
   "source": [
    "for i in eachindex(a2)\n",
    "    #i == \"NA\" && (as[1] = missing)\n",
    "    if a2[i] == \"NA\"\n",
    "        a2[i] = missing\n",
    "    end\n",
    "end"
   ]
  },
  {
   "cell_type": "code",
   "execution_count": 3,
   "metadata": {},
   "outputs": [
    {
     "data": {
      "text/plain": [
       "20-element Array{Union{Missing, String},1}:\n",
       " \"b\"    \n",
       " \"b\"    \n",
       " \"a\"    \n",
       " \"b\"    \n",
       " \"a\"    \n",
       " missing\n",
       " \"b\"    \n",
       " \"a\"    \n",
       " \"b\"    \n",
       " \"a\"    \n",
       " \"a\"    \n",
       " missing\n",
       " missing\n",
       " missing\n",
       " \"b\"    \n",
       " \"b\"    \n",
       " missing\n",
       " missing\n",
       " missing\n",
       " missing"
      ]
     },
     "execution_count": 3,
     "metadata": {},
     "output_type": "execute_result"
    }
   ],
   "source": [
    "a2"
   ]
  },
  {
   "cell_type": "code",
   "execution_count": 6,
   "metadata": {},
   "outputs": [
    {
     "data": {
      "text/plain": [
       "20-element Array{Union{Missing, String},1}:\n",
       " \"b\"    \n",
       " \"b\"    \n",
       " \"a\"    \n",
       " \"b\"    \n",
       " \"a\"    \n",
       " missing\n",
       " \"b\"    \n",
       " \"a\"    \n",
       " \"b\"    \n",
       " \"a\"    \n",
       " \"a\"    \n",
       " missing\n",
       " missing\n",
       " missing\n",
       " \"b\"    \n",
       " \"b\"    \n",
       " missing\n",
       " missing\n",
       " missing\n",
       " missing"
      ]
     },
     "execution_count": 6,
     "metadata": {},
     "output_type": "execute_result"
    }
   ],
   "source": [
    "a3 = [x == \"NA\" ? missing : x for x in a] # ternary operatore syntax"
   ]
  },
  {
   "cell_type": "code",
   "execution_count": 5,
   "metadata": {},
   "outputs": [
    {
     "data": {
      "text/plain": [
       "convertna (generic function with 1 method)"
      ]
     },
     "execution_count": 5,
     "metadata": {},
     "output_type": "execute_result"
    }
   ],
   "source": [
    "#a4 = map(x -> if x == \"NA\"; missing; else x; end, a)\n",
    "function convertna(x) \n",
    "    if x == \"NA\"\n",
    "        return missing\n",
    "    end \n",
    "    return x\n",
    "end"
   ]
  },
  {
   "cell_type": "code",
   "execution_count": null,
   "metadata": {},
   "outputs": [],
   "source": []
  }
 ],
 "metadata": {
  "kernelspec": {
   "display_name": "Julia 1.1.1",
   "language": "julia",
   "name": "julia-1.1"
  },
  "language_info": {
   "file_extension": ".jl",
   "mimetype": "application/julia",
   "name": "julia",
   "version": "1.1.1"
  }
 },
 "nbformat": 4,
 "nbformat_minor": 2
}
