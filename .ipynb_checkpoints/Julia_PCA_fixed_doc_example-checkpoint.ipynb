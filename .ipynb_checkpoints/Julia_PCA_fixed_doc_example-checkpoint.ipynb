{
 "cells": [
  {
   "cell_type": "markdown",
   "metadata": {},
   "source": [
    "# PCA \n",
    "\n",
    "Goal is to apply PCA to the housing data set\n",
    "\n",
    "reference: https://multivariatestatsjl.readthedocs.io/en/stable/pca.html"
   ]
  },
  {
   "cell_type": "code",
   "execution_count": 3,
   "metadata": {},
   "outputs": [
    {
     "name": "stderr",
     "output_type": "stream",
     "text": [
      "┌ Info: Precompiling RDatasets [ce6b1742-4840-55fa-b093-852dadbb1d8b]\n",
      "└ @ Base loading.jl:1192\n"
     ]
    },
    {
     "data": {
      "text/html": [
       "<table class=\"data-frame\"><thead><tr><th></th><th>SepalLength</th><th>SepalWidth</th><th>PetalLength</th><th>PetalWidth</th><th>Species</th></tr><tr><th></th><th>Float64</th><th>Float64</th><th>Float64</th><th>Float64</th><th>Categorical…</th></tr></thead><tbody><p>150 rows × 5 columns</p><tr><th>1</th><td>5.1</td><td>3.5</td><td>1.4</td><td>0.2</td><td>setosa</td></tr><tr><th>2</th><td>4.9</td><td>3.0</td><td>1.4</td><td>0.2</td><td>setosa</td></tr><tr><th>3</th><td>4.7</td><td>3.2</td><td>1.3</td><td>0.2</td><td>setosa</td></tr><tr><th>4</th><td>4.6</td><td>3.1</td><td>1.5</td><td>0.2</td><td>setosa</td></tr><tr><th>5</th><td>5.0</td><td>3.6</td><td>1.4</td><td>0.2</td><td>setosa</td></tr><tr><th>6</th><td>5.4</td><td>3.9</td><td>1.7</td><td>0.4</td><td>setosa</td></tr><tr><th>7</th><td>4.6</td><td>3.4</td><td>1.4</td><td>0.3</td><td>setosa</td></tr><tr><th>8</th><td>5.0</td><td>3.4</td><td>1.5</td><td>0.2</td><td>setosa</td></tr><tr><th>9</th><td>4.4</td><td>2.9</td><td>1.4</td><td>0.2</td><td>setosa</td></tr><tr><th>10</th><td>4.9</td><td>3.1</td><td>1.5</td><td>0.1</td><td>setosa</td></tr><tr><th>11</th><td>5.4</td><td>3.7</td><td>1.5</td><td>0.2</td><td>setosa</td></tr><tr><th>12</th><td>4.8</td><td>3.4</td><td>1.6</td><td>0.2</td><td>setosa</td></tr><tr><th>13</th><td>4.8</td><td>3.0</td><td>1.4</td><td>0.1</td><td>setosa</td></tr><tr><th>14</th><td>4.3</td><td>3.0</td><td>1.1</td><td>0.1</td><td>setosa</td></tr><tr><th>15</th><td>5.8</td><td>4.0</td><td>1.2</td><td>0.2</td><td>setosa</td></tr><tr><th>16</th><td>5.7</td><td>4.4</td><td>1.5</td><td>0.4</td><td>setosa</td></tr><tr><th>17</th><td>5.4</td><td>3.9</td><td>1.3</td><td>0.4</td><td>setosa</td></tr><tr><th>18</th><td>5.1</td><td>3.5</td><td>1.4</td><td>0.3</td><td>setosa</td></tr><tr><th>19</th><td>5.7</td><td>3.8</td><td>1.7</td><td>0.3</td><td>setosa</td></tr><tr><th>20</th><td>5.1</td><td>3.8</td><td>1.5</td><td>0.3</td><td>setosa</td></tr><tr><th>21</th><td>5.4</td><td>3.4</td><td>1.7</td><td>0.2</td><td>setosa</td></tr><tr><th>22</th><td>5.1</td><td>3.7</td><td>1.5</td><td>0.4</td><td>setosa</td></tr><tr><th>23</th><td>4.6</td><td>3.6</td><td>1.0</td><td>0.2</td><td>setosa</td></tr><tr><th>24</th><td>5.1</td><td>3.3</td><td>1.7</td><td>0.5</td><td>setosa</td></tr><tr><th>25</th><td>4.8</td><td>3.4</td><td>1.9</td><td>0.2</td><td>setosa</td></tr><tr><th>26</th><td>5.0</td><td>3.0</td><td>1.6</td><td>0.2</td><td>setosa</td></tr><tr><th>27</th><td>5.0</td><td>3.4</td><td>1.6</td><td>0.4</td><td>setosa</td></tr><tr><th>28</th><td>5.2</td><td>3.5</td><td>1.5</td><td>0.2</td><td>setosa</td></tr><tr><th>29</th><td>5.2</td><td>3.4</td><td>1.4</td><td>0.2</td><td>setosa</td></tr><tr><th>30</th><td>4.7</td><td>3.2</td><td>1.6</td><td>0.2</td><td>setosa</td></tr><tr><th>&vellip;</th><td>&vellip;</td><td>&vellip;</td><td>&vellip;</td><td>&vellip;</td><td>&vellip;</td></tr></tbody></table>"
      ],
      "text/latex": [
       "\\begin{tabular}{r|ccccc}\n",
       "\t& SepalLength & SepalWidth & PetalLength & PetalWidth & Species\\\\\n",
       "\t\\hline\n",
       "\t& Float64 & Float64 & Float64 & Float64 & Categorical…\\\\\n",
       "\t\\hline\n",
       "\t1 & 5.1 & 3.5 & 1.4 & 0.2 & setosa \\\\\n",
       "\t2 & 4.9 & 3.0 & 1.4 & 0.2 & setosa \\\\\n",
       "\t3 & 4.7 & 3.2 & 1.3 & 0.2 & setosa \\\\\n",
       "\t4 & 4.6 & 3.1 & 1.5 & 0.2 & setosa \\\\\n",
       "\t5 & 5.0 & 3.6 & 1.4 & 0.2 & setosa \\\\\n",
       "\t6 & 5.4 & 3.9 & 1.7 & 0.4 & setosa \\\\\n",
       "\t7 & 4.6 & 3.4 & 1.4 & 0.3 & setosa \\\\\n",
       "\t8 & 5.0 & 3.4 & 1.5 & 0.2 & setosa \\\\\n",
       "\t9 & 4.4 & 2.9 & 1.4 & 0.2 & setosa \\\\\n",
       "\t10 & 4.9 & 3.1 & 1.5 & 0.1 & setosa \\\\\n",
       "\t11 & 5.4 & 3.7 & 1.5 & 0.2 & setosa \\\\\n",
       "\t12 & 4.8 & 3.4 & 1.6 & 0.2 & setosa \\\\\n",
       "\t13 & 4.8 & 3.0 & 1.4 & 0.1 & setosa \\\\\n",
       "\t14 & 4.3 & 3.0 & 1.1 & 0.1 & setosa \\\\\n",
       "\t15 & 5.8 & 4.0 & 1.2 & 0.2 & setosa \\\\\n",
       "\t16 & 5.7 & 4.4 & 1.5 & 0.4 & setosa \\\\\n",
       "\t17 & 5.4 & 3.9 & 1.3 & 0.4 & setosa \\\\\n",
       "\t18 & 5.1 & 3.5 & 1.4 & 0.3 & setosa \\\\\n",
       "\t19 & 5.7 & 3.8 & 1.7 & 0.3 & setosa \\\\\n",
       "\t20 & 5.1 & 3.8 & 1.5 & 0.3 & setosa \\\\\n",
       "\t21 & 5.4 & 3.4 & 1.7 & 0.2 & setosa \\\\\n",
       "\t22 & 5.1 & 3.7 & 1.5 & 0.4 & setosa \\\\\n",
       "\t23 & 4.6 & 3.6 & 1.0 & 0.2 & setosa \\\\\n",
       "\t24 & 5.1 & 3.3 & 1.7 & 0.5 & setosa \\\\\n",
       "\t25 & 4.8 & 3.4 & 1.9 & 0.2 & setosa \\\\\n",
       "\t26 & 5.0 & 3.0 & 1.6 & 0.2 & setosa \\\\\n",
       "\t27 & 5.0 & 3.4 & 1.6 & 0.4 & setosa \\\\\n",
       "\t28 & 5.2 & 3.5 & 1.5 & 0.2 & setosa \\\\\n",
       "\t29 & 5.2 & 3.4 & 1.4 & 0.2 & setosa \\\\\n",
       "\t30 & 4.7 & 3.2 & 1.6 & 0.2 & setosa \\\\\n",
       "\t$\\dots$ & $\\dots$ & $\\dots$ & $\\dots$ & $\\dots$ & $\\dots$ \\\\\n",
       "\\end{tabular}\n"
      ],
      "text/plain": [
       "150×5 DataFrame\n",
       "│ Row │ SepalLength │ SepalWidth │ PetalLength │ PetalWidth │ Species      │\n",
       "│     │ \u001b[90mFloat64\u001b[39m     │ \u001b[90mFloat64\u001b[39m    │ \u001b[90mFloat64\u001b[39m     │ \u001b[90mFloat64\u001b[39m    │ \u001b[90mCategorical…\u001b[39m │\n",
       "├─────┼─────────────┼────────────┼─────────────┼────────────┼──────────────┤\n",
       "│ 1   │ 5.1         │ 3.5        │ 1.4         │ 0.2        │ setosa       │\n",
       "│ 2   │ 4.9         │ 3.0        │ 1.4         │ 0.2        │ setosa       │\n",
       "│ 3   │ 4.7         │ 3.2        │ 1.3         │ 0.2        │ setosa       │\n",
       "│ 4   │ 4.6         │ 3.1        │ 1.5         │ 0.2        │ setosa       │\n",
       "│ 5   │ 5.0         │ 3.6        │ 1.4         │ 0.2        │ setosa       │\n",
       "│ 6   │ 5.4         │ 3.9        │ 1.7         │ 0.4        │ setosa       │\n",
       "│ 7   │ 4.6         │ 3.4        │ 1.4         │ 0.3        │ setosa       │\n",
       "│ 8   │ 5.0         │ 3.4        │ 1.5         │ 0.2        │ setosa       │\n",
       "│ 9   │ 4.4         │ 2.9        │ 1.4         │ 0.2        │ setosa       │\n",
       "│ 10  │ 4.9         │ 3.1        │ 1.5         │ 0.1        │ setosa       │\n",
       "⋮\n",
       "│ 140 │ 6.9         │ 3.1        │ 5.4         │ 2.1        │ virginica    │\n",
       "│ 141 │ 6.7         │ 3.1        │ 5.6         │ 2.4        │ virginica    │\n",
       "│ 142 │ 6.9         │ 3.1        │ 5.1         │ 2.3        │ virginica    │\n",
       "│ 143 │ 5.8         │ 2.7        │ 5.1         │ 1.9        │ virginica    │\n",
       "│ 144 │ 6.8         │ 3.2        │ 5.9         │ 2.3        │ virginica    │\n",
       "│ 145 │ 6.7         │ 3.3        │ 5.7         │ 2.5        │ virginica    │\n",
       "│ 146 │ 6.7         │ 3.0        │ 5.2         │ 2.3        │ virginica    │\n",
       "│ 147 │ 6.3         │ 2.5        │ 5.0         │ 1.9        │ virginica    │\n",
       "│ 148 │ 6.5         │ 3.0        │ 5.2         │ 2.0        │ virginica    │\n",
       "│ 149 │ 6.2         │ 3.4        │ 5.4         │ 2.3        │ virginica    │\n",
       "│ 150 │ 5.9         │ 3.0        │ 5.1         │ 1.8        │ virginica    │"
      ]
     },
     "execution_count": 3,
     "metadata": {},
     "output_type": "execute_result"
    }
   ],
   "source": [
    "using MultivariateStats, RDatasets, Plots\n",
    "plotly() # using plotly for 3D-interacive graphing\n",
    "\n",
    "# load iris dataset\n",
    "iris = dataset(\"datasets\", \"iris\")"
   ]
  },
  {
   "cell_type": "code",
   "execution_count": 4,
   "metadata": {},
   "outputs": [
    {
     "data": {
      "text/plain": [
       "DataFrame"
      ]
     },
     "execution_count": 4,
     "metadata": {},
     "output_type": "execute_result"
    }
   ],
   "source": [
    "typeof(iris)"
   ]
  },
  {
   "cell_type": "code",
   "execution_count": 23,
   "metadata": {},
   "outputs": [
    {
     "data": {
      "text/plain": [
       "75-element Array{String,1}:\n",
       " \"setosa\"   \n",
       " \"setosa\"   \n",
       " \"setosa\"   \n",
       " \"setosa\"   \n",
       " \"setosa\"   \n",
       " \"setosa\"   \n",
       " \"setosa\"   \n",
       " \"setosa\"   \n",
       " \"setosa\"   \n",
       " \"setosa\"   \n",
       " \"setosa\"   \n",
       " \"setosa\"   \n",
       " \"setosa\"   \n",
       " ⋮          \n",
       " \"virginica\"\n",
       " \"virginica\"\n",
       " \"virginica\"\n",
       " \"virginica\"\n",
       " \"virginica\"\n",
       " \"virginica\"\n",
       " \"virginica\"\n",
       " \"virginica\"\n",
       " \"virginica\"\n",
       " \"virginica\"\n",
       " \"virginica\"\n",
       " \"virginica\""
      ]
     },
     "execution_count": 23,
     "metadata": {},
     "output_type": "execute_result"
    }
   ],
   "source": [
    "# split half to training set. 5.1  3.5  1.4  0.2\n",
    "# Array{Union{T, Missing}}\n",
    "Xtr = Array(Matrix(iris[1:2:end,1:4]))' \n",
    "Xtr_labels = Array(iris[1:2:end,5])"
   ]
  },
  {
   "cell_type": "code",
   "execution_count": 22,
   "metadata": {},
   "outputs": [
    {
     "data": {
      "text/plain": [
       "Array{String,1}"
      ]
     },
     "execution_count": 22,
     "metadata": {},
     "output_type": "execute_result"
    }
   ],
   "source": [
    "typeof(Xtr) # LinearAlgebra.Adjoint{Float64,Array{Float64,2}}\n",
    "typeof(Xtr_labels) # Array{String,1}"
   ]
  },
  {
   "cell_type": "code",
   "execution_count": 25,
   "metadata": {},
   "outputs": [
    {
     "data": {
      "text/plain": [
       "75-element Array{String,1}:\n",
       " \"setosa\"   \n",
       " \"setosa\"   \n",
       " \"setosa\"   \n",
       " \"setosa\"   \n",
       " \"setosa\"   \n",
       " \"setosa\"   \n",
       " \"setosa\"   \n",
       " \"setosa\"   \n",
       " \"setosa\"   \n",
       " \"setosa\"   \n",
       " \"setosa\"   \n",
       " \"setosa\"   \n",
       " \"setosa\"   \n",
       " ⋮          \n",
       " \"virginica\"\n",
       " \"virginica\"\n",
       " \"virginica\"\n",
       " \"virginica\"\n",
       " \"virginica\"\n",
       " \"virginica\"\n",
       " \"virginica\"\n",
       " \"virginica\"\n",
       " \"virginica\"\n",
       " \"virginica\"\n",
       " \"virginica\"\n",
       " \"virginica\""
      ]
     },
     "execution_count": 25,
     "metadata": {},
     "output_type": "execute_result"
    }
   ],
   "source": [
    "# split other half to testing set\n",
    "Xte = Array(Matrix(iris[2:2:end,1:4]))'\n",
    "Xte_labels = Array(iris[2:2:end,5])"
   ]
  },
  {
   "cell_type": "code",
   "execution_count": 26,
   "metadata": {},
   "outputs": [
    {
     "data": {
      "text/plain": [
       "Array{String,1}"
      ]
     },
     "execution_count": 26,
     "metadata": {},
     "output_type": "execute_result"
    }
   ],
   "source": [
    "typeof(Xte) # LinearAlgebra.Adjoint{Float64,Array{Float64,2}}\n",
    "typeof(Xte_labels) # Array{String,1}"
   ]
  },
  {
   "cell_type": "code",
   "execution_count": 27,
   "metadata": {},
   "outputs": [
    {
     "data": {
      "text/plain": [
       "PCA(indim = 4, outdim = 3, principalratio = 0.99573)"
      ]
     },
     "execution_count": 27,
     "metadata": {},
     "output_type": "execute_result"
    }
   ],
   "source": [
    "# suppose Xtr and Xte are training and testing data matrix,\n",
    "# with each observation in a column\n",
    "\n",
    "# train a PCA model, allowing up to 3 dimensions\n",
    "M = fit(PCA, Xtr; maxoutdim=3)"
   ]
  },
  {
   "cell_type": "code",
   "execution_count": 28,
   "metadata": {},
   "outputs": [
    {
     "data": {
      "text/plain": [
       "PCA{Float64}"
      ]
     },
     "execution_count": 28,
     "metadata": {},
     "output_type": "execute_result"
    }
   ],
   "source": [
    "typeof(M)"
   ]
  },
  {
   "cell_type": "code",
   "execution_count": 30,
   "metadata": {},
   "outputs": [
    {
     "data": {
      "text/plain": [
       "3×75 Array{Float64,2}:\n",
       "  2.72714    2.75491    2.32396   …  -1.92047   -1.74161   -1.37706 \n",
       " -0.230916  -0.406149   0.646374      0.246554   0.127625  -0.280295\n",
       " -0.253119  -0.0271266  0.230469      0.180044   0.123165   0.314992"
      ]
     },
     "execution_count": 30,
     "metadata": {},
     "output_type": "execute_result"
    }
   ],
   "source": [
    "# apply PCA model to testing set\n",
    "Yte = transform(M, Xte)"
   ]
  },
  {
   "cell_type": "code",
   "execution_count": 31,
   "metadata": {},
   "outputs": [
    {
     "data": {
      "text/plain": [
       "Array{Float64,2}"
      ]
     },
     "execution_count": 31,
     "metadata": {},
     "output_type": "execute_result"
    }
   ],
   "source": [
    "typeof(Yte)"
   ]
  },
  {
   "cell_type": "code",
   "execution_count": 33,
   "metadata": {},
   "outputs": [
    {
     "data": {
      "text/plain": [
       "4×75 Array{Float64,2}:\n",
       " 4.86449  4.61087   5.40782   5.00775   …  6.79346  6.58825  6.46774  5.94384\n",
       " 3.04262  3.08695   3.89061   3.39069      3.20785  3.13416  3.03873  2.94737\n",
       " 1.46099  1.48132   1.68656   1.48668      5.91124  5.39197  5.25542  5.02469\n",
       " 0.10362  0.229519  0.421233  0.221041     2.28224  1.99665  1.91243  1.91901"
      ]
     },
     "execution_count": 33,
     "metadata": {},
     "output_type": "execute_result"
    }
   ],
   "source": [
    "# reconstruct testing observations (approximately)\n",
    "Xr = reconstruct(M, Yte)"
   ]
  },
  {
   "cell_type": "code",
   "execution_count": 34,
   "metadata": {},
   "outputs": [
    {
     "data": {
      "text/plain": [
       "Array{Float64,2}"
      ]
     },
     "execution_count": 34,
     "metadata": {},
     "output_type": "execute_result"
    }
   ],
   "source": [
    "typeof(Xr)"
   ]
  },
  {
   "cell_type": "code",
   "execution_count": 35,
   "metadata": {},
   "outputs": [
    {
     "data": {
      "text/plain": [
       "3×25 Array{Float64,2}:\n",
       " -1.4126    -1.95359   -3.35517   …  -1.92047   -1.74161   -1.37706 \n",
       " -0.556727  -0.133821   0.692925      0.246554   0.127625  -0.280295\n",
       "  0.214115   0.075898  -0.293002      0.180044   0.123165   0.314992"
      ]
     },
     "execution_count": 35,
     "metadata": {},
     "output_type": "execute_result"
    }
   ],
   "source": [
    "# group results by testing set labels for color coding\n",
    "setosa = Yte[:,Xte_labels.==\"setosa\"]\n",
    "versicolor = Yte[:,Xte_labels.==\"versicolor\"]\n",
    "virginica = Yte[:,Xte_labels.==\"virginica\"]"
   ]
  },
  {
   "cell_type": "code",
   "execution_count": 37,
   "metadata": {},
   "outputs": [
    {
     "data": {
      "text/plain": [
       "Array{Float64,2}"
      ]
     },
     "execution_count": 37,
     "metadata": {},
     "output_type": "execute_result"
    }
   ],
   "source": [
    "typeof(setosa)"
   ]
  },
  {
   "cell_type": "code",
   "execution_count": 38,
   "metadata": {},
   "outputs": [
    {
     "data": {
      "text/html": [
       "    <script type=\"text/javascript\">\n",
       "        requirejs([\"https://cdn.plot.ly/plotly-latest.min.js\"], function(p) {\n",
       "            window.Plotly = p\n",
       "        });\n",
       "    </script>\n"
      ]
     },
     "metadata": {},
     "output_type": "display_data"
    },
    {
     "data": {
      "application/vnd.plotly.v1+json": {
       "data": [
        {
         "colorbar": {
          "title": ""
         },
         "hoverinfo": "text",
         "legendgroup": "y1",
         "marker": {
          "color": "rgba(0, 154, 250, 1.000)",
          "line": {
           "color": "rgba(0, 0, 0, 1.000)",
           "width": 1
          },
          "size": 8,
          "symbol": "circle"
         },
         "mode": "markers",
         "name": "y1",
         "showlegend": true,
         "text": [
          null,
          null,
          null,
          null,
          null,
          null,
          null,
          null,
          null,
          null,
          null,
          null,
          null,
          null,
          null,
          null,
          null,
          null,
          null,
          null,
          null,
          null,
          null,
          null,
          null
         ],
         "type": "scatter3d",
         "x": [
          2.7271370229910716,
          2.754914126352502,
          2.323960273923084,
          2.651054412942388,
          2.689168203630764,
          2.633674661206393,
          3.2263809526967275,
          2.447743893623693,
          2.676766823053665,
          2.6239074375368103,
          2.5761164255318683,
          2.3239053049480325,
          2.521427320445945,
          2.5936411485959314,
          2.6459310704554233,
          2.4406458602395915,
          2.6535985674968874,
          2.8864002764725405,
          2.829762111410005,
          2.6168643731277608,
          2.8360651099130982,
          2.428964609971362,
          2.7245028660835553,
          2.85164077300055,
          2.725847429024839
         ],
         "xaxis": "x1",
         "y": [
          -0.23091552150748468,
          -0.40614908940640493,
          0.6463738633842837,
          0.08281441013246736,
          -0.17410970550165597,
          -0.08251829646713302,
          -0.6143053394542858,
          1.223915589193648,
          0.22849233585806983,
          0.40393281924396146,
          0.3299846061919126,
          0.029168718615310663,
          -0.19110516082323564,
          0.2951990131632182,
          -0.285002038198564,
          0.3596871900898708,
          0.9839869288811033,
          0.005853014316387279,
          0.1640041589314179,
          0.15690956490915708,
          -0.9692677174842982,
          0.09085062826490437,
          -0.3147645958588534,
          -0.3248123988828137,
          0.035762513701317
         ],
         "yaxis": "y1",
         "z": [
          -0.2531186297819421,
          -0.027126589264421477,
          0.23046868160032025,
          -0.02528530746891057,
          -0.23150687337431883,
          0.08209787262044475,
          -0.021108526683511618,
          0.40646930956872956,
          0.038612671484517636,
          0.2489757903662364,
          0.23360855705111633,
          0.026611774131785636,
          -0.2911989120953623,
          -0.05838443253602445,
          -0.0034118627406063543,
          -0.12221802423337884,
          0.259939782384365,
          -0.18009794060589646,
          0.10244626318187165,
          -0.07585463596733667,
          -0.48069026377429225,
          0.25968794201180456,
          -0.1498770026688972,
          0.0346684195728144,
          -0.09956936249115224
         ],
         "zmax": 0.1,
         "zmin": -0.1
        },
        {
         "colorbar": {
          "title": ""
         },
         "hoverinfo": "text",
         "legendgroup": "y2",
         "marker": {
          "color": "rgba(227, 111, 71, 1.000)",
          "line": {
           "color": "rgba(0, 0, 0, 1.000)",
           "width": 1
          },
          "size": 8,
          "symbol": "circle"
         },
         "mode": "markers",
         "name": "y2",
         "showlegend": true,
         "text": [
          null,
          null,
          null,
          null,
          null,
          null,
          null,
          null,
          null,
          null,
          null,
          null,
          null,
          null,
          null,
          null,
          null,
          null,
          null,
          null,
          null,
          null,
          null,
          null,
          null
         ],
         "type": "scatter3d",
         "x": [
          -0.9010492733733455,
          -0.18959270231634956,
          -0.6319378623578608,
          0.7373057615773905,
          0.005780312901831444,
          -0.4947532107700573,
          -0.9660750657862142,
          -0.8920021800126327,
          -0.22358280182785636,
          -0.04244088675584313,
          -0.33989886479012155,
          -0.9033934876247252,
          -0.8687789554808035,
          -1.5280005736533593,
          0.3141994108954697,
          0.18912619722862836,
          -1.370506375442469,
          -0.7791796802713836,
          -0.8061523462943663,
          -0.16765907175075295,
          -0.8693484191381657,
          0.6921489064799651,
          -0.3159005409743717,
          -0.6204015834176994,
          -0.28889853689686196
         ],
         "xaxis": "x1",
         "y": [
          0.35068512419395753,
          -0.7887000857121308,
          -0.40525029400299883,
          -1.019818182847322,
          -0.7468198986611754,
          -0.09675204550557294,
          -0.08871409508598756,
          0.5356726116675552,
          -0.2975180857947631,
          -0.5495661077851224,
          -0.023157689665137572,
          -0.1334005494140016,
          0.39738316341349406,
          0.3393621771888274,
          -0.3329531517715016,
          -0.6438168423720639,
          -0.37927526415165647,
          0.17293917246726015,
          -0.26450843568349236,
          -0.6603114987573893,
          -0.007377404562396376,
          -1.009917321548003,
          -0.21568059633491798,
          0.06370456745026258,
          -0.33668070581811743
         ],
         "yaxis": "y1",
         "z": [
          0.002740604458771051,
          -0.29105843911479234,
          -0.020776821000437068,
          -0.12133149368587205,
          0.17923544962155644,
          0.10077461381391595,
          -0.08985325826477876,
          -0.27592373467336756,
          -0.3223806696424683,
          -0.3171378240754806,
          -0.2542767504566561,
          -0.26323738742375424,
          -0.2933939381046798,
          -0.1484792322042337,
          -0.37731801162879836,
          -0.3997693723064175,
          -0.04504030402658151,
          0.39376928092657165,
          -0.6706349747321902,
          -0.1549793752553149,
          -0.028058249427542988,
          -0.23994035411403675,
          0.043896374966913274,
          -0.21807297774783513,
          -0.045754913370448666
         ],
         "zmax": 0.1,
         "zmin": -0.1
        },
        {
         "colorbar": {
          "title": ""
         },
         "hoverinfo": "text",
         "legendgroup": "y3",
         "marker": {
          "color": "rgba(62, 164, 78, 1.000)",
          "line": {
           "color": "rgba(0, 0, 0, 1.000)",
           "width": 1
          },
          "size": 8,
          "symbol": "circle"
         },
         "mode": "markers",
         "name": "y3",
         "showlegend": true,
         "text": [
          null,
          null,
          null,
          null,
          null,
          null,
          null,
          null,
          null,
          null,
          null,
          null,
          null,
          null,
          null,
          null,
          null,
          null,
          null,
          null,
          null,
          null,
          null,
          null,
          null
         ],
         "type": "scatter3d",
         "x": [
          -1.4125988859796452,
          -1.9535904145912892,
          -3.3551650207175725,
          -2.895809632294309,
          -2.8711015998246006,
          -1.7892587875979082,
          -1.351406842087509,
          -1.8817214980724914,
          -3.4242045663572074,
          -1.3027564237690672,
          -1.1985565250592374,
          -1.3752052256001392,
          -2.5714396525355387,
          -1.2739247001224898,
          -2.348205226926349,
          -3.161656758446426,
          -1.4252854828814085,
          -3.0342042971502385,
          -1.8800869924750707,
          -2.075749950349389,
          -1.8921188496979267,
          -2.533040645522498,
          -1.9204654167167206,
          -1.741612746921035,
          -1.377064283223734
         ],
         "xaxis": "x1",
         "y": [
          -0.5567273324290717,
          -0.13382103724730382,
          0.6929245391407982,
          0.4871337311960538,
          0.8284059878306511,
          -0.14644119786137205,
          -0.7518225966889609,
          0.13551459122676807,
          1.2536777251155553,
          -0.6733504149176113,
          -0.616192473987319,
          -0.1422128448785028,
          0.657048647990137,
          -0.09782027399977093,
          0.582452694277193,
          1.472803064956953,
          -0.08304158676953785,
          0.8332238399992337,
          0.08580510153034834,
          0.4441615137359835,
          0.4760808657252879,
          0.32904082805620555,
          0.24655386564831658,
          0.12762531481897155,
          -0.280295377645591
         ],
         "yaxis": "y1",
         "z": [
          0.21411524881412605,
          0.07589798702936834,
          -0.29300162475154923,
          -0.38608363630737347,
          0.49697945981654623,
          -0.07681167599142562,
          0.17503328897519022,
          0.4740751781157412,
          0.25966212389505466,
          -0.44415478538239617,
          0.4234766901703297,
          -0.10389273847762898,
          -0.15012928129723985,
          0.20136451430843935,
          -0.4040419885709598,
          0.03444530039145673,
          -0.18138105620674003,
          -0.26944897148325364,
          0.15516319929791642,
          0.05408892955713777,
          0.14069995750886566,
          0.30926500267705404,
          0.18004360566848232,
          0.1231653668214798,
          0.31499221749029716
         ],
         "zmax": 0.1,
         "zmin": -0.1
        }
       ],
       "layout": {
        "annotations": [],
        "height": 400,
        "legend": {
         "bgcolor": "rgba(255, 255, 255, 1.000)",
         "bordercolor": "rgba(0, 0, 0, 1.000)",
         "font": {
          "color": "rgba(0, 0, 0, 1.000)",
          "family": "sans-serif",
          "size": 11
         },
         "tracegroupgap": 0,
         "x": 1,
         "y": 1
        },
        "margin": {
         "b": 20,
         "l": 0,
         "r": 0,
         "t": 20
        },
        "paper_bgcolor": "rgba(255, 255, 255, 1.000)",
        "plot_bgcolor": "rgba(255, 255, 255, 1.000)",
        "scene": {
         "camera": {
          "eye": {
           "x": 1.12583302491977,
           "y": -1.9499999999999997,
           "z": 1.3
          }
         },
         "xaxis": {
          "anchor": "y1",
          "domain": [
           0.09128390201224845,
           0.9934383202099738
          ],
          "gridcolor": "rgba(0, 0, 0, 0.100)",
          "gridwidth": 0.5,
          "linecolor": "rgba(0, 0, 0, 1.000)",
          "mirror": false,
          "range": [
           -3.6237221319288255,
           3.4258985182683457
          ],
          "showgrid": true,
          "showline": true,
          "showticklabels": true,
          "tickangle": 0,
          "tickcolor": "rgb(0, 0, 0)",
          "tickfont": {
           "color": "rgba(0, 0, 0, 1.000)",
           "family": "sans-serif",
           "size": 11
          },
          "tickmode": "array",
          "ticks": "inside",
          "ticktext": [
           "-3",
           "-2",
           "-1",
           "0",
           "1",
           "2",
           "3"
          ],
          "tickvals": [
           -3,
           -2,
           -1,
           0,
           1,
           2,
           3
          ],
          "title": "PC1",
          "titlefont": {
           "color": "rgba(0, 0, 0, 1.000)",
           "family": "sans-serif",
           "size": 15
          },
          "type": "-",
          "visible": true,
          "zeroline": false,
          "zerolinecolor": "rgba(0, 0, 0, 1.000)"
         },
         "yaxis": {
          "anchor": "x1",
          "domain": [
           0.07581474190726165,
           0.9901574803149606
          ],
          "gridcolor": "rgba(0, 0, 0, 0.100)",
          "gridwidth": 0.5,
          "linecolor": "rgba(0, 0, 0, 1.000)",
          "mirror": false,
          "range": [
           -1.0945968202814502,
           1.5475817023910812
          ],
          "showgrid": true,
          "showline": true,
          "showticklabels": true,
          "tickangle": 0,
          "tickcolor": "rgb(0, 0, 0)",
          "tickfont": {
           "color": "rgba(0, 0, 0, 1.000)",
           "family": "sans-serif",
           "size": 11
          },
          "tickmode": "array",
          "ticks": "inside",
          "ticktext": [
           "-1.0",
           "-0.5",
           "0.0",
           "0.5",
           "1.0",
           "1.5"
          ],
          "tickvals": [
           -1,
           -0.5,
           0,
           0.5,
           1,
           1.5
          ],
          "title": "PC2",
          "titlefont": {
           "color": "rgba(0, 0, 0, 1.000)",
           "family": "sans-serif",
           "size": 15
          },
          "type": "-",
          "visible": true,
          "zeroline": false,
          "zerolinecolor": "rgba(0, 0, 0, 1.000)"
         },
         "zaxis": {
          "gridcolor": "rgba(0, 0, 0, 0.100)",
          "gridwidth": 0.5,
          "linecolor": "rgba(0, 0, 0, 1.000)",
          "mirror": false,
          "range": [
           -0.7056634077686523,
           0.5320078928530083
          ],
          "showgrid": true,
          "showline": true,
          "showticklabels": true,
          "tickangle": 0,
          "tickcolor": "rgb(0, 0, 0)",
          "tickfont": {
           "color": "rgba(0, 0, 0, 1.000)",
           "family": "sans-serif",
           "size": 11
          },
          "tickmode": "array",
          "ticks": "inside",
          "ticktext": [
           "-0.50",
           "-0.25",
           "0.00",
           "0.25",
           "0.50"
          ],
          "tickvals": [
           -0.5,
           -0.25,
           0,
           0.25,
           0.5
          ],
          "title": "PC3",
          "titlefont": {
           "color": "rgba(0, 0, 0, 1.000)",
           "family": "sans-serif",
           "size": 15
          },
          "type": "-",
          "visible": true,
          "zeroline": false,
          "zerolinecolor": "rgba(0, 0, 0, 1.000)"
         }
        },
        "showlegend": true,
        "width": 600
       }
      },
      "text/html": [
       "    <div id=\"ec816204-6930-42e2-9e87-a41baf86ad3e\" style=\"width:600px;height:400px;\"></div>\n",
       "    <script>\n",
       "    PLOT = document.getElementById('ec816204-6930-42e2-9e87-a41baf86ad3e');\n",
       "    Plotly.plot(PLOT, [{\"xaxis\":\"x1\",\"colorbar\":{\"title\":\"\"},\"yaxis\":\"y1\",\"text\":[null,null,null,null,null,null,null,null,null,null,null,null,null,null,null,null,null,null,null,null,null,null,null,null,null],\"x\":[2.7271370229910716,2.754914126352502,2.323960273923084,2.651054412942388,2.689168203630764,2.633674661206393,3.2263809526967275,2.447743893623693,2.676766823053665,2.6239074375368103,2.5761164255318683,2.3239053049480325,2.521427320445945,2.5936411485959314,2.6459310704554233,2.4406458602395915,2.6535985674968874,2.8864002764725405,2.829762111410005,2.6168643731277608,2.8360651099130982,2.428964609971362,2.7245028660835553,2.85164077300055,2.725847429024839],\"showlegend\":true,\"mode\":\"markers\",\"name\":\"y1\",\"zmin\":-0.1,\"legendgroup\":\"y1\",\"z\":[-0.2531186297819421,-0.027126589264421477,0.23046868160032025,-0.02528530746891057,-0.23150687337431883,0.08209787262044475,-0.021108526683511618,0.40646930956872956,0.038612671484517636,0.2489757903662364,0.23360855705111633,0.026611774131785636,-0.2911989120953623,-0.05838443253602445,-0.0034118627406063543,-0.12221802423337884,0.259939782384365,-0.18009794060589646,0.10244626318187165,-0.07585463596733667,-0.48069026377429225,0.25968794201180456,-0.1498770026688972,0.0346684195728144,-0.09956936249115224],\"marker\":{\"symbol\":\"circle\",\"color\":\"rgba(0, 154, 250, 1.000)\",\"line\":{\"color\":\"rgba(0, 0, 0, 1.000)\",\"width\":1},\"size\":8},\"zmax\":0.1,\"y\":[-0.23091552150748468,-0.40614908940640493,0.6463738633842837,0.08281441013246736,-0.17410970550165597,-0.08251829646713302,-0.6143053394542858,1.223915589193648,0.22849233585806983,0.40393281924396146,0.3299846061919126,0.029168718615310663,-0.19110516082323564,0.2951990131632182,-0.285002038198564,0.3596871900898708,0.9839869288811033,0.005853014316387279,0.1640041589314179,0.15690956490915708,-0.9692677174842982,0.09085062826490437,-0.3147645958588534,-0.3248123988828137,0.035762513701317],\"type\":\"scatter3d\",\"hoverinfo\":\"text\"},{\"xaxis\":\"x1\",\"colorbar\":{\"title\":\"\"},\"yaxis\":\"y1\",\"text\":[null,null,null,null,null,null,null,null,null,null,null,null,null,null,null,null,null,null,null,null,null,null,null,null,null],\"x\":[-0.9010492733733455,-0.18959270231634956,-0.6319378623578608,0.7373057615773905,0.005780312901831444,-0.4947532107700573,-0.9660750657862142,-0.8920021800126327,-0.22358280182785636,-0.04244088675584313,-0.33989886479012155,-0.9033934876247252,-0.8687789554808035,-1.5280005736533593,0.3141994108954697,0.18912619722862836,-1.370506375442469,-0.7791796802713836,-0.8061523462943663,-0.16765907175075295,-0.8693484191381657,0.6921489064799651,-0.3159005409743717,-0.6204015834176994,-0.28889853689686196],\"showlegend\":true,\"mode\":\"markers\",\"name\":\"y2\",\"zmin\":-0.1,\"legendgroup\":\"y2\",\"z\":[0.002740604458771051,-0.29105843911479234,-0.020776821000437068,-0.12133149368587205,0.17923544962155644,0.10077461381391595,-0.08985325826477876,-0.27592373467336756,-0.3223806696424683,-0.3171378240754806,-0.2542767504566561,-0.26323738742375424,-0.2933939381046798,-0.1484792322042337,-0.37731801162879836,-0.3997693723064175,-0.04504030402658151,0.39376928092657165,-0.6706349747321902,-0.1549793752553149,-0.028058249427542988,-0.23994035411403675,0.043896374966913274,-0.21807297774783513,-0.045754913370448666],\"marker\":{\"symbol\":\"circle\",\"color\":\"rgba(227, 111, 71, 1.000)\",\"line\":{\"color\":\"rgba(0, 0, 0, 1.000)\",\"width\":1},\"size\":8},\"zmax\":0.1,\"y\":[0.35068512419395753,-0.7887000857121308,-0.40525029400299883,-1.019818182847322,-0.7468198986611754,-0.09675204550557294,-0.08871409508598756,0.5356726116675552,-0.2975180857947631,-0.5495661077851224,-0.023157689665137572,-0.1334005494140016,0.39738316341349406,0.3393621771888274,-0.3329531517715016,-0.6438168423720639,-0.37927526415165647,0.17293917246726015,-0.26450843568349236,-0.6603114987573893,-0.007377404562396376,-1.009917321548003,-0.21568059633491798,0.06370456745026258,-0.33668070581811743],\"type\":\"scatter3d\",\"hoverinfo\":\"text\"},{\"xaxis\":\"x1\",\"colorbar\":{\"title\":\"\"},\"yaxis\":\"y1\",\"text\":[null,null,null,null,null,null,null,null,null,null,null,null,null,null,null,null,null,null,null,null,null,null,null,null,null],\"x\":[-1.4125988859796452,-1.9535904145912892,-3.3551650207175725,-2.895809632294309,-2.8711015998246006,-1.7892587875979082,-1.351406842087509,-1.8817214980724914,-3.4242045663572074,-1.3027564237690672,-1.1985565250592374,-1.3752052256001392,-2.5714396525355387,-1.2739247001224898,-2.348205226926349,-3.161656758446426,-1.4252854828814085,-3.0342042971502385,-1.8800869924750707,-2.075749950349389,-1.8921188496979267,-2.533040645522498,-1.9204654167167206,-1.741612746921035,-1.377064283223734],\"showlegend\":true,\"mode\":\"markers\",\"name\":\"y3\",\"zmin\":-0.1,\"legendgroup\":\"y3\",\"z\":[0.21411524881412605,0.07589798702936834,-0.29300162475154923,-0.38608363630737347,0.49697945981654623,-0.07681167599142562,0.17503328897519022,0.4740751781157412,0.25966212389505466,-0.44415478538239617,0.4234766901703297,-0.10389273847762898,-0.15012928129723985,0.20136451430843935,-0.4040419885709598,0.03444530039145673,-0.18138105620674003,-0.26944897148325364,0.15516319929791642,0.05408892955713777,0.14069995750886566,0.30926500267705404,0.18004360566848232,0.1231653668214798,0.31499221749029716],\"marker\":{\"symbol\":\"circle\",\"color\":\"rgba(62, 164, 78, 1.000)\",\"line\":{\"color\":\"rgba(0, 0, 0, 1.000)\",\"width\":1},\"size\":8},\"zmax\":0.1,\"y\":[-0.5567273324290717,-0.13382103724730382,0.6929245391407982,0.4871337311960538,0.8284059878306511,-0.14644119786137205,-0.7518225966889609,0.13551459122676807,1.2536777251155553,-0.6733504149176113,-0.616192473987319,-0.1422128448785028,0.657048647990137,-0.09782027399977093,0.582452694277193,1.472803064956953,-0.08304158676953785,0.8332238399992337,0.08580510153034834,0.4441615137359835,0.4760808657252879,0.32904082805620555,0.24655386564831658,0.12762531481897155,-0.280295377645591],\"type\":\"scatter3d\",\"hoverinfo\":\"text\"}], {\"showlegend\":true,\"paper_bgcolor\":\"rgba(255, 255, 255, 1.000)\",\"annotations\":[],\"height\":400,\"margin\":{\"l\":0,\"b\":20,\"r\":0,\"t\":20},\"plot_bgcolor\":\"rgba(255, 255, 255, 1.000)\",\"scene\":{\"camera\":{\"eye\":{\"y\":-1.9499999999999997,\"z\":1.3,\"x\":1.12583302491977}},\"xaxis\":{\"showticklabels\":true,\"gridwidth\":0.5,\"tickvals\":[-3.0,-2.0,-1.0,0.0,1.0,2.0,3.0],\"visible\":true,\"ticks\":\"inside\",\"range\":[-3.6237221319288255,3.4258985182683457],\"domain\":[0.09128390201224845,0.9934383202099738],\"tickmode\":\"array\",\"linecolor\":\"rgba(0, 0, 0, 1.000)\",\"showgrid\":true,\"title\":\"PC1\",\"mirror\":false,\"tickangle\":0,\"showline\":true,\"gridcolor\":\"rgba(0, 0, 0, 0.100)\",\"titlefont\":{\"color\":\"rgba(0, 0, 0, 1.000)\",\"family\":\"sans-serif\",\"size\":15},\"tickcolor\":\"rgb(0, 0, 0)\",\"ticktext\":[\"-3\",\"-2\",\"-1\",\"0\",\"1\",\"2\",\"3\"],\"zeroline\":false,\"type\":\"-\",\"tickfont\":{\"color\":\"rgba(0, 0, 0, 1.000)\",\"family\":\"sans-serif\",\"size\":11},\"zerolinecolor\":\"rgba(0, 0, 0, 1.000)\",\"anchor\":\"y1\"},\"yaxis\":{\"showticklabels\":true,\"gridwidth\":0.5,\"tickvals\":[-1.0,-0.5,0.0,0.5,1.0,1.5],\"visible\":true,\"ticks\":\"inside\",\"range\":[-1.0945968202814502,1.5475817023910812],\"domain\":[0.07581474190726165,0.9901574803149606],\"tickmode\":\"array\",\"linecolor\":\"rgba(0, 0, 0, 1.000)\",\"showgrid\":true,\"title\":\"PC2\",\"mirror\":false,\"tickangle\":0,\"showline\":true,\"gridcolor\":\"rgba(0, 0, 0, 0.100)\",\"titlefont\":{\"color\":\"rgba(0, 0, 0, 1.000)\",\"family\":\"sans-serif\",\"size\":15},\"tickcolor\":\"rgb(0, 0, 0)\",\"ticktext\":[\"-1.0\",\"-0.5\",\"0.0\",\"0.5\",\"1.0\",\"1.5\"],\"zeroline\":false,\"type\":\"-\",\"tickfont\":{\"color\":\"rgba(0, 0, 0, 1.000)\",\"family\":\"sans-serif\",\"size\":11},\"zerolinecolor\":\"rgba(0, 0, 0, 1.000)\",\"anchor\":\"x1\"},\"zaxis\":{\"showticklabels\":true,\"gridwidth\":0.5,\"tickvals\":[-0.5,-0.25,0.0,0.25,0.5],\"visible\":true,\"ticks\":\"inside\",\"range\":[-0.7056634077686523,0.5320078928530083],\"tickmode\":\"array\",\"linecolor\":\"rgba(0, 0, 0, 1.000)\",\"showgrid\":true,\"title\":\"PC3\",\"mirror\":false,\"tickangle\":0,\"showline\":true,\"gridcolor\":\"rgba(0, 0, 0, 0.100)\",\"titlefont\":{\"color\":\"rgba(0, 0, 0, 1.000)\",\"family\":\"sans-serif\",\"size\":15},\"tickcolor\":\"rgb(0, 0, 0)\",\"ticktext\":[\"-0.50\",\"-0.25\",\"0.00\",\"0.25\",\"0.50\"],\"zeroline\":false,\"type\":\"-\",\"tickfont\":{\"color\":\"rgba(0, 0, 0, 1.000)\",\"family\":\"sans-serif\",\"size\":11},\"zerolinecolor\":\"rgba(0, 0, 0, 1.000)\"}},\"legend\":{\"tracegroupgap\":0,\"bordercolor\":\"rgba(0, 0, 0, 1.000)\",\"bgcolor\":\"rgba(255, 255, 255, 1.000)\",\"font\":{\"color\":\"rgba(0, 0, 0, 1.000)\",\"family\":\"sans-serif\",\"size\":11},\"y\":1.0,\"x\":1.0},\"width\":600});\n",
       "    </script>\n"
      ]
     },
     "execution_count": 38,
     "metadata": {},
     "output_type": "execute_result"
    }
   ],
   "source": [
    "# visualize first 3 principal components in 3D interacive plot\n",
    "p = scatter(setosa[1,:],setosa[2,:],setosa[3,:],marker=:circle,linewidth=0)\n",
    "scatter!(versicolor[1,:],versicolor[2,:],versicolor[3,:],marker=:circle,linewidth=0)\n",
    "scatter!(virginica[1,:],virginica[2,:],virginica[3,:],marker=:circle,linewidth=0)\n",
    "plot!(p,xlabel=\"PC1\",ylabel=\"PC2\",zlabel=\"PC3\")"
   ]
  },
  {
   "cell_type": "code",
   "execution_count": null,
   "metadata": {},
   "outputs": [],
   "source": []
  }
 ],
 "metadata": {
  "kernelspec": {
   "display_name": "Julia 1.0.3",
   "language": "julia",
   "name": "julia-1.0"
  },
  "language_info": {
   "file_extension": ".jl",
   "mimetype": "application/julia",
   "name": "julia",
   "version": "1.0.3"
  }
 },
 "nbformat": 4,
 "nbformat_minor": 2
}
