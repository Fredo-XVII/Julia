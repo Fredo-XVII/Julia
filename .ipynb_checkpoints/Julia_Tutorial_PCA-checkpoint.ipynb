{
 "cells": [
  {
   "cell_type": "markdown",
   "metadata": {},
   "source": [
    "# PCA \n",
    "\n",
    "Goal is to apply PCA to the housing data set\n",
    "\n",
    "reference: https://multivariatestatsjl.readthedocs.io/en/stable/pca.html"
   ]
  },
  {
   "cell_type": "code",
   "execution_count": 42,
   "metadata": {},
   "outputs": [
    {
     "name": "stderr",
     "output_type": "stream",
     "text": [
      "WARNING: using CSV.transform in module Main conflicts with an existing identifier.\n"
     ]
    },
    {
     "data": {
      "text/plain": [
       "Plots.PlotlyBackend()"
      ]
     },
     "execution_count": 42,
     "metadata": {},
     "output_type": "execute_result"
    }
   ],
   "source": [
    "using MultivariateStats, RDatasets, Plots, DataFrames, CSV\n",
    "plotly() # using plotly for 3D-interacive graphing"
   ]
  },
  {
   "cell_type": "code",
   "execution_count": 43,
   "metadata": {
    "scrolled": true
   },
   "outputs": [
    {
     "data": {
      "text/html": [
       "<table class=\"data-frame\"><thead><tr><th></th><th>Id</th><th>MSSubClass</th><th>MSZoning</th><th>LotFrontage</th><th>LotArea</th><th>Street</th><th>Alley</th><th>LotShape</th><th>LandContour</th><th>Utilities</th><th>LotConfig</th><th>LandSlope</th><th>Neighborhood</th><th>Condition1</th><th>Condition2</th><th>BldgType</th><th>HouseStyle</th><th>OverallQual</th><th>OverallCond</th><th>YearBuilt</th><th>YearRemodAdd</th><th>RoofStyle</th><th>RoofMatl</th><th>Exterior1st</th><th>Exterior2nd</th><th>MasVnrType</th><th>MasVnrArea</th><th>ExterQual</th><th>ExterCond</th><th>Foundation</th><th>BsmtQual</th><th>BsmtCond</th><th>BsmtExposure</th><th>BsmtFinType1</th><th>BsmtFinSF1</th><th>BsmtFinType2</th><th>BsmtFinSF2</th><th>BsmtUnfSF</th><th>TotalBsmtSF</th><th>Heating</th><th>HeatingQC</th><th>CentralAir</th><th>Electrical</th><th>1stFlrSF</th><th>2ndFlrSF</th><th>LowQualFinSF</th><th>GrLivArea</th><th>BsmtFullBath</th><th>BsmtHalfBath</th><th>FullBath</th><th>HalfBath</th><th>BedroomAbvGr</th><th>KitchenAbvGr</th><th>KitchenQual</th><th>TotRmsAbvGrd</th><th>Functional</th><th>Fireplaces</th><th>FireplaceQu</th><th>GarageType</th><th>GarageYrBlt</th><th>GarageFinish</th><th>GarageCars</th><th>GarageArea</th><th>GarageQual</th><th>GarageCond</th><th>PavedDrive</th><th>WoodDeckSF</th><th>OpenPorchSF</th><th>EnclosedPorch</th><th>3SsnPorch</th><th>ScreenPorch</th><th>PoolArea</th><th>PoolQC</th><th>Fence</th><th>MiscFeature</th><th>MiscVal</th><th>MoSold</th><th>YrSold</th><th>SaleType</th><th>SaleCondition</th><th>SalePrice</th></tr><tr><th></th><th>Int64⍰</th><th>Int64⍰</th><th>String⍰</th><th>String⍰</th><th>Int64⍰</th><th>String⍰</th><th>String⍰</th><th>String⍰</th><th>String⍰</th><th>String⍰</th><th>String⍰</th><th>String⍰</th><th>String⍰</th><th>String⍰</th><th>String⍰</th><th>String⍰</th><th>String⍰</th><th>Int64⍰</th><th>Int64⍰</th><th>Int64⍰</th><th>Int64⍰</th><th>String⍰</th><th>String⍰</th><th>String⍰</th><th>String⍰</th><th>String⍰</th><th>String⍰</th><th>String⍰</th><th>String⍰</th><th>String⍰</th><th>String⍰</th><th>String⍰</th><th>String⍰</th><th>String⍰</th><th>Int64⍰</th><th>String⍰</th><th>Int64⍰</th><th>Int64⍰</th><th>Int64⍰</th><th>String⍰</th><th>String⍰</th><th>String⍰</th><th>String⍰</th><th>Int64⍰</th><th>Int64⍰</th><th>Int64⍰</th><th>Int64⍰</th><th>Int64⍰</th><th>Int64⍰</th><th>Int64⍰</th><th>Int64⍰</th><th>Int64⍰</th><th>Int64⍰</th><th>String⍰</th><th>Int64⍰</th><th>String⍰</th><th>Int64⍰</th><th>String⍰</th><th>String⍰</th><th>String⍰</th><th>String⍰</th><th>Int64⍰</th><th>Int64⍰</th><th>String⍰</th><th>String⍰</th><th>String⍰</th><th>Int64⍰</th><th>Int64⍰</th><th>Int64⍰</th><th>Int64⍰</th><th>Int64⍰</th><th>Int64⍰</th><th>String⍰</th><th>String⍰</th><th>String⍰</th><th>Int64⍰</th><th>Int64⍰</th><th>Int64⍰</th><th>String⍰</th><th>String⍰</th><th>Int64⍰</th></tr></thead><tbody><p>1,460 rows × 81 columns</p><tr><th>1</th><td>1</td><td>60</td><td>RL</td><td>65</td><td>8450</td><td>Pave</td><td>NA</td><td>Reg</td><td>Lvl</td><td>AllPub</td><td>Inside</td><td>Gtl</td><td>CollgCr</td><td>Norm</td><td>Norm</td><td>1Fam</td><td>2Story</td><td>7</td><td>5</td><td>2003</td><td>2003</td><td>Gable</td><td>CompShg</td><td>VinylSd</td><td>VinylSd</td><td>BrkFace</td><td>196</td><td>Gd</td><td>TA</td><td>PConc</td><td>Gd</td><td>TA</td><td>No</td><td>GLQ</td><td>706</td><td>Unf</td><td>0</td><td>150</td><td>856</td><td>GasA</td><td>Ex</td><td>Y</td><td>SBrkr</td><td>856</td><td>854</td><td>0</td><td>1710</td><td>1</td><td>0</td><td>2</td><td>1</td><td>3</td><td>1</td><td>Gd</td><td>8</td><td>Typ</td><td>0</td><td>NA</td><td>Attchd</td><td>2003</td><td>RFn</td><td>2</td><td>548</td><td>TA</td><td>TA</td><td>Y</td><td>0</td><td>61</td><td>0</td><td>0</td><td>0</td><td>0</td><td>NA</td><td>NA</td><td>NA</td><td>0</td><td>2</td><td>2008</td><td>WD</td><td>Normal</td><td>208500</td></tr><tr><th>2</th><td>2</td><td>20</td><td>RL</td><td>80</td><td>9600</td><td>Pave</td><td>NA</td><td>Reg</td><td>Lvl</td><td>AllPub</td><td>FR2</td><td>Gtl</td><td>Veenker</td><td>Feedr</td><td>Norm</td><td>1Fam</td><td>1Story</td><td>6</td><td>8</td><td>1976</td><td>1976</td><td>Gable</td><td>CompShg</td><td>MetalSd</td><td>MetalSd</td><td>None</td><td>0</td><td>TA</td><td>TA</td><td>CBlock</td><td>Gd</td><td>TA</td><td>Gd</td><td>ALQ</td><td>978</td><td>Unf</td><td>0</td><td>284</td><td>1262</td><td>GasA</td><td>Ex</td><td>Y</td><td>SBrkr</td><td>1262</td><td>0</td><td>0</td><td>1262</td><td>0</td><td>1</td><td>2</td><td>0</td><td>3</td><td>1</td><td>TA</td><td>6</td><td>Typ</td><td>1</td><td>TA</td><td>Attchd</td><td>1976</td><td>RFn</td><td>2</td><td>460</td><td>TA</td><td>TA</td><td>Y</td><td>298</td><td>0</td><td>0</td><td>0</td><td>0</td><td>0</td><td>NA</td><td>NA</td><td>NA</td><td>0</td><td>5</td><td>2007</td><td>WD</td><td>Normal</td><td>181500</td></tr><tr><th>3</th><td>3</td><td>60</td><td>RL</td><td>68</td><td>11250</td><td>Pave</td><td>NA</td><td>IR1</td><td>Lvl</td><td>AllPub</td><td>Inside</td><td>Gtl</td><td>CollgCr</td><td>Norm</td><td>Norm</td><td>1Fam</td><td>2Story</td><td>7</td><td>5</td><td>2001</td><td>2002</td><td>Gable</td><td>CompShg</td><td>VinylSd</td><td>VinylSd</td><td>BrkFace</td><td>162</td><td>Gd</td><td>TA</td><td>PConc</td><td>Gd</td><td>TA</td><td>Mn</td><td>GLQ</td><td>486</td><td>Unf</td><td>0</td><td>434</td><td>920</td><td>GasA</td><td>Ex</td><td>Y</td><td>SBrkr</td><td>920</td><td>866</td><td>0</td><td>1786</td><td>1</td><td>0</td><td>2</td><td>1</td><td>3</td><td>1</td><td>Gd</td><td>6</td><td>Typ</td><td>1</td><td>TA</td><td>Attchd</td><td>2001</td><td>RFn</td><td>2</td><td>608</td><td>TA</td><td>TA</td><td>Y</td><td>0</td><td>42</td><td>0</td><td>0</td><td>0</td><td>0</td><td>NA</td><td>NA</td><td>NA</td><td>0</td><td>9</td><td>2008</td><td>WD</td><td>Normal</td><td>223500</td></tr><tr><th>4</th><td>4</td><td>70</td><td>RL</td><td>60</td><td>9550</td><td>Pave</td><td>NA</td><td>IR1</td><td>Lvl</td><td>AllPub</td><td>Corner</td><td>Gtl</td><td>Crawfor</td><td>Norm</td><td>Norm</td><td>1Fam</td><td>2Story</td><td>7</td><td>5</td><td>1915</td><td>1970</td><td>Gable</td><td>CompShg</td><td>Wd Sdng</td><td>Wd Shng</td><td>None</td><td>0</td><td>TA</td><td>TA</td><td>BrkTil</td><td>TA</td><td>Gd</td><td>No</td><td>ALQ</td><td>216</td><td>Unf</td><td>0</td><td>540</td><td>756</td><td>GasA</td><td>Gd</td><td>Y</td><td>SBrkr</td><td>961</td><td>756</td><td>0</td><td>1717</td><td>1</td><td>0</td><td>1</td><td>0</td><td>3</td><td>1</td><td>Gd</td><td>7</td><td>Typ</td><td>1</td><td>Gd</td><td>Detchd</td><td>1998</td><td>Unf</td><td>3</td><td>642</td><td>TA</td><td>TA</td><td>Y</td><td>0</td><td>35</td><td>272</td><td>0</td><td>0</td><td>0</td><td>NA</td><td>NA</td><td>NA</td><td>0</td><td>2</td><td>2006</td><td>WD</td><td>Abnorml</td><td>140000</td></tr><tr><th>5</th><td>5</td><td>60</td><td>RL</td><td>84</td><td>14260</td><td>Pave</td><td>NA</td><td>IR1</td><td>Lvl</td><td>AllPub</td><td>FR2</td><td>Gtl</td><td>NoRidge</td><td>Norm</td><td>Norm</td><td>1Fam</td><td>2Story</td><td>8</td><td>5</td><td>2000</td><td>2000</td><td>Gable</td><td>CompShg</td><td>VinylSd</td><td>VinylSd</td><td>BrkFace</td><td>350</td><td>Gd</td><td>TA</td><td>PConc</td><td>Gd</td><td>TA</td><td>Av</td><td>GLQ</td><td>655</td><td>Unf</td><td>0</td><td>490</td><td>1145</td><td>GasA</td><td>Ex</td><td>Y</td><td>SBrkr</td><td>1145</td><td>1053</td><td>0</td><td>2198</td><td>1</td><td>0</td><td>2</td><td>1</td><td>4</td><td>1</td><td>Gd</td><td>9</td><td>Typ</td><td>1</td><td>TA</td><td>Attchd</td><td>2000</td><td>RFn</td><td>3</td><td>836</td><td>TA</td><td>TA</td><td>Y</td><td>192</td><td>84</td><td>0</td><td>0</td><td>0</td><td>0</td><td>NA</td><td>NA</td><td>NA</td><td>0</td><td>12</td><td>2008</td><td>WD</td><td>Normal</td><td>250000</td></tr><tr><th>6</th><td>6</td><td>50</td><td>RL</td><td>85</td><td>14115</td><td>Pave</td><td>NA</td><td>IR1</td><td>Lvl</td><td>AllPub</td><td>Inside</td><td>Gtl</td><td>Mitchel</td><td>Norm</td><td>Norm</td><td>1Fam</td><td>1.5Fin</td><td>5</td><td>5</td><td>1993</td><td>1995</td><td>Gable</td><td>CompShg</td><td>VinylSd</td><td>VinylSd</td><td>None</td><td>0</td><td>TA</td><td>TA</td><td>Wood</td><td>Gd</td><td>TA</td><td>No</td><td>GLQ</td><td>732</td><td>Unf</td><td>0</td><td>64</td><td>796</td><td>GasA</td><td>Ex</td><td>Y</td><td>SBrkr</td><td>796</td><td>566</td><td>0</td><td>1362</td><td>1</td><td>0</td><td>1</td><td>1</td><td>1</td><td>1</td><td>TA</td><td>5</td><td>Typ</td><td>0</td><td>NA</td><td>Attchd</td><td>1993</td><td>Unf</td><td>2</td><td>480</td><td>TA</td><td>TA</td><td>Y</td><td>40</td><td>30</td><td>0</td><td>320</td><td>0</td><td>0</td><td>NA</td><td>MnPrv</td><td>Shed</td><td>700</td><td>10</td><td>2009</td><td>WD</td><td>Normal</td><td>143000</td></tr><tr><th>7</th><td>7</td><td>20</td><td>RL</td><td>75</td><td>10084</td><td>Pave</td><td>NA</td><td>Reg</td><td>Lvl</td><td>AllPub</td><td>Inside</td><td>Gtl</td><td>Somerst</td><td>Norm</td><td>Norm</td><td>1Fam</td><td>1Story</td><td>8</td><td>5</td><td>2004</td><td>2005</td><td>Gable</td><td>CompShg</td><td>VinylSd</td><td>VinylSd</td><td>Stone</td><td>186</td><td>Gd</td><td>TA</td><td>PConc</td><td>Ex</td><td>TA</td><td>Av</td><td>GLQ</td><td>1369</td><td>Unf</td><td>0</td><td>317</td><td>1686</td><td>GasA</td><td>Ex</td><td>Y</td><td>SBrkr</td><td>1694</td><td>0</td><td>0</td><td>1694</td><td>1</td><td>0</td><td>2</td><td>0</td><td>3</td><td>1</td><td>Gd</td><td>7</td><td>Typ</td><td>1</td><td>Gd</td><td>Attchd</td><td>2004</td><td>RFn</td><td>2</td><td>636</td><td>TA</td><td>TA</td><td>Y</td><td>255</td><td>57</td><td>0</td><td>0</td><td>0</td><td>0</td><td>NA</td><td>NA</td><td>NA</td><td>0</td><td>8</td><td>2007</td><td>WD</td><td>Normal</td><td>307000</td></tr><tr><th>8</th><td>8</td><td>60</td><td>RL</td><td>NA</td><td>10382</td><td>Pave</td><td>NA</td><td>IR1</td><td>Lvl</td><td>AllPub</td><td>Corner</td><td>Gtl</td><td>NWAmes</td><td>PosN</td><td>Norm</td><td>1Fam</td><td>2Story</td><td>7</td><td>6</td><td>1973</td><td>1973</td><td>Gable</td><td>CompShg</td><td>HdBoard</td><td>HdBoard</td><td>Stone</td><td>240</td><td>TA</td><td>TA</td><td>CBlock</td><td>Gd</td><td>TA</td><td>Mn</td><td>ALQ</td><td>859</td><td>BLQ</td><td>32</td><td>216</td><td>1107</td><td>GasA</td><td>Ex</td><td>Y</td><td>SBrkr</td><td>1107</td><td>983</td><td>0</td><td>2090</td><td>1</td><td>0</td><td>2</td><td>1</td><td>3</td><td>1</td><td>TA</td><td>7</td><td>Typ</td><td>2</td><td>TA</td><td>Attchd</td><td>1973</td><td>RFn</td><td>2</td><td>484</td><td>TA</td><td>TA</td><td>Y</td><td>235</td><td>204</td><td>228</td><td>0</td><td>0</td><td>0</td><td>NA</td><td>NA</td><td>Shed</td><td>350</td><td>11</td><td>2009</td><td>WD</td><td>Normal</td><td>200000</td></tr><tr><th>9</th><td>9</td><td>50</td><td>RM</td><td>51</td><td>6120</td><td>Pave</td><td>NA</td><td>Reg</td><td>Lvl</td><td>AllPub</td><td>Inside</td><td>Gtl</td><td>OldTown</td><td>Artery</td><td>Norm</td><td>1Fam</td><td>1.5Fin</td><td>7</td><td>5</td><td>1931</td><td>1950</td><td>Gable</td><td>CompShg</td><td>BrkFace</td><td>Wd Shng</td><td>None</td><td>0</td><td>TA</td><td>TA</td><td>BrkTil</td><td>TA</td><td>TA</td><td>No</td><td>Unf</td><td>0</td><td>Unf</td><td>0</td><td>952</td><td>952</td><td>GasA</td><td>Gd</td><td>Y</td><td>FuseF</td><td>1022</td><td>752</td><td>0</td><td>1774</td><td>0</td><td>0</td><td>2</td><td>0</td><td>2</td><td>2</td><td>TA</td><td>8</td><td>Min1</td><td>2</td><td>TA</td><td>Detchd</td><td>1931</td><td>Unf</td><td>2</td><td>468</td><td>Fa</td><td>TA</td><td>Y</td><td>90</td><td>0</td><td>205</td><td>0</td><td>0</td><td>0</td><td>NA</td><td>NA</td><td>NA</td><td>0</td><td>4</td><td>2008</td><td>WD</td><td>Abnorml</td><td>129900</td></tr><tr><th>10</th><td>10</td><td>190</td><td>RL</td><td>50</td><td>7420</td><td>Pave</td><td>NA</td><td>Reg</td><td>Lvl</td><td>AllPub</td><td>Corner</td><td>Gtl</td><td>BrkSide</td><td>Artery</td><td>Artery</td><td>2fmCon</td><td>1.5Unf</td><td>5</td><td>6</td><td>1939</td><td>1950</td><td>Gable</td><td>CompShg</td><td>MetalSd</td><td>MetalSd</td><td>None</td><td>0</td><td>TA</td><td>TA</td><td>BrkTil</td><td>TA</td><td>TA</td><td>No</td><td>GLQ</td><td>851</td><td>Unf</td><td>0</td><td>140</td><td>991</td><td>GasA</td><td>Ex</td><td>Y</td><td>SBrkr</td><td>1077</td><td>0</td><td>0</td><td>1077</td><td>1</td><td>0</td><td>1</td><td>0</td><td>2</td><td>2</td><td>TA</td><td>5</td><td>Typ</td><td>2</td><td>TA</td><td>Attchd</td><td>1939</td><td>RFn</td><td>1</td><td>205</td><td>Gd</td><td>TA</td><td>Y</td><td>0</td><td>4</td><td>0</td><td>0</td><td>0</td><td>0</td><td>NA</td><td>NA</td><td>NA</td><td>0</td><td>1</td><td>2008</td><td>WD</td><td>Normal</td><td>118000</td></tr><tr><th>11</th><td>11</td><td>20</td><td>RL</td><td>70</td><td>11200</td><td>Pave</td><td>NA</td><td>Reg</td><td>Lvl</td><td>AllPub</td><td>Inside</td><td>Gtl</td><td>Sawyer</td><td>Norm</td><td>Norm</td><td>1Fam</td><td>1Story</td><td>5</td><td>5</td><td>1965</td><td>1965</td><td>Hip</td><td>CompShg</td><td>HdBoard</td><td>HdBoard</td><td>None</td><td>0</td><td>TA</td><td>TA</td><td>CBlock</td><td>TA</td><td>TA</td><td>No</td><td>Rec</td><td>906</td><td>Unf</td><td>0</td><td>134</td><td>1040</td><td>GasA</td><td>Ex</td><td>Y</td><td>SBrkr</td><td>1040</td><td>0</td><td>0</td><td>1040</td><td>1</td><td>0</td><td>1</td><td>0</td><td>3</td><td>1</td><td>TA</td><td>5</td><td>Typ</td><td>0</td><td>NA</td><td>Detchd</td><td>1965</td><td>Unf</td><td>1</td><td>384</td><td>TA</td><td>TA</td><td>Y</td><td>0</td><td>0</td><td>0</td><td>0</td><td>0</td><td>0</td><td>NA</td><td>NA</td><td>NA</td><td>0</td><td>2</td><td>2008</td><td>WD</td><td>Normal</td><td>129500</td></tr><tr><th>12</th><td>12</td><td>60</td><td>RL</td><td>85</td><td>11924</td><td>Pave</td><td>NA</td><td>IR1</td><td>Lvl</td><td>AllPub</td><td>Inside</td><td>Gtl</td><td>NridgHt</td><td>Norm</td><td>Norm</td><td>1Fam</td><td>2Story</td><td>9</td><td>5</td><td>2005</td><td>2006</td><td>Hip</td><td>CompShg</td><td>WdShing</td><td>Wd Shng</td><td>Stone</td><td>286</td><td>Ex</td><td>TA</td><td>PConc</td><td>Ex</td><td>TA</td><td>No</td><td>GLQ</td><td>998</td><td>Unf</td><td>0</td><td>177</td><td>1175</td><td>GasA</td><td>Ex</td><td>Y</td><td>SBrkr</td><td>1182</td><td>1142</td><td>0</td><td>2324</td><td>1</td><td>0</td><td>3</td><td>0</td><td>4</td><td>1</td><td>Ex</td><td>11</td><td>Typ</td><td>2</td><td>Gd</td><td>BuiltIn</td><td>2005</td><td>Fin</td><td>3</td><td>736</td><td>TA</td><td>TA</td><td>Y</td><td>147</td><td>21</td><td>0</td><td>0</td><td>0</td><td>0</td><td>NA</td><td>NA</td><td>NA</td><td>0</td><td>7</td><td>2006</td><td>New</td><td>Partial</td><td>345000</td></tr><tr><th>13</th><td>13</td><td>20</td><td>RL</td><td>NA</td><td>12968</td><td>Pave</td><td>NA</td><td>IR2</td><td>Lvl</td><td>AllPub</td><td>Inside</td><td>Gtl</td><td>Sawyer</td><td>Norm</td><td>Norm</td><td>1Fam</td><td>1Story</td><td>5</td><td>6</td><td>1962</td><td>1962</td><td>Hip</td><td>CompShg</td><td>HdBoard</td><td>Plywood</td><td>None</td><td>0</td><td>TA</td><td>TA</td><td>CBlock</td><td>TA</td><td>TA</td><td>No</td><td>ALQ</td><td>737</td><td>Unf</td><td>0</td><td>175</td><td>912</td><td>GasA</td><td>TA</td><td>Y</td><td>SBrkr</td><td>912</td><td>0</td><td>0</td><td>912</td><td>1</td><td>0</td><td>1</td><td>0</td><td>2</td><td>1</td><td>TA</td><td>4</td><td>Typ</td><td>0</td><td>NA</td><td>Detchd</td><td>1962</td><td>Unf</td><td>1</td><td>352</td><td>TA</td><td>TA</td><td>Y</td><td>140</td><td>0</td><td>0</td><td>0</td><td>176</td><td>0</td><td>NA</td><td>NA</td><td>NA</td><td>0</td><td>9</td><td>2008</td><td>WD</td><td>Normal</td><td>144000</td></tr><tr><th>14</th><td>14</td><td>20</td><td>RL</td><td>91</td><td>10652</td><td>Pave</td><td>NA</td><td>IR1</td><td>Lvl</td><td>AllPub</td><td>Inside</td><td>Gtl</td><td>CollgCr</td><td>Norm</td><td>Norm</td><td>1Fam</td><td>1Story</td><td>7</td><td>5</td><td>2006</td><td>2007</td><td>Gable</td><td>CompShg</td><td>VinylSd</td><td>VinylSd</td><td>Stone</td><td>306</td><td>Gd</td><td>TA</td><td>PConc</td><td>Gd</td><td>TA</td><td>Av</td><td>Unf</td><td>0</td><td>Unf</td><td>0</td><td>1494</td><td>1494</td><td>GasA</td><td>Ex</td><td>Y</td><td>SBrkr</td><td>1494</td><td>0</td><td>0</td><td>1494</td><td>0</td><td>0</td><td>2</td><td>0</td><td>3</td><td>1</td><td>Gd</td><td>7</td><td>Typ</td><td>1</td><td>Gd</td><td>Attchd</td><td>2006</td><td>RFn</td><td>3</td><td>840</td><td>TA</td><td>TA</td><td>Y</td><td>160</td><td>33</td><td>0</td><td>0</td><td>0</td><td>0</td><td>NA</td><td>NA</td><td>NA</td><td>0</td><td>8</td><td>2007</td><td>New</td><td>Partial</td><td>279500</td></tr><tr><th>15</th><td>15</td><td>20</td><td>RL</td><td>NA</td><td>10920</td><td>Pave</td><td>NA</td><td>IR1</td><td>Lvl</td><td>AllPub</td><td>Corner</td><td>Gtl</td><td>NAmes</td><td>Norm</td><td>Norm</td><td>1Fam</td><td>1Story</td><td>6</td><td>5</td><td>1960</td><td>1960</td><td>Hip</td><td>CompShg</td><td>MetalSd</td><td>MetalSd</td><td>BrkFace</td><td>212</td><td>TA</td><td>TA</td><td>CBlock</td><td>TA</td><td>TA</td><td>No</td><td>BLQ</td><td>733</td><td>Unf</td><td>0</td><td>520</td><td>1253</td><td>GasA</td><td>TA</td><td>Y</td><td>SBrkr</td><td>1253</td><td>0</td><td>0</td><td>1253</td><td>1</td><td>0</td><td>1</td><td>1</td><td>2</td><td>1</td><td>TA</td><td>5</td><td>Typ</td><td>1</td><td>Fa</td><td>Attchd</td><td>1960</td><td>RFn</td><td>1</td><td>352</td><td>TA</td><td>TA</td><td>Y</td><td>0</td><td>213</td><td>176</td><td>0</td><td>0</td><td>0</td><td>NA</td><td>GdWo</td><td>NA</td><td>0</td><td>5</td><td>2008</td><td>WD</td><td>Normal</td><td>157000</td></tr><tr><th>16</th><td>16</td><td>45</td><td>RM</td><td>51</td><td>6120</td><td>Pave</td><td>NA</td><td>Reg</td><td>Lvl</td><td>AllPub</td><td>Corner</td><td>Gtl</td><td>BrkSide</td><td>Norm</td><td>Norm</td><td>1Fam</td><td>1.5Unf</td><td>7</td><td>8</td><td>1929</td><td>2001</td><td>Gable</td><td>CompShg</td><td>Wd Sdng</td><td>Wd Sdng</td><td>None</td><td>0</td><td>TA</td><td>TA</td><td>BrkTil</td><td>TA</td><td>TA</td><td>No</td><td>Unf</td><td>0</td><td>Unf</td><td>0</td><td>832</td><td>832</td><td>GasA</td><td>Ex</td><td>Y</td><td>FuseA</td><td>854</td><td>0</td><td>0</td><td>854</td><td>0</td><td>0</td><td>1</td><td>0</td><td>2</td><td>1</td><td>TA</td><td>5</td><td>Typ</td><td>0</td><td>NA</td><td>Detchd</td><td>1991</td><td>Unf</td><td>2</td><td>576</td><td>TA</td><td>TA</td><td>Y</td><td>48</td><td>112</td><td>0</td><td>0</td><td>0</td><td>0</td><td>NA</td><td>GdPrv</td><td>NA</td><td>0</td><td>7</td><td>2007</td><td>WD</td><td>Normal</td><td>132000</td></tr><tr><th>17</th><td>17</td><td>20</td><td>RL</td><td>NA</td><td>11241</td><td>Pave</td><td>NA</td><td>IR1</td><td>Lvl</td><td>AllPub</td><td>CulDSac</td><td>Gtl</td><td>NAmes</td><td>Norm</td><td>Norm</td><td>1Fam</td><td>1Story</td><td>6</td><td>7</td><td>1970</td><td>1970</td><td>Gable</td><td>CompShg</td><td>Wd Sdng</td><td>Wd Sdng</td><td>BrkFace</td><td>180</td><td>TA</td><td>TA</td><td>CBlock</td><td>TA</td><td>TA</td><td>No</td><td>ALQ</td><td>578</td><td>Unf</td><td>0</td><td>426</td><td>1004</td><td>GasA</td><td>Ex</td><td>Y</td><td>SBrkr</td><td>1004</td><td>0</td><td>0</td><td>1004</td><td>1</td><td>0</td><td>1</td><td>0</td><td>2</td><td>1</td><td>TA</td><td>5</td><td>Typ</td><td>1</td><td>TA</td><td>Attchd</td><td>1970</td><td>Fin</td><td>2</td><td>480</td><td>TA</td><td>TA</td><td>Y</td><td>0</td><td>0</td><td>0</td><td>0</td><td>0</td><td>0</td><td>NA</td><td>NA</td><td>Shed</td><td>700</td><td>3</td><td>2010</td><td>WD</td><td>Normal</td><td>149000</td></tr><tr><th>18</th><td>18</td><td>90</td><td>RL</td><td>72</td><td>10791</td><td>Pave</td><td>NA</td><td>Reg</td><td>Lvl</td><td>AllPub</td><td>Inside</td><td>Gtl</td><td>Sawyer</td><td>Norm</td><td>Norm</td><td>Duplex</td><td>1Story</td><td>4</td><td>5</td><td>1967</td><td>1967</td><td>Gable</td><td>CompShg</td><td>MetalSd</td><td>MetalSd</td><td>None</td><td>0</td><td>TA</td><td>TA</td><td>Slab</td><td>NA</td><td>NA</td><td>NA</td><td>NA</td><td>0</td><td>NA</td><td>0</td><td>0</td><td>0</td><td>GasA</td><td>TA</td><td>Y</td><td>SBrkr</td><td>1296</td><td>0</td><td>0</td><td>1296</td><td>0</td><td>0</td><td>2</td><td>0</td><td>2</td><td>2</td><td>TA</td><td>6</td><td>Typ</td><td>0</td><td>NA</td><td>CarPort</td><td>1967</td><td>Unf</td><td>2</td><td>516</td><td>TA</td><td>TA</td><td>Y</td><td>0</td><td>0</td><td>0</td><td>0</td><td>0</td><td>0</td><td>NA</td><td>NA</td><td>Shed</td><td>500</td><td>10</td><td>2006</td><td>WD</td><td>Normal</td><td>90000</td></tr><tr><th>19</th><td>19</td><td>20</td><td>RL</td><td>66</td><td>13695</td><td>Pave</td><td>NA</td><td>Reg</td><td>Lvl</td><td>AllPub</td><td>Inside</td><td>Gtl</td><td>SawyerW</td><td>RRAe</td><td>Norm</td><td>1Fam</td><td>1Story</td><td>5</td><td>5</td><td>2004</td><td>2004</td><td>Gable</td><td>CompShg</td><td>VinylSd</td><td>VinylSd</td><td>None</td><td>0</td><td>TA</td><td>TA</td><td>PConc</td><td>TA</td><td>TA</td><td>No</td><td>GLQ</td><td>646</td><td>Unf</td><td>0</td><td>468</td><td>1114</td><td>GasA</td><td>Ex</td><td>Y</td><td>SBrkr</td><td>1114</td><td>0</td><td>0</td><td>1114</td><td>1</td><td>0</td><td>1</td><td>1</td><td>3</td><td>1</td><td>Gd</td><td>6</td><td>Typ</td><td>0</td><td>NA</td><td>Detchd</td><td>2004</td><td>Unf</td><td>2</td><td>576</td><td>TA</td><td>TA</td><td>Y</td><td>0</td><td>102</td><td>0</td><td>0</td><td>0</td><td>0</td><td>NA</td><td>NA</td><td>NA</td><td>0</td><td>6</td><td>2008</td><td>WD</td><td>Normal</td><td>159000</td></tr><tr><th>20</th><td>20</td><td>20</td><td>RL</td><td>70</td><td>7560</td><td>Pave</td><td>NA</td><td>Reg</td><td>Lvl</td><td>AllPub</td><td>Inside</td><td>Gtl</td><td>NAmes</td><td>Norm</td><td>Norm</td><td>1Fam</td><td>1Story</td><td>5</td><td>6</td><td>1958</td><td>1965</td><td>Hip</td><td>CompShg</td><td>BrkFace</td><td>Plywood</td><td>None</td><td>0</td><td>TA</td><td>TA</td><td>CBlock</td><td>TA</td><td>TA</td><td>No</td><td>LwQ</td><td>504</td><td>Unf</td><td>0</td><td>525</td><td>1029</td><td>GasA</td><td>TA</td><td>Y</td><td>SBrkr</td><td>1339</td><td>0</td><td>0</td><td>1339</td><td>0</td><td>0</td><td>1</td><td>0</td><td>3</td><td>1</td><td>TA</td><td>6</td><td>Min1</td><td>0</td><td>NA</td><td>Attchd</td><td>1958</td><td>Unf</td><td>1</td><td>294</td><td>TA</td><td>TA</td><td>Y</td><td>0</td><td>0</td><td>0</td><td>0</td><td>0</td><td>0</td><td>NA</td><td>MnPrv</td><td>NA</td><td>0</td><td>5</td><td>2009</td><td>COD</td><td>Abnorml</td><td>139000</td></tr><tr><th>21</th><td>21</td><td>60</td><td>RL</td><td>101</td><td>14215</td><td>Pave</td><td>NA</td><td>IR1</td><td>Lvl</td><td>AllPub</td><td>Corner</td><td>Gtl</td><td>NridgHt</td><td>Norm</td><td>Norm</td><td>1Fam</td><td>2Story</td><td>8</td><td>5</td><td>2005</td><td>2006</td><td>Gable</td><td>CompShg</td><td>VinylSd</td><td>VinylSd</td><td>BrkFace</td><td>380</td><td>Gd</td><td>TA</td><td>PConc</td><td>Ex</td><td>TA</td><td>Av</td><td>Unf</td><td>0</td><td>Unf</td><td>0</td><td>1158</td><td>1158</td><td>GasA</td><td>Ex</td><td>Y</td><td>SBrkr</td><td>1158</td><td>1218</td><td>0</td><td>2376</td><td>0</td><td>0</td><td>3</td><td>1</td><td>4</td><td>1</td><td>Gd</td><td>9</td><td>Typ</td><td>1</td><td>Gd</td><td>BuiltIn</td><td>2005</td><td>RFn</td><td>3</td><td>853</td><td>TA</td><td>TA</td><td>Y</td><td>240</td><td>154</td><td>0</td><td>0</td><td>0</td><td>0</td><td>NA</td><td>NA</td><td>NA</td><td>0</td><td>11</td><td>2006</td><td>New</td><td>Partial</td><td>325300</td></tr><tr><th>22</th><td>22</td><td>45</td><td>RM</td><td>57</td><td>7449</td><td>Pave</td><td>Grvl</td><td>Reg</td><td>Bnk</td><td>AllPub</td><td>Inside</td><td>Gtl</td><td>IDOTRR</td><td>Norm</td><td>Norm</td><td>1Fam</td><td>1.5Unf</td><td>7</td><td>7</td><td>1930</td><td>1950</td><td>Gable</td><td>CompShg</td><td>Wd Sdng</td><td>Wd Sdng</td><td>None</td><td>0</td><td>TA</td><td>TA</td><td>PConc</td><td>TA</td><td>TA</td><td>No</td><td>Unf</td><td>0</td><td>Unf</td><td>0</td><td>637</td><td>637</td><td>GasA</td><td>Ex</td><td>Y</td><td>FuseF</td><td>1108</td><td>0</td><td>0</td><td>1108</td><td>0</td><td>0</td><td>1</td><td>0</td><td>3</td><td>1</td><td>Gd</td><td>6</td><td>Typ</td><td>1</td><td>Gd</td><td>Attchd</td><td>1930</td><td>Unf</td><td>1</td><td>280</td><td>TA</td><td>TA</td><td>N</td><td>0</td><td>0</td><td>205</td><td>0</td><td>0</td><td>0</td><td>NA</td><td>GdPrv</td><td>NA</td><td>0</td><td>6</td><td>2007</td><td>WD</td><td>Normal</td><td>139400</td></tr><tr><th>23</th><td>23</td><td>20</td><td>RL</td><td>75</td><td>9742</td><td>Pave</td><td>NA</td><td>Reg</td><td>Lvl</td><td>AllPub</td><td>Inside</td><td>Gtl</td><td>CollgCr</td><td>Norm</td><td>Norm</td><td>1Fam</td><td>1Story</td><td>8</td><td>5</td><td>2002</td><td>2002</td><td>Hip</td><td>CompShg</td><td>VinylSd</td><td>VinylSd</td><td>BrkFace</td><td>281</td><td>Gd</td><td>TA</td><td>PConc</td><td>Gd</td><td>TA</td><td>No</td><td>Unf</td><td>0</td><td>Unf</td><td>0</td><td>1777</td><td>1777</td><td>GasA</td><td>Ex</td><td>Y</td><td>SBrkr</td><td>1795</td><td>0</td><td>0</td><td>1795</td><td>0</td><td>0</td><td>2</td><td>0</td><td>3</td><td>1</td><td>Gd</td><td>7</td><td>Typ</td><td>1</td><td>Gd</td><td>Attchd</td><td>2002</td><td>RFn</td><td>2</td><td>534</td><td>TA</td><td>TA</td><td>Y</td><td>171</td><td>159</td><td>0</td><td>0</td><td>0</td><td>0</td><td>NA</td><td>NA</td><td>NA</td><td>0</td><td>9</td><td>2008</td><td>WD</td><td>Normal</td><td>230000</td></tr><tr><th>24</th><td>24</td><td>120</td><td>RM</td><td>44</td><td>4224</td><td>Pave</td><td>NA</td><td>Reg</td><td>Lvl</td><td>AllPub</td><td>Inside</td><td>Gtl</td><td>MeadowV</td><td>Norm</td><td>Norm</td><td>TwnhsE</td><td>1Story</td><td>5</td><td>7</td><td>1976</td><td>1976</td><td>Gable</td><td>CompShg</td><td>CemntBd</td><td>CmentBd</td><td>None</td><td>0</td><td>TA</td><td>TA</td><td>PConc</td><td>Gd</td><td>TA</td><td>No</td><td>GLQ</td><td>840</td><td>Unf</td><td>0</td><td>200</td><td>1040</td><td>GasA</td><td>TA</td><td>Y</td><td>SBrkr</td><td>1060</td><td>0</td><td>0</td><td>1060</td><td>1</td><td>0</td><td>1</td><td>0</td><td>3</td><td>1</td><td>TA</td><td>6</td><td>Typ</td><td>1</td><td>TA</td><td>Attchd</td><td>1976</td><td>Unf</td><td>2</td><td>572</td><td>TA</td><td>TA</td><td>Y</td><td>100</td><td>110</td><td>0</td><td>0</td><td>0</td><td>0</td><td>NA</td><td>NA</td><td>NA</td><td>0</td><td>6</td><td>2007</td><td>WD</td><td>Normal</td><td>129900</td></tr><tr><th>25</th><td>25</td><td>20</td><td>RL</td><td>NA</td><td>8246</td><td>Pave</td><td>NA</td><td>IR1</td><td>Lvl</td><td>AllPub</td><td>Inside</td><td>Gtl</td><td>Sawyer</td><td>Norm</td><td>Norm</td><td>1Fam</td><td>1Story</td><td>5</td><td>8</td><td>1968</td><td>2001</td><td>Gable</td><td>CompShg</td><td>Plywood</td><td>Plywood</td><td>None</td><td>0</td><td>TA</td><td>Gd</td><td>CBlock</td><td>TA</td><td>TA</td><td>Mn</td><td>Rec</td><td>188</td><td>ALQ</td><td>668</td><td>204</td><td>1060</td><td>GasA</td><td>Ex</td><td>Y</td><td>SBrkr</td><td>1060</td><td>0</td><td>0</td><td>1060</td><td>1</td><td>0</td><td>1</td><td>0</td><td>3</td><td>1</td><td>Gd</td><td>6</td><td>Typ</td><td>1</td><td>TA</td><td>Attchd</td><td>1968</td><td>Unf</td><td>1</td><td>270</td><td>TA</td><td>TA</td><td>Y</td><td>406</td><td>90</td><td>0</td><td>0</td><td>0</td><td>0</td><td>NA</td><td>MnPrv</td><td>NA</td><td>0</td><td>5</td><td>2010</td><td>WD</td><td>Normal</td><td>154000</td></tr><tr><th>26</th><td>26</td><td>20</td><td>RL</td><td>110</td><td>14230</td><td>Pave</td><td>NA</td><td>Reg</td><td>Lvl</td><td>AllPub</td><td>Corner</td><td>Gtl</td><td>NridgHt</td><td>Norm</td><td>Norm</td><td>1Fam</td><td>1Story</td><td>8</td><td>5</td><td>2007</td><td>2007</td><td>Gable</td><td>CompShg</td><td>VinylSd</td><td>VinylSd</td><td>Stone</td><td>640</td><td>Gd</td><td>TA</td><td>PConc</td><td>Gd</td><td>TA</td><td>No</td><td>Unf</td><td>0</td><td>Unf</td><td>0</td><td>1566</td><td>1566</td><td>GasA</td><td>Ex</td><td>Y</td><td>SBrkr</td><td>1600</td><td>0</td><td>0</td><td>1600</td><td>0</td><td>0</td><td>2</td><td>0</td><td>3</td><td>1</td><td>Gd</td><td>7</td><td>Typ</td><td>1</td><td>Gd</td><td>Attchd</td><td>2007</td><td>RFn</td><td>3</td><td>890</td><td>TA</td><td>TA</td><td>Y</td><td>0</td><td>56</td><td>0</td><td>0</td><td>0</td><td>0</td><td>NA</td><td>NA</td><td>NA</td><td>0</td><td>7</td><td>2009</td><td>WD</td><td>Normal</td><td>256300</td></tr><tr><th>27</th><td>27</td><td>20</td><td>RL</td><td>60</td><td>7200</td><td>Pave</td><td>NA</td><td>Reg</td><td>Lvl</td><td>AllPub</td><td>Corner</td><td>Gtl</td><td>NAmes</td><td>Norm</td><td>Norm</td><td>1Fam</td><td>1Story</td><td>5</td><td>7</td><td>1951</td><td>2000</td><td>Gable</td><td>CompShg</td><td>Wd Sdng</td><td>Wd Sdng</td><td>None</td><td>0</td><td>TA</td><td>TA</td><td>CBlock</td><td>TA</td><td>TA</td><td>Mn</td><td>BLQ</td><td>234</td><td>Rec</td><td>486</td><td>180</td><td>900</td><td>GasA</td><td>TA</td><td>Y</td><td>SBrkr</td><td>900</td><td>0</td><td>0</td><td>900</td><td>0</td><td>1</td><td>1</td><td>0</td><td>3</td><td>1</td><td>Gd</td><td>5</td><td>Typ</td><td>0</td><td>NA</td><td>Detchd</td><td>2005</td><td>Unf</td><td>2</td><td>576</td><td>TA</td><td>TA</td><td>Y</td><td>222</td><td>32</td><td>0</td><td>0</td><td>0</td><td>0</td><td>NA</td><td>NA</td><td>NA</td><td>0</td><td>5</td><td>2010</td><td>WD</td><td>Normal</td><td>134800</td></tr><tr><th>28</th><td>28</td><td>20</td><td>RL</td><td>98</td><td>11478</td><td>Pave</td><td>NA</td><td>Reg</td><td>Lvl</td><td>AllPub</td><td>Inside</td><td>Gtl</td><td>NridgHt</td><td>Norm</td><td>Norm</td><td>1Fam</td><td>1Story</td><td>8</td><td>5</td><td>2007</td><td>2008</td><td>Gable</td><td>CompShg</td><td>VinylSd</td><td>VinylSd</td><td>Stone</td><td>200</td><td>Gd</td><td>TA</td><td>PConc</td><td>Ex</td><td>TA</td><td>No</td><td>GLQ</td><td>1218</td><td>Unf</td><td>0</td><td>486</td><td>1704</td><td>GasA</td><td>Ex</td><td>Y</td><td>SBrkr</td><td>1704</td><td>0</td><td>0</td><td>1704</td><td>1</td><td>0</td><td>2</td><td>0</td><td>3</td><td>1</td><td>Gd</td><td>7</td><td>Typ</td><td>1</td><td>Gd</td><td>Attchd</td><td>2008</td><td>RFn</td><td>3</td><td>772</td><td>TA</td><td>TA</td><td>Y</td><td>0</td><td>50</td><td>0</td><td>0</td><td>0</td><td>0</td><td>NA</td><td>NA</td><td>NA</td><td>0</td><td>5</td><td>2010</td><td>WD</td><td>Normal</td><td>306000</td></tr><tr><th>29</th><td>29</td><td>20</td><td>RL</td><td>47</td><td>16321</td><td>Pave</td><td>NA</td><td>IR1</td><td>Lvl</td><td>AllPub</td><td>CulDSac</td><td>Gtl</td><td>NAmes</td><td>Norm</td><td>Norm</td><td>1Fam</td><td>1Story</td><td>5</td><td>6</td><td>1957</td><td>1997</td><td>Gable</td><td>CompShg</td><td>MetalSd</td><td>MetalSd</td><td>None</td><td>0</td><td>TA</td><td>TA</td><td>CBlock</td><td>TA</td><td>TA</td><td>Gd</td><td>BLQ</td><td>1277</td><td>Unf</td><td>0</td><td>207</td><td>1484</td><td>GasA</td><td>TA</td><td>Y</td><td>SBrkr</td><td>1600</td><td>0</td><td>0</td><td>1600</td><td>1</td><td>0</td><td>1</td><td>0</td><td>2</td><td>1</td><td>TA</td><td>6</td><td>Typ</td><td>2</td><td>Gd</td><td>Attchd</td><td>1957</td><td>RFn</td><td>1</td><td>319</td><td>TA</td><td>TA</td><td>Y</td><td>288</td><td>258</td><td>0</td><td>0</td><td>0</td><td>0</td><td>NA</td><td>NA</td><td>NA</td><td>0</td><td>12</td><td>2006</td><td>WD</td><td>Normal</td><td>207500</td></tr><tr><th>30</th><td>30</td><td>30</td><td>RM</td><td>60</td><td>6324</td><td>Pave</td><td>NA</td><td>IR1</td><td>Lvl</td><td>AllPub</td><td>Inside</td><td>Gtl</td><td>BrkSide</td><td>Feedr</td><td>RRNn</td><td>1Fam</td><td>1Story</td><td>4</td><td>6</td><td>1927</td><td>1950</td><td>Gable</td><td>CompShg</td><td>MetalSd</td><td>MetalSd</td><td>None</td><td>0</td><td>TA</td><td>TA</td><td>BrkTil</td><td>TA</td><td>TA</td><td>No</td><td>Unf</td><td>0</td><td>Unf</td><td>0</td><td>520</td><td>520</td><td>GasA</td><td>Fa</td><td>N</td><td>SBrkr</td><td>520</td><td>0</td><td>0</td><td>520</td><td>0</td><td>0</td><td>1</td><td>0</td><td>1</td><td>1</td><td>Fa</td><td>4</td><td>Typ</td><td>0</td><td>NA</td><td>Detchd</td><td>1920</td><td>Unf</td><td>1</td><td>240</td><td>Fa</td><td>TA</td><td>Y</td><td>49</td><td>0</td><td>87</td><td>0</td><td>0</td><td>0</td><td>NA</td><td>NA</td><td>NA</td><td>0</td><td>5</td><td>2008</td><td>WD</td><td>Normal</td><td>68500</td></tr><tr><th>&vellip;</th><td>&vellip;</td><td>&vellip;</td><td>&vellip;</td><td>&vellip;</td><td>&vellip;</td><td>&vellip;</td><td>&vellip;</td><td>&vellip;</td><td>&vellip;</td><td>&vellip;</td><td>&vellip;</td><td>&vellip;</td><td>&vellip;</td><td>&vellip;</td><td>&vellip;</td><td>&vellip;</td><td>&vellip;</td><td>&vellip;</td><td>&vellip;</td><td>&vellip;</td><td>&vellip;</td><td>&vellip;</td><td>&vellip;</td><td>&vellip;</td><td>&vellip;</td><td>&vellip;</td><td>&vellip;</td><td>&vellip;</td><td>&vellip;</td><td>&vellip;</td><td>&vellip;</td><td>&vellip;</td><td>&vellip;</td><td>&vellip;</td><td>&vellip;</td><td>&vellip;</td><td>&vellip;</td><td>&vellip;</td><td>&vellip;</td><td>&vellip;</td><td>&vellip;</td><td>&vellip;</td><td>&vellip;</td><td>&vellip;</td><td>&vellip;</td><td>&vellip;</td><td>&vellip;</td><td>&vellip;</td><td>&vellip;</td><td>&vellip;</td><td>&vellip;</td><td>&vellip;</td><td>&vellip;</td><td>&vellip;</td><td>&vellip;</td><td>&vellip;</td><td>&vellip;</td><td>&vellip;</td><td>&vellip;</td><td>&vellip;</td><td>&vellip;</td><td>&vellip;</td><td>&vellip;</td><td>&vellip;</td><td>&vellip;</td><td>&vellip;</td><td>&vellip;</td><td>&vellip;</td><td>&vellip;</td><td>&vellip;</td><td>&vellip;</td><td>&vellip;</td><td>&vellip;</td><td>&vellip;</td><td>&vellip;</td><td>&vellip;</td><td>&vellip;</td><td>&vellip;</td><td>&vellip;</td><td>&vellip;</td><td>&vellip;</td></tr></tbody></table>"
      ],
      "text/latex": [
       "\\begin{tabular}{r|ccccccccccccccccccccccccccccccccccccccccccccccccccccccccccccccccccccccccccccccccc}\n",
       "\t& Id & MSSubClass & MSZoning & LotFrontage & LotArea & Street & Alley & LotShape & LandContour & Utilities & LotConfig & LandSlope & Neighborhood & Condition1 & Condition2 & BldgType & HouseStyle & OverallQual & OverallCond & YearBuilt & YearRemodAdd & RoofStyle & RoofMatl & Exterior1st & Exterior2nd & MasVnrType & MasVnrArea & ExterQual & ExterCond & Foundation & BsmtQual & BsmtCond & BsmtExposure & BsmtFinType1 & BsmtFinSF1 & BsmtFinType2 & BsmtFinSF2 & BsmtUnfSF & TotalBsmtSF & Heating & HeatingQC & CentralAir & Electrical & 1stFlrSF & 2ndFlrSF & LowQualFinSF & GrLivArea & BsmtFullBath & BsmtHalfBath & FullBath & HalfBath & BedroomAbvGr & KitchenAbvGr & KitchenQual & TotRmsAbvGrd & Functional & Fireplaces & FireplaceQu & GarageType & GarageYrBlt & GarageFinish & GarageCars & GarageArea & GarageQual & GarageCond & PavedDrive & WoodDeckSF & OpenPorchSF & EnclosedPorch & 3SsnPorch & ScreenPorch & PoolArea & PoolQC & Fence & MiscFeature & MiscVal & MoSold & YrSold & SaleType & SaleCondition & SalePrice\\\\\n",
       "\t\\hline\n",
       "\t& Int64⍰ & Int64⍰ & String⍰ & String⍰ & Int64⍰ & String⍰ & String⍰ & String⍰ & String⍰ & String⍰ & String⍰ & String⍰ & String⍰ & String⍰ & String⍰ & String⍰ & String⍰ & Int64⍰ & Int64⍰ & Int64⍰ & Int64⍰ & String⍰ & String⍰ & String⍰ & String⍰ & String⍰ & String⍰ & String⍰ & String⍰ & String⍰ & String⍰ & String⍰ & String⍰ & String⍰ & Int64⍰ & String⍰ & Int64⍰ & Int64⍰ & Int64⍰ & String⍰ & String⍰ & String⍰ & String⍰ & Int64⍰ & Int64⍰ & Int64⍰ & Int64⍰ & Int64⍰ & Int64⍰ & Int64⍰ & Int64⍰ & Int64⍰ & Int64⍰ & String⍰ & Int64⍰ & String⍰ & Int64⍰ & String⍰ & String⍰ & String⍰ & String⍰ & Int64⍰ & Int64⍰ & String⍰ & String⍰ & String⍰ & Int64⍰ & Int64⍰ & Int64⍰ & Int64⍰ & Int64⍰ & Int64⍰ & String⍰ & String⍰ & String⍰ & Int64⍰ & Int64⍰ & Int64⍰ & String⍰ & String⍰ & Int64⍰\\\\\n",
       "\t\\hline\n",
       "\t1 & 1 & 60 & RL & 65 & 8450 & Pave & NA & Reg & Lvl & AllPub & Inside & Gtl & CollgCr & Norm & Norm & 1Fam & 2Story & 7 & 5 & 2003 & 2003 & Gable & CompShg & VinylSd & VinylSd & BrkFace & 196 & Gd & TA & PConc & Gd & TA & No & GLQ & 706 & Unf & 0 & 150 & 856 & GasA & Ex & Y & SBrkr & 856 & 854 & 0 & 1710 & 1 & 0 & 2 & 1 & 3 & 1 & Gd & 8 & Typ & 0 & NA & Attchd & 2003 & RFn & 2 & 548 & TA & TA & Y & 0 & 61 & 0 & 0 & 0 & 0 & NA & NA & NA & 0 & 2 & 2008 & WD & Normal & 208500 \\\\\n",
       "\t2 & 2 & 20 & RL & 80 & 9600 & Pave & NA & Reg & Lvl & AllPub & FR2 & Gtl & Veenker & Feedr & Norm & 1Fam & 1Story & 6 & 8 & 1976 & 1976 & Gable & CompShg & MetalSd & MetalSd & None & 0 & TA & TA & CBlock & Gd & TA & Gd & ALQ & 978 & Unf & 0 & 284 & 1262 & GasA & Ex & Y & SBrkr & 1262 & 0 & 0 & 1262 & 0 & 1 & 2 & 0 & 3 & 1 & TA & 6 & Typ & 1 & TA & Attchd & 1976 & RFn & 2 & 460 & TA & TA & Y & 298 & 0 & 0 & 0 & 0 & 0 & NA & NA & NA & 0 & 5 & 2007 & WD & Normal & 181500 \\\\\n",
       "\t3 & 3 & 60 & RL & 68 & 11250 & Pave & NA & IR1 & Lvl & AllPub & Inside & Gtl & CollgCr & Norm & Norm & 1Fam & 2Story & 7 & 5 & 2001 & 2002 & Gable & CompShg & VinylSd & VinylSd & BrkFace & 162 & Gd & TA & PConc & Gd & TA & Mn & GLQ & 486 & Unf & 0 & 434 & 920 & GasA & Ex & Y & SBrkr & 920 & 866 & 0 & 1786 & 1 & 0 & 2 & 1 & 3 & 1 & Gd & 6 & Typ & 1 & TA & Attchd & 2001 & RFn & 2 & 608 & TA & TA & Y & 0 & 42 & 0 & 0 & 0 & 0 & NA & NA & NA & 0 & 9 & 2008 & WD & Normal & 223500 \\\\\n",
       "\t4 & 4 & 70 & RL & 60 & 9550 & Pave & NA & IR1 & Lvl & AllPub & Corner & Gtl & Crawfor & Norm & Norm & 1Fam & 2Story & 7 & 5 & 1915 & 1970 & Gable & CompShg & Wd Sdng & Wd Shng & None & 0 & TA & TA & BrkTil & TA & Gd & No & ALQ & 216 & Unf & 0 & 540 & 756 & GasA & Gd & Y & SBrkr & 961 & 756 & 0 & 1717 & 1 & 0 & 1 & 0 & 3 & 1 & Gd & 7 & Typ & 1 & Gd & Detchd & 1998 & Unf & 3 & 642 & TA & TA & Y & 0 & 35 & 272 & 0 & 0 & 0 & NA & NA & NA & 0 & 2 & 2006 & WD & Abnorml & 140000 \\\\\n",
       "\t5 & 5 & 60 & RL & 84 & 14260 & Pave & NA & IR1 & Lvl & AllPub & FR2 & Gtl & NoRidge & Norm & Norm & 1Fam & 2Story & 8 & 5 & 2000 & 2000 & Gable & CompShg & VinylSd & VinylSd & BrkFace & 350 & Gd & TA & PConc & Gd & TA & Av & GLQ & 655 & Unf & 0 & 490 & 1145 & GasA & Ex & Y & SBrkr & 1145 & 1053 & 0 & 2198 & 1 & 0 & 2 & 1 & 4 & 1 & Gd & 9 & Typ & 1 & TA & Attchd & 2000 & RFn & 3 & 836 & TA & TA & Y & 192 & 84 & 0 & 0 & 0 & 0 & NA & NA & NA & 0 & 12 & 2008 & WD & Normal & 250000 \\\\\n",
       "\t6 & 6 & 50 & RL & 85 & 14115 & Pave & NA & IR1 & Lvl & AllPub & Inside & Gtl & Mitchel & Norm & Norm & 1Fam & 1.5Fin & 5 & 5 & 1993 & 1995 & Gable & CompShg & VinylSd & VinylSd & None & 0 & TA & TA & Wood & Gd & TA & No & GLQ & 732 & Unf & 0 & 64 & 796 & GasA & Ex & Y & SBrkr & 796 & 566 & 0 & 1362 & 1 & 0 & 1 & 1 & 1 & 1 & TA & 5 & Typ & 0 & NA & Attchd & 1993 & Unf & 2 & 480 & TA & TA & Y & 40 & 30 & 0 & 320 & 0 & 0 & NA & MnPrv & Shed & 700 & 10 & 2009 & WD & Normal & 143000 \\\\\n",
       "\t7 & 7 & 20 & RL & 75 & 10084 & Pave & NA & Reg & Lvl & AllPub & Inside & Gtl & Somerst & Norm & Norm & 1Fam & 1Story & 8 & 5 & 2004 & 2005 & Gable & CompShg & VinylSd & VinylSd & Stone & 186 & Gd & TA & PConc & Ex & TA & Av & GLQ & 1369 & Unf & 0 & 317 & 1686 & GasA & Ex & Y & SBrkr & 1694 & 0 & 0 & 1694 & 1 & 0 & 2 & 0 & 3 & 1 & Gd & 7 & Typ & 1 & Gd & Attchd & 2004 & RFn & 2 & 636 & TA & TA & Y & 255 & 57 & 0 & 0 & 0 & 0 & NA & NA & NA & 0 & 8 & 2007 & WD & Normal & 307000 \\\\\n",
       "\t8 & 8 & 60 & RL & NA & 10382 & Pave & NA & IR1 & Lvl & AllPub & Corner & Gtl & NWAmes & PosN & Norm & 1Fam & 2Story & 7 & 6 & 1973 & 1973 & Gable & CompShg & HdBoard & HdBoard & Stone & 240 & TA & TA & CBlock & Gd & TA & Mn & ALQ & 859 & BLQ & 32 & 216 & 1107 & GasA & Ex & Y & SBrkr & 1107 & 983 & 0 & 2090 & 1 & 0 & 2 & 1 & 3 & 1 & TA & 7 & Typ & 2 & TA & Attchd & 1973 & RFn & 2 & 484 & TA & TA & Y & 235 & 204 & 228 & 0 & 0 & 0 & NA & NA & Shed & 350 & 11 & 2009 & WD & Normal & 200000 \\\\\n",
       "\t9 & 9 & 50 & RM & 51 & 6120 & Pave & NA & Reg & Lvl & AllPub & Inside & Gtl & OldTown & Artery & Norm & 1Fam & 1.5Fin & 7 & 5 & 1931 & 1950 & Gable & CompShg & BrkFace & Wd Shng & None & 0 & TA & TA & BrkTil & TA & TA & No & Unf & 0 & Unf & 0 & 952 & 952 & GasA & Gd & Y & FuseF & 1022 & 752 & 0 & 1774 & 0 & 0 & 2 & 0 & 2 & 2 & TA & 8 & Min1 & 2 & TA & Detchd & 1931 & Unf & 2 & 468 & Fa & TA & Y & 90 & 0 & 205 & 0 & 0 & 0 & NA & NA & NA & 0 & 4 & 2008 & WD & Abnorml & 129900 \\\\\n",
       "\t10 & 10 & 190 & RL & 50 & 7420 & Pave & NA & Reg & Lvl & AllPub & Corner & Gtl & BrkSide & Artery & Artery & 2fmCon & 1.5Unf & 5 & 6 & 1939 & 1950 & Gable & CompShg & MetalSd & MetalSd & None & 0 & TA & TA & BrkTil & TA & TA & No & GLQ & 851 & Unf & 0 & 140 & 991 & GasA & Ex & Y & SBrkr & 1077 & 0 & 0 & 1077 & 1 & 0 & 1 & 0 & 2 & 2 & TA & 5 & Typ & 2 & TA & Attchd & 1939 & RFn & 1 & 205 & Gd & TA & Y & 0 & 4 & 0 & 0 & 0 & 0 & NA & NA & NA & 0 & 1 & 2008 & WD & Normal & 118000 \\\\\n",
       "\t11 & 11 & 20 & RL & 70 & 11200 & Pave & NA & Reg & Lvl & AllPub & Inside & Gtl & Sawyer & Norm & Norm & 1Fam & 1Story & 5 & 5 & 1965 & 1965 & Hip & CompShg & HdBoard & HdBoard & None & 0 & TA & TA & CBlock & TA & TA & No & Rec & 906 & Unf & 0 & 134 & 1040 & GasA & Ex & Y & SBrkr & 1040 & 0 & 0 & 1040 & 1 & 0 & 1 & 0 & 3 & 1 & TA & 5 & Typ & 0 & NA & Detchd & 1965 & Unf & 1 & 384 & TA & TA & Y & 0 & 0 & 0 & 0 & 0 & 0 & NA & NA & NA & 0 & 2 & 2008 & WD & Normal & 129500 \\\\\n",
       "\t12 & 12 & 60 & RL & 85 & 11924 & Pave & NA & IR1 & Lvl & AllPub & Inside & Gtl & NridgHt & Norm & Norm & 1Fam & 2Story & 9 & 5 & 2005 & 2006 & Hip & CompShg & WdShing & Wd Shng & Stone & 286 & Ex & TA & PConc & Ex & TA & No & GLQ & 998 & Unf & 0 & 177 & 1175 & GasA & Ex & Y & SBrkr & 1182 & 1142 & 0 & 2324 & 1 & 0 & 3 & 0 & 4 & 1 & Ex & 11 & Typ & 2 & Gd & BuiltIn & 2005 & Fin & 3 & 736 & TA & TA & Y & 147 & 21 & 0 & 0 & 0 & 0 & NA & NA & NA & 0 & 7 & 2006 & New & Partial & 345000 \\\\\n",
       "\t13 & 13 & 20 & RL & NA & 12968 & Pave & NA & IR2 & Lvl & AllPub & Inside & Gtl & Sawyer & Norm & Norm & 1Fam & 1Story & 5 & 6 & 1962 & 1962 & Hip & CompShg & HdBoard & Plywood & None & 0 & TA & TA & CBlock & TA & TA & No & ALQ & 737 & Unf & 0 & 175 & 912 & GasA & TA & Y & SBrkr & 912 & 0 & 0 & 912 & 1 & 0 & 1 & 0 & 2 & 1 & TA & 4 & Typ & 0 & NA & Detchd & 1962 & Unf & 1 & 352 & TA & TA & Y & 140 & 0 & 0 & 0 & 176 & 0 & NA & NA & NA & 0 & 9 & 2008 & WD & Normal & 144000 \\\\\n",
       "\t14 & 14 & 20 & RL & 91 & 10652 & Pave & NA & IR1 & Lvl & AllPub & Inside & Gtl & CollgCr & Norm & Norm & 1Fam & 1Story & 7 & 5 & 2006 & 2007 & Gable & CompShg & VinylSd & VinylSd & Stone & 306 & Gd & TA & PConc & Gd & TA & Av & Unf & 0 & Unf & 0 & 1494 & 1494 & GasA & Ex & Y & SBrkr & 1494 & 0 & 0 & 1494 & 0 & 0 & 2 & 0 & 3 & 1 & Gd & 7 & Typ & 1 & Gd & Attchd & 2006 & RFn & 3 & 840 & TA & TA & Y & 160 & 33 & 0 & 0 & 0 & 0 & NA & NA & NA & 0 & 8 & 2007 & New & Partial & 279500 \\\\\n",
       "\t15 & 15 & 20 & RL & NA & 10920 & Pave & NA & IR1 & Lvl & AllPub & Corner & Gtl & NAmes & Norm & Norm & 1Fam & 1Story & 6 & 5 & 1960 & 1960 & Hip & CompShg & MetalSd & MetalSd & BrkFace & 212 & TA & TA & CBlock & TA & TA & No & BLQ & 733 & Unf & 0 & 520 & 1253 & GasA & TA & Y & SBrkr & 1253 & 0 & 0 & 1253 & 1 & 0 & 1 & 1 & 2 & 1 & TA & 5 & Typ & 1 & Fa & Attchd & 1960 & RFn & 1 & 352 & TA & TA & Y & 0 & 213 & 176 & 0 & 0 & 0 & NA & GdWo & NA & 0 & 5 & 2008 & WD & Normal & 157000 \\\\\n",
       "\t16 & 16 & 45 & RM & 51 & 6120 & Pave & NA & Reg & Lvl & AllPub & Corner & Gtl & BrkSide & Norm & Norm & 1Fam & 1.5Unf & 7 & 8 & 1929 & 2001 & Gable & CompShg & Wd Sdng & Wd Sdng & None & 0 & TA & TA & BrkTil & TA & TA & No & Unf & 0 & Unf & 0 & 832 & 832 & GasA & Ex & Y & FuseA & 854 & 0 & 0 & 854 & 0 & 0 & 1 & 0 & 2 & 1 & TA & 5 & Typ & 0 & NA & Detchd & 1991 & Unf & 2 & 576 & TA & TA & Y & 48 & 112 & 0 & 0 & 0 & 0 & NA & GdPrv & NA & 0 & 7 & 2007 & WD & Normal & 132000 \\\\\n",
       "\t17 & 17 & 20 & RL & NA & 11241 & Pave & NA & IR1 & Lvl & AllPub & CulDSac & Gtl & NAmes & Norm & Norm & 1Fam & 1Story & 6 & 7 & 1970 & 1970 & Gable & CompShg & Wd Sdng & Wd Sdng & BrkFace & 180 & TA & TA & CBlock & TA & TA & No & ALQ & 578 & Unf & 0 & 426 & 1004 & GasA & Ex & Y & SBrkr & 1004 & 0 & 0 & 1004 & 1 & 0 & 1 & 0 & 2 & 1 & TA & 5 & Typ & 1 & TA & Attchd & 1970 & Fin & 2 & 480 & TA & TA & Y & 0 & 0 & 0 & 0 & 0 & 0 & NA & NA & Shed & 700 & 3 & 2010 & WD & Normal & 149000 \\\\\n",
       "\t18 & 18 & 90 & RL & 72 & 10791 & Pave & NA & Reg & Lvl & AllPub & Inside & Gtl & Sawyer & Norm & Norm & Duplex & 1Story & 4 & 5 & 1967 & 1967 & Gable & CompShg & MetalSd & MetalSd & None & 0 & TA & TA & Slab & NA & NA & NA & NA & 0 & NA & 0 & 0 & 0 & GasA & TA & Y & SBrkr & 1296 & 0 & 0 & 1296 & 0 & 0 & 2 & 0 & 2 & 2 & TA & 6 & Typ & 0 & NA & CarPort & 1967 & Unf & 2 & 516 & TA & TA & Y & 0 & 0 & 0 & 0 & 0 & 0 & NA & NA & Shed & 500 & 10 & 2006 & WD & Normal & 90000 \\\\\n",
       "\t19 & 19 & 20 & RL & 66 & 13695 & Pave & NA & Reg & Lvl & AllPub & Inside & Gtl & SawyerW & RRAe & Norm & 1Fam & 1Story & 5 & 5 & 2004 & 2004 & Gable & CompShg & VinylSd & VinylSd & None & 0 & TA & TA & PConc & TA & TA & No & GLQ & 646 & Unf & 0 & 468 & 1114 & GasA & Ex & Y & SBrkr & 1114 & 0 & 0 & 1114 & 1 & 0 & 1 & 1 & 3 & 1 & Gd & 6 & Typ & 0 & NA & Detchd & 2004 & Unf & 2 & 576 & TA & TA & Y & 0 & 102 & 0 & 0 & 0 & 0 & NA & NA & NA & 0 & 6 & 2008 & WD & Normal & 159000 \\\\\n",
       "\t20 & 20 & 20 & RL & 70 & 7560 & Pave & NA & Reg & Lvl & AllPub & Inside & Gtl & NAmes & Norm & Norm & 1Fam & 1Story & 5 & 6 & 1958 & 1965 & Hip & CompShg & BrkFace & Plywood & None & 0 & TA & TA & CBlock & TA & TA & No & LwQ & 504 & Unf & 0 & 525 & 1029 & GasA & TA & Y & SBrkr & 1339 & 0 & 0 & 1339 & 0 & 0 & 1 & 0 & 3 & 1 & TA & 6 & Min1 & 0 & NA & Attchd & 1958 & Unf & 1 & 294 & TA & TA & Y & 0 & 0 & 0 & 0 & 0 & 0 & NA & MnPrv & NA & 0 & 5 & 2009 & COD & Abnorml & 139000 \\\\\n",
       "\t21 & 21 & 60 & RL & 101 & 14215 & Pave & NA & IR1 & Lvl & AllPub & Corner & Gtl & NridgHt & Norm & Norm & 1Fam & 2Story & 8 & 5 & 2005 & 2006 & Gable & CompShg & VinylSd & VinylSd & BrkFace & 380 & Gd & TA & PConc & Ex & TA & Av & Unf & 0 & Unf & 0 & 1158 & 1158 & GasA & Ex & Y & SBrkr & 1158 & 1218 & 0 & 2376 & 0 & 0 & 3 & 1 & 4 & 1 & Gd & 9 & Typ & 1 & Gd & BuiltIn & 2005 & RFn & 3 & 853 & TA & TA & Y & 240 & 154 & 0 & 0 & 0 & 0 & NA & NA & NA & 0 & 11 & 2006 & New & Partial & 325300 \\\\\n",
       "\t22 & 22 & 45 & RM & 57 & 7449 & Pave & Grvl & Reg & Bnk & AllPub & Inside & Gtl & IDOTRR & Norm & Norm & 1Fam & 1.5Unf & 7 & 7 & 1930 & 1950 & Gable & CompShg & Wd Sdng & Wd Sdng & None & 0 & TA & TA & PConc & TA & TA & No & Unf & 0 & Unf & 0 & 637 & 637 & GasA & Ex & Y & FuseF & 1108 & 0 & 0 & 1108 & 0 & 0 & 1 & 0 & 3 & 1 & Gd & 6 & Typ & 1 & Gd & Attchd & 1930 & Unf & 1 & 280 & TA & TA & N & 0 & 0 & 205 & 0 & 0 & 0 & NA & GdPrv & NA & 0 & 6 & 2007 & WD & Normal & 139400 \\\\\n",
       "\t23 & 23 & 20 & RL & 75 & 9742 & Pave & NA & Reg & Lvl & AllPub & Inside & Gtl & CollgCr & Norm & Norm & 1Fam & 1Story & 8 & 5 & 2002 & 2002 & Hip & CompShg & VinylSd & VinylSd & BrkFace & 281 & Gd & TA & PConc & Gd & TA & No & Unf & 0 & Unf & 0 & 1777 & 1777 & GasA & Ex & Y & SBrkr & 1795 & 0 & 0 & 1795 & 0 & 0 & 2 & 0 & 3 & 1 & Gd & 7 & Typ & 1 & Gd & Attchd & 2002 & RFn & 2 & 534 & TA & TA & Y & 171 & 159 & 0 & 0 & 0 & 0 & NA & NA & NA & 0 & 9 & 2008 & WD & Normal & 230000 \\\\\n",
       "\t24 & 24 & 120 & RM & 44 & 4224 & Pave & NA & Reg & Lvl & AllPub & Inside & Gtl & MeadowV & Norm & Norm & TwnhsE & 1Story & 5 & 7 & 1976 & 1976 & Gable & CompShg & CemntBd & CmentBd & None & 0 & TA & TA & PConc & Gd & TA & No & GLQ & 840 & Unf & 0 & 200 & 1040 & GasA & TA & Y & SBrkr & 1060 & 0 & 0 & 1060 & 1 & 0 & 1 & 0 & 3 & 1 & TA & 6 & Typ & 1 & TA & Attchd & 1976 & Unf & 2 & 572 & TA & TA & Y & 100 & 110 & 0 & 0 & 0 & 0 & NA & NA & NA & 0 & 6 & 2007 & WD & Normal & 129900 \\\\\n",
       "\t25 & 25 & 20 & RL & NA & 8246 & Pave & NA & IR1 & Lvl & AllPub & Inside & Gtl & Sawyer & Norm & Norm & 1Fam & 1Story & 5 & 8 & 1968 & 2001 & Gable & CompShg & Plywood & Plywood & None & 0 & TA & Gd & CBlock & TA & TA & Mn & Rec & 188 & ALQ & 668 & 204 & 1060 & GasA & Ex & Y & SBrkr & 1060 & 0 & 0 & 1060 & 1 & 0 & 1 & 0 & 3 & 1 & Gd & 6 & Typ & 1 & TA & Attchd & 1968 & Unf & 1 & 270 & TA & TA & Y & 406 & 90 & 0 & 0 & 0 & 0 & NA & MnPrv & NA & 0 & 5 & 2010 & WD & Normal & 154000 \\\\\n",
       "\t26 & 26 & 20 & RL & 110 & 14230 & Pave & NA & Reg & Lvl & AllPub & Corner & Gtl & NridgHt & Norm & Norm & 1Fam & 1Story & 8 & 5 & 2007 & 2007 & Gable & CompShg & VinylSd & VinylSd & Stone & 640 & Gd & TA & PConc & Gd & TA & No & Unf & 0 & Unf & 0 & 1566 & 1566 & GasA & Ex & Y & SBrkr & 1600 & 0 & 0 & 1600 & 0 & 0 & 2 & 0 & 3 & 1 & Gd & 7 & Typ & 1 & Gd & Attchd & 2007 & RFn & 3 & 890 & TA & TA & Y & 0 & 56 & 0 & 0 & 0 & 0 & NA & NA & NA & 0 & 7 & 2009 & WD & Normal & 256300 \\\\\n",
       "\t27 & 27 & 20 & RL & 60 & 7200 & Pave & NA & Reg & Lvl & AllPub & Corner & Gtl & NAmes & Norm & Norm & 1Fam & 1Story & 5 & 7 & 1951 & 2000 & Gable & CompShg & Wd Sdng & Wd Sdng & None & 0 & TA & TA & CBlock & TA & TA & Mn & BLQ & 234 & Rec & 486 & 180 & 900 & GasA & TA & Y & SBrkr & 900 & 0 & 0 & 900 & 0 & 1 & 1 & 0 & 3 & 1 & Gd & 5 & Typ & 0 & NA & Detchd & 2005 & Unf & 2 & 576 & TA & TA & Y & 222 & 32 & 0 & 0 & 0 & 0 & NA & NA & NA & 0 & 5 & 2010 & WD & Normal & 134800 \\\\\n",
       "\t28 & 28 & 20 & RL & 98 & 11478 & Pave & NA & Reg & Lvl & AllPub & Inside & Gtl & NridgHt & Norm & Norm & 1Fam & 1Story & 8 & 5 & 2007 & 2008 & Gable & CompShg & VinylSd & VinylSd & Stone & 200 & Gd & TA & PConc & Ex & TA & No & GLQ & 1218 & Unf & 0 & 486 & 1704 & GasA & Ex & Y & SBrkr & 1704 & 0 & 0 & 1704 & 1 & 0 & 2 & 0 & 3 & 1 & Gd & 7 & Typ & 1 & Gd & Attchd & 2008 & RFn & 3 & 772 & TA & TA & Y & 0 & 50 & 0 & 0 & 0 & 0 & NA & NA & NA & 0 & 5 & 2010 & WD & Normal & 306000 \\\\\n",
       "\t29 & 29 & 20 & RL & 47 & 16321 & Pave & NA & IR1 & Lvl & AllPub & CulDSac & Gtl & NAmes & Norm & Norm & 1Fam & 1Story & 5 & 6 & 1957 & 1997 & Gable & CompShg & MetalSd & MetalSd & None & 0 & TA & TA & CBlock & TA & TA & Gd & BLQ & 1277 & Unf & 0 & 207 & 1484 & GasA & TA & Y & SBrkr & 1600 & 0 & 0 & 1600 & 1 & 0 & 1 & 0 & 2 & 1 & TA & 6 & Typ & 2 & Gd & Attchd & 1957 & RFn & 1 & 319 & TA & TA & Y & 288 & 258 & 0 & 0 & 0 & 0 & NA & NA & NA & 0 & 12 & 2006 & WD & Normal & 207500 \\\\\n",
       "\t30 & 30 & 30 & RM & 60 & 6324 & Pave & NA & IR1 & Lvl & AllPub & Inside & Gtl & BrkSide & Feedr & RRNn & 1Fam & 1Story & 4 & 6 & 1927 & 1950 & Gable & CompShg & MetalSd & MetalSd & None & 0 & TA & TA & BrkTil & TA & TA & No & Unf & 0 & Unf & 0 & 520 & 520 & GasA & Fa & N & SBrkr & 520 & 0 & 0 & 520 & 0 & 0 & 1 & 0 & 1 & 1 & Fa & 4 & Typ & 0 & NA & Detchd & 1920 & Unf & 1 & 240 & Fa & TA & Y & 49 & 0 & 87 & 0 & 0 & 0 & NA & NA & NA & 0 & 5 & 2008 & WD & Normal & 68500 \\\\\n",
       "\t$\\dots$ & $\\dots$ & $\\dots$ & $\\dots$ & $\\dots$ & $\\dots$ & $\\dots$ & $\\dots$ & $\\dots$ & $\\dots$ & $\\dots$ & $\\dots$ & $\\dots$ & $\\dots$ & $\\dots$ & $\\dots$ & $\\dots$ & $\\dots$ & $\\dots$ & $\\dots$ & $\\dots$ & $\\dots$ & $\\dots$ & $\\dots$ & $\\dots$ & $\\dots$ & $\\dots$ & $\\dots$ & $\\dots$ & $\\dots$ & $\\dots$ & $\\dots$ & $\\dots$ & $\\dots$ & $\\dots$ & $\\dots$ & $\\dots$ & $\\dots$ & $\\dots$ & $\\dots$ & $\\dots$ & $\\dots$ & $\\dots$ & $\\dots$ & $\\dots$ & $\\dots$ & $\\dots$ & $\\dots$ & $\\dots$ & $\\dots$ & $\\dots$ & $\\dots$ & $\\dots$ & $\\dots$ & $\\dots$ & $\\dots$ & $\\dots$ & $\\dots$ & $\\dots$ & $\\dots$ & $\\dots$ & $\\dots$ & $\\dots$ & $\\dots$ & $\\dots$ & $\\dots$ & $\\dots$ & $\\dots$ & $\\dots$ & $\\dots$ & $\\dots$ & $\\dots$ & $\\dots$ & $\\dots$ & $\\dots$ & $\\dots$ & $\\dots$ & $\\dots$ & $\\dots$ & $\\dots$ & $\\dots$ & $\\dots$ \\\\\n",
       "\\end{tabular}\n"
      ],
      "text/plain": [
       "1460×81 DataFrame. Omitted printing of 75 columns\n",
       "│ Row  │ Id     │ MSSubClass │ MSZoning │ LotFrontage │ LotArea │ Street  │\n",
       "│      │ \u001b[90mInt64⍰\u001b[39m │ \u001b[90mInt64⍰\u001b[39m     │ \u001b[90mString⍰\u001b[39m  │ \u001b[90mString⍰\u001b[39m     │ \u001b[90mInt64⍰\u001b[39m  │ \u001b[90mString⍰\u001b[39m │\n",
       "├──────┼────────┼────────────┼──────────┼─────────────┼─────────┼─────────┤\n",
       "│ 1    │ 1      │ 60         │ RL       │ 65          │ 8450    │ Pave    │\n",
       "│ 2    │ 2      │ 20         │ RL       │ 80          │ 9600    │ Pave    │\n",
       "│ 3    │ 3      │ 60         │ RL       │ 68          │ 11250   │ Pave    │\n",
       "│ 4    │ 4      │ 70         │ RL       │ 60          │ 9550    │ Pave    │\n",
       "│ 5    │ 5      │ 60         │ RL       │ 84          │ 14260   │ Pave    │\n",
       "│ 6    │ 6      │ 50         │ RL       │ 85          │ 14115   │ Pave    │\n",
       "│ 7    │ 7      │ 20         │ RL       │ 75          │ 10084   │ Pave    │\n",
       "│ 8    │ 8      │ 60         │ RL       │ NA          │ 10382   │ Pave    │\n",
       "│ 9    │ 9      │ 50         │ RM       │ 51          │ 6120    │ Pave    │\n",
       "│ 10   │ 10     │ 190        │ RL       │ 50          │ 7420    │ Pave    │\n",
       "⋮\n",
       "│ 1450 │ 1450   │ 180        │ RM       │ 21          │ 1533    │ Pave    │\n",
       "│ 1451 │ 1451   │ 90         │ RL       │ 60          │ 9000    │ Pave    │\n",
       "│ 1452 │ 1452   │ 20         │ RL       │ 78          │ 9262    │ Pave    │\n",
       "│ 1453 │ 1453   │ 180        │ RM       │ 35          │ 3675    │ Pave    │\n",
       "│ 1454 │ 1454   │ 20         │ RL       │ 90          │ 17217   │ Pave    │\n",
       "│ 1455 │ 1455   │ 20         │ FV       │ 62          │ 7500    │ Pave    │\n",
       "│ 1456 │ 1456   │ 60         │ RL       │ 62          │ 7917    │ Pave    │\n",
       "│ 1457 │ 1457   │ 20         │ RL       │ 85          │ 13175   │ Pave    │\n",
       "│ 1458 │ 1458   │ 70         │ RL       │ 66          │ 9042    │ Pave    │\n",
       "│ 1459 │ 1459   │ 20         │ RL       │ 68          │ 9717    │ Pave    │\n",
       "│ 1460 │ 1460   │ 20         │ RL       │ 75          │ 9937    │ Pave    │"
      ]
     },
     "execution_count": 43,
     "metadata": {},
     "output_type": "execute_result"
    }
   ],
   "source": [
    "# Load Data\n",
    "housing_df = CSV.read(\"C:\\\\Users\\\\marqu\\\\OneDrive\\\\Documents\\\\Kaggle\\\\House Prices Advanced Regression Techniques\\\\Data\\\\train.csv\")\n"
   ]
  },
  {
   "cell_type": "code",
   "execution_count": 49,
   "metadata": {},
   "outputs": [
    {
     "data": {
      "text/plain": [
       "(1460, 81)"
      ]
     },
     "execution_count": 49,
     "metadata": {},
     "output_type": "execute_result"
    }
   ],
   "source": [
    "typeof(housing_df)\n",
    "size(housing_df)\n",
    "#remove(housing) # DELETE HOUSING"
   ]
  },
  {
   "cell_type": "code",
   "execution_count": 55,
   "metadata": {},
   "outputs": [
    {
     "data": {
      "text/html": [
       "<table class=\"data-frame\"><thead><tr><th></th><th>variable</th><th>mean</th><th>min</th><th>median</th><th>max</th><th>nunique</th><th>nmissing</th><th>eltype</th></tr><tr><th></th><th>Symbol</th><th>Union…</th><th>Any</th><th>Union…</th><th>Any</th><th>Union…</th><th>Int64</th><th>DataType</th></tr></thead><tbody><p>81 rows × 8 columns</p><tr><th>1</th><td>Id</td><td>730.5</td><td>1</td><td>730.5</td><td>1460</td><td></td><td>0</td><td>Int64</td></tr><tr><th>2</th><td>MSSubClass</td><td>56.8973</td><td>20</td><td>50.0</td><td>190</td><td></td><td>0</td><td>Int64</td></tr><tr><th>3</th><td>MSZoning</td><td></td><td>C (all)</td><td></td><td>RM</td><td>5</td><td>0</td><td>String</td></tr><tr><th>4</th><td>LotFrontage</td><td></td><td>100</td><td></td><td>NA</td><td>111</td><td>0</td><td>String</td></tr><tr><th>5</th><td>LotArea</td><td>10516.8</td><td>1300</td><td>9478.5</td><td>215245</td><td></td><td>0</td><td>Int64</td></tr><tr><th>6</th><td>Street</td><td></td><td>Grvl</td><td></td><td>Pave</td><td>2</td><td>0</td><td>String</td></tr><tr><th>7</th><td>Alley</td><td></td><td>Grvl</td><td></td><td>Pave</td><td>3</td><td>0</td><td>String</td></tr><tr><th>8</th><td>LotShape</td><td></td><td>IR1</td><td></td><td>Reg</td><td>4</td><td>0</td><td>String</td></tr><tr><th>9</th><td>LandContour</td><td></td><td>Bnk</td><td></td><td>Lvl</td><td>4</td><td>0</td><td>String</td></tr><tr><th>10</th><td>Utilities</td><td></td><td>AllPub</td><td></td><td>NoSeWa</td><td>2</td><td>0</td><td>String</td></tr><tr><th>11</th><td>LotConfig</td><td></td><td>Corner</td><td></td><td>Inside</td><td>5</td><td>0</td><td>String</td></tr><tr><th>12</th><td>LandSlope</td><td></td><td>Gtl</td><td></td><td>Sev</td><td>3</td><td>0</td><td>String</td></tr><tr><th>13</th><td>Neighborhood</td><td></td><td>Blmngtn</td><td></td><td>Veenker</td><td>25</td><td>0</td><td>String</td></tr><tr><th>14</th><td>Condition1</td><td></td><td>Artery</td><td></td><td>RRNn</td><td>9</td><td>0</td><td>String</td></tr><tr><th>15</th><td>Condition2</td><td></td><td>Artery</td><td></td><td>RRNn</td><td>8</td><td>0</td><td>String</td></tr><tr><th>16</th><td>BldgType</td><td></td><td>1Fam</td><td></td><td>TwnhsE</td><td>5</td><td>0</td><td>String</td></tr><tr><th>17</th><td>HouseStyle</td><td></td><td>1.5Fin</td><td></td><td>SLvl</td><td>8</td><td>0</td><td>String</td></tr><tr><th>18</th><td>OverallQual</td><td>6.09932</td><td>1</td><td>6.0</td><td>10</td><td></td><td>0</td><td>Int64</td></tr><tr><th>19</th><td>OverallCond</td><td>5.57534</td><td>1</td><td>5.0</td><td>9</td><td></td><td>0</td><td>Int64</td></tr><tr><th>20</th><td>YearBuilt</td><td>1971.27</td><td>1872</td><td>1973.0</td><td>2010</td><td></td><td>0</td><td>Int64</td></tr><tr><th>21</th><td>YearRemodAdd</td><td>1984.87</td><td>1950</td><td>1994.0</td><td>2010</td><td></td><td>0</td><td>Int64</td></tr><tr><th>22</th><td>RoofStyle</td><td></td><td>Flat</td><td></td><td>Shed</td><td>6</td><td>0</td><td>String</td></tr><tr><th>23</th><td>RoofMatl</td><td></td><td>ClyTile</td><td></td><td>WdShngl</td><td>8</td><td>0</td><td>String</td></tr><tr><th>24</th><td>Exterior1st</td><td></td><td>AsbShng</td><td></td><td>WdShing</td><td>15</td><td>0</td><td>String</td></tr><tr><th>25</th><td>Exterior2nd</td><td></td><td>AsbShng</td><td></td><td>Wd Shng</td><td>16</td><td>0</td><td>String</td></tr><tr><th>26</th><td>MasVnrType</td><td></td><td>BrkCmn</td><td></td><td>Stone</td><td>5</td><td>0</td><td>String</td></tr><tr><th>27</th><td>MasVnrArea</td><td></td><td>0</td><td></td><td>NA</td><td>328</td><td>0</td><td>String</td></tr><tr><th>28</th><td>ExterQual</td><td></td><td>Ex</td><td></td><td>TA</td><td>4</td><td>0</td><td>String</td></tr><tr><th>29</th><td>ExterCond</td><td></td><td>Ex</td><td></td><td>TA</td><td>5</td><td>0</td><td>String</td></tr><tr><th>30</th><td>Foundation</td><td></td><td>BrkTil</td><td></td><td>Wood</td><td>6</td><td>0</td><td>String</td></tr><tr><th>&vellip;</th><td>&vellip;</td><td>&vellip;</td><td>&vellip;</td><td>&vellip;</td><td>&vellip;</td><td>&vellip;</td><td>&vellip;</td><td>&vellip;</td></tr></tbody></table>"
      ],
      "text/latex": [
       "\\begin{tabular}{r|cccccccc}\n",
       "\t& variable & mean & min & median & max & nunique & nmissing & eltype\\\\\n",
       "\t\\hline\n",
       "\t& Symbol & Union… & Any & Union… & Any & Union… & Int64 & DataType\\\\\n",
       "\t\\hline\n",
       "\t1 & Id & 730.5 & 1 & 730.5 & 1460 &  & 0 & Int64 \\\\\n",
       "\t2 & MSSubClass & 56.8973 & 20 & 50.0 & 190 &  & 0 & Int64 \\\\\n",
       "\t3 & MSZoning &  & C (all) &  & RM & 5 & 0 & String \\\\\n",
       "\t4 & LotFrontage &  & 100 &  & NA & 111 & 0 & String \\\\\n",
       "\t5 & LotArea & 10516.8 & 1300 & 9478.5 & 215245 &  & 0 & Int64 \\\\\n",
       "\t6 & Street &  & Grvl &  & Pave & 2 & 0 & String \\\\\n",
       "\t7 & Alley &  & Grvl &  & Pave & 3 & 0 & String \\\\\n",
       "\t8 & LotShape &  & IR1 &  & Reg & 4 & 0 & String \\\\\n",
       "\t9 & LandContour &  & Bnk &  & Lvl & 4 & 0 & String \\\\\n",
       "\t10 & Utilities &  & AllPub &  & NoSeWa & 2 & 0 & String \\\\\n",
       "\t11 & LotConfig &  & Corner &  & Inside & 5 & 0 & String \\\\\n",
       "\t12 & LandSlope &  & Gtl &  & Sev & 3 & 0 & String \\\\\n",
       "\t13 & Neighborhood &  & Blmngtn &  & Veenker & 25 & 0 & String \\\\\n",
       "\t14 & Condition1 &  & Artery &  & RRNn & 9 & 0 & String \\\\\n",
       "\t15 & Condition2 &  & Artery &  & RRNn & 8 & 0 & String \\\\\n",
       "\t16 & BldgType &  & 1Fam &  & TwnhsE & 5 & 0 & String \\\\\n",
       "\t17 & HouseStyle &  & 1.5Fin &  & SLvl & 8 & 0 & String \\\\\n",
       "\t18 & OverallQual & 6.09932 & 1 & 6.0 & 10 &  & 0 & Int64 \\\\\n",
       "\t19 & OverallCond & 5.57534 & 1 & 5.0 & 9 &  & 0 & Int64 \\\\\n",
       "\t20 & YearBuilt & 1971.27 & 1872 & 1973.0 & 2010 &  & 0 & Int64 \\\\\n",
       "\t21 & YearRemodAdd & 1984.87 & 1950 & 1994.0 & 2010 &  & 0 & Int64 \\\\\n",
       "\t22 & RoofStyle &  & Flat &  & Shed & 6 & 0 & String \\\\\n",
       "\t23 & RoofMatl &  & ClyTile &  & WdShngl & 8 & 0 & String \\\\\n",
       "\t24 & Exterior1st &  & AsbShng &  & WdShing & 15 & 0 & String \\\\\n",
       "\t25 & Exterior2nd &  & AsbShng &  & Wd Shng & 16 & 0 & String \\\\\n",
       "\t26 & MasVnrType &  & BrkCmn &  & Stone & 5 & 0 & String \\\\\n",
       "\t27 & MasVnrArea &  & 0 &  & NA & 328 & 0 & String \\\\\n",
       "\t28 & ExterQual &  & Ex &  & TA & 4 & 0 & String \\\\\n",
       "\t29 & ExterCond &  & Ex &  & TA & 5 & 0 & String \\\\\n",
       "\t30 & Foundation &  & BrkTil &  & Wood & 6 & 0 & String \\\\\n",
       "\t$\\dots$ & $\\dots$ & $\\dots$ & $\\dots$ & $\\dots$ & $\\dots$ & $\\dots$ & $\\dots$ & $\\dots$ \\\\\n",
       "\\end{tabular}\n"
      ],
      "text/plain": [
       "81×8 DataFrame. Omitted printing of 2 columns\n",
       "│ Row │ variable      │ mean      │ min     │ median   │ max     │ nunique │\n",
       "│     │ \u001b[90mSymbol\u001b[39m        │ \u001b[90mUnion…\u001b[39m    │ \u001b[90mAny\u001b[39m     │ \u001b[90mUnion…\u001b[39m   │ \u001b[90mAny\u001b[39m     │ \u001b[90mUnion…\u001b[39m  │\n",
       "├─────┼───────────────┼───────────┼─────────┼──────────┼─────────┼─────────┤\n",
       "│ 1   │ Id            │ 730.5     │ 1       │ 730.5    │ 1460    │         │\n",
       "│ 2   │ MSSubClass    │ 56.8973   │ 20      │ 50.0     │ 190     │         │\n",
       "│ 3   │ MSZoning      │           │ C (all) │          │ RM      │ 5       │\n",
       "│ 4   │ LotFrontage   │           │ 100     │          │ NA      │ 111     │\n",
       "│ 5   │ LotArea       │ 10516.8   │ 1300    │ 9478.5   │ 215245  │         │\n",
       "│ 6   │ Street        │           │ Grvl    │          │ Pave    │ 2       │\n",
       "│ 7   │ Alley         │           │ Grvl    │          │ Pave    │ 3       │\n",
       "│ 8   │ LotShape      │           │ IR1     │          │ Reg     │ 4       │\n",
       "│ 9   │ LandContour   │           │ Bnk     │          │ Lvl     │ 4       │\n",
       "│ 10  │ Utilities     │           │ AllPub  │          │ NoSeWa  │ 2       │\n",
       "⋮\n",
       "│ 71  │ ScreenPorch   │ 15.061    │ 0       │ 0.0      │ 480     │         │\n",
       "│ 72  │ PoolArea      │ 2.7589    │ 0       │ 0.0      │ 738     │         │\n",
       "│ 73  │ PoolQC        │           │ Ex      │          │ NA      │ 4       │\n",
       "│ 74  │ Fence         │           │ GdPrv   │          │ NA      │ 5       │\n",
       "│ 75  │ MiscFeature   │           │ Gar2    │          │ TenC    │ 5       │\n",
       "│ 76  │ MiscVal       │ 43.489    │ 0       │ 0.0      │ 15500   │         │\n",
       "│ 77  │ MoSold        │ 6.32192   │ 1       │ 6.0      │ 12      │         │\n",
       "│ 78  │ YrSold        │ 2007.82   │ 2006    │ 2008.0   │ 2010    │         │\n",
       "│ 79  │ SaleType      │           │ COD     │          │ WD      │ 9       │\n",
       "│ 80  │ SaleCondition │           │ Abnorml │          │ Partial │ 6       │\n",
       "│ 81  │ SalePrice     │ 1.80921e5 │ 34900   │ 163000.0 │ 755000  │         │"
      ]
     },
     "execution_count": 55,
     "metadata": {},
     "output_type": "execute_result"
    }
   ],
   "source": [
    "describe(housing_df)"
   ]
  },
  {
   "cell_type": "code",
   "execution_count": 56,
   "metadata": {},
   "outputs": [
    {
     "ename": "MethodError",
     "evalue": "SYSTEM: show(lasterr) caused an error",
     "output_type": "error",
     "traceback": [
      "SYSTEM: show(lasterr) caused an error",
      "",
      "Stacktrace:",
      " [1] top-level scope at In[56]:1"
     ]
    }
   ],
   "source": [
    "missing(housing_df)"
   ]
  },
  {
   "cell_type": "code",
   "execution_count": 50,
   "metadata": {},
   "outputs": [
    {
     "data": {
      "text/plain": [
       "730-element Array{Union{Missing, Int64},1}:\n",
       " 208500\n",
       " 223500\n",
       " 250000\n",
       " 307000\n",
       " 129900\n",
       " 129500\n",
       " 144000\n",
       " 157000\n",
       " 149000\n",
       " 159000\n",
       " 325300\n",
       " 230000\n",
       " 154000\n",
       "      ⋮\n",
       " 120500\n",
       " 149700\n",
       " 191000\n",
       " 310000\n",
       " 179600\n",
       " 157900\n",
       " 112000\n",
       " 136000\n",
       " 145000\n",
       " 185000\n",
       " 210000\n",
       " 142125"
      ]
     },
     "execution_count": 50,
     "metadata": {},
     "output_type": "execute_result"
    }
   ],
   "source": [
    "# split half to training set. 5.1  3.5  1.4  0.2\n",
    "# Array{Union{T, Missing}}\n",
    "Xtr = Array(Matrix(housing_df[1:2:end,1:80]))' \n",
    "Xtr_labels = Array(housing_df[1:2:end,81])"
   ]
  },
  {
   "cell_type": "code",
   "execution_count": 51,
   "metadata": {},
   "outputs": [
    {
     "data": {
      "text/plain": [
       "Array{Union{Missing, Int64},1}"
      ]
     },
     "execution_count": 51,
     "metadata": {},
     "output_type": "execute_result"
    }
   ],
   "source": [
    "typeof(Xtr) # LinearAlgebra.Adjoint{Float64,Array{Float64,2}}\n",
    "typeof(Xtr_labels) # Array{String,1}"
   ]
  },
  {
   "cell_type": "code",
   "execution_count": 54,
   "metadata": {},
   "outputs": [
    {
     "ename": "MethodError",
     "evalue": "MethodError: no method matching adjoint(::String)\nClosest candidates are:\n  adjoint(!Matched::Missing) at missing.jl:79\n  adjoint(!Matched::Number) at number.jl:193\n  adjoint(!Matched::LinearAlgebra.Adjoint{#s162,#s161} where #s161<:Union{StaticArray{Tuple{N},T,1} where T where N, StaticArray{Tuple{N,M},T,2} where T where M where N} where #s162) at C:\\Users\\marqu\\.julia\\packages\\StaticArrays\\3KEjZ\\src\\linalg.jl:78\n  ...",
     "output_type": "error",
     "traceback": [
      "MethodError: no method matching adjoint(::String)\nClosest candidates are:\n  adjoint(!Matched::Missing) at missing.jl:79\n  adjoint(!Matched::Number) at number.jl:193\n  adjoint(!Matched::LinearAlgebra.Adjoint{#s162,#s161} where #s161<:Union{StaticArray{Tuple{N},T,1} where T where N, StaticArray{Tuple{N,M},T,2} where T where M where N} where #s162) at C:\\Users\\marqu\\.julia\\packages\\StaticArrays\\3KEjZ\\src\\linalg.jl:78\n  ...",
      "",
      "Stacktrace:",
      " [1] isassigned(::LinearAlgebra.Adjoint{Any,Array{Any,2}}, ::Int64, ::Int64) at C:\\cygwin\\home\\Administrator\\buildbot\\worker\\package_win64\\build\\usr\\share\\julia\\stdlib\\v1.0\\LinearAlgebra\\src\\adjtrans.jl:130",
      " [2] alignment(::IOContext{Base.GenericIOBuffer{Array{UInt8,1}}}, ::LinearAlgebra.Adjoint{Any,Array{Any,2}}, ::Array{Int64,1}, ::Array{Int64,1}, ::Int64, ::Int64, ::Int64) at .\\arrayshow.jl:67",
      " [3] print_matrix(::IOContext{Base.GenericIOBuffer{Array{UInt8,1}}}, ::LinearAlgebra.Adjoint{Any,Array{Any,2}}, ::String, ::String, ::String, ::String, ::String, ::String, ::Int64, ::Int64) at .\\arrayshow.jl:186",
      " [4] print_matrix at .\\arrayshow.jl:159 [inlined]",
      " [5] print_array at .\\arrayshow.jl:308 [inlined]",
      " [6] show(::IOContext{Base.GenericIOBuffer{Array{UInt8,1}}}, ::MIME{Symbol(\"text/plain\")}, ::LinearAlgebra.Adjoint{Any,Array{Any,2}}) at .\\arrayshow.jl:345",
      " [7] limitstringmime(::MIME{Symbol(\"text/plain\")}, ::LinearAlgebra.Adjoint{Any,Array{Any,2}}) at C:\\Users\\marqu\\.julia\\packages\\IJulia\\fjEtl\\src\\inline.jl:37",
      " [8] display_mimestring(::MIME{Symbol(\"text/plain\")}, ::LinearAlgebra.Adjoint{Any,Array{Any,2}}) at C:\\Users\\marqu\\.julia\\packages\\IJulia\\fjEtl\\src\\display.jl:66",
      " [9] display_dict(::LinearAlgebra.Adjoint{Any,Array{Any,2}}) at C:\\Users\\marqu\\.julia\\packages\\IJulia\\fjEtl\\src\\display.jl:95",
      " [10] #invokelatest#1 at .\\essentials.jl:697 [inlined]",
      " [11] invokelatest at .\\essentials.jl:696 [inlined]",
      " [12] execute_request(::ZMQ.Socket, ::IJulia.Msg) at C:\\Users\\marqu\\.julia\\packages\\IJulia\\fjEtl\\src\\execute_request.jl:97",
      " [13] #invokelatest#1 at .\\essentials.jl:697 [inlined]",
      " [14] invokelatest at .\\essentials.jl:696 [inlined]",
      " [15] eventloop(::ZMQ.Socket) at C:\\Users\\marqu\\.julia\\packages\\IJulia\\fjEtl\\src\\eventloop.jl:8",
      " [16] (::getfield(IJulia, Symbol(\"##15#18\")))() at .\\task.jl:259"
     ]
    }
   ],
   "source": [
    "# split other half to testing set\n",
    "Xte = Array(Matrix(housing_df[2:2:end,1:80]))'\n",
    "#Xte_labels = Array(iris[2:2:end,81])"
   ]
  },
  {
   "cell_type": "code",
   "execution_count": 26,
   "metadata": {},
   "outputs": [
    {
     "data": {
      "text/plain": [
       "Array{String,1}"
      ]
     },
     "execution_count": 26,
     "metadata": {},
     "output_type": "execute_result"
    }
   ],
   "source": [
    "typeof(Xte) # LinearAlgebra.Adjoint{Float64,Array{Float64,2}}\n",
    "typeof(Xte_labels) # Array{String,1}"
   ]
  },
  {
   "cell_type": "code",
   "execution_count": 27,
   "metadata": {},
   "outputs": [
    {
     "data": {
      "text/plain": [
       "PCA(indim = 4, outdim = 3, principalratio = 0.99573)"
      ]
     },
     "execution_count": 27,
     "metadata": {},
     "output_type": "execute_result"
    }
   ],
   "source": [
    "# suppose Xtr and Xte are training and testing data matrix,\n",
    "# with each observation in a column\n",
    "\n",
    "# train a PCA model, allowing up to 3 dimensions\n",
    "M = fit(PCA, Xtr; maxoutdim=3)"
   ]
  },
  {
   "cell_type": "code",
   "execution_count": 28,
   "metadata": {},
   "outputs": [
    {
     "data": {
      "text/plain": [
       "PCA{Float64}"
      ]
     },
     "execution_count": 28,
     "metadata": {},
     "output_type": "execute_result"
    }
   ],
   "source": [
    "typeof(M)"
   ]
  },
  {
   "cell_type": "code",
   "execution_count": 30,
   "metadata": {},
   "outputs": [
    {
     "data": {
      "text/plain": [
       "3×75 Array{Float64,2}:\n",
       "  2.72714    2.75491    2.32396   …  -1.92047   -1.74161   -1.37706 \n",
       " -0.230916  -0.406149   0.646374      0.246554   0.127625  -0.280295\n",
       " -0.253119  -0.0271266  0.230469      0.180044   0.123165   0.314992"
      ]
     },
     "execution_count": 30,
     "metadata": {},
     "output_type": "execute_result"
    }
   ],
   "source": [
    "# apply PCA model to testing set\n",
    "Yte = transform(M, Xte)"
   ]
  },
  {
   "cell_type": "code",
   "execution_count": 31,
   "metadata": {},
   "outputs": [
    {
     "data": {
      "text/plain": [
       "Array{Float64,2}"
      ]
     },
     "execution_count": 31,
     "metadata": {},
     "output_type": "execute_result"
    }
   ],
   "source": [
    "typeof(Yte)"
   ]
  },
  {
   "cell_type": "code",
   "execution_count": 33,
   "metadata": {},
   "outputs": [
    {
     "data": {
      "text/plain": [
       "4×75 Array{Float64,2}:\n",
       " 4.86449  4.61087   5.40782   5.00775   …  6.79346  6.58825  6.46774  5.94384\n",
       " 3.04262  3.08695   3.89061   3.39069      3.20785  3.13416  3.03873  2.94737\n",
       " 1.46099  1.48132   1.68656   1.48668      5.91124  5.39197  5.25542  5.02469\n",
       " 0.10362  0.229519  0.421233  0.221041     2.28224  1.99665  1.91243  1.91901"
      ]
     },
     "execution_count": 33,
     "metadata": {},
     "output_type": "execute_result"
    }
   ],
   "source": [
    "# reconstruct testing observations (approximately)\n",
    "Xr = reconstruct(M, Yte)"
   ]
  },
  {
   "cell_type": "code",
   "execution_count": 34,
   "metadata": {},
   "outputs": [
    {
     "data": {
      "text/plain": [
       "Array{Float64,2}"
      ]
     },
     "execution_count": 34,
     "metadata": {},
     "output_type": "execute_result"
    }
   ],
   "source": [
    "typeof(Xr)"
   ]
  },
  {
   "cell_type": "code",
   "execution_count": 35,
   "metadata": {},
   "outputs": [
    {
     "data": {
      "text/plain": [
       "3×25 Array{Float64,2}:\n",
       " -1.4126    -1.95359   -3.35517   …  -1.92047   -1.74161   -1.37706 \n",
       " -0.556727  -0.133821   0.692925      0.246554   0.127625  -0.280295\n",
       "  0.214115   0.075898  -0.293002      0.180044   0.123165   0.314992"
      ]
     },
     "execution_count": 35,
     "metadata": {},
     "output_type": "execute_result"
    }
   ],
   "source": [
    "# group results by testing set labels for color coding\n",
    "setosa = Yte[:,Xte_labels.==\"setosa\"]\n",
    "versicolor = Yte[:,Xte_labels.==\"versicolor\"]\n",
    "virginica = Yte[:,Xte_labels.==\"virginica\"]"
   ]
  },
  {
   "cell_type": "code",
   "execution_count": 37,
   "metadata": {},
   "outputs": [
    {
     "data": {
      "text/plain": [
       "Array{Float64,2}"
      ]
     },
     "execution_count": 37,
     "metadata": {},
     "output_type": "execute_result"
    }
   ],
   "source": [
    "typeof(setosa)"
   ]
  },
  {
   "cell_type": "code",
   "execution_count": 38,
   "metadata": {},
   "outputs": [
    {
     "data": {
      "text/html": [
       "    <script type=\"text/javascript\">\n",
       "        requirejs([\"https://cdn.plot.ly/plotly-latest.min.js\"], function(p) {\n",
       "            window.Plotly = p\n",
       "        });\n",
       "    </script>\n"
      ]
     },
     "metadata": {},
     "output_type": "display_data"
    },
    {
     "data": {
      "application/vnd.plotly.v1+json": {
       "data": [
        {
         "colorbar": {
          "title": ""
         },
         "hoverinfo": "text",
         "legendgroup": "y1",
         "marker": {
          "color": "rgba(0, 154, 250, 1.000)",
          "line": {
           "color": "rgba(0, 0, 0, 1.000)",
           "width": 1
          },
          "size": 8,
          "symbol": "circle"
         },
         "mode": "markers",
         "name": "y1",
         "showlegend": true,
         "text": [
          null,
          null,
          null,
          null,
          null,
          null,
          null,
          null,
          null,
          null,
          null,
          null,
          null,
          null,
          null,
          null,
          null,
          null,
          null,
          null,
          null,
          null,
          null,
          null,
          null
         ],
         "type": "scatter3d",
         "x": [
          2.7271370229910716,
          2.754914126352502,
          2.323960273923084,
          2.651054412942388,
          2.689168203630764,
          2.633674661206393,
          3.2263809526967275,
          2.447743893623693,
          2.676766823053665,
          2.6239074375368103,
          2.5761164255318683,
          2.3239053049480325,
          2.521427320445945,
          2.5936411485959314,
          2.6459310704554233,
          2.4406458602395915,
          2.6535985674968874,
          2.8864002764725405,
          2.829762111410005,
          2.6168643731277608,
          2.8360651099130982,
          2.428964609971362,
          2.7245028660835553,
          2.85164077300055,
          2.725847429024839
         ],
         "xaxis": "x1",
         "y": [
          -0.23091552150748468,
          -0.40614908940640493,
          0.6463738633842837,
          0.08281441013246736,
          -0.17410970550165597,
          -0.08251829646713302,
          -0.6143053394542858,
          1.223915589193648,
          0.22849233585806983,
          0.40393281924396146,
          0.3299846061919126,
          0.029168718615310663,
          -0.19110516082323564,
          0.2951990131632182,
          -0.285002038198564,
          0.3596871900898708,
          0.9839869288811033,
          0.005853014316387279,
          0.1640041589314179,
          0.15690956490915708,
          -0.9692677174842982,
          0.09085062826490437,
          -0.3147645958588534,
          -0.3248123988828137,
          0.035762513701317
         ],
         "yaxis": "y1",
         "z": [
          -0.2531186297819421,
          -0.027126589264421477,
          0.23046868160032025,
          -0.02528530746891057,
          -0.23150687337431883,
          0.08209787262044475,
          -0.021108526683511618,
          0.40646930956872956,
          0.038612671484517636,
          0.2489757903662364,
          0.23360855705111633,
          0.026611774131785636,
          -0.2911989120953623,
          -0.05838443253602445,
          -0.0034118627406063543,
          -0.12221802423337884,
          0.259939782384365,
          -0.18009794060589646,
          0.10244626318187165,
          -0.07585463596733667,
          -0.48069026377429225,
          0.25968794201180456,
          -0.1498770026688972,
          0.0346684195728144,
          -0.09956936249115224
         ],
         "zmax": 0.1,
         "zmin": -0.1
        },
        {
         "colorbar": {
          "title": ""
         },
         "hoverinfo": "text",
         "legendgroup": "y2",
         "marker": {
          "color": "rgba(227, 111, 71, 1.000)",
          "line": {
           "color": "rgba(0, 0, 0, 1.000)",
           "width": 1
          },
          "size": 8,
          "symbol": "circle"
         },
         "mode": "markers",
         "name": "y2",
         "showlegend": true,
         "text": [
          null,
          null,
          null,
          null,
          null,
          null,
          null,
          null,
          null,
          null,
          null,
          null,
          null,
          null,
          null,
          null,
          null,
          null,
          null,
          null,
          null,
          null,
          null,
          null,
          null
         ],
         "type": "scatter3d",
         "x": [
          -0.9010492733733455,
          -0.18959270231634956,
          -0.6319378623578608,
          0.7373057615773905,
          0.005780312901831444,
          -0.4947532107700573,
          -0.9660750657862142,
          -0.8920021800126327,
          -0.22358280182785636,
          -0.04244088675584313,
          -0.33989886479012155,
          -0.9033934876247252,
          -0.8687789554808035,
          -1.5280005736533593,
          0.3141994108954697,
          0.18912619722862836,
          -1.370506375442469,
          -0.7791796802713836,
          -0.8061523462943663,
          -0.16765907175075295,
          -0.8693484191381657,
          0.6921489064799651,
          -0.3159005409743717,
          -0.6204015834176994,
          -0.28889853689686196
         ],
         "xaxis": "x1",
         "y": [
          0.35068512419395753,
          -0.7887000857121308,
          -0.40525029400299883,
          -1.019818182847322,
          -0.7468198986611754,
          -0.09675204550557294,
          -0.08871409508598756,
          0.5356726116675552,
          -0.2975180857947631,
          -0.5495661077851224,
          -0.023157689665137572,
          -0.1334005494140016,
          0.39738316341349406,
          0.3393621771888274,
          -0.3329531517715016,
          -0.6438168423720639,
          -0.37927526415165647,
          0.17293917246726015,
          -0.26450843568349236,
          -0.6603114987573893,
          -0.007377404562396376,
          -1.009917321548003,
          -0.21568059633491798,
          0.06370456745026258,
          -0.33668070581811743
         ],
         "yaxis": "y1",
         "z": [
          0.002740604458771051,
          -0.29105843911479234,
          -0.020776821000437068,
          -0.12133149368587205,
          0.17923544962155644,
          0.10077461381391595,
          -0.08985325826477876,
          -0.27592373467336756,
          -0.3223806696424683,
          -0.3171378240754806,
          -0.2542767504566561,
          -0.26323738742375424,
          -0.2933939381046798,
          -0.1484792322042337,
          -0.37731801162879836,
          -0.3997693723064175,
          -0.04504030402658151,
          0.39376928092657165,
          -0.6706349747321902,
          -0.1549793752553149,
          -0.028058249427542988,
          -0.23994035411403675,
          0.043896374966913274,
          -0.21807297774783513,
          -0.045754913370448666
         ],
         "zmax": 0.1,
         "zmin": -0.1
        },
        {
         "colorbar": {
          "title": ""
         },
         "hoverinfo": "text",
         "legendgroup": "y3",
         "marker": {
          "color": "rgba(62, 164, 78, 1.000)",
          "line": {
           "color": "rgba(0, 0, 0, 1.000)",
           "width": 1
          },
          "size": 8,
          "symbol": "circle"
         },
         "mode": "markers",
         "name": "y3",
         "showlegend": true,
         "text": [
          null,
          null,
          null,
          null,
          null,
          null,
          null,
          null,
          null,
          null,
          null,
          null,
          null,
          null,
          null,
          null,
          null,
          null,
          null,
          null,
          null,
          null,
          null,
          null,
          null
         ],
         "type": "scatter3d",
         "x": [
          -1.4125988859796452,
          -1.9535904145912892,
          -3.3551650207175725,
          -2.895809632294309,
          -2.8711015998246006,
          -1.7892587875979082,
          -1.351406842087509,
          -1.8817214980724914,
          -3.4242045663572074,
          -1.3027564237690672,
          -1.1985565250592374,
          -1.3752052256001392,
          -2.5714396525355387,
          -1.2739247001224898,
          -2.348205226926349,
          -3.161656758446426,
          -1.4252854828814085,
          -3.0342042971502385,
          -1.8800869924750707,
          -2.075749950349389,
          -1.8921188496979267,
          -2.533040645522498,
          -1.9204654167167206,
          -1.741612746921035,
          -1.377064283223734
         ],
         "xaxis": "x1",
         "y": [
          -0.5567273324290717,
          -0.13382103724730382,
          0.6929245391407982,
          0.4871337311960538,
          0.8284059878306511,
          -0.14644119786137205,
          -0.7518225966889609,
          0.13551459122676807,
          1.2536777251155553,
          -0.6733504149176113,
          -0.616192473987319,
          -0.1422128448785028,
          0.657048647990137,
          -0.09782027399977093,
          0.582452694277193,
          1.472803064956953,
          -0.08304158676953785,
          0.8332238399992337,
          0.08580510153034834,
          0.4441615137359835,
          0.4760808657252879,
          0.32904082805620555,
          0.24655386564831658,
          0.12762531481897155,
          -0.280295377645591
         ],
         "yaxis": "y1",
         "z": [
          0.21411524881412605,
          0.07589798702936834,
          -0.29300162475154923,
          -0.38608363630737347,
          0.49697945981654623,
          -0.07681167599142562,
          0.17503328897519022,
          0.4740751781157412,
          0.25966212389505466,
          -0.44415478538239617,
          0.4234766901703297,
          -0.10389273847762898,
          -0.15012928129723985,
          0.20136451430843935,
          -0.4040419885709598,
          0.03444530039145673,
          -0.18138105620674003,
          -0.26944897148325364,
          0.15516319929791642,
          0.05408892955713777,
          0.14069995750886566,
          0.30926500267705404,
          0.18004360566848232,
          0.1231653668214798,
          0.31499221749029716
         ],
         "zmax": 0.1,
         "zmin": -0.1
        }
       ],
       "layout": {
        "annotations": [],
        "height": 400,
        "legend": {
         "bgcolor": "rgba(255, 255, 255, 1.000)",
         "bordercolor": "rgba(0, 0, 0, 1.000)",
         "font": {
          "color": "rgba(0, 0, 0, 1.000)",
          "family": "sans-serif",
          "size": 11
         },
         "tracegroupgap": 0,
         "x": 1,
         "y": 1
        },
        "margin": {
         "b": 20,
         "l": 0,
         "r": 0,
         "t": 20
        },
        "paper_bgcolor": "rgba(255, 255, 255, 1.000)",
        "plot_bgcolor": "rgba(255, 255, 255, 1.000)",
        "scene": {
         "camera": {
          "eye": {
           "x": 1.12583302491977,
           "y": -1.9499999999999997,
           "z": 1.3
          }
         },
         "xaxis": {
          "anchor": "y1",
          "domain": [
           0.09128390201224845,
           0.9934383202099738
          ],
          "gridcolor": "rgba(0, 0, 0, 0.100)",
          "gridwidth": 0.5,
          "linecolor": "rgba(0, 0, 0, 1.000)",
          "mirror": false,
          "range": [
           -3.6237221319288255,
           3.4258985182683457
          ],
          "showgrid": true,
          "showline": true,
          "showticklabels": true,
          "tickangle": 0,
          "tickcolor": "rgb(0, 0, 0)",
          "tickfont": {
           "color": "rgba(0, 0, 0, 1.000)",
           "family": "sans-serif",
           "size": 11
          },
          "tickmode": "array",
          "ticks": "inside",
          "ticktext": [
           "-3",
           "-2",
           "-1",
           "0",
           "1",
           "2",
           "3"
          ],
          "tickvals": [
           -3,
           -2,
           -1,
           0,
           1,
           2,
           3
          ],
          "title": "PC1",
          "titlefont": {
           "color": "rgba(0, 0, 0, 1.000)",
           "family": "sans-serif",
           "size": 15
          },
          "type": "-",
          "visible": true,
          "zeroline": false,
          "zerolinecolor": "rgba(0, 0, 0, 1.000)"
         },
         "yaxis": {
          "anchor": "x1",
          "domain": [
           0.07581474190726165,
           0.9901574803149606
          ],
          "gridcolor": "rgba(0, 0, 0, 0.100)",
          "gridwidth": 0.5,
          "linecolor": "rgba(0, 0, 0, 1.000)",
          "mirror": false,
          "range": [
           -1.0945968202814502,
           1.5475817023910812
          ],
          "showgrid": true,
          "showline": true,
          "showticklabels": true,
          "tickangle": 0,
          "tickcolor": "rgb(0, 0, 0)",
          "tickfont": {
           "color": "rgba(0, 0, 0, 1.000)",
           "family": "sans-serif",
           "size": 11
          },
          "tickmode": "array",
          "ticks": "inside",
          "ticktext": [
           "-1.0",
           "-0.5",
           "0.0",
           "0.5",
           "1.0",
           "1.5"
          ],
          "tickvals": [
           -1,
           -0.5,
           0,
           0.5,
           1,
           1.5
          ],
          "title": "PC2",
          "titlefont": {
           "color": "rgba(0, 0, 0, 1.000)",
           "family": "sans-serif",
           "size": 15
          },
          "type": "-",
          "visible": true,
          "zeroline": false,
          "zerolinecolor": "rgba(0, 0, 0, 1.000)"
         },
         "zaxis": {
          "gridcolor": "rgba(0, 0, 0, 0.100)",
          "gridwidth": 0.5,
          "linecolor": "rgba(0, 0, 0, 1.000)",
          "mirror": false,
          "range": [
           -0.7056634077686523,
           0.5320078928530083
          ],
          "showgrid": true,
          "showline": true,
          "showticklabels": true,
          "tickangle": 0,
          "tickcolor": "rgb(0, 0, 0)",
          "tickfont": {
           "color": "rgba(0, 0, 0, 1.000)",
           "family": "sans-serif",
           "size": 11
          },
          "tickmode": "array",
          "ticks": "inside",
          "ticktext": [
           "-0.50",
           "-0.25",
           "0.00",
           "0.25",
           "0.50"
          ],
          "tickvals": [
           -0.5,
           -0.25,
           0,
           0.25,
           0.5
          ],
          "title": "PC3",
          "titlefont": {
           "color": "rgba(0, 0, 0, 1.000)",
           "family": "sans-serif",
           "size": 15
          },
          "type": "-",
          "visible": true,
          "zeroline": false,
          "zerolinecolor": "rgba(0, 0, 0, 1.000)"
         }
        },
        "showlegend": true,
        "width": 600
       }
      },
      "text/html": [
       "    <div id=\"ec816204-6930-42e2-9e87-a41baf86ad3e\" style=\"width:600px;height:400px;\"></div>\n",
       "    <script>\n",
       "    PLOT = document.getElementById('ec816204-6930-42e2-9e87-a41baf86ad3e');\n",
       "    Plotly.plot(PLOT, [{\"xaxis\":\"x1\",\"colorbar\":{\"title\":\"\"},\"yaxis\":\"y1\",\"text\":[null,null,null,null,null,null,null,null,null,null,null,null,null,null,null,null,null,null,null,null,null,null,null,null,null],\"x\":[2.7271370229910716,2.754914126352502,2.323960273923084,2.651054412942388,2.689168203630764,2.633674661206393,3.2263809526967275,2.447743893623693,2.676766823053665,2.6239074375368103,2.5761164255318683,2.3239053049480325,2.521427320445945,2.5936411485959314,2.6459310704554233,2.4406458602395915,2.6535985674968874,2.8864002764725405,2.829762111410005,2.6168643731277608,2.8360651099130982,2.428964609971362,2.7245028660835553,2.85164077300055,2.725847429024839],\"showlegend\":true,\"mode\":\"markers\",\"name\":\"y1\",\"zmin\":-0.1,\"legendgroup\":\"y1\",\"z\":[-0.2531186297819421,-0.027126589264421477,0.23046868160032025,-0.02528530746891057,-0.23150687337431883,0.08209787262044475,-0.021108526683511618,0.40646930956872956,0.038612671484517636,0.2489757903662364,0.23360855705111633,0.026611774131785636,-0.2911989120953623,-0.05838443253602445,-0.0034118627406063543,-0.12221802423337884,0.259939782384365,-0.18009794060589646,0.10244626318187165,-0.07585463596733667,-0.48069026377429225,0.25968794201180456,-0.1498770026688972,0.0346684195728144,-0.09956936249115224],\"marker\":{\"symbol\":\"circle\",\"color\":\"rgba(0, 154, 250, 1.000)\",\"line\":{\"color\":\"rgba(0, 0, 0, 1.000)\",\"width\":1},\"size\":8},\"zmax\":0.1,\"y\":[-0.23091552150748468,-0.40614908940640493,0.6463738633842837,0.08281441013246736,-0.17410970550165597,-0.08251829646713302,-0.6143053394542858,1.223915589193648,0.22849233585806983,0.40393281924396146,0.3299846061919126,0.029168718615310663,-0.19110516082323564,0.2951990131632182,-0.285002038198564,0.3596871900898708,0.9839869288811033,0.005853014316387279,0.1640041589314179,0.15690956490915708,-0.9692677174842982,0.09085062826490437,-0.3147645958588534,-0.3248123988828137,0.035762513701317],\"type\":\"scatter3d\",\"hoverinfo\":\"text\"},{\"xaxis\":\"x1\",\"colorbar\":{\"title\":\"\"},\"yaxis\":\"y1\",\"text\":[null,null,null,null,null,null,null,null,null,null,null,null,null,null,null,null,null,null,null,null,null,null,null,null,null],\"x\":[-0.9010492733733455,-0.18959270231634956,-0.6319378623578608,0.7373057615773905,0.005780312901831444,-0.4947532107700573,-0.9660750657862142,-0.8920021800126327,-0.22358280182785636,-0.04244088675584313,-0.33989886479012155,-0.9033934876247252,-0.8687789554808035,-1.5280005736533593,0.3141994108954697,0.18912619722862836,-1.370506375442469,-0.7791796802713836,-0.8061523462943663,-0.16765907175075295,-0.8693484191381657,0.6921489064799651,-0.3159005409743717,-0.6204015834176994,-0.28889853689686196],\"showlegend\":true,\"mode\":\"markers\",\"name\":\"y2\",\"zmin\":-0.1,\"legendgroup\":\"y2\",\"z\":[0.002740604458771051,-0.29105843911479234,-0.020776821000437068,-0.12133149368587205,0.17923544962155644,0.10077461381391595,-0.08985325826477876,-0.27592373467336756,-0.3223806696424683,-0.3171378240754806,-0.2542767504566561,-0.26323738742375424,-0.2933939381046798,-0.1484792322042337,-0.37731801162879836,-0.3997693723064175,-0.04504030402658151,0.39376928092657165,-0.6706349747321902,-0.1549793752553149,-0.028058249427542988,-0.23994035411403675,0.043896374966913274,-0.21807297774783513,-0.045754913370448666],\"marker\":{\"symbol\":\"circle\",\"color\":\"rgba(227, 111, 71, 1.000)\",\"line\":{\"color\":\"rgba(0, 0, 0, 1.000)\",\"width\":1},\"size\":8},\"zmax\":0.1,\"y\":[0.35068512419395753,-0.7887000857121308,-0.40525029400299883,-1.019818182847322,-0.7468198986611754,-0.09675204550557294,-0.08871409508598756,0.5356726116675552,-0.2975180857947631,-0.5495661077851224,-0.023157689665137572,-0.1334005494140016,0.39738316341349406,0.3393621771888274,-0.3329531517715016,-0.6438168423720639,-0.37927526415165647,0.17293917246726015,-0.26450843568349236,-0.6603114987573893,-0.007377404562396376,-1.009917321548003,-0.21568059633491798,0.06370456745026258,-0.33668070581811743],\"type\":\"scatter3d\",\"hoverinfo\":\"text\"},{\"xaxis\":\"x1\",\"colorbar\":{\"title\":\"\"},\"yaxis\":\"y1\",\"text\":[null,null,null,null,null,null,null,null,null,null,null,null,null,null,null,null,null,null,null,null,null,null,null,null,null],\"x\":[-1.4125988859796452,-1.9535904145912892,-3.3551650207175725,-2.895809632294309,-2.8711015998246006,-1.7892587875979082,-1.351406842087509,-1.8817214980724914,-3.4242045663572074,-1.3027564237690672,-1.1985565250592374,-1.3752052256001392,-2.5714396525355387,-1.2739247001224898,-2.348205226926349,-3.161656758446426,-1.4252854828814085,-3.0342042971502385,-1.8800869924750707,-2.075749950349389,-1.8921188496979267,-2.533040645522498,-1.9204654167167206,-1.741612746921035,-1.377064283223734],\"showlegend\":true,\"mode\":\"markers\",\"name\":\"y3\",\"zmin\":-0.1,\"legendgroup\":\"y3\",\"z\":[0.21411524881412605,0.07589798702936834,-0.29300162475154923,-0.38608363630737347,0.49697945981654623,-0.07681167599142562,0.17503328897519022,0.4740751781157412,0.25966212389505466,-0.44415478538239617,0.4234766901703297,-0.10389273847762898,-0.15012928129723985,0.20136451430843935,-0.4040419885709598,0.03444530039145673,-0.18138105620674003,-0.26944897148325364,0.15516319929791642,0.05408892955713777,0.14069995750886566,0.30926500267705404,0.18004360566848232,0.1231653668214798,0.31499221749029716],\"marker\":{\"symbol\":\"circle\",\"color\":\"rgba(62, 164, 78, 1.000)\",\"line\":{\"color\":\"rgba(0, 0, 0, 1.000)\",\"width\":1},\"size\":8},\"zmax\":0.1,\"y\":[-0.5567273324290717,-0.13382103724730382,0.6929245391407982,0.4871337311960538,0.8284059878306511,-0.14644119786137205,-0.7518225966889609,0.13551459122676807,1.2536777251155553,-0.6733504149176113,-0.616192473987319,-0.1422128448785028,0.657048647990137,-0.09782027399977093,0.582452694277193,1.472803064956953,-0.08304158676953785,0.8332238399992337,0.08580510153034834,0.4441615137359835,0.4760808657252879,0.32904082805620555,0.24655386564831658,0.12762531481897155,-0.280295377645591],\"type\":\"scatter3d\",\"hoverinfo\":\"text\"}], {\"showlegend\":true,\"paper_bgcolor\":\"rgba(255, 255, 255, 1.000)\",\"annotations\":[],\"height\":400,\"margin\":{\"l\":0,\"b\":20,\"r\":0,\"t\":20},\"plot_bgcolor\":\"rgba(255, 255, 255, 1.000)\",\"scene\":{\"camera\":{\"eye\":{\"y\":-1.9499999999999997,\"z\":1.3,\"x\":1.12583302491977}},\"xaxis\":{\"showticklabels\":true,\"gridwidth\":0.5,\"tickvals\":[-3.0,-2.0,-1.0,0.0,1.0,2.0,3.0],\"visible\":true,\"ticks\":\"inside\",\"range\":[-3.6237221319288255,3.4258985182683457],\"domain\":[0.09128390201224845,0.9934383202099738],\"tickmode\":\"array\",\"linecolor\":\"rgba(0, 0, 0, 1.000)\",\"showgrid\":true,\"title\":\"PC1\",\"mirror\":false,\"tickangle\":0,\"showline\":true,\"gridcolor\":\"rgba(0, 0, 0, 0.100)\",\"titlefont\":{\"color\":\"rgba(0, 0, 0, 1.000)\",\"family\":\"sans-serif\",\"size\":15},\"tickcolor\":\"rgb(0, 0, 0)\",\"ticktext\":[\"-3\",\"-2\",\"-1\",\"0\",\"1\",\"2\",\"3\"],\"zeroline\":false,\"type\":\"-\",\"tickfont\":{\"color\":\"rgba(0, 0, 0, 1.000)\",\"family\":\"sans-serif\",\"size\":11},\"zerolinecolor\":\"rgba(0, 0, 0, 1.000)\",\"anchor\":\"y1\"},\"yaxis\":{\"showticklabels\":true,\"gridwidth\":0.5,\"tickvals\":[-1.0,-0.5,0.0,0.5,1.0,1.5],\"visible\":true,\"ticks\":\"inside\",\"range\":[-1.0945968202814502,1.5475817023910812],\"domain\":[0.07581474190726165,0.9901574803149606],\"tickmode\":\"array\",\"linecolor\":\"rgba(0, 0, 0, 1.000)\",\"showgrid\":true,\"title\":\"PC2\",\"mirror\":false,\"tickangle\":0,\"showline\":true,\"gridcolor\":\"rgba(0, 0, 0, 0.100)\",\"titlefont\":{\"color\":\"rgba(0, 0, 0, 1.000)\",\"family\":\"sans-serif\",\"size\":15},\"tickcolor\":\"rgb(0, 0, 0)\",\"ticktext\":[\"-1.0\",\"-0.5\",\"0.0\",\"0.5\",\"1.0\",\"1.5\"],\"zeroline\":false,\"type\":\"-\",\"tickfont\":{\"color\":\"rgba(0, 0, 0, 1.000)\",\"family\":\"sans-serif\",\"size\":11},\"zerolinecolor\":\"rgba(0, 0, 0, 1.000)\",\"anchor\":\"x1\"},\"zaxis\":{\"showticklabels\":true,\"gridwidth\":0.5,\"tickvals\":[-0.5,-0.25,0.0,0.25,0.5],\"visible\":true,\"ticks\":\"inside\",\"range\":[-0.7056634077686523,0.5320078928530083],\"tickmode\":\"array\",\"linecolor\":\"rgba(0, 0, 0, 1.000)\",\"showgrid\":true,\"title\":\"PC3\",\"mirror\":false,\"tickangle\":0,\"showline\":true,\"gridcolor\":\"rgba(0, 0, 0, 0.100)\",\"titlefont\":{\"color\":\"rgba(0, 0, 0, 1.000)\",\"family\":\"sans-serif\",\"size\":15},\"tickcolor\":\"rgb(0, 0, 0)\",\"ticktext\":[\"-0.50\",\"-0.25\",\"0.00\",\"0.25\",\"0.50\"],\"zeroline\":false,\"type\":\"-\",\"tickfont\":{\"color\":\"rgba(0, 0, 0, 1.000)\",\"family\":\"sans-serif\",\"size\":11},\"zerolinecolor\":\"rgba(0, 0, 0, 1.000)\"}},\"legend\":{\"tracegroupgap\":0,\"bordercolor\":\"rgba(0, 0, 0, 1.000)\",\"bgcolor\":\"rgba(255, 255, 255, 1.000)\",\"font\":{\"color\":\"rgba(0, 0, 0, 1.000)\",\"family\":\"sans-serif\",\"size\":11},\"y\":1.0,\"x\":1.0},\"width\":600});\n",
       "    </script>\n"
      ]
     },
     "execution_count": 38,
     "metadata": {},
     "output_type": "execute_result"
    }
   ],
   "source": [
    "# visualize first 3 principal components in 3D interacive plot\n",
    "p = scatter(setosa[1,:],setosa[2,:],setosa[3,:],marker=:circle,linewidth=0)\n",
    "scatter!(versicolor[1,:],versicolor[2,:],versicolor[3,:],marker=:circle,linewidth=0)\n",
    "scatter!(virginica[1,:],virginica[2,:],virginica[3,:],marker=:circle,linewidth=0)\n",
    "plot!(p,xlabel=\"PC1\",ylabel=\"PC2\",zlabel=\"PC3\")"
   ]
  },
  {
   "cell_type": "code",
   "execution_count": null,
   "metadata": {},
   "outputs": [],
   "source": []
  }
 ],
 "metadata": {
  "kernelspec": {
   "display_name": "Julia 1.0.3",
   "language": "julia",
   "name": "julia-1.0"
  },
  "language_info": {
   "file_extension": ".jl",
   "mimetype": "application/julia",
   "name": "julia",
   "version": "1.0.3"
  }
 },
 "nbformat": 4,
 "nbformat_minor": 2
}
