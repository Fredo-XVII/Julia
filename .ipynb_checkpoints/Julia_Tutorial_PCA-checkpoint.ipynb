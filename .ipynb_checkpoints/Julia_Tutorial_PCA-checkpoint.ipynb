{
 "cells": [
  {
   "cell_type": "markdown",
   "metadata": {},
   "source": [
    "# PCA \n",
    "\n",
    "Goal is to apply PCA to the housing data set\n",
    "\n",
    "reference: https://multivariatestatsjl.readthedocs.io/en/stable/pca.html"
   ]
  },
  {
   "cell_type": "code",
   "execution_count": 52,
   "metadata": {},
   "outputs": [
    {
     "data": {
      "text/plain": [
       "Plots.PlotlyBackend()"
      ]
     },
     "execution_count": 52,
     "metadata": {},
     "output_type": "execute_result"
    }
   ],
   "source": [
    "using MultivariateStats, RDatasets, Plots, DataFrames, CSV\n",
    "plotly() # using plotly for 3D-interacive graphing"
   ]
  },
  {
   "cell_type": "code",
   "execution_count": 53,
   "metadata": {},
   "outputs": [],
   "source": [
    "using Statistics"
   ]
  },
  {
   "cell_type": "code",
   "execution_count": 54,
   "metadata": {
    "scrolled": true
   },
   "outputs": [
    {
     "data": {
      "text/html": [
       "<table class=\"data-frame\"><thead><tr><th></th><th>Id</th><th>MSSubClass</th><th>MSZoning</th><th>LotFrontage</th><th>LotArea</th><th>Street</th><th>Alley</th><th>LotShape</th><th>LandContour</th></tr><tr><th></th><th>Int64</th><th>Int64</th><th>String</th><th>String</th><th>Int64</th><th>String</th><th>String</th><th>String</th><th>String</th></tr></thead><tbody><p>1,460 rows × 81 columns (omitted printing of 72 columns)</p><tr><th>1</th><td>1</td><td>60</td><td>RL</td><td>65</td><td>8450</td><td>Pave</td><td>NA</td><td>Reg</td><td>Lvl</td></tr><tr><th>2</th><td>2</td><td>20</td><td>RL</td><td>80</td><td>9600</td><td>Pave</td><td>NA</td><td>Reg</td><td>Lvl</td></tr><tr><th>3</th><td>3</td><td>60</td><td>RL</td><td>68</td><td>11250</td><td>Pave</td><td>NA</td><td>IR1</td><td>Lvl</td></tr><tr><th>4</th><td>4</td><td>70</td><td>RL</td><td>60</td><td>9550</td><td>Pave</td><td>NA</td><td>IR1</td><td>Lvl</td></tr><tr><th>5</th><td>5</td><td>60</td><td>RL</td><td>84</td><td>14260</td><td>Pave</td><td>NA</td><td>IR1</td><td>Lvl</td></tr><tr><th>6</th><td>6</td><td>50</td><td>RL</td><td>85</td><td>14115</td><td>Pave</td><td>NA</td><td>IR1</td><td>Lvl</td></tr><tr><th>7</th><td>7</td><td>20</td><td>RL</td><td>75</td><td>10084</td><td>Pave</td><td>NA</td><td>Reg</td><td>Lvl</td></tr><tr><th>8</th><td>8</td><td>60</td><td>RL</td><td>NA</td><td>10382</td><td>Pave</td><td>NA</td><td>IR1</td><td>Lvl</td></tr><tr><th>9</th><td>9</td><td>50</td><td>RM</td><td>51</td><td>6120</td><td>Pave</td><td>NA</td><td>Reg</td><td>Lvl</td></tr><tr><th>10</th><td>10</td><td>190</td><td>RL</td><td>50</td><td>7420</td><td>Pave</td><td>NA</td><td>Reg</td><td>Lvl</td></tr><tr><th>11</th><td>11</td><td>20</td><td>RL</td><td>70</td><td>11200</td><td>Pave</td><td>NA</td><td>Reg</td><td>Lvl</td></tr><tr><th>12</th><td>12</td><td>60</td><td>RL</td><td>85</td><td>11924</td><td>Pave</td><td>NA</td><td>IR1</td><td>Lvl</td></tr><tr><th>13</th><td>13</td><td>20</td><td>RL</td><td>NA</td><td>12968</td><td>Pave</td><td>NA</td><td>IR2</td><td>Lvl</td></tr><tr><th>14</th><td>14</td><td>20</td><td>RL</td><td>91</td><td>10652</td><td>Pave</td><td>NA</td><td>IR1</td><td>Lvl</td></tr><tr><th>15</th><td>15</td><td>20</td><td>RL</td><td>NA</td><td>10920</td><td>Pave</td><td>NA</td><td>IR1</td><td>Lvl</td></tr><tr><th>16</th><td>16</td><td>45</td><td>RM</td><td>51</td><td>6120</td><td>Pave</td><td>NA</td><td>Reg</td><td>Lvl</td></tr><tr><th>17</th><td>17</td><td>20</td><td>RL</td><td>NA</td><td>11241</td><td>Pave</td><td>NA</td><td>IR1</td><td>Lvl</td></tr><tr><th>18</th><td>18</td><td>90</td><td>RL</td><td>72</td><td>10791</td><td>Pave</td><td>NA</td><td>Reg</td><td>Lvl</td></tr><tr><th>19</th><td>19</td><td>20</td><td>RL</td><td>66</td><td>13695</td><td>Pave</td><td>NA</td><td>Reg</td><td>Lvl</td></tr><tr><th>20</th><td>20</td><td>20</td><td>RL</td><td>70</td><td>7560</td><td>Pave</td><td>NA</td><td>Reg</td><td>Lvl</td></tr><tr><th>21</th><td>21</td><td>60</td><td>RL</td><td>101</td><td>14215</td><td>Pave</td><td>NA</td><td>IR1</td><td>Lvl</td></tr><tr><th>22</th><td>22</td><td>45</td><td>RM</td><td>57</td><td>7449</td><td>Pave</td><td>Grvl</td><td>Reg</td><td>Bnk</td></tr><tr><th>23</th><td>23</td><td>20</td><td>RL</td><td>75</td><td>9742</td><td>Pave</td><td>NA</td><td>Reg</td><td>Lvl</td></tr><tr><th>24</th><td>24</td><td>120</td><td>RM</td><td>44</td><td>4224</td><td>Pave</td><td>NA</td><td>Reg</td><td>Lvl</td></tr><tr><th>25</th><td>25</td><td>20</td><td>RL</td><td>NA</td><td>8246</td><td>Pave</td><td>NA</td><td>IR1</td><td>Lvl</td></tr><tr><th>26</th><td>26</td><td>20</td><td>RL</td><td>110</td><td>14230</td><td>Pave</td><td>NA</td><td>Reg</td><td>Lvl</td></tr><tr><th>27</th><td>27</td><td>20</td><td>RL</td><td>60</td><td>7200</td><td>Pave</td><td>NA</td><td>Reg</td><td>Lvl</td></tr><tr><th>28</th><td>28</td><td>20</td><td>RL</td><td>98</td><td>11478</td><td>Pave</td><td>NA</td><td>Reg</td><td>Lvl</td></tr><tr><th>29</th><td>29</td><td>20</td><td>RL</td><td>47</td><td>16321</td><td>Pave</td><td>NA</td><td>IR1</td><td>Lvl</td></tr><tr><th>30</th><td>30</td><td>30</td><td>RM</td><td>60</td><td>6324</td><td>Pave</td><td>NA</td><td>IR1</td><td>Lvl</td></tr><tr><th>&vellip;</th><td>&vellip;</td><td>&vellip;</td><td>&vellip;</td><td>&vellip;</td><td>&vellip;</td><td>&vellip;</td><td>&vellip;</td><td>&vellip;</td><td>&vellip;</td></tr></tbody></table>"
      ],
      "text/latex": [
       "\\begin{tabular}{r|cccccccccc}\n",
       "\t& Id & MSSubClass & MSZoning & LotFrontage & LotArea & Street & Alley & LotShape & LandContour & \\\\\n",
       "\t\\hline\n",
       "\t& Int64 & Int64 & String & String & Int64 & String & String & String & String & \\\\\n",
       "\t\\hline\n",
       "\t1 & 1 & 60 & RL & 65 & 8450 & Pave & NA & Reg & Lvl & $\\dots$ \\\\\n",
       "\t2 & 2 & 20 & RL & 80 & 9600 & Pave & NA & Reg & Lvl & $\\dots$ \\\\\n",
       "\t3 & 3 & 60 & RL & 68 & 11250 & Pave & NA & IR1 & Lvl & $\\dots$ \\\\\n",
       "\t4 & 4 & 70 & RL & 60 & 9550 & Pave & NA & IR1 & Lvl & $\\dots$ \\\\\n",
       "\t5 & 5 & 60 & RL & 84 & 14260 & Pave & NA & IR1 & Lvl & $\\dots$ \\\\\n",
       "\t6 & 6 & 50 & RL & 85 & 14115 & Pave & NA & IR1 & Lvl & $\\dots$ \\\\\n",
       "\t7 & 7 & 20 & RL & 75 & 10084 & Pave & NA & Reg & Lvl & $\\dots$ \\\\\n",
       "\t8 & 8 & 60 & RL & NA & 10382 & Pave & NA & IR1 & Lvl & $\\dots$ \\\\\n",
       "\t9 & 9 & 50 & RM & 51 & 6120 & Pave & NA & Reg & Lvl & $\\dots$ \\\\\n",
       "\t10 & 10 & 190 & RL & 50 & 7420 & Pave & NA & Reg & Lvl & $\\dots$ \\\\\n",
       "\t11 & 11 & 20 & RL & 70 & 11200 & Pave & NA & Reg & Lvl & $\\dots$ \\\\\n",
       "\t12 & 12 & 60 & RL & 85 & 11924 & Pave & NA & IR1 & Lvl & $\\dots$ \\\\\n",
       "\t13 & 13 & 20 & RL & NA & 12968 & Pave & NA & IR2 & Lvl & $\\dots$ \\\\\n",
       "\t14 & 14 & 20 & RL & 91 & 10652 & Pave & NA & IR1 & Lvl & $\\dots$ \\\\\n",
       "\t15 & 15 & 20 & RL & NA & 10920 & Pave & NA & IR1 & Lvl & $\\dots$ \\\\\n",
       "\t16 & 16 & 45 & RM & 51 & 6120 & Pave & NA & Reg & Lvl & $\\dots$ \\\\\n",
       "\t17 & 17 & 20 & RL & NA & 11241 & Pave & NA & IR1 & Lvl & $\\dots$ \\\\\n",
       "\t18 & 18 & 90 & RL & 72 & 10791 & Pave & NA & Reg & Lvl & $\\dots$ \\\\\n",
       "\t19 & 19 & 20 & RL & 66 & 13695 & Pave & NA & Reg & Lvl & $\\dots$ \\\\\n",
       "\t20 & 20 & 20 & RL & 70 & 7560 & Pave & NA & Reg & Lvl & $\\dots$ \\\\\n",
       "\t21 & 21 & 60 & RL & 101 & 14215 & Pave & NA & IR1 & Lvl & $\\dots$ \\\\\n",
       "\t22 & 22 & 45 & RM & 57 & 7449 & Pave & Grvl & Reg & Bnk & $\\dots$ \\\\\n",
       "\t23 & 23 & 20 & RL & 75 & 9742 & Pave & NA & Reg & Lvl & $\\dots$ \\\\\n",
       "\t24 & 24 & 120 & RM & 44 & 4224 & Pave & NA & Reg & Lvl & $\\dots$ \\\\\n",
       "\t25 & 25 & 20 & RL & NA & 8246 & Pave & NA & IR1 & Lvl & $\\dots$ \\\\\n",
       "\t26 & 26 & 20 & RL & 110 & 14230 & Pave & NA & Reg & Lvl & $\\dots$ \\\\\n",
       "\t27 & 27 & 20 & RL & 60 & 7200 & Pave & NA & Reg & Lvl & $\\dots$ \\\\\n",
       "\t28 & 28 & 20 & RL & 98 & 11478 & Pave & NA & Reg & Lvl & $\\dots$ \\\\\n",
       "\t29 & 29 & 20 & RL & 47 & 16321 & Pave & NA & IR1 & Lvl & $\\dots$ \\\\\n",
       "\t30 & 30 & 30 & RM & 60 & 6324 & Pave & NA & IR1 & Lvl & $\\dots$ \\\\\n",
       "\t$\\dots$ & $\\dots$ & $\\dots$ & $\\dots$ & $\\dots$ & $\\dots$ & $\\dots$ & $\\dots$ & $\\dots$ & $\\dots$ &  \\\\\n",
       "\\end{tabular}\n"
      ],
      "text/plain": [
       "1460×81 DataFrame. Omitted printing of 75 columns\n",
       "│ Row  │ Id    │ MSSubClass │ MSZoning │ LotFrontage │ LotArea │ Street │\n",
       "│      │ \u001b[90mInt64\u001b[39m │ \u001b[90mInt64\u001b[39m      │ \u001b[90mString\u001b[39m   │ \u001b[90mString\u001b[39m      │ \u001b[90mInt64\u001b[39m   │ \u001b[90mString\u001b[39m │\n",
       "├──────┼───────┼────────────┼──────────┼─────────────┼─────────┼────────┤\n",
       "│ 1    │ 1     │ 60         │ RL       │ 65          │ 8450    │ Pave   │\n",
       "│ 2    │ 2     │ 20         │ RL       │ 80          │ 9600    │ Pave   │\n",
       "│ 3    │ 3     │ 60         │ RL       │ 68          │ 11250   │ Pave   │\n",
       "│ 4    │ 4     │ 70         │ RL       │ 60          │ 9550    │ Pave   │\n",
       "│ 5    │ 5     │ 60         │ RL       │ 84          │ 14260   │ Pave   │\n",
       "│ 6    │ 6     │ 50         │ RL       │ 85          │ 14115   │ Pave   │\n",
       "│ 7    │ 7     │ 20         │ RL       │ 75          │ 10084   │ Pave   │\n",
       "│ 8    │ 8     │ 60         │ RL       │ NA          │ 10382   │ Pave   │\n",
       "│ 9    │ 9     │ 50         │ RM       │ 51          │ 6120    │ Pave   │\n",
       "│ 10   │ 10    │ 190        │ RL       │ 50          │ 7420    │ Pave   │\n",
       "⋮\n",
       "│ 1450 │ 1450  │ 180        │ RM       │ 21          │ 1533    │ Pave   │\n",
       "│ 1451 │ 1451  │ 90         │ RL       │ 60          │ 9000    │ Pave   │\n",
       "│ 1452 │ 1452  │ 20         │ RL       │ 78          │ 9262    │ Pave   │\n",
       "│ 1453 │ 1453  │ 180        │ RM       │ 35          │ 3675    │ Pave   │\n",
       "│ 1454 │ 1454  │ 20         │ RL       │ 90          │ 17217   │ Pave   │\n",
       "│ 1455 │ 1455  │ 20         │ FV       │ 62          │ 7500    │ Pave   │\n",
       "│ 1456 │ 1456  │ 60         │ RL       │ 62          │ 7917    │ Pave   │\n",
       "│ 1457 │ 1457  │ 20         │ RL       │ 85          │ 13175   │ Pave   │\n",
       "│ 1458 │ 1458  │ 70         │ RL       │ 66          │ 9042    │ Pave   │\n",
       "│ 1459 │ 1459  │ 20         │ RL       │ 68          │ 9717    │ Pave   │\n",
       "│ 1460 │ 1460  │ 20         │ RL       │ 75          │ 9937    │ Pave   │"
      ]
     },
     "execution_count": 54,
     "metadata": {},
     "output_type": "execute_result"
    }
   ],
   "source": [
    "# Load Data\n",
    "housing_df = CSV.read(\"C:\\\\Users\\\\marqu\\\\OneDrive\\\\Documents\\\\Kaggle\\\\House Prices Advanced Regression Techniques\\\\Data\\\\train.csv\")\n"
   ]
  },
  {
   "cell_type": "code",
   "execution_count": 55,
   "metadata": {},
   "outputs": [
    {
     "data": {
      "text/plain": [
       "81-element Array{Symbol,1}:\n",
       " :Id                \n",
       " :MSSubClass        \n",
       " :MSZoning          \n",
       " :LotFrontage       \n",
       " :LotArea           \n",
       " :Street            \n",
       " :Alley             \n",
       " :LotShape          \n",
       " :LandContour       \n",
       " :Utilities         \n",
       " :LotConfig         \n",
       " :LandSlope         \n",
       " :Neighborhood      \n",
       " ⋮                  \n",
       " Symbol(\"3SsnPorch\")\n",
       " :ScreenPorch       \n",
       " :PoolArea          \n",
       " :PoolQC            \n",
       " :Fence             \n",
       " :MiscFeature       \n",
       " :MiscVal           \n",
       " :MoSold            \n",
       " :YrSold            \n",
       " :SaleType          \n",
       " :SaleCondition     \n",
       " :SalePrice         "
      ]
     },
     "execution_count": 55,
     "metadata": {},
     "output_type": "execute_result"
    }
   ],
   "source": [
    "typeof(housing_df)\n",
    "size(housing_df)\n",
    "names(housing_df)\n",
    "#remove(housing) # DELETE HOUSING"
   ]
  },
  {
   "cell_type": "code",
   "execution_count": 56,
   "metadata": {
    "scrolled": true
   },
   "outputs": [
    {
     "data": {
      "text/html": [
       "<table class=\"data-frame\"><thead><tr><th></th><th>variable</th><th>mean</th><th>min</th><th>median</th><th>max</th><th>nunique</th><th>nmissing</th><th>eltype</th></tr><tr><th></th><th>Symbol</th><th>Union…</th><th>Any</th><th>Union…</th><th>Any</th><th>Union…</th><th>Nothing</th><th>DataType</th></tr></thead><tbody><p>81 rows × 8 columns</p><tr><th>1</th><td>Id</td><td>730.5</td><td>1</td><td>730.5</td><td>1460</td><td></td><td></td><td>Int64</td></tr><tr><th>2</th><td>MSSubClass</td><td>56.8973</td><td>20</td><td>50.0</td><td>190</td><td></td><td></td><td>Int64</td></tr><tr><th>3</th><td>MSZoning</td><td></td><td>C (all)</td><td></td><td>RM</td><td>5</td><td></td><td>String</td></tr><tr><th>4</th><td>LotFrontage</td><td></td><td>100</td><td></td><td>NA</td><td>111</td><td></td><td>String</td></tr><tr><th>5</th><td>LotArea</td><td>10516.8</td><td>1300</td><td>9478.5</td><td>215245</td><td></td><td></td><td>Int64</td></tr><tr><th>6</th><td>Street</td><td></td><td>Grvl</td><td></td><td>Pave</td><td>2</td><td></td><td>String</td></tr><tr><th>7</th><td>Alley</td><td></td><td>Grvl</td><td></td><td>Pave</td><td>3</td><td></td><td>String</td></tr><tr><th>8</th><td>LotShape</td><td></td><td>IR1</td><td></td><td>Reg</td><td>4</td><td></td><td>String</td></tr><tr><th>9</th><td>LandContour</td><td></td><td>Bnk</td><td></td><td>Lvl</td><td>4</td><td></td><td>String</td></tr><tr><th>10</th><td>Utilities</td><td></td><td>AllPub</td><td></td><td>NoSeWa</td><td>2</td><td></td><td>String</td></tr><tr><th>11</th><td>LotConfig</td><td></td><td>Corner</td><td></td><td>Inside</td><td>5</td><td></td><td>String</td></tr><tr><th>12</th><td>LandSlope</td><td></td><td>Gtl</td><td></td><td>Sev</td><td>3</td><td></td><td>String</td></tr><tr><th>13</th><td>Neighborhood</td><td></td><td>Blmngtn</td><td></td><td>Veenker</td><td>25</td><td></td><td>String</td></tr><tr><th>14</th><td>Condition1</td><td></td><td>Artery</td><td></td><td>RRNn</td><td>9</td><td></td><td>String</td></tr><tr><th>15</th><td>Condition2</td><td></td><td>Artery</td><td></td><td>RRNn</td><td>8</td><td></td><td>String</td></tr><tr><th>16</th><td>BldgType</td><td></td><td>1Fam</td><td></td><td>TwnhsE</td><td>5</td><td></td><td>String</td></tr><tr><th>17</th><td>HouseStyle</td><td></td><td>1.5Fin</td><td></td><td>SLvl</td><td>8</td><td></td><td>String</td></tr><tr><th>18</th><td>OverallQual</td><td>6.09932</td><td>1</td><td>6.0</td><td>10</td><td></td><td></td><td>Int64</td></tr><tr><th>19</th><td>OverallCond</td><td>5.57534</td><td>1</td><td>5.0</td><td>9</td><td></td><td></td><td>Int64</td></tr><tr><th>20</th><td>YearBuilt</td><td>1971.27</td><td>1872</td><td>1973.0</td><td>2010</td><td></td><td></td><td>Int64</td></tr><tr><th>21</th><td>YearRemodAdd</td><td>1984.87</td><td>1950</td><td>1994.0</td><td>2010</td><td></td><td></td><td>Int64</td></tr><tr><th>22</th><td>RoofStyle</td><td></td><td>Flat</td><td></td><td>Shed</td><td>6</td><td></td><td>String</td></tr><tr><th>23</th><td>RoofMatl</td><td></td><td>ClyTile</td><td></td><td>WdShngl</td><td>8</td><td></td><td>String</td></tr><tr><th>24</th><td>Exterior1st</td><td></td><td>AsbShng</td><td></td><td>WdShing</td><td>15</td><td></td><td>String</td></tr><tr><th>25</th><td>Exterior2nd</td><td></td><td>AsbShng</td><td></td><td>Wd Shng</td><td>16</td><td></td><td>String</td></tr><tr><th>26</th><td>MasVnrType</td><td></td><td>BrkCmn</td><td></td><td>Stone</td><td>5</td><td></td><td>String</td></tr><tr><th>27</th><td>MasVnrArea</td><td></td><td>0</td><td></td><td>NA</td><td>328</td><td></td><td>String</td></tr><tr><th>28</th><td>ExterQual</td><td></td><td>Ex</td><td></td><td>TA</td><td>4</td><td></td><td>String</td></tr><tr><th>29</th><td>ExterCond</td><td></td><td>Ex</td><td></td><td>TA</td><td>5</td><td></td><td>String</td></tr><tr><th>30</th><td>Foundation</td><td></td><td>BrkTil</td><td></td><td>Wood</td><td>6</td><td></td><td>String</td></tr><tr><th>&vellip;</th><td>&vellip;</td><td>&vellip;</td><td>&vellip;</td><td>&vellip;</td><td>&vellip;</td><td>&vellip;</td><td>&vellip;</td><td>&vellip;</td></tr></tbody></table>"
      ],
      "text/latex": [
       "\\begin{tabular}{r|cccccccc}\n",
       "\t& variable & mean & min & median & max & nunique & nmissing & eltype\\\\\n",
       "\t\\hline\n",
       "\t& Symbol & Union… & Any & Union… & Any & Union… & Nothing & DataType\\\\\n",
       "\t\\hline\n",
       "\t1 & Id & 730.5 & 1 & 730.5 & 1460 &  &  & Int64 \\\\\n",
       "\t2 & MSSubClass & 56.8973 & 20 & 50.0 & 190 &  &  & Int64 \\\\\n",
       "\t3 & MSZoning &  & C (all) &  & RM & 5 &  & String \\\\\n",
       "\t4 & LotFrontage &  & 100 &  & NA & 111 &  & String \\\\\n",
       "\t5 & LotArea & 10516.8 & 1300 & 9478.5 & 215245 &  &  & Int64 \\\\\n",
       "\t6 & Street &  & Grvl &  & Pave & 2 &  & String \\\\\n",
       "\t7 & Alley &  & Grvl &  & Pave & 3 &  & String \\\\\n",
       "\t8 & LotShape &  & IR1 &  & Reg & 4 &  & String \\\\\n",
       "\t9 & LandContour &  & Bnk &  & Lvl & 4 &  & String \\\\\n",
       "\t10 & Utilities &  & AllPub &  & NoSeWa & 2 &  & String \\\\\n",
       "\t11 & LotConfig &  & Corner &  & Inside & 5 &  & String \\\\\n",
       "\t12 & LandSlope &  & Gtl &  & Sev & 3 &  & String \\\\\n",
       "\t13 & Neighborhood &  & Blmngtn &  & Veenker & 25 &  & String \\\\\n",
       "\t14 & Condition1 &  & Artery &  & RRNn & 9 &  & String \\\\\n",
       "\t15 & Condition2 &  & Artery &  & RRNn & 8 &  & String \\\\\n",
       "\t16 & BldgType &  & 1Fam &  & TwnhsE & 5 &  & String \\\\\n",
       "\t17 & HouseStyle &  & 1.5Fin &  & SLvl & 8 &  & String \\\\\n",
       "\t18 & OverallQual & 6.09932 & 1 & 6.0 & 10 &  &  & Int64 \\\\\n",
       "\t19 & OverallCond & 5.57534 & 1 & 5.0 & 9 &  &  & Int64 \\\\\n",
       "\t20 & YearBuilt & 1971.27 & 1872 & 1973.0 & 2010 &  &  & Int64 \\\\\n",
       "\t21 & YearRemodAdd & 1984.87 & 1950 & 1994.0 & 2010 &  &  & Int64 \\\\\n",
       "\t22 & RoofStyle &  & Flat &  & Shed & 6 &  & String \\\\\n",
       "\t23 & RoofMatl &  & ClyTile &  & WdShngl & 8 &  & String \\\\\n",
       "\t24 & Exterior1st &  & AsbShng &  & WdShing & 15 &  & String \\\\\n",
       "\t25 & Exterior2nd &  & AsbShng &  & Wd Shng & 16 &  & String \\\\\n",
       "\t26 & MasVnrType &  & BrkCmn &  & Stone & 5 &  & String \\\\\n",
       "\t27 & MasVnrArea &  & 0 &  & NA & 328 &  & String \\\\\n",
       "\t28 & ExterQual &  & Ex &  & TA & 4 &  & String \\\\\n",
       "\t29 & ExterCond &  & Ex &  & TA & 5 &  & String \\\\\n",
       "\t30 & Foundation &  & BrkTil &  & Wood & 6 &  & String \\\\\n",
       "\t$\\dots$ & $\\dots$ & $\\dots$ & $\\dots$ & $\\dots$ & $\\dots$ & $\\dots$ & $\\dots$ & $\\dots$ \\\\\n",
       "\\end{tabular}\n"
      ],
      "text/plain": [
       "81×8 DataFrame. Omitted printing of 2 columns\n",
       "│ Row │ variable      │ mean      │ min     │ median   │ max     │ nunique │\n",
       "│     │ \u001b[90mSymbol\u001b[39m        │ \u001b[90mUnion…\u001b[39m    │ \u001b[90mAny\u001b[39m     │ \u001b[90mUnion…\u001b[39m   │ \u001b[90mAny\u001b[39m     │ \u001b[90mUnion…\u001b[39m  │\n",
       "├─────┼───────────────┼───────────┼─────────┼──────────┼─────────┼─────────┤\n",
       "│ 1   │ Id            │ 730.5     │ 1       │ 730.5    │ 1460    │         │\n",
       "│ 2   │ MSSubClass    │ 56.8973   │ 20      │ 50.0     │ 190     │         │\n",
       "│ 3   │ MSZoning      │           │ C (all) │          │ RM      │ 5       │\n",
       "│ 4   │ LotFrontage   │           │ 100     │          │ NA      │ 111     │\n",
       "│ 5   │ LotArea       │ 10516.8   │ 1300    │ 9478.5   │ 215245  │         │\n",
       "│ 6   │ Street        │           │ Grvl    │          │ Pave    │ 2       │\n",
       "│ 7   │ Alley         │           │ Grvl    │          │ Pave    │ 3       │\n",
       "│ 8   │ LotShape      │           │ IR1     │          │ Reg     │ 4       │\n",
       "│ 9   │ LandContour   │           │ Bnk     │          │ Lvl     │ 4       │\n",
       "│ 10  │ Utilities     │           │ AllPub  │          │ NoSeWa  │ 2       │\n",
       "⋮\n",
       "│ 71  │ ScreenPorch   │ 15.061    │ 0       │ 0.0      │ 480     │         │\n",
       "│ 72  │ PoolArea      │ 2.7589    │ 0       │ 0.0      │ 738     │         │\n",
       "│ 73  │ PoolQC        │           │ Ex      │          │ NA      │ 4       │\n",
       "│ 74  │ Fence         │           │ GdPrv   │          │ NA      │ 5       │\n",
       "│ 75  │ MiscFeature   │           │ Gar2    │          │ TenC    │ 5       │\n",
       "│ 76  │ MiscVal       │ 43.489    │ 0       │ 0.0      │ 15500   │         │\n",
       "│ 77  │ MoSold        │ 6.32192   │ 1       │ 6.0      │ 12      │         │\n",
       "│ 78  │ YrSold        │ 2007.82   │ 2006    │ 2008.0   │ 2010    │         │\n",
       "│ 79  │ SaleType      │           │ COD     │          │ WD      │ 9       │\n",
       "│ 80  │ SaleCondition │           │ Abnorml │          │ Partial │ 6       │\n",
       "│ 81  │ SalePrice     │ 1.80921e5 │ 34900   │ 163000.0 │ 755000  │         │"
      ]
     },
     "execution_count": 56,
     "metadata": {},
     "output_type": "execute_result"
    }
   ],
   "source": [
    "col_stats = describe(housing_df)"
   ]
  },
  {
   "cell_type": "code",
   "execution_count": 61,
   "metadata": {},
   "outputs": [
    {
     "data": {
      "text/plain": [
       "1460"
      ]
     },
     "execution_count": 61,
     "metadata": {},
     "output_type": "execute_result"
    }
   ],
   "source": [
    "# Proves that there is no \"missing\" data in the table...does not mean NA\n",
    "length(completecases(housing_df))"
   ]
  },
  {
   "cell_type": "code",
   "execution_count": 72,
   "metadata": {},
   "outputs": [
    {
     "data": {
      "text/html": [
       "<table class=\"data-frame\"><thead><tr><th></th><th>Id</th><th>MSSubClass</th><th>MSZoning</th><th>LotFrontage</th><th>LotArea</th><th>Street</th><th>Alley</th><th>LotShape</th><th>LandContour</th></tr><tr><th></th><th>Bool</th><th>Bool</th><th>Bool</th><th>Bool</th><th>Bool</th><th>Bool</th><th>Bool</th><th>Bool</th><th>Bool</th></tr></thead><tbody><p>10 rows × 81 columns (omitted printing of 72 columns)</p><tr><th>1</th><td>false</td><td>false</td><td>false</td><td>false</td><td>false</td><td>false</td><td>false</td><td>false</td><td>false</td></tr><tr><th>2</th><td>false</td><td>false</td><td>false</td><td>false</td><td>false</td><td>false</td><td>false</td><td>false</td><td>false</td></tr><tr><th>3</th><td>false</td><td>false</td><td>false</td><td>false</td><td>false</td><td>false</td><td>false</td><td>false</td><td>false</td></tr><tr><th>4</th><td>false</td><td>false</td><td>false</td><td>false</td><td>false</td><td>false</td><td>false</td><td>false</td><td>false</td></tr><tr><th>5</th><td>false</td><td>false</td><td>false</td><td>false</td><td>false</td><td>false</td><td>false</td><td>false</td><td>false</td></tr><tr><th>6</th><td>false</td><td>false</td><td>false</td><td>false</td><td>false</td><td>false</td><td>false</td><td>false</td><td>false</td></tr><tr><th>7</th><td>false</td><td>false</td><td>false</td><td>false</td><td>false</td><td>false</td><td>false</td><td>false</td><td>false</td></tr><tr><th>8</th><td>false</td><td>false</td><td>false</td><td>false</td><td>false</td><td>false</td><td>false</td><td>false</td><td>false</td></tr><tr><th>9</th><td>false</td><td>false</td><td>false</td><td>false</td><td>false</td><td>false</td><td>false</td><td>false</td><td>false</td></tr><tr><th>10</th><td>false</td><td>false</td><td>false</td><td>false</td><td>false</td><td>false</td><td>false</td><td>false</td><td>false</td></tr></tbody></table>"
      ],
      "text/latex": [
       "\\begin{tabular}{r|cccccccccc}\n",
       "\t& Id & MSSubClass & MSZoning & LotFrontage & LotArea & Street & Alley & LotShape & LandContour & \\\\\n",
       "\t\\hline\n",
       "\t& Bool & Bool & Bool & Bool & Bool & Bool & Bool & Bool & Bool & \\\\\n",
       "\t\\hline\n",
       "\t1 & false & false & false & false & false & false & false & false & false & $\\dots$ \\\\\n",
       "\t2 & false & false & false & false & false & false & false & false & false & $\\dots$ \\\\\n",
       "\t3 & false & false & false & false & false & false & false & false & false & $\\dots$ \\\\\n",
       "\t4 & false & false & false & false & false & false & false & false & false & $\\dots$ \\\\\n",
       "\t5 & false & false & false & false & false & false & false & false & false & $\\dots$ \\\\\n",
       "\t6 & false & false & false & false & false & false & false & false & false & $\\dots$ \\\\\n",
       "\t7 & false & false & false & false & false & false & false & false & false & $\\dots$ \\\\\n",
       "\t8 & false & false & false & false & false & false & false & false & false & $\\dots$ \\\\\n",
       "\t9 & false & false & false & false & false & false & false & false & false & $\\dots$ \\\\\n",
       "\t10 & false & false & false & false & false & false & false & false & false & $\\dots$ \\\\\n",
       "\\end{tabular}\n"
      ],
      "text/plain": [
       "10×81 DataFrame. Omitted printing of 74 columns\n",
       "│ Row │ Id    │ MSSubClass │ MSZoning │ LotFrontage │ LotArea │ Street │ Alley │\n",
       "│     │ \u001b[90mBool\u001b[39m  │ \u001b[90mBool\u001b[39m       │ \u001b[90mBool\u001b[39m     │ \u001b[90mBool\u001b[39m        │ \u001b[90mBool\u001b[39m    │ \u001b[90mBool\u001b[39m   │ \u001b[90mBool\u001b[39m  │\n",
       "├─────┼───────┼────────────┼──────────┼─────────────┼─────────┼────────┼───────┤\n",
       "│ 1   │ false │ false      │ false    │ false       │ false   │ false  │ false │\n",
       "│ 2   │ false │ false      │ false    │ false       │ false   │ false  │ false │\n",
       "│ 3   │ false │ false      │ false    │ false       │ false   │ false  │ false │\n",
       "│ 4   │ false │ false      │ false    │ false       │ false   │ false  │ false │\n",
       "│ 5   │ false │ false      │ false    │ false       │ false   │ false  │ false │\n",
       "│ 6   │ false │ false      │ false    │ false       │ false   │ false  │ false │\n",
       "│ 7   │ false │ false      │ false    │ false       │ false   │ false  │ false │\n",
       "│ 8   │ false │ false      │ false    │ false       │ false   │ false  │ false │\n",
       "│ 9   │ false │ false      │ false    │ false       │ false   │ false  │ false │\n",
       "│ 10  │ false │ false      │ false    │ false       │ false   │ false  │ false │"
      ]
     },
     "execution_count": 72,
     "metadata": {},
     "output_type": "execute_result"
    }
   ],
   "source": [
    "ismissing.(last(housing_df, 10))"
   ]
  },
  {
   "cell_type": "code",
   "execution_count": 6,
   "metadata": {},
   "outputs": [
    {
     "data": {
      "text/plain": [
       "convertna (generic function with 1 method)"
      ]
     },
     "execution_count": 6,
     "metadata": {},
     "output_type": "execute_result"
    }
   ],
   "source": [
    "function convertna(x) \n",
    "    if x == \"NA\"\n",
    "        return missing\n",
    "    end \n",
    "    return x\n",
    "end"
   ]
  },
  {
   "cell_type": "code",
   "execution_count": 30,
   "metadata": {},
   "outputs": [
    {
     "ename": "MethodError",
     "evalue": "MethodError: no method matching zero(::Int64, ::Int64)\nClosest candidates are:\n  zero(::Number) at number.jl:262",
     "output_type": "error",
     "traceback": [
      "MethodError: no method matching zero(::Int64, ::Int64)\nClosest candidates are:\n  zero(::Number) at number.jl:262",
      "",
      "Stacktrace:",
      " [1] top-level scope at In[30]:2"
     ]
    }
   ],
   "source": [
    "row, col = size(housing_df)\n",
    "housing_df1 = DataFrame(zero(row,col),names(housing_df))"
   ]
  },
  {
   "cell_type": "code",
   "execution_count": 37,
   "metadata": {},
   "outputs": [
    {
     "ename": "UndefVarError",
     "evalue": "UndefVarError: convertna! not defined",
     "output_type": "error",
     "traceback": [
      "UndefVarError: convertna! not defined",
      "",
      "Stacktrace:",
      " [1] top-level scope at .\\In[37]:5"
     ]
    }
   ],
   "source": [
    "housing_df1 = housing_df\n",
    "for name in names(housing_df1)\n",
    "    if eltype(name) = \"String\"\n",
    "        convertna!(housing_df1[!,name])\n",
    "end\n",
    "    "
   ]
  },
  {
   "cell_type": "code",
   "execution_count": 50,
   "metadata": {},
   "outputs": [
    {
     "name": "stdout",
     "output_type": "stream",
     "text": [
      "730.5\n",
      "56.897260273972606\n"
     ]
    },
    {
     "ename": "MethodError",
     "evalue": "MethodError: no method matching +(::String, ::String)\nClosest candidates are:\n  +(::Any, ::Any, !Matched::Any, !Matched::Any...) at operators.jl:502",
     "output_type": "error",
     "traceback": [
      "MethodError: no method matching +(::String, ::String)\nClosest candidates are:\n  +(::Any, ::Any, !Matched::Any, !Matched::Any...) at operators.jl:502",
      "",
      "Stacktrace:",
      " [1] add_sum(::String, ::String) at .\\reduce.jl:21",
      " [2] mapreduce_impl(::typeof(identity), ::typeof(Base.add_sum), ::CSV.Column{String,PooledString}, ::Int64, ::Int64, ::Int64) at .\\reduce.jl:161",
      " [3] mapreduce_impl(::typeof(identity), ::typeof(Base.add_sum), ::CSV.Column{String,PooledString}, ::Int64, ::Int64, ::Int64) at .\\reduce.jl:170",
      " [4] mapreduce_impl at .\\reduce.jl:176 [inlined]",
      " [5] _mapreduce(::typeof(identity), ::typeof(Base.add_sum), ::IndexLinear, ::CSV.Column{String,PooledString}) at .\\reduce.jl:318",
      " [6] _mapreduce_dim at .\\reducedim.jl:305 [inlined]",
      " [7] #mapreduce#536 at .\\reducedim.jl:301 [inlined]",
      " [8] mapreduce at .\\reducedim.jl:301 [inlined]",
      " [9] _sum at .\\reducedim.jl:650 [inlined]",
      " [10] _sum at .\\reducedim.jl:649 [inlined]",
      " [11] #sum#538 at .\\reducedim.jl:645 [inlined]",
      " [12] sum at .\\reducedim.jl:645 [inlined]",
      " [13] _mean(::CSV.Column{String,PooledString}, ::Colon) at C:\\cygwin\\home\\Administrator\\buildbot\\worker\\package_win64\\build\\usr\\share\\julia\\stdlib\\v1.0\\Statistics\\src\\Statistics.jl:131",
      " [14] #mean#1(::Function, ::Function, ::CSV.Column{String,PooledString}) at C:\\cygwin\\home\\Administrator\\buildbot\\worker\\package_win64\\build\\usr\\share\\julia\\stdlib\\v1.0\\Statistics\\src\\Statistics.jl:128",
      " [15] mean(::CSV.Column{String,PooledString}) at C:\\cygwin\\home\\Administrator\\buildbot\\worker\\package_win64\\build\\usr\\share\\julia\\stdlib\\v1.0\\Statistics\\src\\Statistics.jl:128",
      " [16] top-level scope at .\\In[50]:2"
     ]
    }
   ],
   "source": [
    "for name in names(housing_df1)\n",
    "    println(mean(housing_df1[!,name]))\n",
    "end"
   ]
  },
  {
   "cell_type": "code",
   "execution_count": 39,
   "metadata": {},
   "outputs": [
    {
     "name": "stderr",
     "output_type": "stream",
     "text": [
      "┌ Warning: `tail(df::AbstractDataFrame)` is deprecated, use `last(df, 6)` instead.\n",
      "│   caller = top-level scope at In[39]:1\n",
      "└ @ Core In[39]:1\n"
     ]
    },
    {
     "data": {
      "text/html": [
       "<table class=\"data-frame\"><thead><tr><th></th><th>Id</th><th>MSSubClass</th><th>MSZoning</th><th>LotFrontage</th><th>LotArea</th><th>Street</th><th>Alley</th><th>LotShape</th><th>LandContour</th></tr><tr><th></th><th>Int64</th><th>Int64</th><th>String</th><th>String</th><th>Int64</th><th>String</th><th>String</th><th>String</th><th>String</th></tr></thead><tbody><p>6 rows × 81 columns (omitted printing of 72 columns)</p><tr><th>1</th><td>1455</td><td>20</td><td>FV</td><td>62</td><td>7500</td><td>Pave</td><td>Pave</td><td>Reg</td><td>Lvl</td></tr><tr><th>2</th><td>1456</td><td>60</td><td>RL</td><td>62</td><td>7917</td><td>Pave</td><td>NA</td><td>Reg</td><td>Lvl</td></tr><tr><th>3</th><td>1457</td><td>20</td><td>RL</td><td>85</td><td>13175</td><td>Pave</td><td>NA</td><td>Reg</td><td>Lvl</td></tr><tr><th>4</th><td>1458</td><td>70</td><td>RL</td><td>66</td><td>9042</td><td>Pave</td><td>NA</td><td>Reg</td><td>Lvl</td></tr><tr><th>5</th><td>1459</td><td>20</td><td>RL</td><td>68</td><td>9717</td><td>Pave</td><td>NA</td><td>Reg</td><td>Lvl</td></tr><tr><th>6</th><td>1460</td><td>20</td><td>RL</td><td>75</td><td>9937</td><td>Pave</td><td>NA</td><td>Reg</td><td>Lvl</td></tr></tbody></table>"
      ],
      "text/latex": [
       "\\begin{tabular}{r|cccccccccc}\n",
       "\t& Id & MSSubClass & MSZoning & LotFrontage & LotArea & Street & Alley & LotShape & LandContour & \\\\\n",
       "\t\\hline\n",
       "\t& Int64 & Int64 & String & String & Int64 & String & String & String & String & \\\\\n",
       "\t\\hline\n",
       "\t1 & 1455 & 20 & FV & 62 & 7500 & Pave & Pave & Reg & Lvl & $\\dots$ \\\\\n",
       "\t2 & 1456 & 60 & RL & 62 & 7917 & Pave & NA & Reg & Lvl & $\\dots$ \\\\\n",
       "\t3 & 1457 & 20 & RL & 85 & 13175 & Pave & NA & Reg & Lvl & $\\dots$ \\\\\n",
       "\t4 & 1458 & 70 & RL & 66 & 9042 & Pave & NA & Reg & Lvl & $\\dots$ \\\\\n",
       "\t5 & 1459 & 20 & RL & 68 & 9717 & Pave & NA & Reg & Lvl & $\\dots$ \\\\\n",
       "\t6 & 1460 & 20 & RL & 75 & 9937 & Pave & NA & Reg & Lvl & $\\dots$ \\\\\n",
       "\\end{tabular}\n"
      ],
      "text/plain": [
       "6×81 DataFrame. Omitted printing of 75 columns\n",
       "│ Row │ Id    │ MSSubClass │ MSZoning │ LotFrontage │ LotArea │ Street │\n",
       "│     │ \u001b[90mInt64\u001b[39m │ \u001b[90mInt64\u001b[39m      │ \u001b[90mString\u001b[39m   │ \u001b[90mString\u001b[39m      │ \u001b[90mInt64\u001b[39m   │ \u001b[90mString\u001b[39m │\n",
       "├─────┼───────┼────────────┼──────────┼─────────────┼─────────┼────────┤\n",
       "│ 1   │ 1455  │ 20         │ FV       │ 62          │ 7500    │ Pave   │\n",
       "│ 2   │ 1456  │ 60         │ RL       │ 62          │ 7917    │ Pave   │\n",
       "│ 3   │ 1457  │ 20         │ RL       │ 85          │ 13175   │ Pave   │\n",
       "│ 4   │ 1458  │ 70         │ RL       │ 66          │ 9042    │ Pave   │\n",
       "│ 5   │ 1459  │ 20         │ RL       │ 68          │ 9717    │ Pave   │\n",
       "│ 6   │ 1460  │ 20         │ RL       │ 75          │ 9937    │ Pave   │"
      ]
     },
     "execution_count": 39,
     "metadata": {},
     "output_type": "execute_result"
    }
   ],
   "source": [
    "tail(housing_df1)"
   ]
  },
  {
   "cell_type": "code",
   "execution_count": 50,
   "metadata": {},
   "outputs": [
    {
     "data": {
      "text/plain": [
       "730-element Array{Union{Missing, Int64},1}:\n",
       " 208500\n",
       " 223500\n",
       " 250000\n",
       " 307000\n",
       " 129900\n",
       " 129500\n",
       " 144000\n",
       " 157000\n",
       " 149000\n",
       " 159000\n",
       " 325300\n",
       " 230000\n",
       " 154000\n",
       "      ⋮\n",
       " 120500\n",
       " 149700\n",
       " 191000\n",
       " 310000\n",
       " 179600\n",
       " 157900\n",
       " 112000\n",
       " 136000\n",
       " 145000\n",
       " 185000\n",
       " 210000\n",
       " 142125"
      ]
     },
     "execution_count": 50,
     "metadata": {},
     "output_type": "execute_result"
    }
   ],
   "source": [
    "# split half to training set. 5.1  3.5  1.4  0.2\n",
    "# Array{Union{T, Missing}}\n",
    "Xtr = Array(Matrix(housing_df[1:2:end,1:80]))' \n",
    "Xtr_labels = Array(housing_df[1:2:end,81])"
   ]
  },
  {
   "cell_type": "code",
   "execution_count": 51,
   "metadata": {},
   "outputs": [
    {
     "data": {
      "text/plain": [
       "Array{Union{Missing, Int64},1}"
      ]
     },
     "execution_count": 51,
     "metadata": {},
     "output_type": "execute_result"
    }
   ],
   "source": [
    "typeof(Xtr) # LinearAlgebra.Adjoint{Float64,Array{Float64,2}}\n",
    "typeof(Xtr_labels) # Array{String,1}"
   ]
  },
  {
   "cell_type": "code",
   "execution_count": 54,
   "metadata": {},
   "outputs": [
    {
     "ename": "MethodError",
     "evalue": "MethodError: no method matching adjoint(::String)\nClosest candidates are:\n  adjoint(!Matched::Missing) at missing.jl:79\n  adjoint(!Matched::Number) at number.jl:193\n  adjoint(!Matched::LinearAlgebra.Adjoint{#s162,#s161} where #s161<:Union{StaticArray{Tuple{N},T,1} where T where N, StaticArray{Tuple{N,M},T,2} where T where M where N} where #s162) at C:\\Users\\marqu\\.julia\\packages\\StaticArrays\\3KEjZ\\src\\linalg.jl:78\n  ...",
     "output_type": "error",
     "traceback": [
      "MethodError: no method matching adjoint(::String)\nClosest candidates are:\n  adjoint(!Matched::Missing) at missing.jl:79\n  adjoint(!Matched::Number) at number.jl:193\n  adjoint(!Matched::LinearAlgebra.Adjoint{#s162,#s161} where #s161<:Union{StaticArray{Tuple{N},T,1} where T where N, StaticArray{Tuple{N,M},T,2} where T where M where N} where #s162) at C:\\Users\\marqu\\.julia\\packages\\StaticArrays\\3KEjZ\\src\\linalg.jl:78\n  ...",
      "",
      "Stacktrace:",
      " [1] isassigned(::LinearAlgebra.Adjoint{Any,Array{Any,2}}, ::Int64, ::Int64) at C:\\cygwin\\home\\Administrator\\buildbot\\worker\\package_win64\\build\\usr\\share\\julia\\stdlib\\v1.0\\LinearAlgebra\\src\\adjtrans.jl:130",
      " [2] alignment(::IOContext{Base.GenericIOBuffer{Array{UInt8,1}}}, ::LinearAlgebra.Adjoint{Any,Array{Any,2}}, ::Array{Int64,1}, ::Array{Int64,1}, ::Int64, ::Int64, ::Int64) at .\\arrayshow.jl:67",
      " [3] print_matrix(::IOContext{Base.GenericIOBuffer{Array{UInt8,1}}}, ::LinearAlgebra.Adjoint{Any,Array{Any,2}}, ::String, ::String, ::String, ::String, ::String, ::String, ::Int64, ::Int64) at .\\arrayshow.jl:186",
      " [4] print_matrix at .\\arrayshow.jl:159 [inlined]",
      " [5] print_array at .\\arrayshow.jl:308 [inlined]",
      " [6] show(::IOContext{Base.GenericIOBuffer{Array{UInt8,1}}}, ::MIME{Symbol(\"text/plain\")}, ::LinearAlgebra.Adjoint{Any,Array{Any,2}}) at .\\arrayshow.jl:345",
      " [7] limitstringmime(::MIME{Symbol(\"text/plain\")}, ::LinearAlgebra.Adjoint{Any,Array{Any,2}}) at C:\\Users\\marqu\\.julia\\packages\\IJulia\\fjEtl\\src\\inline.jl:37",
      " [8] display_mimestring(::MIME{Symbol(\"text/plain\")}, ::LinearAlgebra.Adjoint{Any,Array{Any,2}}) at C:\\Users\\marqu\\.julia\\packages\\IJulia\\fjEtl\\src\\display.jl:66",
      " [9] display_dict(::LinearAlgebra.Adjoint{Any,Array{Any,2}}) at C:\\Users\\marqu\\.julia\\packages\\IJulia\\fjEtl\\src\\display.jl:95",
      " [10] #invokelatest#1 at .\\essentials.jl:697 [inlined]",
      " [11] invokelatest at .\\essentials.jl:696 [inlined]",
      " [12] execute_request(::ZMQ.Socket, ::IJulia.Msg) at C:\\Users\\marqu\\.julia\\packages\\IJulia\\fjEtl\\src\\execute_request.jl:97",
      " [13] #invokelatest#1 at .\\essentials.jl:697 [inlined]",
      " [14] invokelatest at .\\essentials.jl:696 [inlined]",
      " [15] eventloop(::ZMQ.Socket) at C:\\Users\\marqu\\.julia\\packages\\IJulia\\fjEtl\\src\\eventloop.jl:8",
      " [16] (::getfield(IJulia, Symbol(\"##15#18\")))() at .\\task.jl:259"
     ]
    }
   ],
   "source": [
    "# split other half to testing set\n",
    "Xte = Array(Matrix(housing_df[2:2:end,1:80]))'\n",
    "#Xte_labels = Array(iris[2:2:end,81])"
   ]
  },
  {
   "cell_type": "code",
   "execution_count": 26,
   "metadata": {},
   "outputs": [
    {
     "data": {
      "text/plain": [
       "Array{String,1}"
      ]
     },
     "execution_count": 26,
     "metadata": {},
     "output_type": "execute_result"
    }
   ],
   "source": [
    "typeof(Xte) # LinearAlgebra.Adjoint{Float64,Array{Float64,2}}\n",
    "typeof(Xte_labels) # Array{String,1}"
   ]
  },
  {
   "cell_type": "code",
   "execution_count": 27,
   "metadata": {},
   "outputs": [
    {
     "data": {
      "text/plain": [
       "PCA(indim = 4, outdim = 3, principalratio = 0.99573)"
      ]
     },
     "execution_count": 27,
     "metadata": {},
     "output_type": "execute_result"
    }
   ],
   "source": [
    "# suppose Xtr and Xte are training and testing data matrix,\n",
    "# with each observation in a column\n",
    "\n",
    "# train a PCA model, allowing up to 3 dimensions\n",
    "M = fit(PCA, Xtr; maxoutdim=3)"
   ]
  },
  {
   "cell_type": "code",
   "execution_count": 28,
   "metadata": {},
   "outputs": [
    {
     "data": {
      "text/plain": [
       "PCA{Float64}"
      ]
     },
     "execution_count": 28,
     "metadata": {},
     "output_type": "execute_result"
    }
   ],
   "source": [
    "typeof(M)"
   ]
  },
  {
   "cell_type": "code",
   "execution_count": 30,
   "metadata": {},
   "outputs": [
    {
     "data": {
      "text/plain": [
       "3×75 Array{Float64,2}:\n",
       "  2.72714    2.75491    2.32396   …  -1.92047   -1.74161   -1.37706 \n",
       " -0.230916  -0.406149   0.646374      0.246554   0.127625  -0.280295\n",
       " -0.253119  -0.0271266  0.230469      0.180044   0.123165   0.314992"
      ]
     },
     "execution_count": 30,
     "metadata": {},
     "output_type": "execute_result"
    }
   ],
   "source": [
    "# apply PCA model to testing set\n",
    "Yte = transform(M, Xte)"
   ]
  },
  {
   "cell_type": "code",
   "execution_count": 31,
   "metadata": {},
   "outputs": [
    {
     "data": {
      "text/plain": [
       "Array{Float64,2}"
      ]
     },
     "execution_count": 31,
     "metadata": {},
     "output_type": "execute_result"
    }
   ],
   "source": [
    "typeof(Yte)"
   ]
  },
  {
   "cell_type": "code",
   "execution_count": 33,
   "metadata": {},
   "outputs": [
    {
     "data": {
      "text/plain": [
       "4×75 Array{Float64,2}:\n",
       " 4.86449  4.61087   5.40782   5.00775   …  6.79346  6.58825  6.46774  5.94384\n",
       " 3.04262  3.08695   3.89061   3.39069      3.20785  3.13416  3.03873  2.94737\n",
       " 1.46099  1.48132   1.68656   1.48668      5.91124  5.39197  5.25542  5.02469\n",
       " 0.10362  0.229519  0.421233  0.221041     2.28224  1.99665  1.91243  1.91901"
      ]
     },
     "execution_count": 33,
     "metadata": {},
     "output_type": "execute_result"
    }
   ],
   "source": [
    "# reconstruct testing observations (approximately)\n",
    "Xr = reconstruct(M, Yte)"
   ]
  },
  {
   "cell_type": "code",
   "execution_count": 34,
   "metadata": {},
   "outputs": [
    {
     "data": {
      "text/plain": [
       "Array{Float64,2}"
      ]
     },
     "execution_count": 34,
     "metadata": {},
     "output_type": "execute_result"
    }
   ],
   "source": [
    "typeof(Xr)"
   ]
  },
  {
   "cell_type": "code",
   "execution_count": 35,
   "metadata": {},
   "outputs": [
    {
     "data": {
      "text/plain": [
       "3×25 Array{Float64,2}:\n",
       " -1.4126    -1.95359   -3.35517   …  -1.92047   -1.74161   -1.37706 \n",
       " -0.556727  -0.133821   0.692925      0.246554   0.127625  -0.280295\n",
       "  0.214115   0.075898  -0.293002      0.180044   0.123165   0.314992"
      ]
     },
     "execution_count": 35,
     "metadata": {},
     "output_type": "execute_result"
    }
   ],
   "source": [
    "# group results by testing set labels for color coding\n",
    "setosa = Yte[:,Xte_labels.==\"setosa\"]\n",
    "versicolor = Yte[:,Xte_labels.==\"versicolor\"]\n",
    "virginica = Yte[:,Xte_labels.==\"virginica\"]"
   ]
  },
  {
   "cell_type": "code",
   "execution_count": 37,
   "metadata": {},
   "outputs": [
    {
     "data": {
      "text/plain": [
       "Array{Float64,2}"
      ]
     },
     "execution_count": 37,
     "metadata": {},
     "output_type": "execute_result"
    }
   ],
   "source": [
    "typeof(setosa)"
   ]
  },
  {
   "cell_type": "code",
   "execution_count": 38,
   "metadata": {},
   "outputs": [
    {
     "data": {
      "text/html": [
       "    <script type=\"text/javascript\">\n",
       "        requirejs([\"https://cdn.plot.ly/plotly-latest.min.js\"], function(p) {\n",
       "            window.Plotly = p\n",
       "        });\n",
       "    </script>\n"
      ]
     },
     "metadata": {},
     "output_type": "display_data"
    },
    {
     "data": {
      "application/vnd.plotly.v1+json": {
       "data": [
        {
         "colorbar": {
          "title": ""
         },
         "hoverinfo": "text",
         "legendgroup": "y1",
         "marker": {
          "color": "rgba(0, 154, 250, 1.000)",
          "line": {
           "color": "rgba(0, 0, 0, 1.000)",
           "width": 1
          },
          "size": 8,
          "symbol": "circle"
         },
         "mode": "markers",
         "name": "y1",
         "showlegend": true,
         "text": [
          null,
          null,
          null,
          null,
          null,
          null,
          null,
          null,
          null,
          null,
          null,
          null,
          null,
          null,
          null,
          null,
          null,
          null,
          null,
          null,
          null,
          null,
          null,
          null,
          null
         ],
         "type": "scatter3d",
         "x": [
          2.7271370229910716,
          2.754914126352502,
          2.323960273923084,
          2.651054412942388,
          2.689168203630764,
          2.633674661206393,
          3.2263809526967275,
          2.447743893623693,
          2.676766823053665,
          2.6239074375368103,
          2.5761164255318683,
          2.3239053049480325,
          2.521427320445945,
          2.5936411485959314,
          2.6459310704554233,
          2.4406458602395915,
          2.6535985674968874,
          2.8864002764725405,
          2.829762111410005,
          2.6168643731277608,
          2.8360651099130982,
          2.428964609971362,
          2.7245028660835553,
          2.85164077300055,
          2.725847429024839
         ],
         "xaxis": "x1",
         "y": [
          -0.23091552150748468,
          -0.40614908940640493,
          0.6463738633842837,
          0.08281441013246736,
          -0.17410970550165597,
          -0.08251829646713302,
          -0.6143053394542858,
          1.223915589193648,
          0.22849233585806983,
          0.40393281924396146,
          0.3299846061919126,
          0.029168718615310663,
          -0.19110516082323564,
          0.2951990131632182,
          -0.285002038198564,
          0.3596871900898708,
          0.9839869288811033,
          0.005853014316387279,
          0.1640041589314179,
          0.15690956490915708,
          -0.9692677174842982,
          0.09085062826490437,
          -0.3147645958588534,
          -0.3248123988828137,
          0.035762513701317
         ],
         "yaxis": "y1",
         "z": [
          -0.2531186297819421,
          -0.027126589264421477,
          0.23046868160032025,
          -0.02528530746891057,
          -0.23150687337431883,
          0.08209787262044475,
          -0.021108526683511618,
          0.40646930956872956,
          0.038612671484517636,
          0.2489757903662364,
          0.23360855705111633,
          0.026611774131785636,
          -0.2911989120953623,
          -0.05838443253602445,
          -0.0034118627406063543,
          -0.12221802423337884,
          0.259939782384365,
          -0.18009794060589646,
          0.10244626318187165,
          -0.07585463596733667,
          -0.48069026377429225,
          0.25968794201180456,
          -0.1498770026688972,
          0.0346684195728144,
          -0.09956936249115224
         ],
         "zmax": 0.1,
         "zmin": -0.1
        },
        {
         "colorbar": {
          "title": ""
         },
         "hoverinfo": "text",
         "legendgroup": "y2",
         "marker": {
          "color": "rgba(227, 111, 71, 1.000)",
          "line": {
           "color": "rgba(0, 0, 0, 1.000)",
           "width": 1
          },
          "size": 8,
          "symbol": "circle"
         },
         "mode": "markers",
         "name": "y2",
         "showlegend": true,
         "text": [
          null,
          null,
          null,
          null,
          null,
          null,
          null,
          null,
          null,
          null,
          null,
          null,
          null,
          null,
          null,
          null,
          null,
          null,
          null,
          null,
          null,
          null,
          null,
          null,
          null
         ],
         "type": "scatter3d",
         "x": [
          -0.9010492733733455,
          -0.18959270231634956,
          -0.6319378623578608,
          0.7373057615773905,
          0.005780312901831444,
          -0.4947532107700573,
          -0.9660750657862142,
          -0.8920021800126327,
          -0.22358280182785636,
          -0.04244088675584313,
          -0.33989886479012155,
          -0.9033934876247252,
          -0.8687789554808035,
          -1.5280005736533593,
          0.3141994108954697,
          0.18912619722862836,
          -1.370506375442469,
          -0.7791796802713836,
          -0.8061523462943663,
          -0.16765907175075295,
          -0.8693484191381657,
          0.6921489064799651,
          -0.3159005409743717,
          -0.6204015834176994,
          -0.28889853689686196
         ],
         "xaxis": "x1",
         "y": [
          0.35068512419395753,
          -0.7887000857121308,
          -0.40525029400299883,
          -1.019818182847322,
          -0.7468198986611754,
          -0.09675204550557294,
          -0.08871409508598756,
          0.5356726116675552,
          -0.2975180857947631,
          -0.5495661077851224,
          -0.023157689665137572,
          -0.1334005494140016,
          0.39738316341349406,
          0.3393621771888274,
          -0.3329531517715016,
          -0.6438168423720639,
          -0.37927526415165647,
          0.17293917246726015,
          -0.26450843568349236,
          -0.6603114987573893,
          -0.007377404562396376,
          -1.009917321548003,
          -0.21568059633491798,
          0.06370456745026258,
          -0.33668070581811743
         ],
         "yaxis": "y1",
         "z": [
          0.002740604458771051,
          -0.29105843911479234,
          -0.020776821000437068,
          -0.12133149368587205,
          0.17923544962155644,
          0.10077461381391595,
          -0.08985325826477876,
          -0.27592373467336756,
          -0.3223806696424683,
          -0.3171378240754806,
          -0.2542767504566561,
          -0.26323738742375424,
          -0.2933939381046798,
          -0.1484792322042337,
          -0.37731801162879836,
          -0.3997693723064175,
          -0.04504030402658151,
          0.39376928092657165,
          -0.6706349747321902,
          -0.1549793752553149,
          -0.028058249427542988,
          -0.23994035411403675,
          0.043896374966913274,
          -0.21807297774783513,
          -0.045754913370448666
         ],
         "zmax": 0.1,
         "zmin": -0.1
        },
        {
         "colorbar": {
          "title": ""
         },
         "hoverinfo": "text",
         "legendgroup": "y3",
         "marker": {
          "color": "rgba(62, 164, 78, 1.000)",
          "line": {
           "color": "rgba(0, 0, 0, 1.000)",
           "width": 1
          },
          "size": 8,
          "symbol": "circle"
         },
         "mode": "markers",
         "name": "y3",
         "showlegend": true,
         "text": [
          null,
          null,
          null,
          null,
          null,
          null,
          null,
          null,
          null,
          null,
          null,
          null,
          null,
          null,
          null,
          null,
          null,
          null,
          null,
          null,
          null,
          null,
          null,
          null,
          null
         ],
         "type": "scatter3d",
         "x": [
          -1.4125988859796452,
          -1.9535904145912892,
          -3.3551650207175725,
          -2.895809632294309,
          -2.8711015998246006,
          -1.7892587875979082,
          -1.351406842087509,
          -1.8817214980724914,
          -3.4242045663572074,
          -1.3027564237690672,
          -1.1985565250592374,
          -1.3752052256001392,
          -2.5714396525355387,
          -1.2739247001224898,
          -2.348205226926349,
          -3.161656758446426,
          -1.4252854828814085,
          -3.0342042971502385,
          -1.8800869924750707,
          -2.075749950349389,
          -1.8921188496979267,
          -2.533040645522498,
          -1.9204654167167206,
          -1.741612746921035,
          -1.377064283223734
         ],
         "xaxis": "x1",
         "y": [
          -0.5567273324290717,
          -0.13382103724730382,
          0.6929245391407982,
          0.4871337311960538,
          0.8284059878306511,
          -0.14644119786137205,
          -0.7518225966889609,
          0.13551459122676807,
          1.2536777251155553,
          -0.6733504149176113,
          -0.616192473987319,
          -0.1422128448785028,
          0.657048647990137,
          -0.09782027399977093,
          0.582452694277193,
          1.472803064956953,
          -0.08304158676953785,
          0.8332238399992337,
          0.08580510153034834,
          0.4441615137359835,
          0.4760808657252879,
          0.32904082805620555,
          0.24655386564831658,
          0.12762531481897155,
          -0.280295377645591
         ],
         "yaxis": "y1",
         "z": [
          0.21411524881412605,
          0.07589798702936834,
          -0.29300162475154923,
          -0.38608363630737347,
          0.49697945981654623,
          -0.07681167599142562,
          0.17503328897519022,
          0.4740751781157412,
          0.25966212389505466,
          -0.44415478538239617,
          0.4234766901703297,
          -0.10389273847762898,
          -0.15012928129723985,
          0.20136451430843935,
          -0.4040419885709598,
          0.03444530039145673,
          -0.18138105620674003,
          -0.26944897148325364,
          0.15516319929791642,
          0.05408892955713777,
          0.14069995750886566,
          0.30926500267705404,
          0.18004360566848232,
          0.1231653668214798,
          0.31499221749029716
         ],
         "zmax": 0.1,
         "zmin": -0.1
        }
       ],
       "layout": {
        "annotations": [],
        "height": 400,
        "legend": {
         "bgcolor": "rgba(255, 255, 255, 1.000)",
         "bordercolor": "rgba(0, 0, 0, 1.000)",
         "font": {
          "color": "rgba(0, 0, 0, 1.000)",
          "family": "sans-serif",
          "size": 11
         },
         "tracegroupgap": 0,
         "x": 1,
         "y": 1
        },
        "margin": {
         "b": 20,
         "l": 0,
         "r": 0,
         "t": 20
        },
        "paper_bgcolor": "rgba(255, 255, 255, 1.000)",
        "plot_bgcolor": "rgba(255, 255, 255, 1.000)",
        "scene": {
         "camera": {
          "eye": {
           "x": 1.12583302491977,
           "y": -1.9499999999999997,
           "z": 1.3
          }
         },
         "xaxis": {
          "anchor": "y1",
          "domain": [
           0.09128390201224845,
           0.9934383202099738
          ],
          "gridcolor": "rgba(0, 0, 0, 0.100)",
          "gridwidth": 0.5,
          "linecolor": "rgba(0, 0, 0, 1.000)",
          "mirror": false,
          "range": [
           -3.6237221319288255,
           3.4258985182683457
          ],
          "showgrid": true,
          "showline": true,
          "showticklabels": true,
          "tickangle": 0,
          "tickcolor": "rgb(0, 0, 0)",
          "tickfont": {
           "color": "rgba(0, 0, 0, 1.000)",
           "family": "sans-serif",
           "size": 11
          },
          "tickmode": "array",
          "ticks": "inside",
          "ticktext": [
           "-3",
           "-2",
           "-1",
           "0",
           "1",
           "2",
           "3"
          ],
          "tickvals": [
           -3,
           -2,
           -1,
           0,
           1,
           2,
           3
          ],
          "title": "PC1",
          "titlefont": {
           "color": "rgba(0, 0, 0, 1.000)",
           "family": "sans-serif",
           "size": 15
          },
          "type": "-",
          "visible": true,
          "zeroline": false,
          "zerolinecolor": "rgba(0, 0, 0, 1.000)"
         },
         "yaxis": {
          "anchor": "x1",
          "domain": [
           0.07581474190726165,
           0.9901574803149606
          ],
          "gridcolor": "rgba(0, 0, 0, 0.100)",
          "gridwidth": 0.5,
          "linecolor": "rgba(0, 0, 0, 1.000)",
          "mirror": false,
          "range": [
           -1.0945968202814502,
           1.5475817023910812
          ],
          "showgrid": true,
          "showline": true,
          "showticklabels": true,
          "tickangle": 0,
          "tickcolor": "rgb(0, 0, 0)",
          "tickfont": {
           "color": "rgba(0, 0, 0, 1.000)",
           "family": "sans-serif",
           "size": 11
          },
          "tickmode": "array",
          "ticks": "inside",
          "ticktext": [
           "-1.0",
           "-0.5",
           "0.0",
           "0.5",
           "1.0",
           "1.5"
          ],
          "tickvals": [
           -1,
           -0.5,
           0,
           0.5,
           1,
           1.5
          ],
          "title": "PC2",
          "titlefont": {
           "color": "rgba(0, 0, 0, 1.000)",
           "family": "sans-serif",
           "size": 15
          },
          "type": "-",
          "visible": true,
          "zeroline": false,
          "zerolinecolor": "rgba(0, 0, 0, 1.000)"
         },
         "zaxis": {
          "gridcolor": "rgba(0, 0, 0, 0.100)",
          "gridwidth": 0.5,
          "linecolor": "rgba(0, 0, 0, 1.000)",
          "mirror": false,
          "range": [
           -0.7056634077686523,
           0.5320078928530083
          ],
          "showgrid": true,
          "showline": true,
          "showticklabels": true,
          "tickangle": 0,
          "tickcolor": "rgb(0, 0, 0)",
          "tickfont": {
           "color": "rgba(0, 0, 0, 1.000)",
           "family": "sans-serif",
           "size": 11
          },
          "tickmode": "array",
          "ticks": "inside",
          "ticktext": [
           "-0.50",
           "-0.25",
           "0.00",
           "0.25",
           "0.50"
          ],
          "tickvals": [
           -0.5,
           -0.25,
           0,
           0.25,
           0.5
          ],
          "title": "PC3",
          "titlefont": {
           "color": "rgba(0, 0, 0, 1.000)",
           "family": "sans-serif",
           "size": 15
          },
          "type": "-",
          "visible": true,
          "zeroline": false,
          "zerolinecolor": "rgba(0, 0, 0, 1.000)"
         }
        },
        "showlegend": true,
        "width": 600
       }
      },
      "text/html": [
       "    <div id=\"ec816204-6930-42e2-9e87-a41baf86ad3e\" style=\"width:600px;height:400px;\"></div>\n",
       "    <script>\n",
       "    PLOT = document.getElementById('ec816204-6930-42e2-9e87-a41baf86ad3e');\n",
       "    Plotly.plot(PLOT, [{\"xaxis\":\"x1\",\"colorbar\":{\"title\":\"\"},\"yaxis\":\"y1\",\"text\":[null,null,null,null,null,null,null,null,null,null,null,null,null,null,null,null,null,null,null,null,null,null,null,null,null],\"x\":[2.7271370229910716,2.754914126352502,2.323960273923084,2.651054412942388,2.689168203630764,2.633674661206393,3.2263809526967275,2.447743893623693,2.676766823053665,2.6239074375368103,2.5761164255318683,2.3239053049480325,2.521427320445945,2.5936411485959314,2.6459310704554233,2.4406458602395915,2.6535985674968874,2.8864002764725405,2.829762111410005,2.6168643731277608,2.8360651099130982,2.428964609971362,2.7245028660835553,2.85164077300055,2.725847429024839],\"showlegend\":true,\"mode\":\"markers\",\"name\":\"y1\",\"zmin\":-0.1,\"legendgroup\":\"y1\",\"z\":[-0.2531186297819421,-0.027126589264421477,0.23046868160032025,-0.02528530746891057,-0.23150687337431883,0.08209787262044475,-0.021108526683511618,0.40646930956872956,0.038612671484517636,0.2489757903662364,0.23360855705111633,0.026611774131785636,-0.2911989120953623,-0.05838443253602445,-0.0034118627406063543,-0.12221802423337884,0.259939782384365,-0.18009794060589646,0.10244626318187165,-0.07585463596733667,-0.48069026377429225,0.25968794201180456,-0.1498770026688972,0.0346684195728144,-0.09956936249115224],\"marker\":{\"symbol\":\"circle\",\"color\":\"rgba(0, 154, 250, 1.000)\",\"line\":{\"color\":\"rgba(0, 0, 0, 1.000)\",\"width\":1},\"size\":8},\"zmax\":0.1,\"y\":[-0.23091552150748468,-0.40614908940640493,0.6463738633842837,0.08281441013246736,-0.17410970550165597,-0.08251829646713302,-0.6143053394542858,1.223915589193648,0.22849233585806983,0.40393281924396146,0.3299846061919126,0.029168718615310663,-0.19110516082323564,0.2951990131632182,-0.285002038198564,0.3596871900898708,0.9839869288811033,0.005853014316387279,0.1640041589314179,0.15690956490915708,-0.9692677174842982,0.09085062826490437,-0.3147645958588534,-0.3248123988828137,0.035762513701317],\"type\":\"scatter3d\",\"hoverinfo\":\"text\"},{\"xaxis\":\"x1\",\"colorbar\":{\"title\":\"\"},\"yaxis\":\"y1\",\"text\":[null,null,null,null,null,null,null,null,null,null,null,null,null,null,null,null,null,null,null,null,null,null,null,null,null],\"x\":[-0.9010492733733455,-0.18959270231634956,-0.6319378623578608,0.7373057615773905,0.005780312901831444,-0.4947532107700573,-0.9660750657862142,-0.8920021800126327,-0.22358280182785636,-0.04244088675584313,-0.33989886479012155,-0.9033934876247252,-0.8687789554808035,-1.5280005736533593,0.3141994108954697,0.18912619722862836,-1.370506375442469,-0.7791796802713836,-0.8061523462943663,-0.16765907175075295,-0.8693484191381657,0.6921489064799651,-0.3159005409743717,-0.6204015834176994,-0.28889853689686196],\"showlegend\":true,\"mode\":\"markers\",\"name\":\"y2\",\"zmin\":-0.1,\"legendgroup\":\"y2\",\"z\":[0.002740604458771051,-0.29105843911479234,-0.020776821000437068,-0.12133149368587205,0.17923544962155644,0.10077461381391595,-0.08985325826477876,-0.27592373467336756,-0.3223806696424683,-0.3171378240754806,-0.2542767504566561,-0.26323738742375424,-0.2933939381046798,-0.1484792322042337,-0.37731801162879836,-0.3997693723064175,-0.04504030402658151,0.39376928092657165,-0.6706349747321902,-0.1549793752553149,-0.028058249427542988,-0.23994035411403675,0.043896374966913274,-0.21807297774783513,-0.045754913370448666],\"marker\":{\"symbol\":\"circle\",\"color\":\"rgba(227, 111, 71, 1.000)\",\"line\":{\"color\":\"rgba(0, 0, 0, 1.000)\",\"width\":1},\"size\":8},\"zmax\":0.1,\"y\":[0.35068512419395753,-0.7887000857121308,-0.40525029400299883,-1.019818182847322,-0.7468198986611754,-0.09675204550557294,-0.08871409508598756,0.5356726116675552,-0.2975180857947631,-0.5495661077851224,-0.023157689665137572,-0.1334005494140016,0.39738316341349406,0.3393621771888274,-0.3329531517715016,-0.6438168423720639,-0.37927526415165647,0.17293917246726015,-0.26450843568349236,-0.6603114987573893,-0.007377404562396376,-1.009917321548003,-0.21568059633491798,0.06370456745026258,-0.33668070581811743],\"type\":\"scatter3d\",\"hoverinfo\":\"text\"},{\"xaxis\":\"x1\",\"colorbar\":{\"title\":\"\"},\"yaxis\":\"y1\",\"text\":[null,null,null,null,null,null,null,null,null,null,null,null,null,null,null,null,null,null,null,null,null,null,null,null,null],\"x\":[-1.4125988859796452,-1.9535904145912892,-3.3551650207175725,-2.895809632294309,-2.8711015998246006,-1.7892587875979082,-1.351406842087509,-1.8817214980724914,-3.4242045663572074,-1.3027564237690672,-1.1985565250592374,-1.3752052256001392,-2.5714396525355387,-1.2739247001224898,-2.348205226926349,-3.161656758446426,-1.4252854828814085,-3.0342042971502385,-1.8800869924750707,-2.075749950349389,-1.8921188496979267,-2.533040645522498,-1.9204654167167206,-1.741612746921035,-1.377064283223734],\"showlegend\":true,\"mode\":\"markers\",\"name\":\"y3\",\"zmin\":-0.1,\"legendgroup\":\"y3\",\"z\":[0.21411524881412605,0.07589798702936834,-0.29300162475154923,-0.38608363630737347,0.49697945981654623,-0.07681167599142562,0.17503328897519022,0.4740751781157412,0.25966212389505466,-0.44415478538239617,0.4234766901703297,-0.10389273847762898,-0.15012928129723985,0.20136451430843935,-0.4040419885709598,0.03444530039145673,-0.18138105620674003,-0.26944897148325364,0.15516319929791642,0.05408892955713777,0.14069995750886566,0.30926500267705404,0.18004360566848232,0.1231653668214798,0.31499221749029716],\"marker\":{\"symbol\":\"circle\",\"color\":\"rgba(62, 164, 78, 1.000)\",\"line\":{\"color\":\"rgba(0, 0, 0, 1.000)\",\"width\":1},\"size\":8},\"zmax\":0.1,\"y\":[-0.5567273324290717,-0.13382103724730382,0.6929245391407982,0.4871337311960538,0.8284059878306511,-0.14644119786137205,-0.7518225966889609,0.13551459122676807,1.2536777251155553,-0.6733504149176113,-0.616192473987319,-0.1422128448785028,0.657048647990137,-0.09782027399977093,0.582452694277193,1.472803064956953,-0.08304158676953785,0.8332238399992337,0.08580510153034834,0.4441615137359835,0.4760808657252879,0.32904082805620555,0.24655386564831658,0.12762531481897155,-0.280295377645591],\"type\":\"scatter3d\",\"hoverinfo\":\"text\"}], {\"showlegend\":true,\"paper_bgcolor\":\"rgba(255, 255, 255, 1.000)\",\"annotations\":[],\"height\":400,\"margin\":{\"l\":0,\"b\":20,\"r\":0,\"t\":20},\"plot_bgcolor\":\"rgba(255, 255, 255, 1.000)\",\"scene\":{\"camera\":{\"eye\":{\"y\":-1.9499999999999997,\"z\":1.3,\"x\":1.12583302491977}},\"xaxis\":{\"showticklabels\":true,\"gridwidth\":0.5,\"tickvals\":[-3.0,-2.0,-1.0,0.0,1.0,2.0,3.0],\"visible\":true,\"ticks\":\"inside\",\"range\":[-3.6237221319288255,3.4258985182683457],\"domain\":[0.09128390201224845,0.9934383202099738],\"tickmode\":\"array\",\"linecolor\":\"rgba(0, 0, 0, 1.000)\",\"showgrid\":true,\"title\":\"PC1\",\"mirror\":false,\"tickangle\":0,\"showline\":true,\"gridcolor\":\"rgba(0, 0, 0, 0.100)\",\"titlefont\":{\"color\":\"rgba(0, 0, 0, 1.000)\",\"family\":\"sans-serif\",\"size\":15},\"tickcolor\":\"rgb(0, 0, 0)\",\"ticktext\":[\"-3\",\"-2\",\"-1\",\"0\",\"1\",\"2\",\"3\"],\"zeroline\":false,\"type\":\"-\",\"tickfont\":{\"color\":\"rgba(0, 0, 0, 1.000)\",\"family\":\"sans-serif\",\"size\":11},\"zerolinecolor\":\"rgba(0, 0, 0, 1.000)\",\"anchor\":\"y1\"},\"yaxis\":{\"showticklabels\":true,\"gridwidth\":0.5,\"tickvals\":[-1.0,-0.5,0.0,0.5,1.0,1.5],\"visible\":true,\"ticks\":\"inside\",\"range\":[-1.0945968202814502,1.5475817023910812],\"domain\":[0.07581474190726165,0.9901574803149606],\"tickmode\":\"array\",\"linecolor\":\"rgba(0, 0, 0, 1.000)\",\"showgrid\":true,\"title\":\"PC2\",\"mirror\":false,\"tickangle\":0,\"showline\":true,\"gridcolor\":\"rgba(0, 0, 0, 0.100)\",\"titlefont\":{\"color\":\"rgba(0, 0, 0, 1.000)\",\"family\":\"sans-serif\",\"size\":15},\"tickcolor\":\"rgb(0, 0, 0)\",\"ticktext\":[\"-1.0\",\"-0.5\",\"0.0\",\"0.5\",\"1.0\",\"1.5\"],\"zeroline\":false,\"type\":\"-\",\"tickfont\":{\"color\":\"rgba(0, 0, 0, 1.000)\",\"family\":\"sans-serif\",\"size\":11},\"zerolinecolor\":\"rgba(0, 0, 0, 1.000)\",\"anchor\":\"x1\"},\"zaxis\":{\"showticklabels\":true,\"gridwidth\":0.5,\"tickvals\":[-0.5,-0.25,0.0,0.25,0.5],\"visible\":true,\"ticks\":\"inside\",\"range\":[-0.7056634077686523,0.5320078928530083],\"tickmode\":\"array\",\"linecolor\":\"rgba(0, 0, 0, 1.000)\",\"showgrid\":true,\"title\":\"PC3\",\"mirror\":false,\"tickangle\":0,\"showline\":true,\"gridcolor\":\"rgba(0, 0, 0, 0.100)\",\"titlefont\":{\"color\":\"rgba(0, 0, 0, 1.000)\",\"family\":\"sans-serif\",\"size\":15},\"tickcolor\":\"rgb(0, 0, 0)\",\"ticktext\":[\"-0.50\",\"-0.25\",\"0.00\",\"0.25\",\"0.50\"],\"zeroline\":false,\"type\":\"-\",\"tickfont\":{\"color\":\"rgba(0, 0, 0, 1.000)\",\"family\":\"sans-serif\",\"size\":11},\"zerolinecolor\":\"rgba(0, 0, 0, 1.000)\"}},\"legend\":{\"tracegroupgap\":0,\"bordercolor\":\"rgba(0, 0, 0, 1.000)\",\"bgcolor\":\"rgba(255, 255, 255, 1.000)\",\"font\":{\"color\":\"rgba(0, 0, 0, 1.000)\",\"family\":\"sans-serif\",\"size\":11},\"y\":1.0,\"x\":1.0},\"width\":600});\n",
       "    </script>\n"
      ]
     },
     "execution_count": 38,
     "metadata": {},
     "output_type": "execute_result"
    }
   ],
   "source": [
    "# visualize first 3 principal components in 3D interacive plot\n",
    "p = scatter(setosa[1,:],setosa[2,:],setosa[3,:],marker=:circle,linewidth=0)\n",
    "scatter!(versicolor[1,:],versicolor[2,:],versicolor[3,:],marker=:circle,linewidth=0)\n",
    "scatter!(virginica[1,:],virginica[2,:],virginica[3,:],marker=:circle,linewidth=0)\n",
    "plot!(p,xlabel=\"PC1\",ylabel=\"PC2\",zlabel=\"PC3\")"
   ]
  },
  {
   "cell_type": "code",
   "execution_count": null,
   "metadata": {},
   "outputs": [],
   "source": []
  }
 ],
 "metadata": {
  "kernelspec": {
   "display_name": "Julia 1.0.3",
   "language": "julia",
   "name": "julia-1.0"
  },
  "language_info": {
   "file_extension": ".jl",
   "mimetype": "application/julia",
   "name": "julia",
   "version": "1.0.3"
  }
 },
 "nbformat": 4,
 "nbformat_minor": 2
}
