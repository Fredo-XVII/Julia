{
 "cells": [
  {
   "cell_type": "code",
   "execution_count": 2,
   "metadata": {},
   "outputs": [],
   "source": [
    "using Pkg"
   ]
  },
  {
   "cell_type": "code",
   "execution_count": 3,
   "metadata": {},
   "outputs": [
    {
     "ename": "UndefVarError",
     "evalue": "UndefVarError: Pkg not defined",
     "output_type": "error",
     "traceback": [
      "UndefVarError: Pkg not defined",
      "",
      "Stacktrace:",
      " [1] top-level scope at In[3]:1"
     ]
    }
   ],
   "source": [
    "Pkg.add(\"Plots\")"
   ]
  },
  {
   "cell_type": "code",
   "execution_count": 5,
   "metadata": {},
   "outputs": [
    {
     "ename": "UndefVarError",
     "evalue": "UndefVarError: Pkg not defined",
     "output_type": "error",
     "traceback": [
      "UndefVarError: Pkg not defined",
      "",
      "Stacktrace:",
      " [1] top-level scope at In[5]:1"
     ]
    }
   ],
   "source": [
    "Pkg.add(\"QuantEcon\")"
   ]
  },
  {
   "cell_type": "code",
   "execution_count": 4,
   "metadata": {},
   "outputs": [
    {
     "name": "stdout",
     "output_type": "stream",
     "text": [
      "\u001b[32m\u001b[1m  Updating\u001b[22m\u001b[39m registry at `C:\\Users\\marqu\\.julia\\registries\\General`\n",
      "\u001b[32m\u001b[1m  Updating\u001b[22m\u001b[39m git-repo `https://github.com/JuliaRegistries/General.git`\n",
      "\u001b[2K\u001b[?25h[1mFetching:\u001b[22m\u001b[39m [========================================>]  100.0 %.0 % [=>                                       ]  1.9 % [==>                                      ]  3.4 %===>                                     ]  5.4 %>                                    ]  8.8 % [========>                                ]  17.7 %==========>                              ]  24.3 %]  38.4 %]  45.3 %>               ]  61.5 %============================>            ]  69.4 %6 %\u001b[32m\u001b[1m Resolving\u001b[22m\u001b[39m package versions...\n",
      "\u001b[32m\u001b[1m Installed\u001b[22m\u001b[39m Glob ──────────────────────── v1.2.0\n",
      "\u001b[32m\u001b[1m Installed\u001b[22m\u001b[39m TableTraitsUtils ──────────── v0.4.0\n",
      "\u001b[32m\u001b[1m Installed\u001b[22m\u001b[39m StructArrays ──────────────── v0.3.4\n",
      "\u001b[32m\u001b[1m Installed\u001b[22m\u001b[39m QuadGK ────────────────────── v2.0.4\n",
      "\u001b[32m\u001b[1m Installed\u001b[22m\u001b[39m LibCURL ───────────────────── v0.5.1\n",
      "\u001b[32m\u001b[1m Installed\u001b[22m\u001b[39m JuliaDB ───────────────────── v0.12.0\n",
      "\u001b[32m\u001b[1m Installed\u001b[22m\u001b[39m OnlineStats ───────────────── v0.23.0\n",
      "\u001b[32m\u001b[1m Installed\u001b[22m\u001b[39m LossFunctions ─────────────── v0.5.1\n",
      "\u001b[32m\u001b[1m Installed\u001b[22m\u001b[39m CMake ─────────────────────── v1.1.2\n",
      "\u001b[32m\u001b[1m Installed\u001b[22m\u001b[39m AbstractFFTs ──────────────── v0.4.1\n",
      "\u001b[32m\u001b[1m Installed\u001b[22m\u001b[39m IteratorInterfaceExtensions ─ v1.0.0\n",
      "\u001b[32m\u001b[1m Installed\u001b[22m\u001b[39m CMakeWrapper ──────────────── v0.2.3\n",
      "\u001b[32m\u001b[1m Installed\u001b[22m\u001b[39m Compat ────────────────────── v2.1.0\n",
      "\u001b[32m\u001b[1m Installed\u001b[22m\u001b[39m Parsers ───────────────────── v0.2.22\n",
      "\u001b[32m\u001b[1m Installed\u001b[22m\u001b[39m BinaryProvider ────────────── v0.5.4\n",
      "\u001b[32m\u001b[1m Installed\u001b[22m\u001b[39m DoubleFloats ──────────────── v0.9.1\n",
      "\u001b[32m\u001b[1m Installed\u001b[22m\u001b[39m Missings ──────────────────── v0.4.1\n",
      "\u001b[32m\u001b[1m Installed\u001b[22m\u001b[39m Widgets ───────────────────── v0.6.1\n",
      "\u001b[32m\u001b[1m Installed\u001b[22m\u001b[39m DataStreams ───────────────── v0.4.2\n",
      "\u001b[32m\u001b[1m Installed\u001b[22m\u001b[39m CodecZlib ─────────────────── v0.5.2\n",
      "\u001b[32m\u001b[1m Installed\u001b[22m\u001b[39m GenericSchur ──────────────── v0.2.3\n",
      "\u001b[32m\u001b[1m Installed\u001b[22m\u001b[39m MbedTLS ───────────────────── v0.6.8\n",
      "\u001b[32m\u001b[1m Installed\u001b[22m\u001b[39m LearnBase ─────────────────── v0.2.2\n",
      "\u001b[32m\u001b[1m Installed\u001b[22m\u001b[39m Interpolations ────────────── v0.12.2\n",
      "\u001b[32m\u001b[1m Installed\u001b[22m\u001b[39m TableTraits ───────────────── v1.0.0\n",
      "\u001b[32m\u001b[1m Installed\u001b[22m\u001b[39m DiffRules ─────────────────── v0.0.10\n",
      "\u001b[32m\u001b[1m Installed\u001b[22m\u001b[39m Quadmath ──────────────────── v0.4.0\n",
      "\u001b[32m\u001b[1m Installed\u001b[22m\u001b[39m NLSolversBase ─────────────── v7.3.1\n",
      "\u001b[32m\u001b[1m Installed\u001b[22m\u001b[39m TranscodingStreams ────────── v0.9.4\n",
      "\u001b[32m\u001b[1m Installed\u001b[22m\u001b[39m Distances ─────────────────── v0.8.0\n",
      "\u001b[32m\u001b[1m Installed\u001b[22m\u001b[39m Compose ───────────────────── v0.7.3\n",
      "\u001b[32m\u001b[1m Installed\u001b[22m\u001b[39m Distributions ─────────────── v0.20.0\n",
      "\u001b[32m\u001b[1m Installed\u001b[22m\u001b[39m PooledArrays ──────────────── v0.5.2\n",
      "\u001b[32m\u001b[1m Installed\u001b[22m\u001b[39m DocStringExtensions ───────── v0.7.0\n",
      "\u001b[32m\u001b[1m Installed\u001b[22m\u001b[39m CSTParser ─────────────────── v0.5.2\n",
      "\u001b[32m\u001b[1m Installed\u001b[22m\u001b[39m PDMats ────────────────────── v0.9.7\n",
      "\u001b[32m\u001b[1m Installed\u001b[22m\u001b[39m GenericSVD ────────────────── v0.2.1\n",
      "\u001b[32m\u001b[1m Installed\u001b[22m\u001b[39m StatsBase ─────────────────── v0.30.0\n",
      "\u001b[32m\u001b[1m Installed\u001b[22m\u001b[39m StaticArrays ──────────────── v0.11.0\n",
      "\u001b[32m\u001b[1m Installed\u001b[22m\u001b[39m HTTP ──────────────────────── v0.8.2\n",
      "\u001b[32m\u001b[1m Installed\u001b[22m\u001b[39m PositiveFactorizations ────── v0.2.2\n",
      "\u001b[32m\u001b[1m Installed\u001b[22m\u001b[39m OrderedCollections ────────── v1.1.0\n",
      "\u001b[32m\u001b[1m Installed\u001b[22m\u001b[39m InteractBulma ─────────────── v0.6.1\n",
      "\u001b[32m\u001b[1m Installed\u001b[22m\u001b[39m SweepOperator ─────────────── v0.2.0\n",
      "\u001b[32m\u001b[1m Installed\u001b[22m\u001b[39m IterableTables ────────────── v0.11.0\n",
      "\u001b[32m\u001b[1m Installed\u001b[22m\u001b[39m MacroTools ────────────────── v0.5.0\n",
      "\u001b[32m\u001b[1m Installed\u001b[22m\u001b[39m Tokenize ──────────────────── v0.5.3\n",
      "\u001b[32m\u001b[1m Installed\u001b[22m\u001b[39m Optim ─────────────────────── v0.18.1\n",
      "\u001b[32m\u001b[1m Installed\u001b[22m\u001b[39m Juno ──────────────────────── v0.7.0\n",
      "\u001b[32m\u001b[1m Installed\u001b[22m\u001b[39m IniFile ───────────────────── v0.5.0\n",
      "\u001b[32m\u001b[1m Installed\u001b[22m\u001b[39m InteractBase ──────────────── v0.10.2\n",
      "\u001b[32m\u001b[1m Installed\u001b[22m\u001b[39m OffsetArrays ──────────────── v0.11.0\n",
      "\u001b[32m\u001b[1m Installed\u001b[22m\u001b[39m CategoricalArrays ─────────── v0.5.4\n",
      "\u001b[32m\u001b[1m Installed\u001b[22m\u001b[39m PlotUtils ─────────────────── v0.5.8\n",
      "\u001b[32m\u001b[1m Installed\u001b[22m\u001b[39m Tables ────────────────────── v0.2.5\n",
      "\u001b[32m\u001b[1m Installed\u001b[22m\u001b[39m WebIO ─────────────────────── v0.8.4\n",
      "\u001b[32m\u001b[1m Installed\u001b[22m\u001b[39m OnlineStatsBase ───────────── v0.10.2\n",
      "\u001b[32m\u001b[1m Installed\u001b[22m\u001b[39m Conda ─────────────────────── v1.3.0\n",
      "\u001b[32m\u001b[1m Installed\u001b[22m\u001b[39m AxisAlgorithms ────────────── v1.0.0\n",
      "\u001b[32m\u001b[1m Installed\u001b[22m\u001b[39m Knockout ──────────────────── v0.2.2\n",
      "\u001b[32m\u001b[1m Installed\u001b[22m\u001b[39m Ratios ────────────────────── v0.3.1\n",
      "\u001b[32m\u001b[1m Installed\u001b[22m\u001b[39m DiffResults ───────────────── v0.0.4\n",
      "\u001b[32m\u001b[1m Installed\u001b[22m\u001b[39m Dagger ────────────────────── v0.8.0\n",
      "\u001b[32m\u001b[1m Installed\u001b[22m\u001b[39m Cairo ─────────────────────── v0.6.0\n",
      "\u001b[32m\u001b[1m Installed\u001b[22m\u001b[39m WeakRefStrings ────────────── v0.5.8\n",
      "\u001b[32m\u001b[1m Installed\u001b[22m\u001b[39m DiffEqDiffTools ───────────── v0.10.1\n",
      "\u001b[32m\u001b[1m Installed\u001b[22m\u001b[39m SoftGlobalScope ───────────── v1.0.10\n",
      "\u001b[32m\u001b[1m Installed\u001b[22m\u001b[39m MemPool ───────────────────── v0.2.0\n",
      "\u001b[32m\u001b[1m Installed\u001b[22m\u001b[39m PenaltyFunctions ──────────── v0.1.2\n",
      "\u001b[32m\u001b[1m Installed\u001b[22m\u001b[39m Sass ──────────────────────── v0.1.0\n",
      "\u001b[32m\u001b[1m Installed\u001b[22m\u001b[39m Nullables ─────────────────── v0.0.8\n",
      "\u001b[32m\u001b[1m Installed\u001b[22m\u001b[39m GR ────────────────────────── v0.40.0\n",
      "\u001b[32m\u001b[1m Installed\u001b[22m\u001b[39m WebSockets ────────────────── v1.5.2\n",
      "\u001b[32m\u001b[1m Installed\u001b[22m\u001b[39m Arpack ────────────────────── v0.3.1\n",
      "\u001b[32m\u001b[1m Installed\u001b[22m\u001b[39m ColorTypes ────────────────── v0.8.0\n",
      "\u001b[32m\u001b[1m Installed\u001b[22m\u001b[39m TextParse ─────────────────── v0.9.1\n",
      "\u001b[32m\u001b[1m Installed\u001b[22m\u001b[39m IndexedTables ─────────────── v0.12.0\n",
      "\u001b[32m\u001b[1m  Updating\u001b[22m\u001b[39m `C:\\Users\\marqu\\.julia\\environments\\v1.0\\Project.toml`\n",
      " \u001b[90m [a93385a2]\u001b[39m\u001b[92m + JuliaDB v0.12.0\u001b[39m\n",
      "\u001b[32m\u001b[1m  Updating\u001b[22m\u001b[39m `C:\\Users\\marqu\\.julia\\environments\\v1.0\\Manifest.toml`\n",
      " \u001b[90m [621f4979]\u001b[39m\u001b[93m ↑ AbstractFFTs v0.3.2 ⇒ v0.4.1\u001b[39m\n",
      " \u001b[90m [7d9fca2a]\u001b[39m\u001b[93m ↑ Arpack v0.3.0 ⇒ v0.3.1\u001b[39m\n",
      " \u001b[90m [13072b0f]\u001b[39m\u001b[93m ↑ AxisAlgorithms v0.3.0 ⇒ v1.0.0\u001b[39m\n",
      " \u001b[90m [b99e7846]\u001b[39m\u001b[93m ↑ BinaryProvider v0.5.3 ⇒ v0.5.4\u001b[39m\n",
      " \u001b[90m [631607c0]\u001b[39m\u001b[93m ↑ CMake v1.1.1 ⇒ v1.1.2\u001b[39m\n",
      " \u001b[90m [d5fb7624]\u001b[39m\u001b[93m ↑ CMakeWrapper v0.2.2 ⇒ v0.2.3\u001b[39m\n",
      " \u001b[90m [00ebfdb7]\u001b[39m\u001b[92m + CSTParser v0.5.2\u001b[39m\n",
      " \u001b[90m [159f3aea]\u001b[39m\u001b[93m ↑ Cairo v0.5.6 ⇒ v0.6.0\u001b[39m\n",
      " \u001b[90m [324d7699]\u001b[39m\u001b[93m ↑ CategoricalArrays v0.5.2 ⇒ v0.5.4\u001b[39m\n",
      " \u001b[90m [944b1d66]\u001b[39m\u001b[93m ↑ CodecZlib v0.5.1 ⇒ v0.5.2\u001b[39m\n",
      " \u001b[90m [3da002f7]\u001b[39m\u001b[93m ↑ ColorTypes v0.7.5 ⇒ v0.8.0\u001b[39m\n",
      " \u001b[90m [34da2185]\u001b[39m\u001b[93m ↑ Compat v1.5.1 ⇒ v2.1.0\u001b[39m\n",
      " \u001b[90m [a81c6b42]\u001b[39m\u001b[93m ↑ Compose v0.7.2 ⇒ v0.7.3\u001b[39m\n",
      " \u001b[90m [8f4d0f93]\u001b[39m\u001b[93m ↑ Conda v1.2.0 ⇒ v1.3.0\u001b[39m\n",
      " \u001b[90m [d58978e5]\u001b[39m\u001b[92m + Dagger v0.8.0\u001b[39m\n",
      " \u001b[90m [9a8bc11e]\u001b[39m\u001b[93m ↑ DataStreams v0.4.1 ⇒ v0.4.2\u001b[39m\n",
      " \u001b[90m [01453d9d]\u001b[39m\u001b[93m ↑ DiffEqDiffTools v0.7.1 ⇒ v0.10.1\u001b[39m\n",
      " \u001b[90m [163ba53b]\u001b[39m\u001b[93m ↑ DiffResults v0.0.3 ⇒ v0.0.4\u001b[39m\n",
      " \u001b[90m [b552c78f]\u001b[39m\u001b[93m ↑ DiffRules v0.0.8 ⇒ v0.0.10\u001b[39m\n",
      " \u001b[90m [b4f34e82]\u001b[39m\u001b[93m ↑ Distances v0.7.4 ⇒ v0.8.0\u001b[39m\n",
      " \u001b[90m [31c24e10]\u001b[39m\u001b[93m ↑ Distributions v0.16.4 ⇒ v0.20.0\u001b[39m\n",
      " \u001b[90m [ffbed154]\u001b[39m\u001b[93m ↑ DocStringExtensions v0.6.0 ⇒ v0.7.0\u001b[39m\n",
      " \u001b[90m [497a8b3b]\u001b[39m\u001b[92m + DoubleFloats v0.9.1\u001b[39m\n",
      " \u001b[90m [28b8d3ca]\u001b[39m\u001b[93m ↑ GR v0.37.0 ⇒ v0.40.0\u001b[39m\n",
      " \u001b[90m [01680d73]\u001b[39m\u001b[92m + GenericSVD v0.2.1\u001b[39m\n",
      " \u001b[90m [c145ed77]\u001b[39m\u001b[92m + GenericSchur v0.2.3\u001b[39m\n",
      " \u001b[90m [c27321d9]\u001b[39m\u001b[92m + Glob v1.2.0\u001b[39m\n",
      " \u001b[90m [cd3eb016]\u001b[39m\u001b[92m + HTTP v0.8.2\u001b[39m\n",
      " \u001b[90m [6deec6e2]\u001b[39m\u001b[92m + IndexedTables v0.12.0\u001b[39m\n",
      " \u001b[90m [83e8ac13]\u001b[39m\u001b[92m + IniFile v0.5.0\u001b[39m\n",
      " \u001b[90m [d3863d7c]\u001b[39m\u001b[93m ↑ InteractBase v0.8.2 ⇒ v0.10.2\u001b[39m\n",
      " \u001b[90m [7981ab7d]\u001b[39m\u001b[93m ↑ InteractBulma v0.4.2 ⇒ v0.6.1\u001b[39m\n",
      " \u001b[90m [a98d9a8b]\u001b[39m\u001b[93m ↑ Interpolations v0.11.2 ⇒ v0.12.2\u001b[39m\n",
      " \u001b[90m [1c8ee90f]\u001b[39m\u001b[93m ↑ IterableTables v0.10.0 ⇒ v0.11.0\u001b[39m\n",
      " \u001b[90m [82899510]\u001b[39m\u001b[93m ↑ IteratorInterfaceExtensions v0.1.1 ⇒ v1.0.0\u001b[39m\n",
      " \u001b[90m [a93385a2]\u001b[39m\u001b[92m + JuliaDB v0.12.0\u001b[39m\n",
      " \u001b[90m [e5e0dc1b]\u001b[39m\u001b[93m ↑ Juno v0.5.4 ⇒ v0.7.0\u001b[39m\n",
      " \u001b[90m [bcebb21b]\u001b[39m\u001b[93m ↑ Knockout v0.2.0 ⇒ v0.2.2\u001b[39m\n",
      " \u001b[90m [7f8f8fb0]\u001b[39m\u001b[92m + LearnBase v0.2.2\u001b[39m\n",
      " \u001b[90m [b27032c2]\u001b[39m\u001b[93m ↑ LibCURL v0.4.1 ⇒ v0.5.1\u001b[39m\n",
      " \u001b[90m [30fc2ffe]\u001b[39m\u001b[92m + LossFunctions v0.5.1\u001b[39m\n",
      " \u001b[90m [1914dd2f]\u001b[39m\u001b[93m ↑ MacroTools v0.4.4 ⇒ v0.5.0\u001b[39m\n",
      " \u001b[90m [739be429]\u001b[39m\u001b[93m ↑ MbedTLS v0.6.7 ⇒ v0.6.8\u001b[39m\n",
      " \u001b[90m [f9f48841]\u001b[39m\u001b[92m + MemPool v0.2.0\u001b[39m\n",
      " \u001b[90m [e1d29d7a]\u001b[39m\u001b[93m ↑ Missings v0.4.0 ⇒ v0.4.1\u001b[39m\n",
      " \u001b[90m [d41bc354]\u001b[39m\u001b[93m ↑ NLSolversBase v7.2.0 ⇒ v7.3.1\u001b[39m\n",
      " \u001b[90m [4d1e1d77]\u001b[39m\u001b[92m + Nullables v0.0.8\u001b[39m\n",
      " \u001b[90m [6fe1bfb0]\u001b[39m\u001b[93m ↑ OffsetArrays v0.10.0 ⇒ v0.11.0\u001b[39m\n",
      " \u001b[90m [a15396b6]\u001b[39m\u001b[92m + OnlineStats v0.23.0\u001b[39m\n",
      " \u001b[90m [925886fa]\u001b[39m\u001b[92m + OnlineStatsBase v0.10.2\u001b[39m\n",
      " \u001b[90m [429524aa]\u001b[39m\u001b[93m ↑ Optim v0.17.2 ⇒ v0.18.1\u001b[39m\n",
      " \u001b[90m [bac558e1]\u001b[39m\u001b[93m ↑ OrderedCollections v1.0.2 ⇒ v1.1.0\u001b[39m\n",
      " \u001b[90m [90014a1f]\u001b[39m\u001b[93m ↑ PDMats v0.9.6 ⇒ v0.9.7\u001b[39m\n",
      " \u001b[90m [69de0a69]\u001b[39m\u001b[93m ↑ Parsers v0.2.16 ⇒ v0.2.22\u001b[39m\n"
     ]
    },
    {
     "name": "stdout",
     "output_type": "stream",
     "text": [
      " \u001b[90m [06bb1623]\u001b[39m\u001b[92m + PenaltyFunctions v0.1.2\u001b[39m\n",
      " \u001b[90m [995b91a9]\u001b[39m\u001b[93m ↑ PlotUtils v0.5.5 ⇒ v0.5.8\u001b[39m\n",
      " \u001b[90m [2dfb63ee]\u001b[39m\u001b[92m + PooledArrays v0.5.2\u001b[39m\n",
      " \u001b[90m [85a6dd25]\u001b[39m\u001b[93m ↑ PositiveFactorizations v0.2.1 ⇒ v0.2.2\u001b[39m\n",
      " \u001b[90m [1fd47b50]\u001b[39m\u001b[93m ↑ QuadGK v2.0.3 ⇒ v2.0.4\u001b[39m\n",
      " \u001b[90m [be4d8f0f]\u001b[39m\u001b[92m + Quadmath v0.4.0\u001b[39m\n",
      " \u001b[90m [c84ed2f1]\u001b[39m\u001b[93m ↑ Ratios v0.3.0 ⇒ v0.3.1\u001b[39m\n",
      " \u001b[90m [322a6be2]\u001b[39m\u001b[92m + Sass v0.1.0\u001b[39m\n",
      " \u001b[90m [b85f4697]\u001b[39m\u001b[93m ↑ SoftGlobalScope v1.0.9 ⇒ v1.0.10\u001b[39m\n",
      " \u001b[90m [90137ffa]\u001b[39m\u001b[93m ↑ StaticArrays v0.10.2 ⇒ v0.11.0\u001b[39m\n",
      " \u001b[90m [2913bbd2]\u001b[39m\u001b[93m ↑ StatsBase v0.27.0 ⇒ v0.30.0\u001b[39m\n",
      " \u001b[90m [09ab397b]\u001b[39m\u001b[92m + StructArrays v0.3.4\u001b[39m\n",
      " \u001b[90m [7522ee7d]\u001b[39m\u001b[92m + SweepOperator v0.2.0\u001b[39m\n",
      " \u001b[90m [3783bdb8]\u001b[39m\u001b[93m ↑ TableTraits v0.4.1 ⇒ v1.0.0\u001b[39m\n",
      " \u001b[90m [382cd787]\u001b[39m\u001b[93m ↑ TableTraitsUtils v0.3.1 ⇒ v0.4.0\u001b[39m\n",
      " \u001b[90m [bd369af6]\u001b[39m\u001b[93m ↑ Tables v0.1.15 ⇒ v0.2.5\u001b[39m\n",
      " \u001b[90m [e0df1984]\u001b[39m\u001b[92m + TextParse v0.9.1\u001b[39m\n",
      " \u001b[90m [0796e94c]\u001b[39m\u001b[92m + Tokenize v0.5.3\u001b[39m\n",
      " \u001b[90m [3bb67fe8]\u001b[39m\u001b[93m ↑ TranscodingStreams v0.8.1 ⇒ v0.9.4\u001b[39m\n",
      " \u001b[90m [ea10d353]\u001b[39m\u001b[93m ↑ WeakRefStrings v0.5.6 ⇒ v0.5.8\u001b[39m\n",
      " \u001b[90m [0f1e0344]\u001b[39m\u001b[93m ↑ WebIO v0.7.0 ⇒ v0.8.4\u001b[39m\n",
      " \u001b[90m [104b5d7c]\u001b[39m\u001b[92m + WebSockets v1.5.2\u001b[39m\n",
      " \u001b[90m [cc8bc4a8]\u001b[39m\u001b[93m ↑ Widgets v0.4.4 ⇒ v0.6.1\u001b[39m\n",
      "\u001b[32m\u001b[1m  Building\u001b[22m\u001b[39m LibCURL ──────→ `C:\\Users\\marqu\\.julia\\packages\\LibCURL\\teHPG\\deps\\build.log`\n",
      "\u001b[32m\u001b[1m  Building\u001b[22m\u001b[39m CMake ────────→ `C:\\Users\\marqu\\.julia\\packages\\CMake\\nSK2r\\deps\\build.log`\n",
      "\u001b[32m\u001b[1m  Building\u001b[22m\u001b[39m CodecZlib ────→ `C:\\Users\\marqu\\.julia\\packages\\CodecZlib\\9jDi1\\deps\\build.log`\n",
      "\u001b[32m\u001b[1m  Building\u001b[22m\u001b[39m MbedTLS ──────→ `C:\\Users\\marqu\\.julia\\packages\\MbedTLS\\X4xar\\deps\\build.log`\n",
      "\u001b[32m\u001b[1m  Building\u001b[22m\u001b[39m WebIO ────────→ `C:\\Users\\marqu\\.julia\\packages\\WebIO\\kk2q1\\deps\\build.log`\n",
      "\u001b[32m\u001b[1m  Building\u001b[22m\u001b[39m Knockout ─────→ `C:\\Users\\marqu\\.julia\\packages\\Knockout\\JE2Yq\\deps\\build.log`\n",
      "\u001b[32m\u001b[1m  Building\u001b[22m\u001b[39m InteractBase ─→ `C:\\Users\\marqu\\.julia\\packages\\InteractBase\\l8cEC\\deps\\build.log`\n",
      "\u001b[32m\u001b[1m  Building\u001b[22m\u001b[39m Sass ─────────→ `C:\\Users\\marqu\\.julia\\packages\\Sass\\EZMlY\\deps\\build.log`\n",
      "\u001b[32m\u001b[1m  Building\u001b[22m\u001b[39m InteractBulma → `C:\\Users\\marqu\\.julia\\packages\\InteractBulma\\noB52\\deps\\build.log`\n",
      "\u001b[32m\u001b[1m  Building\u001b[22m\u001b[39m Conda ────────→ `C:\\Users\\marqu\\.julia\\packages\\Conda\\kLXeC\\deps\\build.log`\n",
      "\u001b[32m\u001b[1m  Building\u001b[22m\u001b[39m Cairo ────────→ `C:\\Users\\marqu\\.julia\\packages\\Cairo\\p68X8\\deps\\build.log`\n",
      "\u001b[32m\u001b[1m  Building\u001b[22m\u001b[39m GR ───────────→ `C:\\Users\\marqu\\.julia\\packages\\GR\\TMylY\\deps\\build.log`\n",
      "\u001b[32m\u001b[1m  Building\u001b[22m\u001b[39m Arpack ───────→ `C:\\Users\\marqu\\.julia\\packages\\Arpack\\cu5By\\deps\\build.log`\n"
     ]
    }
   ],
   "source": [
    "Pkg.add(\"JuliaDB\")"
   ]
  },
  {
   "cell_type": "code",
   "execution_count": 6,
   "metadata": {},
   "outputs": [
    {
     "name": "stdout",
     "output_type": "stream",
     "text": [
      "\u001b[32m\u001b[1m Resolving\u001b[22m\u001b[39m package versions...\n",
      "\u001b[32m\u001b[1m Installed\u001b[22m\u001b[39m Lazy ─ v0.13.2\n",
      "\u001b[32m\u001b[1m  Updating\u001b[22m\u001b[39m `C:\\Users\\marqu\\.julia\\environments\\v1.0\\Project.toml`\n",
      " \u001b[90m [50d2b5c4]\u001b[39m\u001b[92m + Lazy v0.13.2\u001b[39m\n",
      "\u001b[32m\u001b[1m  Updating\u001b[22m\u001b[39m `C:\\Users\\marqu\\.julia\\environments\\v1.0\\Manifest.toml`\n",
      " \u001b[90m [50d2b5c4]\u001b[39m\u001b[92m + Lazy v0.13.2\u001b[39m\n"
     ]
    }
   ],
   "source": [
    "Pkg.add(\"Lazy\")"
   ]
  },
  {
   "cell_type": "code",
   "execution_count": 7,
   "metadata": {},
   "outputs": [
    {
     "name": "stdout",
     "output_type": "stream",
     "text": [
      "\u001b[32m\u001b[1m Resolving\u001b[22m\u001b[39m package versions...\n",
      "\u001b[32m\u001b[1m Installed\u001b[22m\u001b[39m DataFramesMeta ─ v0.4.1\n",
      "\u001b[32m\u001b[1m  Updating\u001b[22m\u001b[39m `C:\\Users\\marqu\\.julia\\environments\\v1.0\\Project.toml`\n",
      " \u001b[90m [1313f7d8]\u001b[39m\u001b[92m + DataFramesMeta v0.4.1\u001b[39m\n",
      "\u001b[32m\u001b[1m  Updating\u001b[22m\u001b[39m `C:\\Users\\marqu\\.julia\\environments\\v1.0\\Manifest.toml`\n",
      " \u001b[90m [1313f7d8]\u001b[39m\u001b[92m + DataFramesMeta v0.4.1\u001b[39m\n"
     ]
    }
   ],
   "source": [
    "Pkg.add(\"DataFramesMeta\")"
   ]
  },
  {
   "cell_type": "code",
   "execution_count": 8,
   "metadata": {},
   "outputs": [
    {
     "name": "stdout",
     "output_type": "stream",
     "text": [
      "\u001b[32m\u001b[1m Resolving\u001b[22m\u001b[39m package versions...\n",
      "\u001b[32m\u001b[1m Installed\u001b[22m\u001b[39m QueryOperators ─ v0.8.0\n",
      "\u001b[32m\u001b[1m Installed\u001b[22m\u001b[39m TableShowUtils ─ v0.2.5\n",
      "\u001b[32m\u001b[1m Installed\u001b[22m\u001b[39m Query ────────── v0.11.0\n",
      "\u001b[32m\u001b[1m  Updating\u001b[22m\u001b[39m `C:\\Users\\marqu\\.julia\\environments\\v1.0\\Project.toml`\n",
      " \u001b[90m [1a8c2f83]\u001b[39m\u001b[92m + Query v0.11.0\u001b[39m\n",
      "\u001b[32m\u001b[1m  Updating\u001b[22m\u001b[39m `C:\\Users\\marqu\\.julia\\environments\\v1.0\\Manifest.toml`\n",
      " \u001b[90m [1a8c2f83]\u001b[39m\u001b[92m + Query v0.11.0\u001b[39m\n",
      " \u001b[90m [2aef5ad7]\u001b[39m\u001b[92m + QueryOperators v0.8.0\u001b[39m\n",
      " \u001b[90m [5e66a065]\u001b[39m\u001b[92m + TableShowUtils v0.2.5\u001b[39m\n"
     ]
    }
   ],
   "source": [
    "Pkg.add(\"Query\")"
   ]
  },
  {
   "cell_type": "code",
   "execution_count": 1,
   "metadata": {},
   "outputs": [
    {
     "name": "stdout",
     "output_type": "stream",
     "text": [
      "\u001b[32m\u001b[1m  Updating\u001b[22m\u001b[39m registry at `C:\\Users\\marqu\\.julia\\registries\\General`\n",
      "\u001b[32m\u001b[1m  Updating\u001b[22m\u001b[39m git-repo `https://github.com/JuliaRegistries/General.git`\n",
      "\u001b[2K\u001b[?25h[1mFetching:\u001b[22m\u001b[39m [========================================>]  100.0 %.0 % %>                                 ]  15.1 %\u001b[36m\u001b[1mFetching:\u001b[22m\u001b[39m [==========>                              ]  24.1 %33.3 %=====================>                   ]  50.1 % %65.1 %>           ]  72.1 % %     ]  87.5 %\u001b[32m\u001b[1m Resolving\u001b[22m\u001b[39m package versions...\n",
      "\u001b[32m\u001b[1m Installed\u001b[22m\u001b[39m LaTeXStrings ──── v1.0.3\n",
      "\u001b[32m\u001b[1m Installed\u001b[22m\u001b[39m Plotly ────────── v0.2.0\n",
      "\u001b[32m\u001b[1m Installed\u001b[22m\u001b[39m Mux ───────────── v0.7.0\n",
      "\u001b[32m\u001b[1m Installed\u001b[22m\u001b[39m Tokenize ──────── v0.5.4\n",
      "\u001b[32m\u001b[1m Installed\u001b[22m\u001b[39m CSTParser ─────── v0.6.0\n",
      "\u001b[32m\u001b[1m Installed\u001b[22m\u001b[39m PlotlyBase ────── v0.2.6\n",
      "\u001b[32m\u001b[1m Installed\u001b[22m\u001b[39m Blink ─────────── v0.10.1\n",
      "\u001b[32m\u001b[1m Installed\u001b[22m\u001b[39m PlotlyJS ──────── v0.12.4\n",
      "\u001b[32m\u001b[1m Installed\u001b[22m\u001b[39m RecipesBase ───── v0.7.0\n",
      "\u001b[32m\u001b[1m Installed\u001b[22m\u001b[39m Knockout ──────── v0.2.3\n",
      "\u001b[32m\u001b[1m Installed\u001b[22m\u001b[39m Hiccup ────────── v0.2.2\n",
      "\u001b[32m\u001b[1m Installed\u001b[22m\u001b[39m DiffEqDiffTools ─ v0.11.0\n",
      "\u001b[32m\u001b[1m Installed\u001b[22m\u001b[39m Mustache ──────── v0.5.12\n",
      "\u001b[32m\u001b[1m Installed\u001b[22m\u001b[39m WebIO ─────────── v0.8.5\n",
      "\u001b[32m\u001b[1m  Updating\u001b[22m\u001b[39m `C:\\Users\\marqu\\.julia\\environments\\v1.0\\Project.toml`\n",
      " \u001b[90m [58dd65bb]\u001b[39m\u001b[92m + Plotly v0.2.0\u001b[39m\n",
      "\u001b[32m\u001b[1m  Updating\u001b[22m\u001b[39m `C:\\Users\\marqu\\.julia\\environments\\v1.0\\Manifest.toml`\n",
      " \u001b[90m [ad839575]\u001b[39m\u001b[92m + Blink v0.10.1\u001b[39m\n",
      " \u001b[90m [00ebfdb7]\u001b[39m\u001b[93m ↑ CSTParser v0.5.2 ⇒ v0.6.0\u001b[39m\n",
      " \u001b[90m [01453d9d]\u001b[39m\u001b[93m ↑ DiffEqDiffTools v0.10.1 ⇒ v0.11.0\u001b[39m\n",
      " \u001b[90m [9fb69e20]\u001b[39m\u001b[92m + Hiccup v0.2.2\u001b[39m\n",
      " \u001b[90m [bcebb21b]\u001b[39m\u001b[93m ↑ Knockout v0.2.2 ⇒ v0.2.3\u001b[39m\n",
      " \u001b[90m [b964fa9f]\u001b[39m\u001b[92m + LaTeXStrings v1.0.3\u001b[39m\n",
      " \u001b[90m [ffc61752]\u001b[39m\u001b[92m + Mustache v0.5.12\u001b[39m\n",
      " \u001b[90m [a975b10e]\u001b[39m\u001b[92m + Mux v0.7.0\u001b[39m\n",
      " \u001b[90m [58dd65bb]\u001b[39m\u001b[92m + Plotly v0.2.0\u001b[39m\n",
      " \u001b[90m [a03496cd]\u001b[39m\u001b[92m + PlotlyBase v0.2.6\u001b[39m\n",
      " \u001b[90m [f0f68f2c]\u001b[39m\u001b[92m + PlotlyJS v0.12.4\u001b[39m\n",
      " \u001b[90m [3cdcf5f2]\u001b[39m\u001b[93m ↑ RecipesBase v0.6.0 ⇒ v0.7.0\u001b[39m\n",
      " \u001b[90m [0796e94c]\u001b[39m\u001b[93m ↑ Tokenize v0.5.3 ⇒ v0.5.4\u001b[39m\n",
      " \u001b[90m [0f1e0344]\u001b[39m\u001b[93m ↑ WebIO v0.8.4 ⇒ v0.8.5\u001b[39m\n",
      "\u001b[32m\u001b[1m  Building\u001b[22m\u001b[39m WebIO ───→ `C:\\Users\\marqu\\.julia\\packages\\WebIO\\nNJPv\\deps\\build.log`\n",
      "\u001b[32m\u001b[1m  Building\u001b[22m\u001b[39m Blink ───→ `C:\\Users\\marqu\\.julia\\packages\\Blink\\1QOOi\\deps\\build.log`\n",
      "\u001b[32m\u001b[1m  Building\u001b[22m\u001b[39m PlotlyJS → `C:\\Users\\marqu\\.julia\\packages\\PlotlyJS\\1e25Z\\deps\\build.log`\n",
      "\u001b[32m\u001b[1m  Building\u001b[22m\u001b[39m Knockout → `C:\\Users\\marqu\\.julia\\packages\\Knockout\\1sDlc\\deps\\build.log`\n"
     ]
    }
   ],
   "source": [
    "using Pkg\n",
    "Pkg.add(\"Plotly\")"
   ]
  },
  {
   "cell_type": "code",
   "execution_count": 3,
   "metadata": {},
   "outputs": [
    {
     "name": "stdout",
     "output_type": "stream",
     "text": [
      "\u001b[32m\u001b[1m Resolving\u001b[22m\u001b[39m package versions...\n",
      "\u001b[32m\u001b[1m  Updating\u001b[22m\u001b[39m `C:\\Users\\marqu\\.julia\\environments\\v1.0\\Project.toml`\n",
      "\u001b[90m [no changes]\u001b[39m\n",
      "\u001b[32m\u001b[1m  Updating\u001b[22m\u001b[39m `C:\\Users\\marqu\\.julia\\environments\\v1.0\\Manifest.toml`\n",
      "\u001b[90m [no changes]\u001b[39m\n"
     ]
    }
   ],
   "source": [
    "using Pkg\n",
    "Pkg.add(\"Plots\")"
   ]
  },
  {
   "cell_type": "code",
   "execution_count": 1,
   "metadata": {},
   "outputs": [
    {
     "name": "stdout",
     "output_type": "stream",
     "text": [
      "\u001b[32m\u001b[1m  Updating\u001b[22m\u001b[39m registry at `C:\\Users\\marqu\\.julia\\registries\\General`\n",
      "\u001b[32m\u001b[1m  Updating\u001b[22m\u001b[39m git-repo `https://github.com/JuliaRegistries/General.git`\n",
      "\u001b[2K\u001b[?25h[1mFetching:\u001b[22m\u001b[39m [========================================>]  100.0 %.0 %                                     ]  6.5 %8 %3 %.8 %==============>                          ]  32.7 %3 %===================>                     ]  46.2 %>                  ]  53.1 %.7 %65.9 %72.9 %>        ]  79.6 %91.6 %>]  98.1 %\u001b[32m\u001b[1m Resolving\u001b[22m\u001b[39m package versions...\n",
      "\u001b[32m\u001b[1m Installed\u001b[22m\u001b[39m OffsetArrays ──────── v0.11.1\n",
      "\u001b[32m\u001b[1m Installed\u001b[22m\u001b[39m ArrayInterface ────── v0.1.1\n",
      "\u001b[32m\u001b[1m Installed\u001b[22m\u001b[39m Tables ────────────── v0.2.6\n",
      "\u001b[32m\u001b[1m Installed\u001b[22m\u001b[39m ShiftedArrays ─────── v0.5.0\n",
      "\u001b[32m\u001b[1m Installed\u001b[22m\u001b[39m Quadmath ──────────── v0.5.0\n",
      "\u001b[32m\u001b[1m Installed\u001b[22m\u001b[39m StatsModels ───────── v0.6.0\n",
      "\u001b[32m\u001b[1m Installed\u001b[22m\u001b[39m DocStringExtensions ─ v0.8.0\n",
      "\u001b[32m\u001b[1m Installed\u001b[22m\u001b[39m DataValues ────────── v0.4.8\n",
      "\u001b[32m\u001b[1m Installed\u001b[22m\u001b[39m DiffEqDiffTools ───── v0.12.0\n",
      "\u001b[32m\u001b[1m Installed\u001b[22m\u001b[39m RecursiveArrayTools ─ v0.20.0\n",
      "\u001b[32m\u001b[1m  Updating\u001b[22m\u001b[39m `C:\\Users\\marqu\\.julia\\environments\\v1.0\\Project.toml`\n",
      "\u001b[90m [no changes]\u001b[39m\n",
      "\u001b[32m\u001b[1m  Updating\u001b[22m\u001b[39m `C:\\Users\\marqu\\.julia\\environments\\v1.0\\Manifest.toml`\n",
      " \u001b[90m [4fba245c]\u001b[39m\u001b[92m + ArrayInterface v0.1.1\u001b[39m\n",
      " \u001b[90m [e7dc6d0d]\u001b[39m\u001b[93m ↑ DataValues v0.4.7 ⇒ v0.4.8\u001b[39m\n",
      " \u001b[90m [01453d9d]\u001b[39m\u001b[93m ↑ DiffEqDiffTools v0.11.0 ⇒ v0.12.0\u001b[39m\n",
      " \u001b[90m [ffbed154]\u001b[39m\u001b[93m ↑ DocStringExtensions v0.7.0 ⇒ v0.8.0\u001b[39m\n",
      " \u001b[90m [6fe1bfb0]\u001b[39m\u001b[93m ↑ OffsetArrays v0.11.0 ⇒ v0.11.1\u001b[39m\n",
      " \u001b[90m [be4d8f0f]\u001b[39m\u001b[93m ↑ Quadmath v0.4.0 ⇒ v0.5.0\u001b[39m\n",
      " \u001b[90m [731186ca]\u001b[39m\u001b[92m + RecursiveArrayTools v0.20.0\u001b[39m\n",
      " \u001b[90m [1277b4bf]\u001b[39m\u001b[92m + ShiftedArrays v0.5.0\u001b[39m\n",
      " \u001b[90m [3eaba693]\u001b[39m\u001b[93m ↑ StatsModels v0.5.0 ⇒ v0.6.0\u001b[39m\n",
      " \u001b[90m [bd369af6]\u001b[39m\u001b[93m ↑ Tables v0.2.5 ⇒ v0.2.6\u001b[39m\n"
     ]
    }
   ],
   "source": [
    "using Pkg\n",
    "Pkg.add(\"RCall\")"
   ]
  },
  {
   "cell_type": "code",
   "execution_count": 5,
   "metadata": {},
   "outputs": [
    {
     "name": "stdout",
     "output_type": "stream",
     "text": [
      "\u001b[32m\u001b[1m Resolving\u001b[22m\u001b[39m package versions...\n",
      "\u001b[32m\u001b[1m Installed\u001b[22m\u001b[39m ScikitLearnBase ─ v0.4.1\n",
      "\u001b[32m\u001b[1m Installed\u001b[22m\u001b[39m PyCall ────────── v1.91.2\n",
      "\u001b[32m\u001b[1m Installed\u001b[22m\u001b[39m ScikitLearn ───── v0.5.0\n",
      "\u001b[32m\u001b[1m  Updating\u001b[22m\u001b[39m `C:\\Users\\marqu\\.julia\\environments\\v1.0\\Project.toml`\n",
      " \u001b[90m [3646fa90]\u001b[39m\u001b[92m + ScikitLearn v0.5.0\u001b[39m\n",
      "\u001b[32m\u001b[1m  Updating\u001b[22m\u001b[39m `C:\\Users\\marqu\\.julia\\environments\\v1.0\\Manifest.toml`\n",
      " \u001b[90m [438e738f]\u001b[39m\u001b[92m + PyCall v1.91.2\u001b[39m\n",
      " \u001b[90m [3646fa90]\u001b[39m\u001b[92m + ScikitLearn v0.5.0\u001b[39m\n",
      " \u001b[90m [6e75b9c4]\u001b[39m\u001b[92m + ScikitLearnBase v0.4.1\u001b[39m\n",
      "\u001b[32m\u001b[1m  Building\u001b[22m\u001b[39m PyCall → `C:\\Users\\marqu\\.julia\\packages\\PyCall\\ttONZ\\deps\\build.log`\n"
     ]
    },
    {
     "name": "stderr",
     "output_type": "stream",
     "text": [
      "┌ Error: Error building `PyCall`, showing the last 100 of log: \n",
      "│ \n",
      "│ ChunkedEncodingError(ProtocolError('Connection broken: OSError(\"(10054, \\'WSAECONNRESET\\')\",)', OSError(\"(10054, 'WSAECONNRESET')\",)),)\n",
      "│ CondaHTTPError: HTTP 000 CONNECTION FAILED for url <https://repo.anaconda.com/pkgs/main/win-64/conda-4.7.5-py36_0.tar.bz2>\n",
      "│ Elapsed: -\n",
      "│ \n",
      "│ An HTTP error occurred when trying to retrieve this URL.\n",
      "│ HTTP errors are often intermittent, and a simple retry will get you on your way.\n",
      "│ \n",
      "│ CondaHTTPError: HTTP 000 CONNECTION FAILED for url <https://repo.anaconda.com/pkgs/main/win-64/xz-5.2.4-h2fa13f4_4.tar.bz2>\n",
      "│ Elapsed: -\n",
      "│ \n",
      "│ An HTTP error occurred when trying to retrieve this URL.\n",
      "│ HTTP errors are often intermittent, and a simple retry will get you on your way.\n",
      "│ \n",
      "│ CondaHTTPError: HTTP 000 CONNECTION FAILED for url <https://repo.anaconda.com/pkgs/main/win-64/python-libarchive-c-2.8-py36_6.tar.bz2>\n",
      "│ Elapsed: -\n",
      "│ \n",
      "│ An HTTP error occurred when trying to retrieve this URL.\n",
      "│ HTTP errors are often intermittent, and a simple retry will get you on your way.\n",
      "│ \n",
      "│ CondaHTTPError: HTTP 000 CONNECTION FAILED for url <https://repo.anaconda.com/pkgs/main/win-64/intel-openmp-2019.4-245.tar.bz2>\n",
      "│ Elapsed: -\n",
      "│ \n",
      "│ An HTTP error occurred when trying to retrieve this URL.\n",
      "│ HTTP errors are often intermittent, and a simple retry will get you on your way.\n",
      "│ \n",
      "│ CondaHTTPError: HTTP 000 CONNECTION FAILED for url <https://repo.anaconda.com/pkgs/main/win-64/blas-1.0-mkl.tar.bz2>\n",
      "│ Elapsed: -\n",
      "│ \n",
      "│ An HTTP error occurred when trying to retrieve this URL.\n",
      "│ HTTP errors are often intermittent, and a simple retry will get you on your way.\n",
      "│ \n",
      "│ CondaHTTPError: HTTP 000 CONNECTION FAILED for url <https://repo.anaconda.com/pkgs/main/win-64/certifi-2019.6.16-py36_0.tar.bz2>\n",
      "│ Elapsed: -\n",
      "│ \n",
      "│ An HTTP error occurred when trying to retrieve this URL.\n",
      "│ HTTP errors are often intermittent, and a simple retry will get you on your way.\n",
      "│ \n",
      "│ CondaHTTPError: HTTP 000 CONNECTION FAILED for url <https://repo.anaconda.com/pkgs/main/win-64/zstd-1.3.7-h508b16e_0.tar.bz2>\n",
      "│ Elapsed: -\n",
      "│ \n",
      "│ An HTTP error occurred when trying to retrieve this URL.\n",
      "│ HTTP errors are often intermittent, and a simple retry will get you on your way.\n",
      "│ \n",
      "│ CondaHTTPError: HTTP 000 CONNECTION FAILED for url <https://repo.anaconda.com/pkgs/main/noarch/tqdm-4.32.1-py_0.tar.bz2>\n",
      "│ Elapsed: -\n",
      "│ \n",
      "│ An HTTP error occurred when trying to retrieve this URL.\n",
      "│ HTTP errors are often intermittent, and a simple retry will get you on your way.\n",
      "│ \n",
      "│ CondaHTTPError: HTTP 000 CONNECTION FAILED for url <https://repo.anaconda.com/pkgs/main/win-64/mkl_fft-1.0.12-py36h14836fe_0.tar.bz2>\n",
      "│ Elapsed: -\n",
      "│ \n",
      "│ An HTTP error occurred when trying to retrieve this URL.\n",
      "│ HTTP errors are often intermittent, and a simple retry will get you on your way.\n",
      "│ \n",
      "│ CondaHTTPError: HTTP 000 CONNECTION FAILED for url <https://repo.anaconda.com/pkgs/main/win-64/libiconv-1.15-h1df5818_7.tar.bz2>\n",
      "│ Elapsed: -\n",
      "│ \n",
      "│ An HTTP error occurred when trying to retrieve this URL.\n",
      "│ HTTP errors are often intermittent, and a simple retry will get you on your way.\n",
      "│ \n",
      "│ CondaHTTPError: HTTP 000 CONNECTION FAILED for url <https://repo.anaconda.com/pkgs/main/win-64/libxml2-2.9.9-h464c3ec_0.tar.bz2>\n",
      "│ Elapsed: -\n",
      "│ \n",
      "│ An HTTP error occurred when trying to retrieve this URL.\n",
      "│ HTTP errors are often intermittent, and a simple retry will get you on your way.\n",
      "│ \n",
      "│ CondaHTTPError: HTTP 000 CONNECTION FAILED for url <https://repo.anaconda.com/pkgs/main/win-64/lz4-c-1.8.1.2-h2fa13f4_0.tar.bz2>\n",
      "│ Elapsed: -\n",
      "│ \n",
      "│ An HTTP error occurred when trying to retrieve this URL.\n",
      "│ HTTP errors are often intermittent, and a simple retry will get you on your way.\n",
      "│ \n",
      "│ CondaHTTPError: HTTP 000 CONNECTION FAILED for url <https://repo.anaconda.com/pkgs/main/win-64/lzo-2.10-h6df0209_2.tar.bz2>\n",
      "│ Elapsed: -\n",
      "│ \n",
      "│ An HTTP error occurred when trying to retrieve this URL.\n",
      "│ HTTP errors are often intermittent, and a simple retry will get you on your way.\n",
      "│ \n",
      "│ \n",
      "│ \n",
      "│ ┌ Info: Using the Python distribution in the Conda package by default.\n",
      "│ └ To use a different Python version, set ENV[\"PYTHON\"]=\"pythoncommand\" and re-run Pkg.build(\"PyCall\").\n",
      "│ [ Info: Running `conda install -y numpy` in root environment\n",
      "│ ERROR: LoadError: failed process: Process(setenv(`'C:\\Users\\marqu\\.julia\\conda\\3\\Scripts\\conda.exe' install -y numpy`,[\"PATH=C:\\\\Users\\\\marqu\\\\.julia\\\\conda\\\\3;C:\\\\Users\\\\marqu\\\\.julia\\\\conda\\\\3\\\\Library\\\\mingw-w64\\\\bin;C:\\\\Users\\\\marqu\\\\.julia\\\\conda\\\\3\\\\Library\\\\usr\\\\bin;C:\\\\Users\\\\marqu\\\\.julia\\\\conda\\\\3\\\\Library\\\\bin;C:\\\\Users\\\\marqu\\\\.julia\\\\conda\\\\3\\\\Scripts;C:\\\\Users\\\\marqu\\\\.julia\\\\conda\\\\3\\\\Library\\\\bin;C:\\\\ProgramData\\\\DockerDesktop\\\\version-bin;C:\\\\Program Files\\\\Docker\\\\Docker\\\\Resources\\\\bin;C:\\\\Program Files (x86)\\\\Intel\\\\iCLS Client\\\\;C:\\\\Program Files\\\\Intel\\\\iCLS Client\\\\;C:\\\\WINDOWS\\\\system32;C:\\\\WINDOWS;C:\\\\WINDOWS\\\\System32\\\\Wbem;C:\\\\WINDOWS\\\\System32\\\\WindowsPowerShell\\\\v1.0\\\\;C:\\\\WINDOWS\\\\System32\\\\OpenSSH\\\\;C:\\\\Program Files (x86)\\\\Intel\\\\Intel(R) Management Engine Components\\\\DAL;C:\\\\Program Files\\\\Intel\\\\Intel(R) Management Engine Components\\\\DAL;C:\\\\Program Files (x86)\\\\Intel\\\\Intel(R) Management Engine Components\\\\IPT;C:\\\\Program Files\\\\Intel\\\\Intel(R) Management Engine Components\\\\IPT;C:\\\\Program Files\\\\Git\\\\cmd;C:\\\\Program Files\\\\Microsoft VS Code\\\\bin;C:\\\\Apps\\\\Julia\\\\Julia-1.0.3\\\\;C:\\\\Apps\\\\Julia\\\\Julia-1.0.3\\\\bin;C:\\\\Users\\\\marqu\\\\AppData\\\\Local\\\\Microsoft\\\\WindowsApps;C:\\\\Users\\\\marqu\\\\AppData\\\\Local\\\\GitHubDesktop\\\\bin;C:\\\\Users\\\\marqu\\\\AppData\\\\Local\\\\atom\\\\bin;C:\\\\Apps\\\\Hugo\\\\bin;C:\\\\Rtools\\\\bin;C:\\\\Rtools\\\\mingw_64\\\\bin\\\\x86_64-w64-mingw32-gcc-4.9.3;C:\\\\RBuildTools\\\\3.4\\\\bin;C:\\\\Apps\\\\Apache\\\\Spark\\\\spark-2.3.0\\\\;C:\\\\Program Files\\\\Java\\\\jre1.8.0_171\\\\;%WINUTILS_HOME%;C:\\\\Apps\\\\R\\\\R-3.4.3;C:\\\\Users\\\\marqu\\\\AppData\\\\Local\\\\Microsoft\\\\WindowsApps;C:\\\\Apps\\\\qpdf\\\\qpdf-8.2.1\\\\bin;\", \"USERDOMAIN_ROAMINGPROFILE=LAPTOP-OK0GO7H8\", \"HOMEPATH=\\\\Users\\\\marqu\", \"PATHEXT=.COM;.EXE;.BAT;.CMD;.VBS;.VBE;.JS;.JSE;.WSF;.WSH;.MSC\", \"SESSIONNAME=Console\", \"SYSTEMROOT=C:\\\\WINDOWS\", \"APPDATA=C:\\\\Users\\\\marqu\\\\AppData\\\\Roaming\", \"PSMODULEPATH=C:\\\\Program Files\\\\WindowsPowerShell\\\\Modules;C:\\\\WINDOWS\\\\system32\\\\WindowsPowerShell\\\\v1.0\\\\Modules\", \"COMMONPROGRAMW6432=C:\\\\Program Files\\\\Common Files\", \"PROGRAMDATA=C:\\\\ProgramData\", \"PUBLIC=C:\\\\Users\\\\Public\", \"USERDOMAIN=LAPTOP-OK0GO7H8\", \"OS=Windows_NT\", \"PROCESSOR_REVISION=8e09\", \"TMP=C:\\\\Users\\\\marqu\\\\AppData\\\\Local\\\\Temp\", \"COMSPEC=C:\\\\WINDOWS\\\\system32\\\\cmd.exe\", \"ALLUSERSPROFILE=C:\\\\ProgramData\", \"COMPUTERNAME=LAPTOP-OK0GO7H8\", \"JAVA_HOME=C:\\\\Program Files\\\\Java\\\\jre1.8.0_171\\\\\", \"USERNAME=marqu\", \"COLUMNS=80\", \"IPY_INTERRUPT_EVENT=2660\", \"RBUILDTOOLS_HOME=C:\\\\RBuildTools\\\\3.4\\\\bin\", \"CONDARC=C:\\\\Users\\\\marqu\\\\.julia\\\\conda\\\\3\\\\condarc-julia.yml\", \"ONEDRIVECONSUMER=C:\\\\Users\\\\marqu\\\\OneDrive\", \"USERPROFILE=C:\\\\Users\\\\marqu\", \"RTOOLS_HOME=C:\\\\Rtools\\\\bin\", \"PROCESSOR_LEVEL=6\", \"LINES=30\", \"=C:=C:\\\\Users\\\\marqu\\\\.julia\\\\packages\\\\PyCall\\\\ttONZ\\\\deps\", \"PROGRAMW6432=C:\\\\Program Files\", \"SPARK_HOME=C:\\\\Apps\\\\Apache\\\\Spark\\\\spark-2.3.0\\\\\", \"TEMP=C:\\\\Users\\\\marqu\\\\AppData\\\\Local\\\\Temp\", \"HOMEDRIVE=C:\", \"CONFIGSETROOT=C:\\\\WINDOWS\\\\ConfigSetRoot\", \"PYTHONIOENCODING=UTF-8\", \"WINDIR=C:\\\\WINDOWS\", \"JPY_INTERRUPT_EVENT=2660\", \"LOCALAPPDATA=C:\\\\Users\\\\marqu\\\\AppData\\\\Local\", \"PROCESSOR_IDENTIFIER=Intel64 Family 6 Model 142 Stepping 9, GenuineIntel\", \"NUMBER_OF_PROCESSORS=4\", \"COMMONPROGRAMFILES(X86)=C:\\\\Program Files (x86)\\\\Common Files\", \"VBOX_MSI_INSTALL_PATH=C:\\\\Program Files\\\\Oracle\\\\VirtualBox\\\\\", \"JULIA_HOME=C:\\\\Apps\\\\Julia\\\\Julia-1.0.3\\\\\", \"COMMONPROGRAMFILES=C:\\\\Program Files\\\\Common Files\", \"ONEDRIVE=C:\\\\Users\\\\marqu\\\\OneDrive\", \"SPARKR_DRIVER_R=C:\\\\Apps\\\\R\\\\R-3.4.3\", \"HUGO=C:\\\\Apps\\\\Hugo\\\\bin\", \"PROGRAMFILES(X86)=C:\\\\Program Files (x86)\", \"PROGRAMFILES=C:\\\\Program Files\", \"JPY_PARENT_PID=2656\", \"LOGONSERVER=\\\\\\\\LAPTOP-OK0GO7H8\", \"DRIVERDATA=C:\\\\Windows\\\\System32\\\\Drivers\\\\DriverData\", \"CONDA_PREFIX=C:\\\\Users\\\\marqu\\\\.julia\\\\conda\\\\3\", \"WINUTILS=C:\\\\Apps\\\\winutils\\\\winutils-master\\\\\", \"JULIA_BIN=C:\\\\Apps\\\\Julia\\\\Julia-1.0.3\\\\bin\", \"FPS_BROWSER_USER_PROFILE_STRING=Default\", \"JULIA_LOAD_PATH=@;C:\\\\Users\\\\marqu\\\\AppData\\\\Local\\\\Temp\\\\jl_6AFD.tmp\", \"SYSTEMDRIVE=C:\", \"FPS_BROWSER_APP_PROFILE_STRING=Internet Explorer\", \"PROCESSOR_ARCHITECTURE=AMD64\", \"OPENBLAS_MAIN_FREE=1\"]), ProcessExited(1)) [1]\n",
      "│ Stacktrace:\n",
      "│  [1] error(::String, ::Base.Process, ::String, ::Int64, ::String) at .\\error.jl:42\n",
      "│  [2] pipeline_error at .\\process.jl:705 [inlined]\n",
      "│  [3] #run#503(::Bool, ::Function, ::Cmd) at .\\process.jl:663\n",
      "│  [4] run at .\\process.jl:661 [inlined]\n",
      "│  [5] runconda(::Cmd, ::String) at C:\\Users\\marqu\\.julia\\packages\\Conda\\kLXeC\\src\\Conda.jl:113\n",
      "│  [6] #add#1(::String, ::Function, ::String, ::String) at C:\\Users\\marqu\\.julia\\packages\\Conda\\kLXeC\\src\\Conda.jl:184\n",
      "│  [7] add at C:\\Users\\marqu\\.julia\\packages\\Conda\\kLXeC\\src\\Conda.jl:183 [inlined] (repeats 2 times)\n",
      "│  [8] top-level scope at C:\\Users\\marqu\\.julia\\packages\\PyCall\\ttONZ\\deps\\build.jl:84\n",
      "│  [9] include at .\\boot.jl:317 [inlined]\n",
      "│  [10] include_relative(::Module, ::String) at .\\loading.jl:1044\n",
      "│  [11] include(::Module, ::String) at .\\sysimg.jl:29\n",
      "│  [12] include(::String) at .\\client.jl:392\n",
      "│  [13] top-level scope at none:0\n",
      "│ in expression starting at C:\\Users\\marqu\\.julia\\packages\\PyCall\\ttONZ\\deps\\build.jl:43\n",
      "│ \n",
      "│ Full log at C:\\Users\\marqu\\.julia\\packages\\PyCall\\ttONZ\\deps\\build.log\n",
      "└ @ Pkg.Operations C:\\cygwin\\home\\Administrator\\buildbot\\worker\\package_win64\\build\\usr\\share\\julia\\stdlib\\v1.0\\Pkg\\src\\Operations.jl:1097\n"
     ]
    }
   ],
   "source": [
    "Pkg.add(\"ScikitLearn\")"
   ]
  },
  {
   "cell_type": "code",
   "execution_count": 2,
   "metadata": {},
   "outputs": [
    {
     "data": {
      "text/plain": [
       "Dict{String,Union{Nothing, VersionNumber}} with 20 entries:\n",
       "  \"CSV\"            => v\"0.4.3\"\n",
       "  \"JuliaDB\"        => v\"0.12.0\"\n",
       "  \"Interact\"       => v\"0.9.0\"\n",
       "  \"ForwardDiff\"    => v\"0.10.2\"\n",
       "  \"Suppressor\"     => v\"0.1.1\"\n",
       "  \"VegaLite\"       => v\"0.5.3\"\n",
       "  \"JuMP\"           => v\"0.18.5\"\n",
       "  \"Query\"          => v\"0.11.0\"\n",
       "  \"Lazy\"           => v\"0.13.2\"\n",
       "  \"Plotly\"         => v\"0.2.0\"\n",
       "  \"JDBC\"           => v\"0.4.0\"\n",
       "  \"DataFramesMeta\" => v\"0.4.1\"\n",
       "  \"IJulia\"         => v\"1.16.0\"\n",
       "  \"Plots\"          => v\"0.23.0\"\n",
       "  \"Gadfly\"         => v\"1.0.1\"\n",
       "  \"ODBC\"           => v\"0.8.1\"\n",
       "  \"FileIO\"         => v\"1.0.5\"\n",
       "  \"RCall\"          => v\"0.13.1\"\n",
       "  \"DataFrames\"     => v\"0.17.1\"\n",
       "  \"QuantEcon\"      => v\"0.15.0\""
      ]
     },
     "execution_count": 2,
     "metadata": {},
     "output_type": "execute_result"
    }
   ],
   "source": [
    "Pkg.installed()"
   ]
  },
  {
   "cell_type": "code",
   "execution_count": 6,
   "metadata": {},
   "outputs": [
    {
     "name": "stdout",
     "output_type": "stream",
     "text": [
      "\u001b[32m\u001b[1m Resolving\u001b[22m\u001b[39m package versions...\n",
      "\u001b[32m\u001b[1m Installed\u001b[22m\u001b[39m StatsPlots ─────── v0.10.2\n",
      "\u001b[32m\u001b[1m Installed\u001b[22m\u001b[39m NearestNeighbors ─ v0.4.3\n",
      "\u001b[32m\u001b[1m Installed\u001b[22m\u001b[39m Clustering ─────── v0.13.1\n",
      "\u001b[32m\u001b[1m  Updating\u001b[22m\u001b[39m `C:\\Users\\marqu\\.julia\\environments\\v1.0\\Project.toml`\n",
      " \u001b[90m [f3b207a7]\u001b[39m\u001b[92m + StatsPlots v0.10.2\u001b[39m\n",
      "\u001b[32m\u001b[1m  Updating\u001b[22m\u001b[39m `C:\\Users\\marqu\\.julia\\environments\\v1.0\\Manifest.toml`\n",
      " \u001b[90m [aaaa29a8]\u001b[39m\u001b[92m + Clustering v0.13.1\u001b[39m\n",
      " \u001b[90m [b8a86587]\u001b[39m\u001b[92m + NearestNeighbors v0.4.3\u001b[39m\n",
      " \u001b[90m [f3b207a7]\u001b[39m\u001b[92m + StatsPlots v0.10.2\u001b[39m\n"
     ]
    }
   ],
   "source": [
    "Pkg.add(\"StatsPlots\")"
   ]
  },
  {
   "cell_type": "code",
   "execution_count": 20,
   "metadata": {},
   "outputs": [
    {
     "name": "stdout",
     "output_type": "stream",
     "text": [
      "\u001b[32m\u001b[1m Resolving\u001b[22m\u001b[39m package versions...\n",
      "\u001b[32m\u001b[1m Installed\u001b[22m\u001b[39m GraphRecipes ── v0.4.0\n",
      "\u001b[32m\u001b[1m Installed\u001b[22m\u001b[39m NetworkLayout ─ v0.2.0\n",
      "\u001b[32m\u001b[1m Installed\u001b[22m\u001b[39m GeometryTypes ─ v0.7.5\n",
      "\u001b[32m\u001b[1m  Updating\u001b[22m\u001b[39m `C:\\Users\\marqu\\.julia\\environments\\v1.0\\Project.toml`\n",
      " \u001b[90m [bd48cda9]\u001b[39m\u001b[92m + GraphRecipes v0.4.0\u001b[39m\n",
      "\u001b[32m\u001b[1m  Updating\u001b[22m\u001b[39m `C:\\Users\\marqu\\.julia\\environments\\v1.0\\Manifest.toml`\n",
      " \u001b[90m [4d00f742]\u001b[39m\u001b[92m + GeometryTypes v0.7.5\u001b[39m\n",
      " \u001b[90m [bd48cda9]\u001b[39m\u001b[92m + GraphRecipes v0.4.0\u001b[39m\n",
      " \u001b[90m [46757867]\u001b[39m\u001b[92m + NetworkLayout v0.2.0\u001b[39m\n"
     ]
    }
   ],
   "source": [
    "Pkg.add(\"GraphRecipes\")"
   ]
  },
  {
   "cell_type": "code",
   "execution_count": 21,
   "metadata": {},
   "outputs": [
    {
     "name": "stdout",
     "output_type": "stream",
     "text": [
      "\u001b[32m\u001b[1m Resolving\u001b[22m\u001b[39m package versions...\n",
      "\u001b[32m\u001b[1m  Updating\u001b[22m\u001b[39m `C:\\Users\\marqu\\.julia\\environments\\v1.0\\Project.toml`\n",
      " \u001b[90m [3cdcf5f2]\u001b[39m\u001b[92m + RecipesBase v0.7.0\u001b[39m\n",
      "\u001b[32m\u001b[1m  Updating\u001b[22m\u001b[39m `C:\\Users\\marqu\\.julia\\environments\\v1.0\\Manifest.toml`\n",
      "\u001b[90m [no changes]\u001b[39m\n"
     ]
    }
   ],
   "source": [
    "Pkg.add(\"RecipesBase\")"
   ]
  },
  {
   "cell_type": "code",
   "execution_count": 22,
   "metadata": {},
   "outputs": [
    {
     "name": "stdout",
     "output_type": "stream",
     "text": [
      "\u001b[32m\u001b[1m Resolving\u001b[22m\u001b[39m package versions...\n",
      "\u001b[32m\u001b[1m  Updating\u001b[22m\u001b[39m `C:\\Users\\marqu\\.julia\\environments\\v1.0\\Project.toml`\n",
      " \u001b[90m [6deec6e2]\u001b[39m\u001b[92m + IndexedTables v0.12.0\u001b[39m\n",
      "\u001b[32m\u001b[1m  Updating\u001b[22m\u001b[39m `C:\\Users\\marqu\\.julia\\environments\\v1.0\\Manifest.toml`\n",
      "\u001b[90m [no changes]\u001b[39m\n"
     ]
    }
   ],
   "source": [
    "Pkg.add(\"IndexedTables\")"
   ]
  },
  {
   "cell_type": "code",
   "execution_count": 23,
   "metadata": {},
   "outputs": [
    {
     "name": "stdout",
     "output_type": "stream",
     "text": [
      "\u001b[32m\u001b[1m Resolving\u001b[22m\u001b[39m package versions...\n",
      "\u001b[32m\u001b[1m  Updating\u001b[22m\u001b[39m `C:\\Users\\marqu\\.julia\\environments\\v1.0\\Project.toml`\n",
      " \u001b[90m [bd369af6]\u001b[39m\u001b[92m + Tables v0.2.6\u001b[39m\n",
      "\u001b[32m\u001b[1m  Updating\u001b[22m\u001b[39m `C:\\Users\\marqu\\.julia\\environments\\v1.0\\Manifest.toml`\n",
      "\u001b[90m [no changes]\u001b[39m\n"
     ]
    }
   ],
   "source": [
    "Pkg.add(\"Tables\")"
   ]
  },
  {
   "cell_type": "code",
   "execution_count": 24,
   "metadata": {},
   "outputs": [
    {
     "name": "stdout",
     "output_type": "stream",
     "text": [
      "\u001b[32m\u001b[1m Resolving\u001b[22m\u001b[39m package versions...\n",
      "\u001b[32m\u001b[1m Installed\u001b[22m\u001b[39m MultivariateStats ─ v0.6.0\n",
      "\u001b[32m\u001b[1m  Updating\u001b[22m\u001b[39m `C:\\Users\\marqu\\.julia\\environments\\v1.0\\Project.toml`\n",
      " \u001b[90m [6f286f6a]\u001b[39m\u001b[92m + MultivariateStats v0.6.0\u001b[39m\n",
      "\u001b[32m\u001b[1m  Updating\u001b[22m\u001b[39m `C:\\Users\\marqu\\.julia\\environments\\v1.0\\Manifest.toml`\n",
      " \u001b[90m [6f286f6a]\u001b[39m\u001b[92m + MultivariateStats v0.6.0\u001b[39m\n"
     ]
    }
   ],
   "source": [
    "Pkg.add(\"MultivariateStats\")"
   ]
  },
  {
   "cell_type": "code",
   "execution_count": 25,
   "metadata": {},
   "outputs": [
    {
     "name": "stdout",
     "output_type": "stream",
     "text": [
      "\u001b[32m\u001b[1m Resolving\u001b[22m\u001b[39m package versions...\n",
      "\u001b[32m\u001b[1m Installed\u001b[22m\u001b[39m Mocking ─── v0.5.7\n",
      "\u001b[32m\u001b[1m Installed\u001b[22m\u001b[39m EzXML ───── v0.9.1\n"
     ]
    },
    {
     "name": "stderr",
     "output_type": "stream",
     "text": [
      "┌ Warning: failed to extract archive downloaded from https://api.github.com/repos/JuliaData/RData.jl/tarball/bfb88b9c5befb0d196be0843372a198d460d0cfc\n",
      "└ @ Pkg.Operations C:\\cygwin\\home\\Administrator\\buildbot\\worker\\package_win64\\build\\usr\\share\\julia\\stdlib\\v1.0\\Pkg\\src\\Operations.jl:477\n"
     ]
    },
    {
     "name": "stdout",
     "output_type": "stream",
     "text": [
      "\u001b[32m\u001b[1m Installed\u001b[22m\u001b[39m TimeZones ─ v0.9.1\n",
      "\u001b[32m\u001b[1m Installed\u001b[22m\u001b[39m RDatasets ─ v0.6.1\n",
      "\u001b[32m\u001b[1m   Cloning\u001b[22m\u001b[39m [df47a6cb-8c03-5eed-afd8-b6050d6c41da] RData from https://github.com/JuliaData/RData.jl.git\n",
      "\u001b[2K\u001b[?25h[1mFetching:\u001b[22m\u001b[39m [========================================>]  99.9 %0.0 %8.4 %18.8 %=================>                       ]  41.6 %>   ]  90.0 %"
     ]
    },
    {
     "name": "stderr",
     "output_type": "stream",
     "text": [
      "┌ Info: Installed RData ───── v0.6.0\n",
      "└ @ Pkg.Operations C:\\cygwin\\home\\Administrator\\buildbot\\worker\\package_win64\\build\\usr\\share\\julia\\stdlib\\v1.0\\Pkg\\src\\Operations.jl:636\n"
     ]
    },
    {
     "name": "stdout",
     "output_type": "stream",
     "text": [
      "\u001b[32m\u001b[1m  Updating\u001b[22m\u001b[39m `C:\\Users\\marqu\\.julia\\environments\\v1.0\\Project.toml`\n",
      " \u001b[90m [ce6b1742]\u001b[39m\u001b[92m + RDatasets v0.6.1\u001b[39m\n",
      "\u001b[32m\u001b[1m  Updating\u001b[22m\u001b[39m `C:\\Users\\marqu\\.julia\\environments\\v1.0\\Manifest.toml`\n",
      " \u001b[90m [8f5d6c58]\u001b[39m\u001b[92m + EzXML v0.9.1\u001b[39m\n",
      " \u001b[90m [78c3b35d]\u001b[39m\u001b[92m + Mocking v0.5.7\u001b[39m\n",
      " \u001b[90m [df47a6cb]\u001b[39m\u001b[92m + RData v0.6.0\u001b[39m\n",
      " \u001b[90m [ce6b1742]\u001b[39m\u001b[92m + RDatasets v0.6.1\u001b[39m\n",
      " \u001b[90m [f269a46b]\u001b[39m\u001b[92m + TimeZones v0.9.1\u001b[39m\n",
      "\u001b[32m\u001b[1m  Building\u001b[22m\u001b[39m EzXML ────→ `C:\\Users\\marqu\\.julia\\packages\\EzXML\\r19gO\\deps\\build.log`\n",
      "\u001b[32m\u001b[1m  Building\u001b[22m\u001b[39m TimeZones → `C:\\Users\\marqu\\.julia\\packages\\TimeZones\\Z0kpK\\deps\\build.log`\n"
     ]
    }
   ],
   "source": [
    "Pkg.add(\"RDatasets\")"
   ]
  },
  {
   "cell_type": "code",
   "execution_count": 4,
   "metadata": {},
   "outputs": [
    {
     "ename": "UndefVarError",
     "evalue": "UndefVarError: Pkg not defined",
     "output_type": "error",
     "traceback": [
      "UndefVarError: Pkg not defined",
      "",
      "Stacktrace:",
      " [1] top-level scope at In[4]:1"
     ]
    }
   ],
   "source": [
    "Pkg.update()"
   ]
  }
 ],
 "metadata": {
  "kernelspec": {
   "display_name": "Julia 1.0.3",
   "language": "julia",
   "name": "julia-1.0"
  },
  "language_info": {
   "file_extension": ".jl",
   "mimetype": "application/julia",
   "name": "julia",
   "version": "1.0.3"
  }
 },
 "nbformat": 4,
 "nbformat_minor": 2
}
