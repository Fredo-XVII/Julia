{
 "cells": [
  {
   "cell_type": "markdown",
   "metadata": {},
   "source": [
    "## We need the package `PyCall` for importing Python packages and code"
   ]
  },
  {
   "cell_type": "code",
   "execution_count": 2,
   "metadata": {
    "scrolled": true
   },
   "outputs": [
    {
     "name": "stdout",
     "output_type": "stream",
     "text": [
      "\u001b[32m\u001b[1m  Updating\u001b[22m\u001b[39m registry at `C:\\Users\\Z001C9V\\.julia\\registries\\General`\n",
      "\u001b[32m\u001b[1m  Updating\u001b[22m\u001b[39m git-repo `https://github.com/JuliaRegistries/General.git`\n",
      "\u001b[?25l\u001b[2K\u001b[?25h\u001b[32m\u001b[1m Resolving\u001b[22m\u001b[39m package versions...\n",
      "\u001b[32m\u001b[1m  Updating\u001b[22m\u001b[39m `C:\\Users\\Z001C9V\\.julia\\environments\\v1.1\\Project.toml`\n",
      " \u001b[90m [438e738f]\u001b[39m\u001b[92m + PyCall v1.91.2\u001b[39m\n",
      "\u001b[32m\u001b[1m  Updating\u001b[22m\u001b[39m `C:\\Users\\Z001C9V\\.julia\\environments\\v1.1\\Manifest.toml`\n",
      "\u001b[90m [no changes]\u001b[39m\n"
     ]
    }
   ],
   "source": [
    "using Pkg \n",
    "Pkg.add(\"PyCall\")"
   ]
  },
  {
   "cell_type": "code",
   "execution_count": 4,
   "metadata": {},
   "outputs": [
    {
     "name": "stderr",
     "output_type": "stream",
     "text": [
      "┌ Info: Precompiling PyCall [438e738f-606a-5dbb-bf0a-cddfbfd45ab0]\n",
      "└ @ Base loading.jl:1186\n",
      "ERROR: LoadError: LoadError: PyCall not properly installed. Please run Pkg.build(\"PyCall\")\n",
      "Stacktrace:\n",
      " [1] error(::String) at .\\error.jl:33\n",
      " [2] top-level scope at C:\\Users\\Z001C9V\\.julia\\packages\\PyCall\\ttONZ\\src\\startup.jl:44 [inlined]\n",
      " [3] top-level scope at .\\none:0\n",
      " [4] include at .\\boot.jl:326 [inlined]\n",
      " [5] include_relative(::Module, ::String) at .\\loading.jl:1038\n",
      " [6] include at .\\sysimg.jl:29 [inlined]\n",
      " [7] include(::String) at C:\\Users\\Z001C9V\\.julia\\packages\\PyCall\\ttONZ\\src\\PyCall.jl:1\n",
      " [8] top-level scope at none:0\n",
      " [9] include at .\\boot.jl:326 [inlined]\n",
      " [10] include_relative(::Module, ::String) at .\\loading.jl:1038\n",
      " [11] include(::Module, ::String) at .\\sysimg.jl:29\n",
      " [12] top-level scope at none:2\n",
      " [13] eval at .\\boot.jl:328 [inlined]\n",
      " [14] eval(::Expr) at .\\client.jl:404\n",
      " [15] top-level scope at .\\none:3\n",
      "in expression starting at C:\\Users\\Z001C9V\\.julia\\packages\\PyCall\\ttONZ\\src\\startup.jl:41\n",
      "in expression starting at C:\\Users\\Z001C9V\\.julia\\packages\\PyCall\\ttONZ\\src\\PyCall.jl:41\n"
     ]
    },
    {
     "ename": "ErrorException",
     "evalue": "Failed to precompile PyCall [438e738f-606a-5dbb-bf0a-cddfbfd45ab0] to C:\\Users\\Z001C9V\\.julia\\compiled\\v1.1\\PyCall\\GkzkC.ji.",
     "output_type": "error",
     "traceback": [
      "Failed to precompile PyCall [438e738f-606a-5dbb-bf0a-cddfbfd45ab0] to C:\\Users\\Z001C9V\\.julia\\compiled\\v1.1\\PyCall\\GkzkC.ji.",
      "",
      "Stacktrace:",
      " [1] error(::String) at .\\error.jl:33",
      " [2] compilecache(::Base.PkgId, ::String) at .\\loading.jl:1197",
      " [3] _require(::Base.PkgId) at .\\loading.jl:960",
      " [4] require(::Base.PkgId) at .\\loading.jl:858",
      " [5] require(::Module, ::Symbol) at .\\loading.jl:853",
      " [6] top-level scope at In[4]:1"
     ]
    }
   ],
   "source": [
    "# wrapping functions:\n",
    "using PyCall #if calling this for the first time, add the package first by typing Pkg.add(\"PyCall\")"
   ]
  },
  {
   "cell_type": "code",
   "execution_count": null,
   "metadata": {},
   "outputs": [],
   "source": [
    "pushfirst!(PyVector(pyimport(\"sys\").\"path\"), \"\") #to tell pyimport search in the local directory"
   ]
  },
  {
   "cell_type": "markdown",
   "metadata": {},
   "source": [
    "### 1. take your existing python function and wrap it into a julia function\n",
    "_filename: python_sum.py_\n",
    "\n",
    "```\n",
    "def py_sum(A):\n",
    "    s = 0.0\n",
    "    for a in A:\n",
    "        s += a\n",
    "    return s\n",
    "```"
   ]
  },
  {
   "cell_type": "code",
   "execution_count": null,
   "metadata": {},
   "outputs": [],
   "source": [
    "python_sum = pyimport(\"python_sum\") # wrote a function out side julia"
   ]
  },
  {
   "cell_type": "code",
   "execution_count": null,
   "metadata": {},
   "outputs": [],
   "source": [
    "m = [1,2,3]\n",
    "python_sum.py_sum(m)"
   ]
  },
  {
   "cell_type": "markdown",
   "metadata": {},
   "source": [
    "### 2. You can also write quick and easy python code from within julia"
   ]
  },
  {
   "cell_type": "code",
   "execution_count": null,
   "metadata": {},
   "outputs": [],
   "source": [
    "py\"\"\"\n",
    "def py_sum2(A):\n",
    "    s = 0.0\n",
    "    for a in A:\n",
    "        s += a\n",
    "    return s\n",
    "\"\"\"\n",
    "sum_py = py\"py_sum2\""
   ]
  },
  {
   "cell_type": "code",
   "execution_count": null,
   "metadata": {},
   "outputs": [],
   "source": [
    "sum_py([1,2,3])"
   ]
  },
  {
   "cell_type": "markdown",
   "metadata": {},
   "source": [
    "## 3. You can also import your favorite python package"
   ]
  },
  {
   "cell_type": "code",
   "execution_count": null,
   "metadata": {},
   "outputs": [],
   "source": [
    "pyimport(\"cvxpy\")"
   ]
  },
  {
   "cell_type": "markdown",
   "metadata": {},
   "source": [
    "```\n",
    "# if the above doesn't work, and you get something like what I get when I add networkx, try:\n",
    "using Conda\n",
    "Conda.add(\"cvxpy\")\n",
    "```"
   ]
  },
  {
   "cell_type": "code",
   "execution_count": null,
   "metadata": {},
   "outputs": [],
   "source": [
    "pyimport(\"networkx\")"
   ]
  },
  {
   "cell_type": "code",
   "execution_count": null,
   "metadata": {},
   "outputs": [],
   "source": [
    "my_cvxpy = pyimport(\"cvxpy\")"
   ]
  },
  {
   "cell_type": "code",
   "execution_count": null,
   "metadata": {},
   "outputs": [],
   "source": [
    "x1 = my_cvxpy.Variable(1, name=\"x1\")"
   ]
  },
  {
   "cell_type": "code",
   "execution_count": null,
   "metadata": {},
   "outputs": [],
   "source": [
    "obj = my_cvxpy.square(x1)"
   ]
  },
  {
   "cell_type": "code",
   "execution_count": null,
   "metadata": {},
   "outputs": [],
   "source": [
    "#old syntax: @pyimport cvxpy.constraints as cvxpyconstraints\n",
    "x1 = my_cvxpy.Variable(1, name=\"x1\")"
   ]
  },
  {
   "cell_type": "code",
   "execution_count": null,
   "metadata": {},
   "outputs": [],
   "source": [
    "cvxpyconstraints = pyimport(\"cvxpy.constraints\")"
   ]
  },
  {
   "cell_type": "markdown",
   "metadata": {},
   "source": [
    "Least squares example from the CVXPY page\n",
    "https://www.cvxpy.org/examples/basic/least_squares.html\n",
    "\n",
    "```\n",
    "# Import packages.\n",
    "import cvxpy as cp\n",
    "import numpy as np\n",
    "\n",
    "# Generate data.\n",
    "m = 20\n",
    "n = 15\n",
    "np.random.seed(1)\n",
    "A = np.random.randn(m, n)\n",
    "b = np.random.randn(m)\n",
    "\n",
    "# Define and solve the CVXPY problem.\n",
    "x = cp.Variable(n)\n",
    "cost = cp.sum_squares(A*x - b)\n",
    "prob = cp.Problem(cp.Minimize(cost))\n",
    "prob.solve()\n",
    "\n",
    "# Print result.\n",
    "print(\"\\nThe optimal value is\", prob.value)\n",
    "print(\"The optimal x is\")\n",
    "print(x.value)\n",
    "print(\"The norm of the residual is \", cp.norm(A*x - b, p=2).value)\n",
    "```"
   ]
  },
  {
   "cell_type": "code",
   "execution_count": null,
   "metadata": {},
   "outputs": [],
   "source": [
    "m = 20\n",
    "n = 15\n",
    "A = randn(m,n)\n",
    "b = randn(m)\n",
    ";"
   ]
  },
  {
   "cell_type": "code",
   "execution_count": null,
   "metadata": {},
   "outputs": [],
   "source": [
    "x = my_cvxpy.Variable(n)\n",
    "cost = my_cvxpy.sum_squares(A*x - b)\n",
    "prob = my_cvxpy.Problem(my_cvxpy.Minimize(cost))\n",
    "prob.solve()"
   ]
  },
  {
   "cell_type": "code",
   "execution_count": null,
   "metadata": {},
   "outputs": [],
   "source": [
    "println(\"\\nThe optimal value is\", prob.value)\n",
    "println(\"The optimal x is\")\n",
    "println(x.value)\n",
    "println(\"The norm of the residual is \", my_cvxpy.norm(A*x - b, p=2).value)"
   ]
  },
  {
   "cell_type": "markdown",
   "metadata": {},
   "source": [
    "# Wrapping C code with `ccall`"
   ]
  },
  {
   "cell_type": "code",
   "execution_count": null,
   "metadata": {},
   "outputs": [],
   "source": [
    "?ccall"
   ]
  },
  {
   "cell_type": "markdown",
   "metadata": {},
   "source": [
    "More references in this link:\n",
    "https://docs.julialang.org/en/v1/manual/calling-c-and-fortran-code/index.html"
   ]
  },
  {
   "cell_type": "code",
   "execution_count": null,
   "metadata": {},
   "outputs": [],
   "source": [
    "t = ccall((:clock, \"libc\"), Int32, ())"
   ]
  },
  {
   "cell_type": "code",
   "execution_count": null,
   "metadata": {},
   "outputs": [],
   "source": [
    "ccall((:floor,\"math\"),Float64,(Float64,),10.1)"
   ]
  },
  {
   "cell_type": "code",
   "execution_count": null,
   "metadata": {},
   "outputs": [],
   "source": [
    "ccall((:floor,\"libm\"),Float64,(Float64,),10.1)"
   ]
  },
  {
   "cell_type": "markdown",
   "metadata": {},
   "source": [
    "## Now let's wrap our own `C` function\n",
    "\n",
    "* Switch to editor `hello_world.c`\n",
    "\n",
    "```\n",
    "#include <stdio.h>\n",
    "int hello_world()\n",
    "{\n",
    "    printf(\"Hello, World!\\n\");\n",
    "    return 0;\n",
    "}\n",
    "\n",
    "int hello_world_repeated(int n)\n",
    "{\n",
    "    for (int i = 0; i<n; i++){\n",
    "        printf(\"Hello, World!\\n\");\n",
    "    }\n",
    "    return 0;\n",
    "}\n",
    "```\n",
    "* To compile:\n",
    "\n",
    "```\n",
    "$ gcc -g -O -c hello_world.c \n",
    "$ gcc -dynamiclib -o hello_world_lib.dylib hello_world.o\n",
    "```"
   ]
  },
  {
   "cell_type": "code",
   "execution_count": null,
   "metadata": {},
   "outputs": [],
   "source": [
    "ccall((:hello_world,\"hello_world_lib.dylib\"),\n",
    "    Int64,\n",
    "    (),\n",
    "    )"
   ]
  },
  {
   "cell_type": "code",
   "execution_count": null,
   "metadata": {},
   "outputs": [],
   "source": [
    "ccall((:hello_world_repeated,\"hello_world_lib.dylib\"),\n",
    "    Int64,\n",
    "    (Int64,),\n",
    "    10)"
   ]
  },
  {
   "cell_type": "markdown",
   "metadata": {},
   "source": [
    "## What if we have a `C++` function? Let's take a look\n",
    "\n",
    "```\n",
    "#include <stdint.h>\n",
    "\n",
    "extern \"C\"\n",
    "{\n",
    "int64_t Fibonacci_I(int64_t n)\n",
    "{\n",
    "\tint x = 0;\n",
    "\tint y = 1;\n",
    "\tint t;\n",
    "\tfor(int i=1; i<n; ++i)\n",
    "\t{\n",
    "\t    t = x;\n",
    "\t    x = y;\n",
    "\t    y = t+y;\n",
    "\t}\n",
    "\treturn y;\n",
    "}\n",
    "};\n",
    "```"
   ]
  },
  {
   "cell_type": "code",
   "execution_count": null,
   "metadata": {},
   "outputs": [],
   "source": [
    "if Sys.islinux()\n",
    "    const libpath = string(pwd(), \"/Fibo_externC.so\")\n",
    "else\n",
    "    const libpath = string(pwd(), \"/Fibo_externC.dylib\")\n",
    "end"
   ]
  },
  {
   "cell_type": "code",
   "execution_count": null,
   "metadata": {},
   "outputs": [],
   "source": [
    "function cpp_wrapped_fibo(n::Int64)\n",
    "    r = ccall( (:Fibonacci_I, libpath), # function + library\n",
    "                    Int64, # return type\n",
    "                    (Int64,),\n",
    "                    n)\n",
    "    return r\n",
    "end"
   ]
  },
  {
   "cell_type": "code",
   "execution_count": null,
   "metadata": {},
   "outputs": [],
   "source": [
    "cpp_wrapped_fibo(10)"
   ]
  }
 ],
 "metadata": {
  "@webio": {
   "lastCommId": null,
   "lastKernelId": null
  },
  "kernelspec": {
   "display_name": "Julia 1.1.0",
   "language": "julia",
   "name": "julia-1.1"
  },
  "language_info": {
   "file_extension": ".jl",
   "mimetype": "application/julia",
   "name": "julia",
   "version": "1.1.0"
  }
 },
 "nbformat": 4,
 "nbformat_minor": 2
}
