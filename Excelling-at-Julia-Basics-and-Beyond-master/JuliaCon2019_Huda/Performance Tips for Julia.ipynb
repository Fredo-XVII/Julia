{
 "cells": [
  {
   "cell_type": "markdown",
   "metadata": {},
   "source": [
    "# Performance tips for Julia"
   ]
  },
  {
   "cell_type": "markdown",
   "metadata": {},
   "source": [
    "## 1. As a rule of thumb, typed functions run faster. \n",
    "Let us revisit types first. When a type is not specified, it is assumed to be `Any`. Just a quick recap on types:"
   ]
  },
  {
   "cell_type": "code",
   "execution_count": 1,
   "metadata": {},
   "outputs": [
    {
     "name": "stdout",
     "output_type": "stream",
     "text": [
      "Number\n",
      "|___Complex\n",
      "|___Real\n",
      "\t|___AbstractFloat\n",
      "\t\t|___BigFloat\n",
      "\t\t|___Float16\n",
      "\t\t|___Float32\n",
      "\t\t|___Float64\n",
      "\t|___AbstractIrrational\n",
      "\t\t|___Irrational\n",
      "\t|___Integer\n",
      "\t\t|___Bool\n",
      "\t\t|___Signed\n",
      "\t\t\t|___BigInt\n",
      "\t\t\t|___Int128\n",
      "\t\t\t|___Int16\n",
      "\t\t\t|___Int32\n",
      "\t\t\t|___Int64\n",
      "\t\t\t|___Int8\n",
      "\t\t|___Unsigned\n",
      "\t\t\t|___UInt128\n",
      "\t\t\t|___UInt16\n",
      "\t\t\t|___UInt32\n",
      "\t\t\t|___UInt64\n",
      "\t\t\t|___UInt8\n",
      "\t|___Rational\n"
     ]
    }
   ],
   "source": [
    "function _show_subtype_tree(mytype,printlevel)\n",
    "    allsubtypes = subtypes(mytype)\n",
    "    for cursubtype in allsubtypes\n",
    "        print(\"\\t\"^printlevel)\n",
    "        println(\"|___\",cursubtype)\n",
    "        printlevel += 1\n",
    "        _show_subtype_tree(cursubtype,printlevel)\n",
    "        printlevel -= 1\n",
    "    end\n",
    "end\n",
    "function show_type_tree(T)\n",
    "    println(T)\n",
    "    _show_subtype_tree(T,0)\n",
    "end\n",
    "show_type_tree(Number)"
   ]
  },
  {
   "cell_type": "code",
   "execution_count": 2,
   "metadata": {},
   "outputs": [
    {
     "data": {
      "text/plain": [
       "square_plus_one (generic function with 1 method)"
      ]
     },
     "execution_count": 2,
     "metadata": {},
     "output_type": "execute_result"
    }
   ],
   "source": [
    "function square_plus_one(v::T) where T <:Number\n",
    "    g = v*v\n",
    "    return g+1\n",
    "end"
   ]
  },
  {
   "cell_type": "code",
   "execution_count": 3,
   "metadata": {},
   "outputs": [
    {
     "data": {
      "text/plain": [
       "Float64"
      ]
     },
     "execution_count": 3,
     "metadata": {},
     "output_type": "execute_result"
    }
   ],
   "source": [
    "v = rand()\n",
    "typeof(v)"
   ]
  },
  {
   "cell_type": "code",
   "execution_count": 4,
   "metadata": {},
   "outputs": [
    {
     "name": "stdout",
     "output_type": "stream",
     "text": [
      "Body\u001b[36m::Float64\u001b[39m\n",
      "\u001b[90m\u001b[73G│╻  *\u001b[1G\u001b[39m\u001b[90m2 \u001b[39m1 ─ %1 = (Base.mul_float)(v, v)\u001b[36m::Float64\u001b[39m\n",
      "\u001b[90m\u001b[73G│╻╷ +\u001b[1G\u001b[39m\u001b[90m3 \u001b[39m│   %2 = (Base.add_float)(%1, 1.0)\u001b[36m::Float64\u001b[39m\n",
      "\u001b[90m\u001b[73G│  \u001b[1G\u001b[39m\u001b[90m  \u001b[39m└──      return %2\n"
     ]
    }
   ],
   "source": [
    "@code_warntype square_plus_one(v) # Can Julia figure out the type"
   ]
  },
  {
   "cell_type": "code",
   "execution_count": 5,
   "metadata": {},
   "outputs": [
    {
     "data": {
      "text/plain": [
       "Int64"
      ]
     },
     "execution_count": 5,
     "metadata": {},
     "output_type": "execute_result"
    }
   ],
   "source": [
    "w = 5\n",
    "typeof(w)"
   ]
  },
  {
   "cell_type": "code",
   "execution_count": 6,
   "metadata": {},
   "outputs": [
    {
     "name": "stdout",
     "output_type": "stream",
     "text": [
      "Body\u001b[36m::Int64\u001b[39m\n",
      "\u001b[90m\u001b[74G│╻ *\u001b[1G\u001b[39m\u001b[90m2 \u001b[39m1 ─ %1 = (Base.mul_int)(v, v)\u001b[36m::Int64\u001b[39m\n",
      "\u001b[90m\u001b[74G│╻ +\u001b[1G\u001b[39m\u001b[90m3 \u001b[39m│   %2 = (Base.add_int)(%1, 1)\u001b[36m::Int64\u001b[39m\n",
      "\u001b[90m\u001b[74G│ \u001b[1G\u001b[39m\u001b[90m  \u001b[39m└──      return %2\n"
     ]
    }
   ],
   "source": [
    "@code_warntype square_plus_one(w)"
   ]
  },
  {
   "cell_type": "markdown",
   "metadata": {},
   "source": [
    "Great! In the above two examples, we were able to predict what the output will be. This is because:\n",
    "```\n",
    "function square_plus_one(v::T) where T <:Number\n",
    "    g = v*v         # Type(T * T) ==> T\n",
    "    return g+1      # Type(T + Int)) ==> \"max\" (T,Int)\n",
    "end\n",
    "\n",
    "```\n",
    "Note that in both calls the return type was different, once `Float64` and once `Int64`. But the function is *still type stable*.\n",
    "\n",
    "Now let's move to something more interesting. Let's create our first type."
   ]
  },
  {
   "cell_type": "code",
   "execution_count": 8,
   "metadata": {},
   "outputs": [],
   "source": [
    "mutable struct Cube # Creates object\n",
    "    length\n",
    "    width\n",
    "    height\n",
    "end"
   ]
  },
  {
   "cell_type": "code",
   "execution_count": 9,
   "metadata": {},
   "outputs": [
    {
     "data": {
      "text/plain": [
       "volume (generic function with 1 method)"
      ]
     },
     "execution_count": 9,
     "metadata": {},
     "output_type": "execute_result"
    }
   ],
   "source": [
    "volume(c::Cube) = c.length*c.width*c.height"
   ]
  },
  {
   "cell_type": "code",
   "execution_count": 10,
   "metadata": {},
   "outputs": [
    {
     "data": {
      "text/plain": [
       "volume (generic function with 2 methods)"
      ]
     },
     "execution_count": 10,
     "metadata": {},
     "output_type": "execute_result"
    }
   ],
   "source": [
    "mutable struct Cube_typed\n",
    "    length::Float64\n",
    "    width::Float64\n",
    "    height::Float64\n",
    "end\n",
    "volume(c::Cube_typed) = c.length*c.width*c.height"
   ]
  },
  {
   "cell_type": "code",
   "execution_count": 11,
   "metadata": {},
   "outputs": [
    {
     "data": {
      "text/plain": [
       "volume (generic function with 3 methods)"
      ]
     },
     "execution_count": 11,
     "metadata": {},
     "output_type": "execute_result"
    }
   ],
   "source": [
    "mutable struct Cube_parametric_typed{T <: Real}\n",
    "    length::T\n",
    "    width::T\n",
    "    height::T\n",
    "end\n",
    "volume(c::Cube_parametric_typed) = c.length*c.width*c.height"
   ]
  },
  {
   "cell_type": "code",
   "execution_count": 12,
   "metadata": {},
   "outputs": [
    {
     "name": "stdout",
     "output_type": "stream",
     "text": [
      "volume(c1) == volume(c2) == volume(c3) = true\n"
     ]
    },
    {
     "data": {
      "text/plain": [
       "true"
      ]
     },
     "execution_count": 12,
     "metadata": {},
     "output_type": "execute_result"
    }
   ],
   "source": [
    "c1 = Cube(1.1,1.2,1.3)\n",
    "c2 = Cube_typed(1.1,1.2,1.3)\n",
    "c3 = Cube_parametric_typed(1.1,1.2,1.3)\n",
    "@show volume(c1) == volume(c2) == volume(c3)"
   ]
  },
  {
   "cell_type": "code",
   "execution_count": 1,
   "metadata": {},
   "outputs": [
    {
     "name": "stdout",
     "output_type": "stream",
     "text": [
      "\u001b[32m\u001b[1m  Updating\u001b[22m\u001b[39m registry at `C:\\Users\\Z001C9V\\.julia\\registries\\General`\n",
      "\u001b[32m\u001b[1m  Updating\u001b[22m\u001b[39m git-repo `https://github.com/JuliaRegistries/General.git`\n",
      "\u001b[?25l\u001b[2K\u001b[?25h\u001b[32m\u001b[1m Resolving\u001b[22m\u001b[39m package versions...\n",
      "\u001b[32m\u001b[1m Installed\u001b[22m\u001b[39m StructArrays ──────── v0.4.0\n",
      "\u001b[32m\u001b[1m Installed\u001b[22m\u001b[39m BenchmarkTools ────── v0.4.2\n",
      "\u001b[32m\u001b[1m Installed\u001b[22m\u001b[39m Knockout ──────────── v0.2.3\n",
      "\u001b[32m\u001b[1m Installed\u001b[22m\u001b[39m Parsers ───────────── v0.3.6\n",
      "\u001b[32m\u001b[1m Installed\u001b[22m\u001b[39m ExcelFiles ────────── v1.0.0\n",
      "\u001b[32m\u001b[1m Installed\u001b[22m\u001b[39m QueryOperators ────── v0.9.0\n",
      "\u001b[32m\u001b[1m Installed\u001b[22m\u001b[39m Cassette ──────────── v0.2.5\n",
      "\u001b[32m\u001b[1m Installed\u001b[22m\u001b[39m DataStructures ────── v0.17.0\n",
      "\u001b[32m\u001b[1m Installed\u001b[22m\u001b[39m Tokenize ──────────── v0.5.5\n",
      "\u001b[32m\u001b[1m Installed\u001b[22m\u001b[39m TableTraitsUtils ──── v1.0.0\n",
      "\u001b[32m\u001b[1m Installed\u001b[22m\u001b[39m SimpleTraits ──────── v0.9.0\n",
      "\u001b[32m\u001b[1m Installed\u001b[22m\u001b[39m QueryTables ───────── v0.1.0\n",
      "\u001b[32m\u001b[1m Installed\u001b[22m\u001b[39m LibCURL ───────────── v0.5.2\n",
      "\u001b[32m\u001b[1m Installed\u001b[22m\u001b[39m Parquet ───────────── v0.3.0\n",
      "\u001b[32m\u001b[1m Installed\u001b[22m\u001b[39m HTTP ──────────────── v0.8.4\n",
      "\u001b[32m\u001b[1m Installed\u001b[22m\u001b[39m DoubleFloats ──────── v0.9.3\n",
      "\u001b[32m\u001b[1m Installed\u001b[22m\u001b[39m Adapt ─────────────── v1.0.0\n",
      "\u001b[32m\u001b[1m Installed\u001b[22m\u001b[39m DiffEqDiffTools ───── v0.14.0\n",
      "\u001b[32m\u001b[1m Installed\u001b[22m\u001b[39m Showoff ───────────── v0.3.1\n",
      "\u001b[32m\u001b[1m Installed\u001b[22m\u001b[39m RecipesBase ───────── v0.7.0\n",
      "\u001b[32m\u001b[1m Installed\u001b[22m\u001b[39m EzXML ─────────────── v0.9.3\n",
      "\u001b[32m\u001b[1m Installed\u001b[22m\u001b[39m IterTools ─────────── v1.2.0\n",
      "\u001b[32m\u001b[1m Installed\u001b[22m\u001b[39m MacroTools ────────── v0.5.1\n",
      "\u001b[32m\u001b[1m Installed\u001b[22m\u001b[39m DataValues ────────── v0.4.12\n",
      "\u001b[32m\u001b[1m Installed\u001b[22m\u001b[39m OffsetArrays ──────── v0.11.1\n",
      "\u001b[32m\u001b[1m Installed\u001b[22m\u001b[39m XLSX ──────────────── v0.5.3\n",
      "\u001b[32m\u001b[1m Installed\u001b[22m\u001b[39m CSTParser ─────────── v0.6.1\n",
      "\u001b[32m\u001b[1m Installed\u001b[22m\u001b[39m Bijectors ─────────── v0.3.1\n",
      "\u001b[32m\u001b[1m Installed\u001b[22m\u001b[39m DataValueInterfaces ─ v1.0.0\n",
      "\u001b[32m\u001b[1m Installed\u001b[22m\u001b[39m CategoricalArrays ─── v0.5.4\n",
      "\u001b[32m\u001b[1m Installed\u001b[22m\u001b[39m Parameters ────────── v0.11.0\n",
      "\u001b[32m\u001b[1m Installed\u001b[22m\u001b[39m FeatherLib ────────── v0.2.0\n",
      "\u001b[32m\u001b[1m Installed\u001b[22m\u001b[39m WebIO ─────────────── v0.8.6\n",
      "\u001b[32m\u001b[1m Installed\u001b[22m\u001b[39m Quadmath ──────────── v0.5.0\n",
      "\u001b[32m\u001b[1m Installed\u001b[22m\u001b[39m DocStringExtensions ─ v0.8.0\n",
      "\u001b[32m\u001b[1m Installed\u001b[22m\u001b[39m FilePathsBase ─────── v0.5.0\n",
      "\u001b[32m\u001b[1m  Updating\u001b[22m\u001b[39m `C:\\Users\\Z001C9V\\.julia\\environments\\v1.1\\Project.toml`\n",
      " \u001b[90m [6e4b80f9]\u001b[39m\u001b[92m + BenchmarkTools v0.4.2\u001b[39m\n",
      "\u001b[32m\u001b[1m  Updating\u001b[22m\u001b[39m `C:\\Users\\Z001C9V\\.julia\\environments\\v1.1\\Manifest.toml`\n",
      " \u001b[90m [79e6a3ab]\u001b[39m\u001b[93m ↑ Adapt v0.4.2 ⇒ v1.0.0\u001b[39m\n",
      " \u001b[90m [6e4b80f9]\u001b[39m\u001b[92m + BenchmarkTools v0.4.2\u001b[39m\n",
      " \u001b[90m [76274a88]\u001b[39m\u001b[93m ↑ Bijectors v0.3.0 ⇒ v0.3.1\u001b[39m\n",
      " \u001b[90m [b99e7846]\u001b[39m\u001b[31m ? BinaryProvider v0.5.4 ⇒ v0.5.6\u001b[39m\n",
      " \u001b[90m [00ebfdb7]\u001b[39m\u001b[93m ↑ CSTParser v0.5.2 ⇒ v0.6.1\u001b[39m\n",
      " \u001b[90m [7057c7e9]\u001b[39m\u001b[93m ↑ Cassette v0.2.3 ⇒ v0.2.5\u001b[39m\n",
      " \u001b[90m [324d7699]\u001b[39m\u001b[93m ↑ CategoricalArrays v0.5.3 ⇒ v0.5.4\u001b[39m\n",
      " \u001b[90m [864edb3b]\u001b[39m\u001b[93m ↑ DataStructures v0.15.0 ⇒ v0.17.0\u001b[39m\n",
      " \u001b[90m [e2d170a0]\u001b[39m\u001b[92m + DataValueInterfaces v1.0.0\u001b[39m\n",
      " \u001b[90m [e7dc6d0d]\u001b[39m\u001b[93m ↑ DataValues v0.4.7 ⇒ v0.4.12\u001b[39m\n",
      " \u001b[90m [01453d9d]\u001b[39m\u001b[93m ↑ DiffEqDiffTools v0.10.1 ⇒ v0.14.0\u001b[39m\n",
      " \u001b[90m [ffbed154]\u001b[39m\u001b[93m ↑ DocStringExtensions v0.7.0 ⇒ v0.8.0\u001b[39m\n",
      " \u001b[90m [497a8b3b]\u001b[39m\u001b[93m ↑ DoubleFloats v0.9.1 ⇒ v0.9.3\u001b[39m\n",
      " \u001b[90m [89b67f3b]\u001b[39m\u001b[93m ↑ ExcelFiles v0.9.1 ⇒ v1.0.0\u001b[39m\n",
      " \u001b[90m [8f5d6c58]\u001b[39m\u001b[93m ↑ EzXML v0.9.1 ⇒ v0.9.3\u001b[39m\n",
      " \u001b[90m [409f5150]\u001b[39m\u001b[93m ↑ FeatherLib v0.1.3 ⇒ v0.2.0\u001b[39m\n",
      " \u001b[90m [48062228]\u001b[39m\u001b[93m ↑ FilePathsBase v0.4.0 ⇒ v0.5.0\u001b[39m\n",
      " \u001b[90m [cd3eb016]\u001b[39m\u001b[93m ↑ HTTP v0.8.2 ⇒ v0.8.4\u001b[39m\n",
      " \u001b[90m [c8e1da08]\u001b[39m\u001b[93m ↑ IterTools v1.1.1 ⇒ v1.2.0\u001b[39m\n",
      " \u001b[90m [bcebb21b]\u001b[39m\u001b[93m ↑ Knockout v0.2.2 ⇒ v0.2.3\u001b[39m\n",
      " \u001b[90m [b27032c2]\u001b[39m\u001b[93m ↑ LibCURL v0.5.1 ⇒ v0.5.2\u001b[39m\n",
      " \u001b[90m [1914dd2f]\u001b[39m\u001b[93m ↑ MacroTools v0.5.0 ⇒ v0.5.1\u001b[39m\n",
      " \u001b[90m [6fe1bfb0]\u001b[39m\u001b[93m ↑ OffsetArrays v0.11.0 ⇒ v0.11.1\u001b[39m\n",
      " \u001b[90m [d96e819e]\u001b[39m\u001b[93m ↑ Parameters v0.10.3 ⇒ v0.11.0\u001b[39m\n",
      " \u001b[90m [626c502c]\u001b[39m\u001b[93m ↑ Parquet v0.2.0 ⇒ v0.3.0\u001b[39m\n",
      " \u001b[90m [69de0a69]\u001b[39m\u001b[93m ↑ Parsers v0.3.5 ⇒ v0.3.6\u001b[39m\n",
      " \u001b[90m [1fd47b50]\u001b[39m\u001b[95m ↓ QuadGK v2.0.4 ⇒ v2.0.3\u001b[39m\n",
      " \u001b[90m [be4d8f0f]\u001b[39m\u001b[93m ↑ Quadmath v0.4.0 ⇒ v0.5.0\u001b[39m\n",
      " \u001b[90m [2aef5ad7]\u001b[39m\u001b[93m ↑ QueryOperators v0.8.0 ⇒ v0.9.0\u001b[39m\n",
      " \u001b[90m [30ad73d7]\u001b[39m\u001b[93m ↑ QueryTables v0.0.1 ⇒ v0.1.0\u001b[39m\n",
      " \u001b[90m [3cdcf5f2]\u001b[39m\u001b[93m ↑ RecipesBase v0.6.0 ⇒ v0.7.0\u001b[39m\n",
      " \u001b[90m [992d4aef]\u001b[39m\u001b[93m ↑ Showoff v0.2.1 ⇒ v0.3.1\u001b[39m\n",
      " \u001b[90m [699a6c99]\u001b[39m\u001b[93m ↑ SimpleTraits v0.8.0 ⇒ v0.9.0\u001b[39m\n",
      " \u001b[90m [09ab397b]\u001b[39m\u001b[93m ↑ StructArrays v0.3.4 ⇒ v0.4.0\u001b[39m\n",
      " \u001b[90m [382cd787]\u001b[39m\u001b[93m ↑ TableTraitsUtils v0.4.0 ⇒ v1.0.0\u001b[39m\n",
      " \u001b[90m [0796e94c]\u001b[39m\u001b[93m ↑ Tokenize v0.5.3 ⇒ v0.5.5\u001b[39m\n",
      " \u001b[90m [0f1e0344]\u001b[39m\u001b[93m ↑ WebIO v0.8.4 ⇒ v0.8.6\u001b[39m\n",
      " \u001b[90m [fdbf4ff8]\u001b[39m\u001b[93m ↑ XLSX v0.4.7 ⇒ v0.5.3\u001b[39m\n",
      "\u001b[32m\u001b[1m  Building\u001b[22m\u001b[39m WebIO ───→ `C:\\Users\\Z001C9V\\.julia\\packages\\WebIO\\9qsL8\\deps\\build.log`\n",
      "\u001b[32m\u001b[1m  Building\u001b[22m\u001b[39m Knockout → `C:\\Users\\Z001C9V\\.julia\\packages\\Knockout\\1sDlc\\deps\\build.log`\n",
      "\u001b[32m\u001b[1m  Building\u001b[22m\u001b[39m LibCURL ─→ `C:\\Users\\Z001C9V\\.julia\\packages\\LibCURL\\lWJxD\\deps\\build.log`\n",
      "\u001b[32m\u001b[1m  Building\u001b[22m\u001b[39m EzXML ───→ `C:\\Users\\Z001C9V\\.julia\\packages\\EzXML\\QlX60\\deps\\build.log`\n"
     ]
    }
   ],
   "source": [
    "using Pkg\n",
    "Pkg.add(\"BenchmarkTools\")"
   ]
  },
  {
   "cell_type": "code",
   "execution_count": 3,
   "metadata": {},
   "outputs": [
    {
     "name": "stderr",
     "output_type": "stream",
     "text": [
      "┌ Info: Precompiling BenchmarkTools [6e4b80f9-dd63-53aa-95a3-0cdb28fa8baf]\n",
      "└ @ Base loading.jl:1186\n"
     ]
    },
    {
     "ename": "UndefVarError",
     "evalue": "UndefVarError: volume not defined",
     "output_type": "error",
     "traceback": [
      "UndefVarError: volume not defined",
      "",
      "Stacktrace:",
      " [1] ##core#369() at C:\\Users\\Z001C9V\\.julia\\packages\\BenchmarkTools\\mVOqg\\src\\execution.jl:297",
      " [2] ##sample#370(::BenchmarkTools.Parameters) at C:\\Users\\Z001C9V\\.julia\\packages\\BenchmarkTools\\mVOqg\\src\\execution.jl:303",
      " [3] #_run#3(::Bool, ::String, ::Base.Iterators.Pairs{Symbol,Integer,NTuple{4,Symbol},NamedTuple{(:samples, :evals, :gctrial, :gcsample),Tuple{Int64,Int64,Bool,Bool}}}, ::Function, ::BenchmarkTools.Benchmark{Symbol(\"##benchmark#368\")}, ::BenchmarkTools.Parameters) at C:\\Users\\Z001C9V\\.julia\\packages\\BenchmarkTools\\mVOqg\\src\\execution.jl:331",
      " [4] (::getfield(Base, Symbol(\"#inner#2\")){Base.Iterators.Pairs{Symbol,Integer,NTuple{5,Symbol},NamedTuple{(:verbose, :samples, :evals, :gctrial, :gcsample),Tuple{Bool,Int64,Int64,Bool,Bool}}},typeof(BenchmarkTools._run),Tuple{BenchmarkTools.Benchmark{Symbol(\"##benchmark#368\")},BenchmarkTools.Parameters}})() at .\\none:0",
      " [5] #invokelatest#1 at .\\essentials.jl:746 [inlined]",
      " [6] #invokelatest at .\\none:0 [inlined]",
      " [7] #run_result#19 at C:\\Users\\Z001C9V\\.julia\\packages\\BenchmarkTools\\mVOqg\\src\\execution.jl:32 [inlined]",
      " [8] #run_result at .\\none:0 [inlined]",
      " [9] #run#21(::Base.Iterators.Pairs{Symbol,Integer,NTuple{5,Symbol},NamedTuple{(:verbose, :samples, :evals, :gctrial, :gcsample),Tuple{Bool,Int64,Int64,Bool,Bool}}}, ::Function, ::BenchmarkTools.Benchmark{Symbol(\"##benchmark#368\")}, ::BenchmarkTools.Parameters) at C:\\Users\\Z001C9V\\.julia\\packages\\BenchmarkTools\\mVOqg\\src\\execution.jl:46",
      " [10] #run at .\\none:0 [inlined] (repeats 2 times)",
      " [11] #warmup#24 at C:\\Users\\Z001C9V\\.julia\\packages\\BenchmarkTools\\mVOqg\\src\\execution.jl:79 [inlined]",
      " [12] warmup(::BenchmarkTools.Benchmark{Symbol(\"##benchmark#368\")}) at C:\\Users\\Z001C9V\\.julia\\packages\\BenchmarkTools\\mVOqg\\src\\execution.jl:79",
      " [13] top-level scope at C:\\Users\\Z001C9V\\.julia\\packages\\BenchmarkTools\\mVOqg\\src\\execution.jl:390",
      " [14] top-level scope at In[3]:2"
     ]
    }
   ],
   "source": [
    "using BenchmarkTools # realiable package\n",
    "@btime volume(c1) # not typed\n",
    "@btime volume(c2) # typed float\n",
    "@btime volume(c3) # typed parametric"
   ]
  },
  {
   "cell_type": "markdown",
   "metadata": {},
   "source": [
    "The second function call is the fastest! Let's call `@code_warntype` and check type stability"
   ]
  },
  {
   "cell_type": "code",
   "execution_count": 17,
   "metadata": {},
   "outputs": [
    {
     "name": "stdout",
     "output_type": "stream",
     "text": [
      "Body\u001b[91m\u001b[1m::Any\u001b[22m\u001b[39m\n",
      "\u001b[90m\u001b[64G│╻ getproperty\u001b[1G\u001b[39m\u001b[90m1 \u001b[39m1 ─ %1 = (Base.getfield)(c, :length)\u001b[91m\u001b[1m::Any\u001b[22m\u001b[39m\n",
      "\u001b[90m\u001b[64G││\u001b[1G\u001b[39m\u001b[90m  \u001b[39m│   %2 = (Base.getfield)(c, :width)\u001b[91m\u001b[1m::Any\u001b[22m\u001b[39m\n",
      "\u001b[90m\u001b[64G││\u001b[1G\u001b[39m\u001b[90m  \u001b[39m│   %3 = (Base.getfield)(c, :height)\u001b[91m\u001b[1m::Any\u001b[22m\u001b[39m\n",
      "\u001b[90m\u001b[64G│ \u001b[1G\u001b[39m\u001b[90m  \u001b[39m│   %4 = (%1 * %2 * %3)\u001b[91m\u001b[1m::Any\u001b[22m\u001b[39m\n",
      "\u001b[90m\u001b[64G│ \u001b[1G\u001b[39m\u001b[90m  \u001b[39m└──      return %4\n"
     ]
    }
   ],
   "source": [
    "@code_warntype volume(c1)"
   ]
  },
  {
   "cell_type": "code",
   "execution_count": 18,
   "metadata": {},
   "outputs": [
    {
     "name": "stdout",
     "output_type": "stream",
     "text": [
      "Body\u001b[36m::Float64\u001b[39m\n",
      "\u001b[90m\u001b[63G│╻  getproperty\u001b[1G\u001b[39m\u001b[90m6 \u001b[39m1 ─ %1 = (Base.getfield)(c, :length)\u001b[36m::Float64\u001b[39m\n",
      "\u001b[90m\u001b[63G││ \u001b[1G\u001b[39m\u001b[90m  \u001b[39m│   %2 = (Base.getfield)(c, :width)\u001b[36m::Float64\u001b[39m\n",
      "\u001b[90m\u001b[63G││ \u001b[1G\u001b[39m\u001b[90m  \u001b[39m│   %3 = (Base.getfield)(c, :height)\u001b[36m::Float64\u001b[39m\n",
      "\u001b[90m\u001b[63G││╻  *\u001b[1G\u001b[39m\u001b[90m  \u001b[39m│   %4 = (Base.mul_float)(%1, %2)\u001b[36m::Float64\u001b[39m\n",
      "\u001b[90m\u001b[63G│││\u001b[1G\u001b[39m\u001b[90m  \u001b[39m│   %5 = (Base.mul_float)(%4, %3)\u001b[36m::Float64\u001b[39m\n",
      "\u001b[90m\u001b[63G│  \u001b[1G\u001b[39m\u001b[90m  \u001b[39m└──      return %5\n"
     ]
    }
   ],
   "source": [
    "@code_warntype volume(c2)"
   ]
  },
  {
   "cell_type": "code",
   "execution_count": 19,
   "metadata": {},
   "outputs": [
    {
     "name": "stdout",
     "output_type": "stream",
     "text": [
      "Body\u001b[36m::Float64\u001b[39m\n",
      "\u001b[90m\u001b[63G│╻  getproperty\u001b[1G\u001b[39m\u001b[90m6 \u001b[39m1 ─ %1 = (Base.getfield)(c, :length)\u001b[36m::Float64\u001b[39m\n",
      "\u001b[90m\u001b[63G││ \u001b[1G\u001b[39m\u001b[90m  \u001b[39m│   %2 = (Base.getfield)(c, :width)\u001b[36m::Float64\u001b[39m\n",
      "\u001b[90m\u001b[63G││ \u001b[1G\u001b[39m\u001b[90m  \u001b[39m│   %3 = (Base.getfield)(c, :height)\u001b[36m::Float64\u001b[39m\n",
      "\u001b[90m\u001b[63G││╻  *\u001b[1G\u001b[39m\u001b[90m  \u001b[39m│   %4 = (Base.mul_float)(%1, %2)\u001b[36m::Float64\u001b[39m\n",
      "\u001b[90m\u001b[63G│││\u001b[1G\u001b[39m\u001b[90m  \u001b[39m│   %5 = (Base.mul_float)(%4, %3)\u001b[36m::Float64\u001b[39m\n",
      "\u001b[90m\u001b[63G│  \u001b[1G\u001b[39m\u001b[90m  \u001b[39m└──      return %5\n"
     ]
    }
   ],
   "source": [
    "@code_warntype volume(c3)"
   ]
  },
  {
   "cell_type": "markdown",
   "metadata": {},
   "source": [
    "### Conclusion: \n",
    "Types matter, when you know anything about the types of your variables, include them in your code to make it run faster"
   ]
  },
  {
   "cell_type": "code",
   "execution_count": 20,
   "metadata": {},
   "outputs": [
    {
     "name": "stdout",
     "output_type": "stream",
     "text": [
      "Body\u001b[91m\u001b[1m::Union{Float64, Int64}\u001b[22m\u001b[39m\n",
      "\u001b[90m\u001b[69G│╻╷  >=\u001b[1G\u001b[39m\u001b[90m2 \u001b[39m1 ─ %1 = π (0.0, \u001b[36mFloat64\u001b[39m)\n",
      "\u001b[90m\u001b[69G││┃│  <=\u001b[1G\u001b[39m\u001b[90m  \u001b[39m│   %2 = (Base.lt_float)(%1, x)\u001b[36m::Bool\u001b[39m\n",
      "\u001b[90m\u001b[69G│││ \u001b[1G\u001b[39m\u001b[90m  \u001b[39m│   %3 = π (0.0, \u001b[36mFloat64\u001b[39m)\n",
      "\u001b[90m\u001b[69G│││╻   ==\u001b[1G\u001b[39m\u001b[90m  \u001b[39m│   %4 = (Base.eq_float)(%3, x)\u001b[36m::Bool\u001b[39m\n",
      "\u001b[90m\u001b[69G│││╻   &\u001b[1G\u001b[39m\u001b[90m  \u001b[39m│   %5 = (Base.and_int)(%4, true)\u001b[36m::Bool\u001b[39m\n",
      "\u001b[90m\u001b[69G│││╻   |\u001b[1G\u001b[39m\u001b[90m  \u001b[39m│   %6 = (Base.or_int)(%2, %5)\u001b[36m::Bool\u001b[39m\n",
      "\u001b[90m\u001b[69G│   \u001b[1G\u001b[39m\u001b[90m  \u001b[39m└──      goto #3 if not %6\n",
      "\u001b[90m\u001b[69G│   \u001b[1G\u001b[39m\u001b[90m3 \u001b[39m2 ─      return x\n",
      "\u001b[90m\u001b[69G│   \u001b[1G\u001b[39m\u001b[90m5 \u001b[39m3 ─      return 0\n"
     ]
    }
   ],
   "source": [
    "function zero_or_val(x::Real)\n",
    "    if x >= 0\n",
    "        return x\n",
    "    else\n",
    "        return 0\n",
    "    end\n",
    "end\n",
    "@code_warntype zero_or_val(0.2)"
   ]
  },
  {
   "cell_type": "code",
   "execution_count": 21,
   "metadata": {},
   "outputs": [
    {
     "name": "stdout",
     "output_type": "stream",
     "text": [
      "Body\u001b[36m::Float64\u001b[39m\n",
      "\u001b[90m\u001b[69G│╻╷  >=\u001b[1G\u001b[39m\u001b[90m3 \u001b[39m1 ─ %1 = π (0.0, \u001b[36mFloat64\u001b[39m)\n",
      "\u001b[90m\u001b[69G││┃│  <=\u001b[1G\u001b[39m\u001b[90m  \u001b[39m│   %2 = (Base.lt_float)(%1, x)\u001b[36m::Bool\u001b[39m\n",
      "\u001b[90m\u001b[69G│││ \u001b[1G\u001b[39m\u001b[90m  \u001b[39m│   %3 = π (0.0, \u001b[36mFloat64\u001b[39m)\n",
      "\u001b[90m\u001b[69G│││╻   ==\u001b[1G\u001b[39m\u001b[90m  \u001b[39m│   %4 = (Base.eq_float)(%3, x)\u001b[36m::Bool\u001b[39m\n",
      "\u001b[90m\u001b[69G│││╻   &\u001b[1G\u001b[39m\u001b[90m  \u001b[39m│   %5 = (Base.and_int)(%4, true)\u001b[36m::Bool\u001b[39m\n",
      "\u001b[90m\u001b[69G│││╻   |\u001b[1G\u001b[39m\u001b[90m  \u001b[39m│   %6 = (Base.or_int)(%2, %5)\u001b[36m::Bool\u001b[39m\n",
      "\u001b[90m\u001b[69G│   \u001b[1G\u001b[39m\u001b[90m  \u001b[39m└──      goto #3 if not %6\n",
      "\u001b[90m\u001b[69G│   \u001b[1G\u001b[39m\u001b[90m4 \u001b[39m2 ─      return x\n",
      "\u001b[90m\u001b[69G│   \u001b[1G\u001b[39m\u001b[90m6 \u001b[39m3 ─      return 0.0\n"
     ]
    }
   ],
   "source": [
    "function zero_or_val_stable(x::Real)\n",
    "    T = promote_type(typeof(x),Int) # Promotes whaterver the input type is.\n",
    "    if x >= 0\n",
    "        return T(x)\n",
    "    else\n",
    "        return T(0)\n",
    "    end\n",
    "end\n",
    "@code_warntype zero_or_val_stable(0.2)"
   ]
  },
  {
   "cell_type": "markdown",
   "metadata": {},
   "source": [
    "### Conclusion\n",
    "You can avoid type instable code by using the `promote_type` function which returns the highest of the two types passed."
   ]
  },
  {
   "cell_type": "markdown",
   "metadata": {},
   "source": [
    "Let us say we want to play the following game, I give you a vector of numbers. And you want to accumulate the sum as follows. For each number in the vector, you toss a coin (`rand()`), if it is heads (`>=0.5`), you add `1`. Otherwise, you add the number itself."
   ]
  },
  {
   "cell_type": "code",
   "execution_count": 22,
   "metadata": {},
   "outputs": [
    {
     "name": "stdout",
     "output_type": "stream",
     "text": [
      "flipcoin_then_add(myvec) == flipcoin_then_add_typed(myvec) = true\n"
     ]
    },
    {
     "data": {
      "text/plain": [
       "true"
      ]
     },
     "execution_count": 22,
     "metadata": {},
     "output_type": "execute_result"
    }
   ],
   "source": [
    "function flipcoin_then_add(v::Vector{T}) where T <: Real\n",
    "    s = 0\n",
    "    for vi in v\n",
    "        r = rand()\n",
    "        if r >=0.5\n",
    "            s += 1\n",
    "        else\n",
    "            s += vi\n",
    "        end\n",
    "    end\n",
    "end\n",
    "\n",
    "function flipcoin_then_add_typed(v::Vector{T}) where T <: Real\n",
    "    s = zero(T)\n",
    "    for vi in v\n",
    "        r = rand()\n",
    "        if r >=0.5\n",
    "            s += one(T)\n",
    "        else\n",
    "            s += vi\n",
    "        end\n",
    "    end\n",
    "end\n",
    "myvec = rand(1000)\n",
    "@show flipcoin_then_add(myvec) == flipcoin_then_add_typed(myvec)"
   ]
  },
  {
   "cell_type": "code",
   "execution_count": 2,
   "metadata": {},
   "outputs": [
    {
     "ename": "LoadError",
     "evalue": "UndefVarError: @btime not defined",
     "output_type": "error",
     "traceback": [
      "UndefVarError: @btime not defined",
      ""
     ]
    }
   ],
   "source": [
    "@btime flipcoin_then_add(rand(1000))\n",
    "@btime flipcoin_then_add_typed(rand(1000))"
   ]
  },
  {
   "cell_type": "markdown",
   "metadata": {},
   "source": [
    "### Conclusion\n",
    "Think about the variables you are declaring. Do you know their types? If so, specify the type somehow."
   ]
  },
  {
   "cell_type": "markdown",
   "metadata": {},
   "source": [
    "## 2. As a rule of thumb, **functions with preallocated memory run faster**"
   ]
  },
  {
   "cell_type": "markdown",
   "metadata": {},
   "source": [
    "A classic example here is to build an array with pre-allocated memory versus pushing to it. Let's try to build Fibonacci using both approaches"
   ]
  },
  {
   "cell_type": "code",
   "execution_count": 4,
   "metadata": {},
   "outputs": [
    {
     "data": {
      "text/plain": [
       "build_fibonacci_preallocate (generic function with 1 method)"
      ]
     },
     "execution_count": 4,
     "metadata": {},
     "output_type": "execute_result"
    }
   ],
   "source": [
    "function build_fibonacci_preallocate(n::Int) # faster...accounts for memory.\n",
    "    @assert n >= 2 # assert n is larger than 2.\n",
    "    v = zeros(Int64,n)\n",
    "    v[1] = 1\n",
    "    v[2] = 1\n",
    "    for i = 3:n\n",
    "        v[i] = v[i-1] + v[i-2]\n",
    "    end\n",
    "    return v\n",
    "end"
   ]
  },
  {
   "cell_type": "code",
   "execution_count": 5,
   "metadata": {},
   "outputs": [
    {
     "data": {
      "text/plain": [
       "build_fibonacci_no_allocation (generic function with 1 method)"
      ]
     },
     "execution_count": 5,
     "metadata": {},
     "output_type": "execute_result"
    }
   ],
   "source": [
    "function build_fibonacci_no_allocation(n::Int) # slower\n",
    "    @assert n >= 2\n",
    "    v = Vector{Int64}()\n",
    "    push!(v,1)\n",
    "    push!(v,1)\n",
    "    for i = 3:n\n",
    "        push!(v,v[i-1]+v[i-2])\n",
    "    end\n",
    "    return v\n",
    "end"
   ]
  },
  {
   "cell_type": "code",
   "execution_count": 6,
   "metadata": {},
   "outputs": [
    {
     "name": "stdout",
     "output_type": "stream",
     "text": [
      "isequal(build_fibonacci_preallocate(10), build_fibonacci_no_allocation(10)) = true\n"
     ]
    },
    {
     "data": {
      "text/plain": [
       "true"
      ]
     },
     "execution_count": 6,
     "metadata": {},
     "output_type": "execute_result"
    }
   ],
   "source": [
    "@show isequal(build_fibonacci_preallocate(10),build_fibonacci_no_allocation(10))"
   ]
  },
  {
   "cell_type": "code",
   "execution_count": 7,
   "metadata": {},
   "outputs": [
    {
     "name": "stdout",
     "output_type": "stream",
     "text": [
      "  675.750 ns (7 allocations: 2.20 KiB)\n",
      "  117.416 ns (1 allocation: 896 bytes)\n"
     ]
    }
   ],
   "source": [
    "n = 100\n",
    "@btime build_fibonacci_no_allocation(n);\n",
    "@btime build_fibonacci_preallocate(n);"
   ]
  },
  {
   "cell_type": "markdown",
   "metadata": {},
   "source": [
    "### Conclusion\n",
    "Whenever possible, preallocate memory."
   ]
  },
  {
   "cell_type": "markdown",
   "metadata": {},
   "source": [
    "It's also important to understand **how memory is organized in Julia**. Let's say, for _some reason_ you want to access all the elements of a matrix once. For the sake of this experiment, let's say we want to write `matrix_sum(A)` where A is a matrix"
   ]
  },
  {
   "cell_type": "code",
   "execution_count": 8,
   "metadata": {},
   "outputs": [],
   "source": [
    "# Create a random matrix A of size m-by-n\n",
    "m = 10000\n",
    "n = 10000\n",
    "A = rand(m,n)\n",
    ";"
   ]
  },
  {
   "cell_type": "code",
   "execution_count": 9,
   "metadata": {},
   "outputs": [
    {
     "data": {
      "text/plain": [
       "matrix_sum_rows (generic function with 1 method)"
      ]
     },
     "execution_count": 9,
     "metadata": {},
     "output_type": "execute_result"
    }
   ],
   "source": [
    "function matrix_sum_rows(A::Matrix)\n",
    "    m,n = size(A)\n",
    "    mysum = 0\n",
    "    for i = 1:m # fix a row\n",
    "        for j = 1:n # loop over cols\n",
    "            mysum += A[i,j]\n",
    "        end\n",
    "    end\n",
    "    return mysum\n",
    "end"
   ]
  },
  {
   "cell_type": "code",
   "execution_count": 10,
   "metadata": {},
   "outputs": [
    {
     "data": {
      "text/plain": [
       "matrix_sum_cols (generic function with 1 method)"
      ]
     },
     "execution_count": 10,
     "metadata": {},
     "output_type": "execute_result"
    }
   ],
   "source": [
    "function matrix_sum_cols(A::Matrix)\n",
    "    m,n = size(A)\n",
    "    mysum = 0\n",
    "    for j = 1:n # fix a column\n",
    "        for i = 1:m # loop over rows\n",
    "            mysum += A[i,j]\n",
    "        end\n",
    "    end\n",
    "    return mysum\n",
    "end"
   ]
  },
  {
   "cell_type": "code",
   "execution_count": 11,
   "metadata": {},
   "outputs": [
    {
     "data": {
      "text/plain": [
       "matrix_sum_index (generic function with 1 method)"
      ]
     },
     "execution_count": 11,
     "metadata": {},
     "output_type": "execute_result"
    }
   ],
   "source": [
    "function matrix_sum_index(A::Matrix)\n",
    "    m,n = size(A)\n",
    "    mysum = 0\n",
    "    for i = 1:m*n\n",
    "        mysum += A[i]\n",
    "    end\n",
    "    return mysum\n",
    "end"
   ]
  },
  {
   "cell_type": "code",
   "execution_count": 12,
   "metadata": {},
   "outputs": [
    {
     "name": "stdout",
     "output_type": "stream",
     "text": [
      "matrix_sum_cols(A) ≈ matrix_sum_rows(A) ≈ matrix_sum_index(A) = true\n"
     ]
    },
    {
     "data": {
      "text/plain": [
       "true"
      ]
     },
     "execution_count": 12,
     "metadata": {},
     "output_type": "execute_result"
    }
   ],
   "source": [
    "@show matrix_sum_cols(A) ≈ matrix_sum_rows(A) ≈ matrix_sum_index(A) # \\approx"
   ]
  },
  {
   "cell_type": "code",
   "execution_count": 14,
   "metadata": {},
   "outputs": [
    {
     "name": "stdout",
     "output_type": "stream",
     "text": [
      "  1.127 s (1 allocation: 16 bytes)\n",
      "  123.854 ms (1 allocation: 16 bytes)\n",
      "  123.043 ms (1 allocation: 16 bytes)\n"
     ]
    },
    {
     "data": {
      "text/plain": [
       "5.0000344465279825e7"
      ]
     },
     "execution_count": 14,
     "metadata": {},
     "output_type": "execute_result"
    }
   ],
   "source": [
    "@btime matrix_sum_rows(A)\n",
    "@btime matrix_sum_cols(A)\n",
    "@btime matrix_sum_index(A)"
   ]
  },
  {
   "cell_type": "markdown",
   "metadata": {},
   "source": [
    "## Conclusion \n",
    "**Matrices are organized column-wise in memory**. It's better to access them one column at a time. Consider understanding how your data is organized in memory when you want to access it."
   ]
  },
  {
   "cell_type": "markdown",
   "metadata": {},
   "source": [
    "Memory recycling is when you use a chunk of memory you no longer need for another purpose"
   ]
  },
  {
   "cell_type": "markdown",
   "metadata": {},
   "source": [
    "Let's take this example, you have a vector b and a vector h where b[i] is the base length of triangle i and h[i] is the height length. The experiment is to find the hypotenuse value of all triangles"
   ]
  },
  {
   "cell_type": "code",
   "execution_count": 15,
   "metadata": {},
   "outputs": [
    {
     "data": {
      "text/plain": [
       "find_hypotenuse (generic function with 1 method)"
      ]
     },
     "execution_count": 15,
     "metadata": {},
     "output_type": "execute_result"
    }
   ],
   "source": [
    "b = rand(1000)*10\n",
    "h = rand(1000)*10\n",
    "function find_hypotenuse(b::Vector{T},h::Vector{T}) where T <: Real\n",
    "    return sqrt.(b.^2+h.^2)\n",
    "end"
   ]
  },
  {
   "cell_type": "code",
   "execution_count": 16,
   "metadata": {},
   "outputs": [
    {
     "name": "stdout",
     "output_type": "stream",
     "text": [
      "  3.755 μs (6 allocations: 31.81 KiB)\n"
     ]
    }
   ],
   "source": [
    "# Let's time it\n",
    "@btime find_hypotenuse(b,h);"
   ]
  },
  {
   "cell_type": "code",
   "execution_count": 17,
   "metadata": {},
   "outputs": [
    {
     "name": "stdout",
     "output_type": "stream",
     "text": [
      "  1.707 μs (1 allocation: 7.94 KiB)\n"
     ]
    }
   ],
   "source": [
    "function find_hypotenuse_optimized(b::Vector{T},h::Vector{T}) where T <: Real\n",
    "    accum_vec = similar(b) # similar type as b and same size as b.\n",
    "    for i = 1:length(b)\n",
    "        accum_vec[i] = b[i]^2 # accumulate to it.\n",
    "        accum_vec[i] = accum_vec[i] + h[i]^2 # here, we used the same space in memory to hold the sum\n",
    "        accum_vec[i] = sqrt(accum_vec[i]) # same thing here, to hold the sqrt\n",
    "        # or:\n",
    "        # accum_vec[i] = sqrt(b[i]^2+h[i]^2)\n",
    "    end\n",
    "    return accum_vec\n",
    "end\n",
    "@btime find_hypotenuse_optimized(b,h);"
   ]
  },
  {
   "cell_type": "markdown",
   "metadata": {},
   "source": [
    "## Conclusion:\n",
    "Whenever you can reuse memory, reuse it. \n",
    "\n",
    "## Bonus conclusion:\n",
    "Vectorized operations are not necessarily faster."
   ]
  },
  {
   "cell_type": "markdown",
   "metadata": {},
   "source": [
    "One other form of memory recycling is in place operations"
   ]
  },
  {
   "cell_type": "code",
   "execution_count": 18,
   "metadata": {},
   "outputs": [
    {
     "data": {
      "text/plain": [
       "function_not_inplace (generic function with 1 method)"
      ]
     },
     "execution_count": 18,
     "metadata": {},
     "output_type": "execute_result"
    }
   ],
   "source": [
    "function function_inplace!(v::Vector{T},myfn::Function) where T\n",
    "    for i = 1:length(v)\n",
    "        v[i] = myfn(v[i])\n",
    "    end\n",
    "    v\n",
    "end\n",
    "\n",
    "function function_not_inplace(v::Vector{T},myfn::Function) where T\n",
    "    w = zeros(eltype(v),length(v))\n",
    "    for i = 1:length(v)\n",
    "        w[i] = myfn(v[i])\n",
    "    end\n",
    "    w\n",
    "end"
   ]
  },
  {
   "cell_type": "code",
   "execution_count": 19,
   "metadata": {},
   "outputs": [
    {
     "name": "stdout",
     "output_type": "stream",
     "text": [
      "  69.301 ns (0 allocations: 0 bytes)\n",
      "  114.747 ns (1 allocation: 896 bytes)\n"
     ]
    }
   ],
   "source": [
    "v = rand(100)\n",
    "@btime function_inplace!(v,x->x^2);\n",
    "@btime function_not_inplace(v,x->x^2);"
   ]
  },
  {
   "cell_type": "markdown",
   "metadata": {},
   "source": [
    "## Conclusion:\n",
    "In-place operations are much cheaper, use them if you don't need the original data"
   ]
  },
  {
   "cell_type": "code",
   "execution_count": 20,
   "metadata": {},
   "outputs": [
    {
     "name": "stdout",
     "output_type": "stream",
     "text": [
      "  997.769 ns (6 allocations: 992 bytes)\n"
     ]
    }
   ],
   "source": [
    "@btime v.^2;"
   ]
  },
  {
   "cell_type": "markdown",
   "metadata": {},
   "source": [
    "### What are iterators and why do we care about them?\n",
    "* We create iterator objects when we don't want to store/create all the elements in an array at once. \n",
    "* A quick example is a Fibonacci sequence: say you want to use the Fibonacci sequence numbers for a simple purpose but you don't necessarily care about storing all of them. You would want something like this:\n",
    "``` \n",
    "fib_iterator = fib(n)\n",
    "for i in fib_iterator\n",
    "    #do something\n",
    "end\n",
    "```\n",
    "In the above iteration, you are not computing and storing all the fibonacci sequence numbers. Instead, we are just creating them on the fly\n",
    "* A lot of types in Julia are iteratable by default. A simple example is an array of numbers.\n",
    "```\n",
    "for i in rand(10)\n",
    "    #do something\n",
    "end\n",
    "```\n",
    "`rand(10)` returns a vector, and a vector is iteratable"
   ]
  },
  {
   "cell_type": "code",
   "execution_count": 21,
   "metadata": {},
   "outputs": [
    {
     "name": "stdout",
     "output_type": "stream",
     "text": [
      "search: \u001b[0m\u001b[1mi\u001b[22m\u001b[0m\u001b[1mt\u001b[22m\u001b[0m\u001b[1me\u001b[22m\u001b[0m\u001b[1mr\u001b[22m\u001b[0m\u001b[1ma\u001b[22m\u001b[0m\u001b[1mt\u001b[22m\u001b[0m\u001b[1me\u001b[22m \u001b[0m\u001b[1mI\u001b[22mn\u001b[0m\u001b[1mt\u001b[22m\u001b[0m\u001b[1me\u001b[22m\u001b[0m\u001b[1mr\u001b[22m\u001b[0m\u001b[1ma\u001b[22mc\u001b[0m\u001b[1mt\u001b[22miv\u001b[0m\u001b[1me\u001b[22mUtils \u001b[0m\u001b[1mi\u001b[22msin\u001b[0m\u001b[1mt\u001b[22m\u001b[0m\u001b[1me\u001b[22m\u001b[0m\u001b[1mr\u001b[22m\u001b[0m\u001b[1ma\u001b[22mc\u001b[0m\u001b[1mt\u001b[22miv\u001b[0m\u001b[1me\u001b[22m \u001b[0m\u001b[1mI\u001b[22m\u001b[0m\u001b[1mt\u001b[22m\u001b[0m\u001b[1me\u001b[22m\u001b[0m\u001b[1mr\u001b[22m\u001b[0m\u001b[1ma\u001b[22m\u001b[0m\u001b[1mt\u001b[22mors\n",
      "\n"
     ]
    },
    {
     "data": {
      "text/latex": [
       "\\begin{verbatim}\n",
       "iterate(iter [, state]) -> Union{Nothing, Tuple{Any, Any}}\n",
       "\\end{verbatim}\n",
       "Advance the iterator to obtain the next element. If no elements remain, \\texttt{nothing} should be returned. Otherwise, a 2-tuple of the next element and the new iteration state should be returned.\n",
       "\n",
       "\\rule{\\textwidth}{1pt}\n",
       "\\begin{verbatim}\n",
       "iterate(s::AbstractString, i::Integer) -> Union{Tuple{<:AbstractChar, Int}, Nothing}\n",
       "\\end{verbatim}\n",
       "Return a tuple of the character in \\texttt{s} at index \\texttt{i} with the index of the start of the following character in \\texttt{s}. This is the key method that allows strings to be iterated, yielding a sequences of characters. If \\texttt{i} is out of bounds in \\texttt{s} then a bounds error is raised. The \\texttt{iterate} function, as part of the iteration protocol may assume that \\texttt{i} is the start of a character in \\texttt{s}.\n",
       "\n",
       "See also: \\href{@ref}{\\texttt{getindex}}, \\href{@ref}{\\texttt{checkbounds}}\n",
       "\n"
      ],
      "text/markdown": [
       "```\n",
       "iterate(iter [, state]) -> Union{Nothing, Tuple{Any, Any}}\n",
       "```\n",
       "\n",
       "Advance the iterator to obtain the next element. If no elements remain, `nothing` should be returned. Otherwise, a 2-tuple of the next element and the new iteration state should be returned.\n",
       "\n",
       "---\n",
       "\n",
       "```\n",
       "iterate(s::AbstractString, i::Integer) -> Union{Tuple{<:AbstractChar, Int}, Nothing}\n",
       "```\n",
       "\n",
       "Return a tuple of the character in `s` at index `i` with the index of the start of the following character in `s`. This is the key method that allows strings to be iterated, yielding a sequences of characters. If `i` is out of bounds in `s` then a bounds error is raised. The `iterate` function, as part of the iteration protocol may assume that `i` is the start of a character in `s`.\n",
       "\n",
       "See also: [`getindex`](@ref), [`checkbounds`](@ref)\n"
      ],
      "text/plain": [
       "\u001b[36m  iterate(iter [, state]) -> Union{Nothing, Tuple{Any, Any}}\u001b[39m\n",
       "\n",
       "  Advance the iterator to obtain the next element. If no elements remain,\n",
       "  \u001b[36mnothing\u001b[39m should be returned. Otherwise, a 2-tuple of the next element and the\n",
       "  new iteration state should be returned.\n",
       "\n",
       "  ────────────────────────────────────────────────────────────────────────────\n",
       "\n",
       "\u001b[36m  iterate(s::AbstractString, i::Integer) -> Union{Tuple{<:AbstractChar, Int}, Nothing}\u001b[39m\n",
       "\n",
       "  Return a tuple of the character in \u001b[36ms\u001b[39m at index \u001b[36mi\u001b[39m with the index of the start\n",
       "  of the following character in \u001b[36ms\u001b[39m. This is the key method that allows strings\n",
       "  to be iterated, yielding a sequences of characters. If \u001b[36mi\u001b[39m is out of bounds in\n",
       "  \u001b[36ms\u001b[39m then a bounds error is raised. The \u001b[36miterate\u001b[39m function, as part of the\n",
       "  iteration protocol may assume that \u001b[36mi\u001b[39m is the start of a character in \u001b[36ms\u001b[39m.\n",
       "\n",
       "  See also: \u001b[36mgetindex\u001b[39m, \u001b[36mcheckbounds\u001b[39m"
      ]
     },
     "execution_count": 21,
     "metadata": {},
     "output_type": "execute_result"
    }
   ],
   "source": [
    "?iterate"
   ]
  },
  {
   "cell_type": "code",
   "execution_count": 22,
   "metadata": {},
   "outputs": [
    {
     "data": {
      "text/plain": [
       "myfib (generic function with 1 method)"
      ]
     },
     "execution_count": 22,
     "metadata": {},
     "output_type": "execute_result"
    }
   ],
   "source": [
    "struct fib_iterator\n",
    "    n::Int\n",
    "end\n",
    "\n",
    "function Base.iterate(f::fib_iterator,state=(0,0,1))\n",
    "    prev1,prev2,stepid = state\n",
    "    # state the ending conditions first\n",
    "    if stepid == 1\n",
    "        return (1,(0,1,2))\n",
    "    end\n",
    "    if f.n < stepid\n",
    "        return nothing\n",
    "    end\n",
    "    # else\n",
    "    y = prev1+prev2\n",
    "    stepid += 1\n",
    "    return (y,(prev2,y,stepid))\n",
    "end\n",
    "\n",
    "function myfib(n)\n",
    "    v = zeros(Int,n+1)\n",
    "    v[1] = 1\n",
    "    v[2] = 1\n",
    "    for i = 3:n+1\n",
    "        v[i] = v[i-1] + v[i-2]\n",
    "    end\n",
    "    return v\n",
    "end"
   ]
  },
  {
   "cell_type": "code",
   "execution_count": 24,
   "metadata": {},
   "outputs": [
    {
     "name": "stdout",
     "output_type": "stream",
     "text": [
      "  4.778 ns (0 allocations: 0 bytes)\n",
      "  36.864 ns (1 allocation: 176 bytes)\n"
     ]
    }
   ],
   "source": [
    "function test_iterator(n)\n",
    "    f = fib_iterator(n)\n",
    "    s = 0\n",
    "    for i in f\n",
    "        s += i\n",
    "    end\n",
    "end\n",
    "function test_allocate(n)\n",
    "    s = 0\n",
    "    for i in myfib(n)\n",
    "        s += i\n",
    "    end\n",
    "end\n",
    "    \n",
    "@btime test_iterator(10);\n",
    "@btime test_allocate(10);"
   ]
  },
  {
   "cell_type": "markdown",
   "metadata": {},
   "source": [
    "## Conclusion: \n",
    "Iterators are a powerful tool, use them when you don't need to store the values."
   ]
  },
  {
   "cell_type": "markdown",
   "metadata": {},
   "source": [
    "Always think about memory... Do you really need `A[row_ids,col_ids]`"
   ]
  },
  {
   "cell_type": "code",
   "execution_count": 25,
   "metadata": {},
   "outputs": [
    {
     "data": {
      "text/plain": [
       "set_sum_view (generic function with 1 method)"
      ]
     },
     "execution_count": 25,
     "metadata": {},
     "output_type": "execute_result"
    }
   ],
   "source": [
    "using SparseArrays\n",
    "using LinearAlgebra\n",
    "A = sprand(500,500,0.1)\n",
    "function set_sum(A,rowids,colids)\n",
    "    s = sum(A[rowids,colids])\n",
    "end\n",
    "function set_sum_view(A,rowids,colids)\n",
    "    s = sum(view(A,rowids,colids)) # creates a view, or temp table that points to the original.\n",
    "end"
   ]
  },
  {
   "cell_type": "code",
   "execution_count": 26,
   "metadata": {},
   "outputs": [
    {
     "name": "stdout",
     "output_type": "stream",
     "text": [
      "  2.238 μs (18 allocations: 5.81 KiB)\n",
      "  1.775 μs (12 allocations: 576 bytes)\n"
     ]
    },
    {
     "data": {
      "text/plain": [
       "5.319508421440951"
      ]
     },
     "execution_count": 26,
     "metadata": {},
     "output_type": "execute_result"
    }
   ],
   "source": [
    "using Random\n",
    "@btime set_sum(A,randperm(10), randperm(10))\n",
    "@btime set_sum_view(A,randperm(10), randperm(10))"
   ]
  },
  {
   "cell_type": "markdown",
   "metadata": {},
   "source": [
    "## Conclusion:\n",
    "You can use views if you want to apply a function on a subset of elements."
   ]
  },
  {
   "cell_type": "markdown",
   "metadata": {},
   "source": [
    "One more idea to make your code faster: Parallelize it! But that is for a whole separat workshop (later today!)"
   ]
  },
  {
   "cell_type": "markdown",
   "metadata": {},
   "source": [
    "## 3. There are many tools in Julia that helps you write faster code\n"
   ]
  },
  {
   "cell_type": "markdown",
   "metadata": {},
   "source": [
    "### @profile"
   ]
  },
  {
   "cell_type": "code",
   "execution_count": null,
   "metadata": {},
   "outputs": [],
   "source": [
    "# quick demo on REPL"
   ]
  },
  {
   "cell_type": "code",
   "execution_count": null,
   "metadata": {},
   "outputs": [],
   "source": [
    "function myfunc()\n",
    "    A = rand(200, 200)\n",
    "    sum(A)\n",
    "end"
   ]
  },
  {
   "cell_type": "code",
   "execution_count": null,
   "metadata": {},
   "outputs": [],
   "source": [
    "using Profile"
   ]
  },
  {
   "cell_type": "code",
   "execution_count": null,
   "metadata": {},
   "outputs": [],
   "source": [
    "@profile myfunc()"
   ]
  },
  {
   "cell_type": "code",
   "execution_count": null,
   "metadata": {},
   "outputs": [],
   "source": [
    "Profile.print()"
   ]
  },
  {
   "cell_type": "markdown",
   "metadata": {},
   "source": [
    "If you get a really long output specially when you are not expecting it, that is because Profile adds to a buffer. Try:\n",
    "```\n",
    "Profile.clear()\n",
    "Profile.init()\n",
    "```"
   ]
  },
  {
   "cell_type": "markdown",
   "metadata": {},
   "source": [
    "### @inbounds"
   ]
  },
  {
   "cell_type": "code",
   "execution_count": null,
   "metadata": {},
   "outputs": [],
   "source": [
    "?@inbounds"
   ]
  },
  {
   "cell_type": "code",
   "execution_count": null,
   "metadata": {},
   "outputs": [],
   "source": [
    "# Let us say we want to find the sum of all elements in a vector"
   ]
  },
  {
   "cell_type": "code",
   "execution_count": null,
   "metadata": {},
   "outputs": [],
   "source": [
    "function new_sum(myvec::Vector{Int})\n",
    "    s = 0\n",
    "    for i = 1:length(myvec)\n",
    "        s += myvec[i]\n",
    "    end\n",
    "    return s\n",
    "end\n",
    "\n",
    "function new_sum_inbounds(myvec::Vector{Int})\n",
    "    s = 0\n",
    "    @inbounds for i = 1:length(myvec)\n",
    "        s += myvec[i]\n",
    "    end\n",
    "    return s\n",
    "end"
   ]
  },
  {
   "cell_type": "code",
   "execution_count": null,
   "metadata": {},
   "outputs": [],
   "source": [
    "myvec = collect(1:1000000)\n",
    "@btime new_sum(myvec)\n",
    "@btime new_sum_inbounds(myvec)"
   ]
  },
  {
   "cell_type": "code",
   "execution_count": null,
   "metadata": {},
   "outputs": [],
   "source": [
    "@show isequal(new_sum(myvec),new_sum_inbounds(myvec))"
   ]
  },
  {
   "cell_type": "code",
   "execution_count": null,
   "metadata": {},
   "outputs": [],
   "source": [
    "# Be careful though!\n",
    "function new_sum_WRONG(myvec::Vector{Int})\n",
    "    s = 0\n",
    "    for i = 1:length(myvec)+1\n",
    "        s += myvec[i]\n",
    "    end\n",
    "    return s\n",
    "end\n",
    "\n",
    "function new_sum_inbounds_WRONG(myvec::Vector{Int})\n",
    "    s = 0\n",
    "    @inbounds for i = 1:length(myvec)+1\n",
    "        s += myvec[i]\n",
    "    end\n",
    "    return s\n",
    "end\n",
    "\n",
    "myvec = collect(1:1000000);"
   ]
  },
  {
   "cell_type": "code",
   "execution_count": null,
   "metadata": {},
   "outputs": [],
   "source": [
    "@btime new_sum_WRONG(myvec)"
   ]
  },
  {
   "cell_type": "code",
   "execution_count": null,
   "metadata": {},
   "outputs": [],
   "source": [
    "@btime new_sum_inbounds_WRONG(myvec) # this actually exectued!"
   ]
  },
  {
   "cell_type": "markdown",
   "metadata": {},
   "source": [
    "### @code_XXX\n",
    "One cool thing about Julia is that it allows you to see the different stages of the code before all the way to native code! Let's look at these macros that allow you to achieve that"
   ]
  },
  {
   "cell_type": "code",
   "execution_count": null,
   "metadata": {},
   "outputs": [],
   "source": [
    "# @code_llvm \n",
    "# @code_lowered \n",
    "# @code_native \n",
    "# @code_typed \n",
    "# @code_warntype\n",
    "\n",
    "function flipcoin(randval::Float64)\n",
    "    if randval<0.5\n",
    "        return \"H\"\n",
    "    else\n",
    "        return \"T\"\n",
    "    end\n",
    "end"
   ]
  },
  {
   "cell_type": "code",
   "execution_count": null,
   "metadata": {},
   "outputs": [],
   "source": [
    "@code_lowered flipcoin(rand()) # syntax tree"
   ]
  },
  {
   "cell_type": "code",
   "execution_count": null,
   "metadata": {},
   "outputs": [],
   "source": [
    "@code_warntype flipcoin(rand()) # try @code_typed"
   ]
  },
  {
   "cell_type": "code",
   "execution_count": null,
   "metadata": {},
   "outputs": [],
   "source": [
    "@code_llvm flipcoin(rand()) # this and code_warntype are probably the most relevant"
   ]
  },
  {
   "cell_type": "code",
   "execution_count": null,
   "metadata": {},
   "outputs": [],
   "source": [
    "@code_native flipcoin(rand())"
   ]
  },
  {
   "cell_type": "code",
   "execution_count": null,
   "metadata": {},
   "outputs": [],
   "source": []
  }
 ],
 "metadata": {
  "@webio": {
   "lastCommId": null,
   "lastKernelId": null
  },
  "kernelspec": {
   "display_name": "Julia 1.1.0",
   "language": "julia",
   "name": "julia-1.1"
  },
  "language_info": {
   "file_extension": ".jl",
   "mimetype": "application/julia",
   "name": "julia",
   "version": "1.1.0"
  }
 },
 "nbformat": 4,
 "nbformat_minor": 2
}
