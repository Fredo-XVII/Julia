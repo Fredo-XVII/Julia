{
 "cells": [
  {
   "cell_type": "markdown",
   "metadata": {},
   "source": [
    "# Plotting\n",
    "\n",
    "## Basics\n",
    "There are a few different ways to plot in Julia (including calling PyPlot). <br>\n",
    "\n",
    "Here we'll show you how to use `Plots.jl`.  If it's not installed yet, you need to use the package manager to install it, and Julia will precompile it for you the first time you use it:"
   ]
  },
  {
   "cell_type": "code",
   "execution_count": 1,
   "metadata": {},
   "outputs": [
    {
     "name": "stderr",
     "output_type": "stream",
     "text": [
      "┌ Info: Recompiling stale cache file C:\\Users\\Z001C9V\\.julia\\compiled\\v1.0\\Plots\\ld3vC.ji for Plots [91a5bcdd-55d7-5caf-9e0b-520d859cae80]\n",
      "└ @ Base loading.jl:1190\n"
     ]
    }
   ],
   "source": [
    "# using Pkg\n",
    "# Pkg.add(\"Plots\")\n",
    "using Plots"
   ]
  },
  {
   "cell_type": "markdown",
   "metadata": {},
   "source": [
    "One of the advantages to `Plots.jl` is that it allows you to seamlessly change backends. In this notebook, we'll try out the `gr()`, `pyplot()`, and `unicodeplots()` backends.<br>\n",
    "\n",
    "In the name of scientific inquiry, let's use this notebook to examine the relationship between the global temperature and the number of pirates between roughly 1860 and 2000."
   ]
  },
  {
   "cell_type": "code",
   "execution_count": 2,
   "metadata": {},
   "outputs": [],
   "source": [
    "globaltemperatures = [14.4, 14.5, 14.8, 15.2, 15.5, 15.8]\n",
    "numpirates = [45000, 20000, 15000, 5000, 400, 17];"
   ]
  },
  {
   "cell_type": "markdown",
   "metadata": {},
   "source": [
    "Plots supports multiple backends — that is, libraries that actually do the drawing — all with the same API. To start out, let's try the GR backend.  You choose it with a call to `gr()`:"
   ]
  },
  {
   "cell_type": "code",
   "execution_count": 3,
   "metadata": {},
   "outputs": [
    {
     "data": {
      "text/plain": [
       "Plots.GRBackend()"
      ]
     },
     "execution_count": 3,
     "metadata": {},
     "output_type": "execute_result"
    }
   ],
   "source": [
    "gr()"
   ]
  },
  {
   "cell_type": "markdown",
   "metadata": {},
   "source": [
    "and now we can use commands like `plot` and `scatter` to generate plots."
   ]
  },
  {
   "cell_type": "code",
   "execution_count": 4,
   "metadata": {},
   "outputs": [
    {
     "data": {
      "image/svg+xml": [
       "<?xml version=\"1.0\" encoding=\"utf-8\"?>\n",
       "<svg xmlns=\"http://www.w3.org/2000/svg\" xmlns:xlink=\"http://www.w3.org/1999/xlink\" width=\"600\" height=\"400\" viewBox=\"0 0 2400 1600\">\n",
       "<defs>\n",
       "  <clipPath id=\"clip5900\">\n",
       "    <rect x=\"0\" y=\"0\" width=\"2000\" height=\"2000\"/>\n",
       "  </clipPath>\n",
       "</defs>\n",
       "<defs>\n",
       "  <clipPath id=\"clip5901\">\n",
       "    <rect x=\"0\" y=\"0\" width=\"2400\" height=\"1600\"/>\n",
       "  </clipPath>\n",
       "</defs>\n",
       "<polygon clip-path=\"url(#clip5901)\" points=\"\n",
       "0,1600 2400,1600 2400,0 0,0 \n",
       "  \" fill=\"#ffffff\" fill-rule=\"evenodd\" fill-opacity=\"1\"/>\n",
       "<defs>\n",
       "  <clipPath id=\"clip5902\">\n",
       "    <rect x=\"480\" y=\"0\" width=\"1681\" height=\"1600\"/>\n",
       "  </clipPath>\n",
       "</defs>\n",
       "<polygon clip-path=\"url(#clip5901)\" points=\"\n",
       "214.919,1503.47 2321.26,1503.47 2321.26,47.2441 214.919,47.2441 \n",
       "  \" fill=\"#ffffff\" fill-rule=\"evenodd\" fill-opacity=\"1\"/>\n",
       "<defs>\n",
       "  <clipPath id=\"clip5903\">\n",
       "    <rect x=\"214\" y=\"47\" width=\"2107\" height=\"1457\"/>\n",
       "  </clipPath>\n",
       "</defs>\n",
       "<polyline clip-path=\"url(#clip5903)\" style=\"stroke:#000000; stroke-width:2; stroke-opacity:0.1; fill:none\" points=\"\n",
       "  273.781,1503.47 273.781,47.2441 \n",
       "  \"/>\n",
       "<polyline clip-path=\"url(#clip5903)\" style=\"stroke:#000000; stroke-width:2; stroke-opacity:0.1; fill:none\" points=\"\n",
       "  715.529,1503.47 715.529,47.2441 \n",
       "  \"/>\n",
       "<polyline clip-path=\"url(#clip5903)\" style=\"stroke:#000000; stroke-width:2; stroke-opacity:0.1; fill:none\" points=\"\n",
       "  1157.28,1503.47 1157.28,47.2441 \n",
       "  \"/>\n",
       "<polyline clip-path=\"url(#clip5903)\" style=\"stroke:#000000; stroke-width:2; stroke-opacity:0.1; fill:none\" points=\"\n",
       "  1599.02,1503.47 1599.02,47.2441 \n",
       "  \"/>\n",
       "<polyline clip-path=\"url(#clip5903)\" style=\"stroke:#000000; stroke-width:2; stroke-opacity:0.1; fill:none\" points=\"\n",
       "  2040.77,1503.47 2040.77,47.2441 \n",
       "  \"/>\n",
       "<polyline clip-path=\"url(#clip5903)\" style=\"stroke:#000000; stroke-width:2; stroke-opacity:0.1; fill:none\" points=\"\n",
       "  214.919,1364.13 2321.26,1364.13 \n",
       "  \"/>\n",
       "<polyline clip-path=\"url(#clip5903)\" style=\"stroke:#000000; stroke-width:2; stroke-opacity:0.1; fill:none\" points=\"\n",
       "  214.919,1118.81 2321.26,1118.81 \n",
       "  \"/>\n",
       "<polyline clip-path=\"url(#clip5903)\" style=\"stroke:#000000; stroke-width:2; stroke-opacity:0.1; fill:none\" points=\"\n",
       "  214.919,873.488 2321.26,873.488 \n",
       "  \"/>\n",
       "<polyline clip-path=\"url(#clip5903)\" style=\"stroke:#000000; stroke-width:2; stroke-opacity:0.1; fill:none\" points=\"\n",
       "  214.919,628.166 2321.26,628.166 \n",
       "  \"/>\n",
       "<polyline clip-path=\"url(#clip5903)\" style=\"stroke:#000000; stroke-width:2; stroke-opacity:0.1; fill:none\" points=\"\n",
       "  214.919,382.844 2321.26,382.844 \n",
       "  \"/>\n",
       "<polyline clip-path=\"url(#clip5903)\" style=\"stroke:#000000; stroke-width:2; stroke-opacity:0.1; fill:none\" points=\"\n",
       "  214.919,137.523 2321.26,137.523 \n",
       "  \"/>\n",
       "<polyline clip-path=\"url(#clip5901)\" style=\"stroke:#000000; stroke-width:4; stroke-opacity:1; fill:none\" points=\"\n",
       "  214.919,1503.47 2321.26,1503.47 \n",
       "  \"/>\n",
       "<polyline clip-path=\"url(#clip5901)\" style=\"stroke:#000000; stroke-width:4; stroke-opacity:1; fill:none\" points=\"\n",
       "  214.919,1503.47 214.919,47.2441 \n",
       "  \"/>\n",
       "<polyline clip-path=\"url(#clip5901)\" style=\"stroke:#000000; stroke-width:4; stroke-opacity:1; fill:none\" points=\"\n",
       "  273.781,1503.47 273.781,1481.63 \n",
       "  \"/>\n",
       "<polyline clip-path=\"url(#clip5901)\" style=\"stroke:#000000; stroke-width:4; stroke-opacity:1; fill:none\" points=\"\n",
       "  715.529,1503.47 715.529,1481.63 \n",
       "  \"/>\n",
       "<polyline clip-path=\"url(#clip5901)\" style=\"stroke:#000000; stroke-width:4; stroke-opacity:1; fill:none\" points=\"\n",
       "  1157.28,1503.47 1157.28,1481.63 \n",
       "  \"/>\n",
       "<polyline clip-path=\"url(#clip5901)\" style=\"stroke:#000000; stroke-width:4; stroke-opacity:1; fill:none\" points=\"\n",
       "  1599.02,1503.47 1599.02,1481.63 \n",
       "  \"/>\n",
       "<polyline clip-path=\"url(#clip5901)\" style=\"stroke:#000000; stroke-width:4; stroke-opacity:1; fill:none\" points=\"\n",
       "  2040.77,1503.47 2040.77,1481.63 \n",
       "  \"/>\n",
       "<polyline clip-path=\"url(#clip5901)\" style=\"stroke:#000000; stroke-width:4; stroke-opacity:1; fill:none\" points=\"\n",
       "  214.919,1364.13 246.514,1364.13 \n",
       "  \"/>\n",
       "<polyline clip-path=\"url(#clip5901)\" style=\"stroke:#000000; stroke-width:4; stroke-opacity:1; fill:none\" points=\"\n",
       "  214.919,1118.81 246.514,1118.81 \n",
       "  \"/>\n",
       "<polyline clip-path=\"url(#clip5901)\" style=\"stroke:#000000; stroke-width:4; stroke-opacity:1; fill:none\" points=\"\n",
       "  214.919,873.488 246.514,873.488 \n",
       "  \"/>\n",
       "<polyline clip-path=\"url(#clip5901)\" style=\"stroke:#000000; stroke-width:4; stroke-opacity:1; fill:none\" points=\"\n",
       "  214.919,628.166 246.514,628.166 \n",
       "  \"/>\n",
       "<polyline clip-path=\"url(#clip5901)\" style=\"stroke:#000000; stroke-width:4; stroke-opacity:1; fill:none\" points=\"\n",
       "  214.919,382.844 246.514,382.844 \n",
       "  \"/>\n",
       "<polyline clip-path=\"url(#clip5901)\" style=\"stroke:#000000; stroke-width:4; stroke-opacity:1; fill:none\" points=\"\n",
       "  214.919,137.523 246.514,137.523 \n",
       "  \"/>\n",
       "<g clip-path=\"url(#clip5901)\">\n",
       "<text style=\"fill:#000000; fill-opacity:1; font-family:Arial,Helvetica Neue,Helvetica,sans-serif; font-size:48px; text-anchor:middle;\" transform=\"rotate(0, 273.781, 1557.47)\" x=\"273.781\" y=\"1557.47\">0</text>\n",
       "</g>\n",
       "<g clip-path=\"url(#clip5901)\">\n",
       "<text style=\"fill:#000000; fill-opacity:1; font-family:Arial,Helvetica Neue,Helvetica,sans-serif; font-size:48px; text-anchor:start;\" transform=\"rotate(0, 650.458, 1578.48)\" x=\"650.458\" y=\"1578.48\">1×10</text>\n",
       "</g>\n",
       "<g clip-path=\"url(#clip5901)\">\n",
       "<text style=\"fill:#000000; fill-opacity:1; font-family:Arial,Helvetica Neue,Helvetica,sans-serif; font-size:38px; text-anchor:start;\" transform=\"rotate(0, 758.855, 1551.07)\" x=\"758.855\" y=\"1551.07\">4</text>\n",
       "</g>\n",
       "<g clip-path=\"url(#clip5901)\">\n",
       "<text style=\"fill:#000000; fill-opacity:1; font-family:Arial,Helvetica Neue,Helvetica,sans-serif; font-size:48px; text-anchor:start;\" transform=\"rotate(0, 1092.21, 1578.48)\" x=\"1092.21\" y=\"1578.48\">2×10</text>\n",
       "</g>\n",
       "<g clip-path=\"url(#clip5901)\">\n",
       "<text style=\"fill:#000000; fill-opacity:1; font-family:Arial,Helvetica Neue,Helvetica,sans-serif; font-size:38px; text-anchor:start;\" transform=\"rotate(0, 1200.6, 1551.07)\" x=\"1200.6\" y=\"1551.07\">4</text>\n",
       "</g>\n",
       "<g clip-path=\"url(#clip5901)\">\n",
       "<text style=\"fill:#000000; fill-opacity:1; font-family:Arial,Helvetica Neue,Helvetica,sans-serif; font-size:48px; text-anchor:start;\" transform=\"rotate(0, 1533.95, 1578.48)\" x=\"1533.95\" y=\"1578.48\">3×10</text>\n",
       "</g>\n",
       "<g clip-path=\"url(#clip5901)\">\n",
       "<text style=\"fill:#000000; fill-opacity:1; font-family:Arial,Helvetica Neue,Helvetica,sans-serif; font-size:38px; text-anchor:start;\" transform=\"rotate(0, 1642.35, 1551.07)\" x=\"1642.35\" y=\"1551.07\">4</text>\n",
       "</g>\n",
       "<g clip-path=\"url(#clip5901)\">\n",
       "<text style=\"fill:#000000; fill-opacity:1; font-family:Arial,Helvetica Neue,Helvetica,sans-serif; font-size:48px; text-anchor:start;\" transform=\"rotate(0, 1975.7, 1578.48)\" x=\"1975.7\" y=\"1578.48\">4×10</text>\n",
       "</g>\n",
       "<g clip-path=\"url(#clip5901)\">\n",
       "<text style=\"fill:#000000; fill-opacity:1; font-family:Arial,Helvetica Neue,Helvetica,sans-serif; font-size:38px; text-anchor:start;\" transform=\"rotate(0, 2084.1, 1551.07)\" x=\"2084.1\" y=\"1551.07\">4</text>\n",
       "</g>\n",
       "<g clip-path=\"url(#clip5901)\">\n",
       "<text style=\"fill:#000000; fill-opacity:1; font-family:Arial,Helvetica Neue,Helvetica,sans-serif; font-size:48px; text-anchor:end;\" transform=\"rotate(0, 190.919, 1381.63)\" x=\"190.919\" y=\"1381.63\">14.50</text>\n",
       "</g>\n",
       "<g clip-path=\"url(#clip5901)\">\n",
       "<text style=\"fill:#000000; fill-opacity:1; font-family:Arial,Helvetica Neue,Helvetica,sans-serif; font-size:48px; text-anchor:end;\" transform=\"rotate(0, 190.919, 1136.31)\" x=\"190.919\" y=\"1136.31\">14.75</text>\n",
       "</g>\n",
       "<g clip-path=\"url(#clip5901)\">\n",
       "<text style=\"fill:#000000; fill-opacity:1; font-family:Arial,Helvetica Neue,Helvetica,sans-serif; font-size:48px; text-anchor:end;\" transform=\"rotate(0, 190.919, 890.988)\" x=\"190.919\" y=\"890.988\">15.00</text>\n",
       "</g>\n",
       "<g clip-path=\"url(#clip5901)\">\n",
       "<text style=\"fill:#000000; fill-opacity:1; font-family:Arial,Helvetica Neue,Helvetica,sans-serif; font-size:48px; text-anchor:end;\" transform=\"rotate(0, 190.919, 645.666)\" x=\"190.919\" y=\"645.666\">15.25</text>\n",
       "</g>\n",
       "<g clip-path=\"url(#clip5901)\">\n",
       "<text style=\"fill:#000000; fill-opacity:1; font-family:Arial,Helvetica Neue,Helvetica,sans-serif; font-size:48px; text-anchor:end;\" transform=\"rotate(0, 190.919, 400.344)\" x=\"190.919\" y=\"400.344\">15.50</text>\n",
       "</g>\n",
       "<g clip-path=\"url(#clip5901)\">\n",
       "<text style=\"fill:#000000; fill-opacity:1; font-family:Arial,Helvetica Neue,Helvetica,sans-serif; font-size:48px; text-anchor:end;\" transform=\"rotate(0, 190.919, 155.023)\" x=\"190.919\" y=\"155.023\">15.75</text>\n",
       "</g>\n",
       "<polyline clip-path=\"url(#clip5903)\" style=\"stroke:#009af9; stroke-width:4; stroke-opacity:1; fill:none\" points=\"\n",
       "  2261.65,1462.26 1157.28,1364.13 936.403,1069.75 494.655,677.231 291.451,382.844 274.532,88.4582 \n",
       "  \"/>\n",
       "<circle clip-path=\"url(#clip5903)\" style=\"fill:#000000; stroke:none; fill-opacity:1\" cx=\"2261.65\" cy=\"1462.26\" r=\"18\"/>\n",
       "<circle clip-path=\"url(#clip5903)\" style=\"fill:#e26f46; stroke:none; fill-opacity:1\" cx=\"2261.65\" cy=\"1462.26\" r=\"14\"/>\n",
       "<circle clip-path=\"url(#clip5903)\" style=\"fill:#000000; stroke:none; fill-opacity:1\" cx=\"1157.28\" cy=\"1364.13\" r=\"18\"/>\n",
       "<circle clip-path=\"url(#clip5903)\" style=\"fill:#e26f46; stroke:none; fill-opacity:1\" cx=\"1157.28\" cy=\"1364.13\" r=\"14\"/>\n",
       "<circle clip-path=\"url(#clip5903)\" style=\"fill:#000000; stroke:none; fill-opacity:1\" cx=\"936.403\" cy=\"1069.75\" r=\"18\"/>\n",
       "<circle clip-path=\"url(#clip5903)\" style=\"fill:#e26f46; stroke:none; fill-opacity:1\" cx=\"936.403\" cy=\"1069.75\" r=\"14\"/>\n",
       "<circle clip-path=\"url(#clip5903)\" style=\"fill:#000000; stroke:none; fill-opacity:1\" cx=\"494.655\" cy=\"677.231\" r=\"18\"/>\n",
       "<circle clip-path=\"url(#clip5903)\" style=\"fill:#e26f46; stroke:none; fill-opacity:1\" cx=\"494.655\" cy=\"677.231\" r=\"14\"/>\n",
       "<circle clip-path=\"url(#clip5903)\" style=\"fill:#000000; stroke:none; fill-opacity:1\" cx=\"291.451\" cy=\"382.844\" r=\"18\"/>\n",
       "<circle clip-path=\"url(#clip5903)\" style=\"fill:#e26f46; stroke:none; fill-opacity:1\" cx=\"291.451\" cy=\"382.844\" r=\"14\"/>\n",
       "<circle clip-path=\"url(#clip5903)\" style=\"fill:#000000; stroke:none; fill-opacity:1\" cx=\"274.532\" cy=\"88.4582\" r=\"18\"/>\n",
       "<circle clip-path=\"url(#clip5903)\" style=\"fill:#e26f46; stroke:none; fill-opacity:1\" cx=\"274.532\" cy=\"88.4582\" r=\"14\"/>\n",
       "<polygon clip-path=\"url(#clip5901)\" points=\"\n",
       "1880.84,312.204 2249.26,312.204 2249.26,130.764 1880.84,130.764 \n",
       "  \" fill=\"#ffffff\" fill-rule=\"evenodd\" fill-opacity=\"1\"/>\n",
       "<polyline clip-path=\"url(#clip5901)\" style=\"stroke:#000000; stroke-width:4; stroke-opacity:1; fill:none\" points=\"\n",
       "  1880.84,312.204 2249.26,312.204 2249.26,130.764 1880.84,130.764 1880.84,312.204 \n",
       "  \"/>\n",
       "<polyline clip-path=\"url(#clip5901)\" style=\"stroke:#009af9; stroke-width:4; stroke-opacity:1; fill:none\" points=\"\n",
       "  1904.84,191.244 2048.84,191.244 \n",
       "  \"/>\n",
       "<g clip-path=\"url(#clip5901)\">\n",
       "<text style=\"fill:#000000; fill-opacity:1; font-family:Arial,Helvetica Neue,Helvetica,sans-serif; font-size:48px; text-anchor:start;\" transform=\"rotate(0, 2072.84, 208.744)\" x=\"2072.84\" y=\"208.744\">line</text>\n",
       "</g>\n",
       "<circle clip-path=\"url(#clip5901)\" style=\"fill:#000000; stroke:none; fill-opacity:1\" cx=\"1988.84\" cy=\"251.724\" r=\"25\"/>\n",
       "<circle clip-path=\"url(#clip5901)\" style=\"fill:#e26f46; stroke:none; fill-opacity:1\" cx=\"1988.84\" cy=\"251.724\" r=\"21\"/>\n",
       "<g clip-path=\"url(#clip5901)\">\n",
       "<text style=\"fill:#000000; fill-opacity:1; font-family:Arial,Helvetica Neue,Helvetica,sans-serif; font-size:48px; text-anchor:start;\" transform=\"rotate(0, 2072.84, 269.224)\" x=\"2072.84\" y=\"269.224\">points</text>\n",
       "</g>\n",
       "</svg>\n"
      ]
     },
     "execution_count": 4,
     "metadata": {},
     "output_type": "execute_result"
    }
   ],
   "source": [
    "plot(numpirates, globaltemperatures, label=\"line\")  \n",
    "scatter!(numpirates, globaltemperatures, label=\"points\") # ! mutates the last plot created."
   ]
  },
  {
   "cell_type": "markdown",
   "metadata": {},
   "source": [
    "The `!` at the end of the `scatter!` function name makes `scatter!` a mutating function, indicating that the scattered points will be added onto the pre-existing plot.\n",
    "\n",
    "In contrast, see what happens when you replace `scatter!` in the above with the non-mutating function `scatter`.\n",
    "\n",
    "Next, let's update this plot with the `xlabel!`, `ylabel!`, and `title!` commands to add more information to our plot."
   ]
  },
  {
   "cell_type": "code",
   "execution_count": 5,
   "metadata": {},
   "outputs": [
    {
     "data": {
      "image/svg+xml": [
       "<?xml version=\"1.0\" encoding=\"utf-8\"?>\n",
       "<svg xmlns=\"http://www.w3.org/2000/svg\" xmlns:xlink=\"http://www.w3.org/1999/xlink\" width=\"600\" height=\"400\" viewBox=\"0 0 2400 1600\">\n",
       "<defs>\n",
       "  <clipPath id=\"clip6100\">\n",
       "    <rect x=\"0\" y=\"0\" width=\"2000\" height=\"2000\"/>\n",
       "  </clipPath>\n",
       "</defs>\n",
       "<defs>\n",
       "  <clipPath id=\"clip6101\">\n",
       "    <rect x=\"0\" y=\"0\" width=\"2400\" height=\"1600\"/>\n",
       "  </clipPath>\n",
       "</defs>\n",
       "<polygon clip-path=\"url(#clip6101)\" points=\"\n",
       "0,1600 2400,1600 2400,0 0,0 \n",
       "  \" fill=\"#ffffff\" fill-rule=\"evenodd\" fill-opacity=\"1\"/>\n",
       "<defs>\n",
       "  <clipPath id=\"clip6102\">\n",
       "    <rect x=\"480\" y=\"0\" width=\"1681\" height=\"1600\"/>\n",
       "  </clipPath>\n",
       "</defs>\n",
       "<polygon clip-path=\"url(#clip6101)\" points=\"\n",
       "277.911,1440.48 2321.26,1440.48 2321.26,125.984 277.911,125.984 \n",
       "  \" fill=\"#ffffff\" fill-rule=\"evenodd\" fill-opacity=\"1\"/>\n",
       "<defs>\n",
       "  <clipPath id=\"clip6103\">\n",
       "    <rect x=\"277\" y=\"125\" width=\"2044\" height=\"1315\"/>\n",
       "  </clipPath>\n",
       "</defs>\n",
       "<polyline clip-path=\"url(#clip6103)\" style=\"stroke:#000000; stroke-width:2; stroke-opacity:0.1; fill:none\" points=\"\n",
       "  335.013,1440.48 335.013,125.984 \n",
       "  \"/>\n",
       "<polyline clip-path=\"url(#clip6103)\" style=\"stroke:#000000; stroke-width:2; stroke-opacity:0.1; fill:none\" points=\"\n",
       "  763.55,1440.48 763.55,125.984 \n",
       "  \"/>\n",
       "<polyline clip-path=\"url(#clip6103)\" style=\"stroke:#000000; stroke-width:2; stroke-opacity:0.1; fill:none\" points=\"\n",
       "  1192.09,1440.48 1192.09,125.984 \n",
       "  \"/>\n",
       "<polyline clip-path=\"url(#clip6103)\" style=\"stroke:#000000; stroke-width:2; stroke-opacity:0.1; fill:none\" points=\"\n",
       "  1620.62,1440.48 1620.62,125.984 \n",
       "  \"/>\n",
       "<polyline clip-path=\"url(#clip6103)\" style=\"stroke:#000000; stroke-width:2; stroke-opacity:0.1; fill:none\" points=\"\n",
       "  2049.16,1440.48 2049.16,125.984 \n",
       "  \"/>\n",
       "<polyline clip-path=\"url(#clip6103)\" style=\"stroke:#000000; stroke-width:2; stroke-opacity:0.1; fill:none\" points=\"\n",
       "  277.911,1314.7 2321.26,1314.7 \n",
       "  \"/>\n",
       "<polyline clip-path=\"url(#clip6103)\" style=\"stroke:#000000; stroke-width:2; stroke-opacity:0.1; fill:none\" points=\"\n",
       "  277.911,1093.26 2321.26,1093.26 \n",
       "  \"/>\n",
       "<polyline clip-path=\"url(#clip6103)\" style=\"stroke:#000000; stroke-width:2; stroke-opacity:0.1; fill:none\" points=\"\n",
       "  277.911,871.811 2321.26,871.811 \n",
       "  \"/>\n",
       "<polyline clip-path=\"url(#clip6103)\" style=\"stroke:#000000; stroke-width:2; stroke-opacity:0.1; fill:none\" points=\"\n",
       "  277.911,650.366 2321.26,650.366 \n",
       "  \"/>\n",
       "<polyline clip-path=\"url(#clip6103)\" style=\"stroke:#000000; stroke-width:2; stroke-opacity:0.1; fill:none\" points=\"\n",
       "  277.911,428.921 2321.26,428.921 \n",
       "  \"/>\n",
       "<polyline clip-path=\"url(#clip6103)\" style=\"stroke:#000000; stroke-width:2; stroke-opacity:0.1; fill:none\" points=\"\n",
       "  277.911,207.476 2321.26,207.476 \n",
       "  \"/>\n",
       "<polyline clip-path=\"url(#clip6101)\" style=\"stroke:#000000; stroke-width:4; stroke-opacity:1; fill:none\" points=\"\n",
       "  277.911,1440.48 2321.26,1440.48 \n",
       "  \"/>\n",
       "<polyline clip-path=\"url(#clip6101)\" style=\"stroke:#000000; stroke-width:4; stroke-opacity:1; fill:none\" points=\"\n",
       "  277.911,1440.48 277.911,125.984 \n",
       "  \"/>\n",
       "<polyline clip-path=\"url(#clip6101)\" style=\"stroke:#000000; stroke-width:4; stroke-opacity:1; fill:none\" points=\"\n",
       "  335.013,1440.48 335.013,1420.77 \n",
       "  \"/>\n",
       "<polyline clip-path=\"url(#clip6101)\" style=\"stroke:#000000; stroke-width:4; stroke-opacity:1; fill:none\" points=\"\n",
       "  763.55,1440.48 763.55,1420.77 \n",
       "  \"/>\n",
       "<polyline clip-path=\"url(#clip6101)\" style=\"stroke:#000000; stroke-width:4; stroke-opacity:1; fill:none\" points=\"\n",
       "  1192.09,1440.48 1192.09,1420.77 \n",
       "  \"/>\n",
       "<polyline clip-path=\"url(#clip6101)\" style=\"stroke:#000000; stroke-width:4; stroke-opacity:1; fill:none\" points=\"\n",
       "  1620.62,1440.48 1620.62,1420.77 \n",
       "  \"/>\n",
       "<polyline clip-path=\"url(#clip6101)\" style=\"stroke:#000000; stroke-width:4; stroke-opacity:1; fill:none\" points=\"\n",
       "  2049.16,1440.48 2049.16,1420.77 \n",
       "  \"/>\n",
       "<polyline clip-path=\"url(#clip6101)\" style=\"stroke:#000000; stroke-width:4; stroke-opacity:1; fill:none\" points=\"\n",
       "  277.911,1314.7 308.561,1314.7 \n",
       "  \"/>\n",
       "<polyline clip-path=\"url(#clip6101)\" style=\"stroke:#000000; stroke-width:4; stroke-opacity:1; fill:none\" points=\"\n",
       "  277.911,1093.26 308.561,1093.26 \n",
       "  \"/>\n",
       "<polyline clip-path=\"url(#clip6101)\" style=\"stroke:#000000; stroke-width:4; stroke-opacity:1; fill:none\" points=\"\n",
       "  277.911,871.811 308.561,871.811 \n",
       "  \"/>\n",
       "<polyline clip-path=\"url(#clip6101)\" style=\"stroke:#000000; stroke-width:4; stroke-opacity:1; fill:none\" points=\"\n",
       "  277.911,650.366 308.561,650.366 \n",
       "  \"/>\n",
       "<polyline clip-path=\"url(#clip6101)\" style=\"stroke:#000000; stroke-width:4; stroke-opacity:1; fill:none\" points=\"\n",
       "  277.911,428.921 308.561,428.921 \n",
       "  \"/>\n",
       "<polyline clip-path=\"url(#clip6101)\" style=\"stroke:#000000; stroke-width:4; stroke-opacity:1; fill:none\" points=\"\n",
       "  277.911,207.476 308.561,207.476 \n",
       "  \"/>\n",
       "<g clip-path=\"url(#clip6101)\">\n",
       "<text style=\"fill:#000000; fill-opacity:1; font-family:Arial,Helvetica Neue,Helvetica,sans-serif; font-size:48px; text-anchor:middle;\" transform=\"rotate(0, 335.013, 1494.48)\" x=\"335.013\" y=\"1494.48\">0</text>\n",
       "</g>\n",
       "<g clip-path=\"url(#clip6101)\">\n",
       "<text style=\"fill:#000000; fill-opacity:1; font-family:Arial,Helvetica Neue,Helvetica,sans-serif; font-size:48px; text-anchor:start;\" transform=\"rotate(0, 698.479, 1515.49)\" x=\"698.479\" y=\"1515.49\">1×10</text>\n",
       "</g>\n",
       "<g clip-path=\"url(#clip6101)\">\n",
       "<text style=\"fill:#000000; fill-opacity:1; font-family:Arial,Helvetica Neue,Helvetica,sans-serif; font-size:38px; text-anchor:start;\" transform=\"rotate(0, 806.876, 1488.08)\" x=\"806.876\" y=\"1488.08\">4</text>\n",
       "</g>\n",
       "<g clip-path=\"url(#clip6101)\">\n",
       "<text style=\"fill:#000000; fill-opacity:1; font-family:Arial,Helvetica Neue,Helvetica,sans-serif; font-size:48px; text-anchor:start;\" transform=\"rotate(0, 1127.02, 1515.49)\" x=\"1127.02\" y=\"1515.49\">2×10</text>\n",
       "</g>\n",
       "<g clip-path=\"url(#clip6101)\">\n",
       "<text style=\"fill:#000000; fill-opacity:1; font-family:Arial,Helvetica Neue,Helvetica,sans-serif; font-size:38px; text-anchor:start;\" transform=\"rotate(0, 1235.41, 1488.08)\" x=\"1235.41\" y=\"1488.08\">4</text>\n",
       "</g>\n",
       "<g clip-path=\"url(#clip6101)\">\n",
       "<text style=\"fill:#000000; fill-opacity:1; font-family:Arial,Helvetica Neue,Helvetica,sans-serif; font-size:48px; text-anchor:start;\" transform=\"rotate(0, 1555.55, 1515.49)\" x=\"1555.55\" y=\"1515.49\">3×10</text>\n",
       "</g>\n",
       "<g clip-path=\"url(#clip6101)\">\n",
       "<text style=\"fill:#000000; fill-opacity:1; font-family:Arial,Helvetica Neue,Helvetica,sans-serif; font-size:38px; text-anchor:start;\" transform=\"rotate(0, 1663.95, 1488.08)\" x=\"1663.95\" y=\"1488.08\">4</text>\n",
       "</g>\n",
       "<g clip-path=\"url(#clip6101)\">\n",
       "<text style=\"fill:#000000; fill-opacity:1; font-family:Arial,Helvetica Neue,Helvetica,sans-serif; font-size:48px; text-anchor:start;\" transform=\"rotate(0, 1984.09, 1515.49)\" x=\"1984.09\" y=\"1515.49\">4×10</text>\n",
       "</g>\n",
       "<g clip-path=\"url(#clip6101)\">\n",
       "<text style=\"fill:#000000; fill-opacity:1; font-family:Arial,Helvetica Neue,Helvetica,sans-serif; font-size:38px; text-anchor:start;\" transform=\"rotate(0, 2092.49, 1488.08)\" x=\"2092.49\" y=\"1488.08\">4</text>\n",
       "</g>\n",
       "<g clip-path=\"url(#clip6101)\">\n",
       "<text style=\"fill:#000000; fill-opacity:1; font-family:Arial,Helvetica Neue,Helvetica,sans-serif; font-size:48px; text-anchor:end;\" transform=\"rotate(0, 253.911, 1332.2)\" x=\"253.911\" y=\"1332.2\">14.50</text>\n",
       "</g>\n",
       "<g clip-path=\"url(#clip6101)\">\n",
       "<text style=\"fill:#000000; fill-opacity:1; font-family:Arial,Helvetica Neue,Helvetica,sans-serif; font-size:48px; text-anchor:end;\" transform=\"rotate(0, 253.911, 1110.76)\" x=\"253.911\" y=\"1110.76\">14.75</text>\n",
       "</g>\n",
       "<g clip-path=\"url(#clip6101)\">\n",
       "<text style=\"fill:#000000; fill-opacity:1; font-family:Arial,Helvetica Neue,Helvetica,sans-serif; font-size:48px; text-anchor:end;\" transform=\"rotate(0, 253.911, 889.311)\" x=\"253.911\" y=\"889.311\">15.00</text>\n",
       "</g>\n",
       "<g clip-path=\"url(#clip6101)\">\n",
       "<text style=\"fill:#000000; fill-opacity:1; font-family:Arial,Helvetica Neue,Helvetica,sans-serif; font-size:48px; text-anchor:end;\" transform=\"rotate(0, 253.911, 667.866)\" x=\"253.911\" y=\"667.866\">15.25</text>\n",
       "</g>\n",
       "<g clip-path=\"url(#clip6101)\">\n",
       "<text style=\"fill:#000000; fill-opacity:1; font-family:Arial,Helvetica Neue,Helvetica,sans-serif; font-size:48px; text-anchor:end;\" transform=\"rotate(0, 253.911, 446.421)\" x=\"253.911\" y=\"446.421\">15.50</text>\n",
       "</g>\n",
       "<g clip-path=\"url(#clip6101)\">\n",
       "<text style=\"fill:#000000; fill-opacity:1; font-family:Arial,Helvetica Neue,Helvetica,sans-serif; font-size:48px; text-anchor:end;\" transform=\"rotate(0, 253.911, 224.976)\" x=\"253.911\" y=\"224.976\">15.75</text>\n",
       "</g>\n",
       "<g clip-path=\"url(#clip6101)\">\n",
       "<text style=\"fill:#000000; fill-opacity:1; font-family:Arial,Helvetica Neue,Helvetica,sans-serif; font-size:84px; text-anchor:middle;\" transform=\"rotate(0, 1299.59, 73.2)\" x=\"1299.59\" y=\"73.2\">Influence of pirate population on global warming</text>\n",
       "</g>\n",
       "<g clip-path=\"url(#clip6101)\">\n",
       "<text style=\"fill:#000000; fill-opacity:1; font-family:Arial,Helvetica Neue,Helvetica,sans-serif; font-size:66px; text-anchor:middle;\" transform=\"rotate(0, 1299.59, 1590.4)\" x=\"1299.59\" y=\"1590.4\">Number of Pirates [Approximate]</text>\n",
       "</g>\n",
       "<g clip-path=\"url(#clip6101)\">\n",
       "<text style=\"fill:#000000; fill-opacity:1; font-family:Arial,Helvetica Neue,Helvetica,sans-serif; font-size:66px; text-anchor:middle;\" transform=\"rotate(-90, 57.6, 783.233)\" x=\"57.6\" y=\"783.233\">Global Temperature (C)</text>\n",
       "</g>\n",
       "<polyline clip-path=\"url(#clip6103)\" style=\"stroke:#009af9; stroke-width:4; stroke-opacity:1; fill:none\" points=\"\n",
       "  2263.43,1403.28 1192.09,1314.7 977.818,1048.97 549.281,694.655 352.154,428.921 335.741,163.187 \n",
       "  \"/>\n",
       "<circle clip-path=\"url(#clip6103)\" style=\"fill:#000000; stroke:none; fill-opacity:1\" cx=\"2263.43\" cy=\"1403.28\" r=\"18\"/>\n",
       "<circle clip-path=\"url(#clip6103)\" style=\"fill:#e26f46; stroke:none; fill-opacity:1\" cx=\"2263.43\" cy=\"1403.28\" r=\"14\"/>\n",
       "<circle clip-path=\"url(#clip6103)\" style=\"fill:#000000; stroke:none; fill-opacity:1\" cx=\"1192.09\" cy=\"1314.7\" r=\"18\"/>\n",
       "<circle clip-path=\"url(#clip6103)\" style=\"fill:#e26f46; stroke:none; fill-opacity:1\" cx=\"1192.09\" cy=\"1314.7\" r=\"14\"/>\n",
       "<circle clip-path=\"url(#clip6103)\" style=\"fill:#000000; stroke:none; fill-opacity:1\" cx=\"977.818\" cy=\"1048.97\" r=\"18\"/>\n",
       "<circle clip-path=\"url(#clip6103)\" style=\"fill:#e26f46; stroke:none; fill-opacity:1\" cx=\"977.818\" cy=\"1048.97\" r=\"14\"/>\n",
       "<circle clip-path=\"url(#clip6103)\" style=\"fill:#000000; stroke:none; fill-opacity:1\" cx=\"549.281\" cy=\"694.655\" r=\"18\"/>\n",
       "<circle clip-path=\"url(#clip6103)\" style=\"fill:#e26f46; stroke:none; fill-opacity:1\" cx=\"549.281\" cy=\"694.655\" r=\"14\"/>\n",
       "<circle clip-path=\"url(#clip6103)\" style=\"fill:#000000; stroke:none; fill-opacity:1\" cx=\"352.154\" cy=\"428.921\" r=\"18\"/>\n",
       "<circle clip-path=\"url(#clip6103)\" style=\"fill:#e26f46; stroke:none; fill-opacity:1\" cx=\"352.154\" cy=\"428.921\" r=\"14\"/>\n",
       "<circle clip-path=\"url(#clip6103)\" style=\"fill:#000000; stroke:none; fill-opacity:1\" cx=\"335.741\" cy=\"163.187\" r=\"18\"/>\n",
       "<circle clip-path=\"url(#clip6103)\" style=\"fill:#e26f46; stroke:none; fill-opacity:1\" cx=\"335.741\" cy=\"163.187\" r=\"14\"/>\n",
       "<polygon clip-path=\"url(#clip6101)\" points=\"\n",
       "1880.84,390.944 2249.26,390.944 2249.26,209.504 1880.84,209.504 \n",
       "  \" fill=\"#ffffff\" fill-rule=\"evenodd\" fill-opacity=\"1\"/>\n",
       "<polyline clip-path=\"url(#clip6101)\" style=\"stroke:#000000; stroke-width:4; stroke-opacity:1; fill:none\" points=\"\n",
       "  1880.84,390.944 2249.26,390.944 2249.26,209.504 1880.84,209.504 1880.84,390.944 \n",
       "  \"/>\n",
       "<polyline clip-path=\"url(#clip6101)\" style=\"stroke:#009af9; stroke-width:4; stroke-opacity:1; fill:none\" points=\"\n",
       "  1904.84,269.984 2048.84,269.984 \n",
       "  \"/>\n",
       "<g clip-path=\"url(#clip6101)\">\n",
       "<text style=\"fill:#000000; fill-opacity:1; font-family:Arial,Helvetica Neue,Helvetica,sans-serif; font-size:48px; text-anchor:start;\" transform=\"rotate(0, 2072.84, 287.484)\" x=\"2072.84\" y=\"287.484\">line</text>\n",
       "</g>\n",
       "<circle clip-path=\"url(#clip6101)\" style=\"fill:#000000; stroke:none; fill-opacity:1\" cx=\"1988.84\" cy=\"330.464\" r=\"25\"/>\n",
       "<circle clip-path=\"url(#clip6101)\" style=\"fill:#e26f46; stroke:none; fill-opacity:1\" cx=\"1988.84\" cy=\"330.464\" r=\"21\"/>\n",
       "<g clip-path=\"url(#clip6101)\">\n",
       "<text style=\"fill:#000000; fill-opacity:1; font-family:Arial,Helvetica Neue,Helvetica,sans-serif; font-size:48px; text-anchor:start;\" transform=\"rotate(0, 2072.84, 347.964)\" x=\"2072.84\" y=\"347.964\">points</text>\n",
       "</g>\n",
       "</svg>\n"
      ]
     },
     "execution_count": 5,
     "metadata": {},
     "output_type": "execute_result"
    }
   ],
   "source": [
    "xlabel!(\"Number of Pirates [Approximate]\")\n",
    "ylabel!(\"Global Temperature (C)\")\n",
    "title!(\"Influence of pirate population on global warming\")"
   ]
  },
  {
   "cell_type": "markdown",
   "metadata": {},
   "source": [
    "This still doesn't look quite right. The number of pirates has decreased since 1860, so reading the plot from left to right is like looking backwards in time rather than forwards. Let's flip the x axis to better see how pirate populations have caused global temperatures to change over time!"
   ]
  },
  {
   "cell_type": "code",
   "execution_count": 6,
   "metadata": {},
   "outputs": [
    {
     "data": {
      "image/svg+xml": [
       "<?xml version=\"1.0\" encoding=\"utf-8\"?>\n",
       "<svg xmlns=\"http://www.w3.org/2000/svg\" xmlns:xlink=\"http://www.w3.org/1999/xlink\" width=\"600\" height=\"400\" viewBox=\"0 0 2400 1600\">\n",
       "<defs>\n",
       "  <clipPath id=\"clip6300\">\n",
       "    <rect x=\"0\" y=\"0\" width=\"2000\" height=\"2000\"/>\n",
       "  </clipPath>\n",
       "</defs>\n",
       "<defs>\n",
       "  <clipPath id=\"clip6301\">\n",
       "    <rect x=\"0\" y=\"0\" width=\"2400\" height=\"1600\"/>\n",
       "  </clipPath>\n",
       "</defs>\n",
       "<polygon clip-path=\"url(#clip6301)\" points=\"\n",
       "0,1600 2400,1600 2400,0 0,0 \n",
       "  \" fill=\"#ffffff\" fill-rule=\"evenodd\" fill-opacity=\"1\"/>\n",
       "<defs>\n",
       "  <clipPath id=\"clip6302\">\n",
       "    <rect x=\"480\" y=\"0\" width=\"1681\" height=\"1600\"/>\n",
       "  </clipPath>\n",
       "</defs>\n",
       "<polygon clip-path=\"url(#clip6301)\" points=\"\n",
       "277.911,1440.48 2321.26,1440.48 2321.26,125.984 277.911,125.984 \n",
       "  \" fill=\"#ffffff\" fill-rule=\"evenodd\" fill-opacity=\"1\"/>\n",
       "<defs>\n",
       "  <clipPath id=\"clip6303\">\n",
       "    <rect x=\"277\" y=\"125\" width=\"2044\" height=\"1315\"/>\n",
       "  </clipPath>\n",
       "</defs>\n",
       "<polyline clip-path=\"url(#clip6303)\" style=\"stroke:#000000; stroke-width:2; stroke-opacity:0.1; fill:none\" points=\"\n",
       "  2264.16,1440.48 2264.16,125.984 \n",
       "  \"/>\n",
       "<polyline clip-path=\"url(#clip6303)\" style=\"stroke:#000000; stroke-width:2; stroke-opacity:0.1; fill:none\" points=\"\n",
       "  1835.62,1440.48 1835.62,125.984 \n",
       "  \"/>\n",
       "<polyline clip-path=\"url(#clip6303)\" style=\"stroke:#000000; stroke-width:2; stroke-opacity:0.1; fill:none\" points=\"\n",
       "  1407.08,1440.48 1407.08,125.984 \n",
       "  \"/>\n",
       "<polyline clip-path=\"url(#clip6303)\" style=\"stroke:#000000; stroke-width:2; stroke-opacity:0.1; fill:none\" points=\"\n",
       "  978.547,1440.48 978.547,125.984 \n",
       "  \"/>\n",
       "<polyline clip-path=\"url(#clip6303)\" style=\"stroke:#000000; stroke-width:2; stroke-opacity:0.1; fill:none\" points=\"\n",
       "  550.01,1440.48 550.01,125.984 \n",
       "  \"/>\n",
       "<polyline clip-path=\"url(#clip6303)\" style=\"stroke:#000000; stroke-width:2; stroke-opacity:0.1; fill:none\" points=\"\n",
       "  2321.26,1314.7 277.911,1314.7 \n",
       "  \"/>\n",
       "<polyline clip-path=\"url(#clip6303)\" style=\"stroke:#000000; stroke-width:2; stroke-opacity:0.1; fill:none\" points=\"\n",
       "  2321.26,1093.26 277.911,1093.26 \n",
       "  \"/>\n",
       "<polyline clip-path=\"url(#clip6303)\" style=\"stroke:#000000; stroke-width:2; stroke-opacity:0.1; fill:none\" points=\"\n",
       "  2321.26,871.811 277.911,871.811 \n",
       "  \"/>\n",
       "<polyline clip-path=\"url(#clip6303)\" style=\"stroke:#000000; stroke-width:2; stroke-opacity:0.1; fill:none\" points=\"\n",
       "  2321.26,650.366 277.911,650.366 \n",
       "  \"/>\n",
       "<polyline clip-path=\"url(#clip6303)\" style=\"stroke:#000000; stroke-width:2; stroke-opacity:0.1; fill:none\" points=\"\n",
       "  2321.26,428.921 277.911,428.921 \n",
       "  \"/>\n",
       "<polyline clip-path=\"url(#clip6303)\" style=\"stroke:#000000; stroke-width:2; stroke-opacity:0.1; fill:none\" points=\"\n",
       "  2321.26,207.476 277.911,207.476 \n",
       "  \"/>\n",
       "<polyline clip-path=\"url(#clip6301)\" style=\"stroke:#000000; stroke-width:4; stroke-opacity:1; fill:none\" points=\"\n",
       "  2321.26,1440.48 277.911,1440.48 \n",
       "  \"/>\n",
       "<polyline clip-path=\"url(#clip6301)\" style=\"stroke:#000000; stroke-width:4; stroke-opacity:1; fill:none\" points=\"\n",
       "  277.911,1440.48 277.911,125.984 \n",
       "  \"/>\n",
       "<polyline clip-path=\"url(#clip6301)\" style=\"stroke:#000000; stroke-width:4; stroke-opacity:1; fill:none\" points=\"\n",
       "  2264.16,1440.48 2264.16,1420.77 \n",
       "  \"/>\n",
       "<polyline clip-path=\"url(#clip6301)\" style=\"stroke:#000000; stroke-width:4; stroke-opacity:1; fill:none\" points=\"\n",
       "  1835.62,1440.48 1835.62,1420.77 \n",
       "  \"/>\n",
       "<polyline clip-path=\"url(#clip6301)\" style=\"stroke:#000000; stroke-width:4; stroke-opacity:1; fill:none\" points=\"\n",
       "  1407.08,1440.48 1407.08,1420.77 \n",
       "  \"/>\n",
       "<polyline clip-path=\"url(#clip6301)\" style=\"stroke:#000000; stroke-width:4; stroke-opacity:1; fill:none\" points=\"\n",
       "  978.547,1440.48 978.547,1420.77 \n",
       "  \"/>\n",
       "<polyline clip-path=\"url(#clip6301)\" style=\"stroke:#000000; stroke-width:4; stroke-opacity:1; fill:none\" points=\"\n",
       "  550.01,1440.48 550.01,1420.77 \n",
       "  \"/>\n",
       "<polyline clip-path=\"url(#clip6301)\" style=\"stroke:#000000; stroke-width:4; stroke-opacity:1; fill:none\" points=\"\n",
       "  277.911,1314.7 308.561,1314.7 \n",
       "  \"/>\n",
       "<polyline clip-path=\"url(#clip6301)\" style=\"stroke:#000000; stroke-width:4; stroke-opacity:1; fill:none\" points=\"\n",
       "  277.911,1093.26 308.561,1093.26 \n",
       "  \"/>\n",
       "<polyline clip-path=\"url(#clip6301)\" style=\"stroke:#000000; stroke-width:4; stroke-opacity:1; fill:none\" points=\"\n",
       "  277.911,871.811 308.561,871.811 \n",
       "  \"/>\n",
       "<polyline clip-path=\"url(#clip6301)\" style=\"stroke:#000000; stroke-width:4; stroke-opacity:1; fill:none\" points=\"\n",
       "  277.911,650.366 308.561,650.366 \n",
       "  \"/>\n",
       "<polyline clip-path=\"url(#clip6301)\" style=\"stroke:#000000; stroke-width:4; stroke-opacity:1; fill:none\" points=\"\n",
       "  277.911,428.921 308.561,428.921 \n",
       "  \"/>\n",
       "<polyline clip-path=\"url(#clip6301)\" style=\"stroke:#000000; stroke-width:4; stroke-opacity:1; fill:none\" points=\"\n",
       "  277.911,207.476 308.561,207.476 \n",
       "  \"/>\n",
       "<g clip-path=\"url(#clip6301)\">\n",
       "<text style=\"fill:#000000; fill-opacity:1; font-family:Arial,Helvetica Neue,Helvetica,sans-serif; font-size:48px; text-anchor:middle;\" transform=\"rotate(0, 2264.16, 1494.48)\" x=\"2264.16\" y=\"1494.48\">0</text>\n",
       "</g>\n",
       "<g clip-path=\"url(#clip6301)\">\n",
       "<text style=\"fill:#000000; fill-opacity:1; font-family:Arial,Helvetica Neue,Helvetica,sans-serif; font-size:48px; text-anchor:start;\" transform=\"rotate(0, 1770.55, 1515.49)\" x=\"1770.55\" y=\"1515.49\">1×10</text>\n",
       "</g>\n",
       "<g clip-path=\"url(#clip6301)\">\n",
       "<text style=\"fill:#000000; fill-opacity:1; font-family:Arial,Helvetica Neue,Helvetica,sans-serif; font-size:38px; text-anchor:start;\" transform=\"rotate(0, 1878.95, 1488.08)\" x=\"1878.95\" y=\"1488.08\">4</text>\n",
       "</g>\n",
       "<g clip-path=\"url(#clip6301)\">\n",
       "<text style=\"fill:#000000; fill-opacity:1; font-family:Arial,Helvetica Neue,Helvetica,sans-serif; font-size:48px; text-anchor:start;\" transform=\"rotate(0, 1342.01, 1515.49)\" x=\"1342.01\" y=\"1515.49\">2×10</text>\n",
       "</g>\n",
       "<g clip-path=\"url(#clip6301)\">\n",
       "<text style=\"fill:#000000; fill-opacity:1; font-family:Arial,Helvetica Neue,Helvetica,sans-serif; font-size:38px; text-anchor:start;\" transform=\"rotate(0, 1450.41, 1488.08)\" x=\"1450.41\" y=\"1488.08\">4</text>\n",
       "</g>\n",
       "<g clip-path=\"url(#clip6301)\">\n",
       "<text style=\"fill:#000000; fill-opacity:1; font-family:Arial,Helvetica Neue,Helvetica,sans-serif; font-size:48px; text-anchor:start;\" transform=\"rotate(0, 913.476, 1515.49)\" x=\"913.476\" y=\"1515.49\">3×10</text>\n",
       "</g>\n",
       "<g clip-path=\"url(#clip6301)\">\n",
       "<text style=\"fill:#000000; fill-opacity:1; font-family:Arial,Helvetica Neue,Helvetica,sans-serif; font-size:38px; text-anchor:start;\" transform=\"rotate(0, 1021.87, 1488.08)\" x=\"1021.87\" y=\"1488.08\">4</text>\n",
       "</g>\n",
       "<g clip-path=\"url(#clip6301)\">\n",
       "<text style=\"fill:#000000; fill-opacity:1; font-family:Arial,Helvetica Neue,Helvetica,sans-serif; font-size:48px; text-anchor:start;\" transform=\"rotate(0, 484.939, 1515.49)\" x=\"484.939\" y=\"1515.49\">4×10</text>\n",
       "</g>\n",
       "<g clip-path=\"url(#clip6301)\">\n",
       "<text style=\"fill:#000000; fill-opacity:1; font-family:Arial,Helvetica Neue,Helvetica,sans-serif; font-size:38px; text-anchor:start;\" transform=\"rotate(0, 593.336, 1488.08)\" x=\"593.336\" y=\"1488.08\">4</text>\n",
       "</g>\n",
       "<g clip-path=\"url(#clip6301)\">\n",
       "<text style=\"fill:#000000; fill-opacity:1; font-family:Arial,Helvetica Neue,Helvetica,sans-serif; font-size:48px; text-anchor:end;\" transform=\"rotate(0, 253.911, 1332.2)\" x=\"253.911\" y=\"1332.2\">14.50</text>\n",
       "</g>\n",
       "<g clip-path=\"url(#clip6301)\">\n",
       "<text style=\"fill:#000000; fill-opacity:1; font-family:Arial,Helvetica Neue,Helvetica,sans-serif; font-size:48px; text-anchor:end;\" transform=\"rotate(0, 253.911, 1110.76)\" x=\"253.911\" y=\"1110.76\">14.75</text>\n",
       "</g>\n",
       "<g clip-path=\"url(#clip6301)\">\n",
       "<text style=\"fill:#000000; fill-opacity:1; font-family:Arial,Helvetica Neue,Helvetica,sans-serif; font-size:48px; text-anchor:end;\" transform=\"rotate(0, 253.911, 889.311)\" x=\"253.911\" y=\"889.311\">15.00</text>\n",
       "</g>\n",
       "<g clip-path=\"url(#clip6301)\">\n",
       "<text style=\"fill:#000000; fill-opacity:1; font-family:Arial,Helvetica Neue,Helvetica,sans-serif; font-size:48px; text-anchor:end;\" transform=\"rotate(0, 253.911, 667.866)\" x=\"253.911\" y=\"667.866\">15.25</text>\n",
       "</g>\n",
       "<g clip-path=\"url(#clip6301)\">\n",
       "<text style=\"fill:#000000; fill-opacity:1; font-family:Arial,Helvetica Neue,Helvetica,sans-serif; font-size:48px; text-anchor:end;\" transform=\"rotate(0, 253.911, 446.421)\" x=\"253.911\" y=\"446.421\">15.50</text>\n",
       "</g>\n",
       "<g clip-path=\"url(#clip6301)\">\n",
       "<text style=\"fill:#000000; fill-opacity:1; font-family:Arial,Helvetica Neue,Helvetica,sans-serif; font-size:48px; text-anchor:end;\" transform=\"rotate(0, 253.911, 224.976)\" x=\"253.911\" y=\"224.976\">15.75</text>\n",
       "</g>\n",
       "<g clip-path=\"url(#clip6301)\">\n",
       "<text style=\"fill:#000000; fill-opacity:1; font-family:Arial,Helvetica Neue,Helvetica,sans-serif; font-size:84px; text-anchor:middle;\" transform=\"rotate(0, 1299.59, 73.2)\" x=\"1299.59\" y=\"73.2\">Influence of pirate population on global warming</text>\n",
       "</g>\n",
       "<g clip-path=\"url(#clip6301)\">\n",
       "<text style=\"fill:#000000; fill-opacity:1; font-family:Arial,Helvetica Neue,Helvetica,sans-serif; font-size:66px; text-anchor:middle;\" transform=\"rotate(0, 1299.59, 1590.4)\" x=\"1299.59\" y=\"1590.4\">Number of Pirates [Approximate]</text>\n",
       "</g>\n",
       "<g clip-path=\"url(#clip6301)\">\n",
       "<text style=\"fill:#000000; fill-opacity:1; font-family:Arial,Helvetica Neue,Helvetica,sans-serif; font-size:66px; text-anchor:middle;\" transform=\"rotate(-90, 57.6, 783.233)\" x=\"57.6\" y=\"783.233\">Global Temperature (C)</text>\n",
       "</g>\n",
       "<polyline clip-path=\"url(#clip6303)\" style=\"stroke:#009af9; stroke-width:4; stroke-opacity:1; fill:none\" points=\"\n",
       "  335.741,1403.28 1407.08,1314.7 1621.35,1048.97 2049.89,694.655 2247.02,428.921 2263.43,163.187 \n",
       "  \"/>\n",
       "<circle clip-path=\"url(#clip6303)\" style=\"fill:#000000; stroke:none; fill-opacity:1\" cx=\"335.741\" cy=\"1403.28\" r=\"18\"/>\n",
       "<circle clip-path=\"url(#clip6303)\" style=\"fill:#e26f46; stroke:none; fill-opacity:1\" cx=\"335.741\" cy=\"1403.28\" r=\"14\"/>\n",
       "<circle clip-path=\"url(#clip6303)\" style=\"fill:#000000; stroke:none; fill-opacity:1\" cx=\"1407.08\" cy=\"1314.7\" r=\"18\"/>\n",
       "<circle clip-path=\"url(#clip6303)\" style=\"fill:#e26f46; stroke:none; fill-opacity:1\" cx=\"1407.08\" cy=\"1314.7\" r=\"14\"/>\n",
       "<circle clip-path=\"url(#clip6303)\" style=\"fill:#000000; stroke:none; fill-opacity:1\" cx=\"1621.35\" cy=\"1048.97\" r=\"18\"/>\n",
       "<circle clip-path=\"url(#clip6303)\" style=\"fill:#e26f46; stroke:none; fill-opacity:1\" cx=\"1621.35\" cy=\"1048.97\" r=\"14\"/>\n",
       "<circle clip-path=\"url(#clip6303)\" style=\"fill:#000000; stroke:none; fill-opacity:1\" cx=\"2049.89\" cy=\"694.655\" r=\"18\"/>\n",
       "<circle clip-path=\"url(#clip6303)\" style=\"fill:#e26f46; stroke:none; fill-opacity:1\" cx=\"2049.89\" cy=\"694.655\" r=\"14\"/>\n",
       "<circle clip-path=\"url(#clip6303)\" style=\"fill:#000000; stroke:none; fill-opacity:1\" cx=\"2247.02\" cy=\"428.921\" r=\"18\"/>\n",
       "<circle clip-path=\"url(#clip6303)\" style=\"fill:#e26f46; stroke:none; fill-opacity:1\" cx=\"2247.02\" cy=\"428.921\" r=\"14\"/>\n",
       "<circle clip-path=\"url(#clip6303)\" style=\"fill:#000000; stroke:none; fill-opacity:1\" cx=\"2263.43\" cy=\"163.187\" r=\"18\"/>\n",
       "<circle clip-path=\"url(#clip6303)\" style=\"fill:#e26f46; stroke:none; fill-opacity:1\" cx=\"2263.43\" cy=\"163.187\" r=\"14\"/>\n",
       "<polygon clip-path=\"url(#clip6301)\" points=\"\n",
       "1880.84,390.944 2249.26,390.944 2249.26,209.504 1880.84,209.504 \n",
       "  \" fill=\"#ffffff\" fill-rule=\"evenodd\" fill-opacity=\"1\"/>\n",
       "<polyline clip-path=\"url(#clip6301)\" style=\"stroke:#000000; stroke-width:4; stroke-opacity:1; fill:none\" points=\"\n",
       "  1880.84,390.944 2249.26,390.944 2249.26,209.504 1880.84,209.504 1880.84,390.944 \n",
       "  \"/>\n",
       "<polyline clip-path=\"url(#clip6301)\" style=\"stroke:#009af9; stroke-width:4; stroke-opacity:1; fill:none\" points=\"\n",
       "  1904.84,269.984 2048.84,269.984 \n",
       "  \"/>\n",
       "<g clip-path=\"url(#clip6301)\">\n",
       "<text style=\"fill:#000000; fill-opacity:1; font-family:Arial,Helvetica Neue,Helvetica,sans-serif; font-size:48px; text-anchor:start;\" transform=\"rotate(0, 2072.84, 287.484)\" x=\"2072.84\" y=\"287.484\">line</text>\n",
       "</g>\n",
       "<circle clip-path=\"url(#clip6301)\" style=\"fill:#000000; stroke:none; fill-opacity:1\" cx=\"1988.84\" cy=\"330.464\" r=\"25\"/>\n",
       "<circle clip-path=\"url(#clip6301)\" style=\"fill:#e26f46; stroke:none; fill-opacity:1\" cx=\"1988.84\" cy=\"330.464\" r=\"21\"/>\n",
       "<g clip-path=\"url(#clip6301)\">\n",
       "<text style=\"fill:#000000; fill-opacity:1; font-family:Arial,Helvetica Neue,Helvetica,sans-serif; font-size:48px; text-anchor:start;\" transform=\"rotate(0, 2072.84, 347.964)\" x=\"2072.84\" y=\"347.964\">points</text>\n",
       "</g>\n",
       "</svg>\n"
      ]
     },
     "execution_count": 6,
     "metadata": {},
     "output_type": "execute_result"
    }
   ],
   "source": [
    "xflip!()"
   ]
  },
  {
   "cell_type": "markdown",
   "metadata": {},
   "source": [
    "And there we have it!\n",
    "\n",
    "Note: We've had some confusion about this exercise. :) This is a joke about how people often conflate correlation and causation."
   ]
  },
  {
   "cell_type": "markdown",
   "metadata": {},
   "source": [
    "### Changing backends\n",
    "\n",
    "Without changing syntax, we can create the same plot with various backends"
   ]
  },
  {
   "cell_type": "code",
   "execution_count": 18,
   "metadata": {},
   "outputs": [
    {
     "name": "stdout",
     "output_type": "stream",
     "text": [
      "\u001b[32m\u001b[1m Resolving\u001b[22m\u001b[39m package versions...\n"
     ]
    },
    {
     "ename": "Pkg.Types.ResolverError",
     "evalue": "Unsatisfiable requirements detected for package ASTInterpreter2 [e6d88f4b]:\n ASTInterpreter2 [e6d88f4b] log:\n ├─possible versions are: 0.1.0-0.1.1 or uninstalled\n ├─restricted by compatibility requirements with Atom [c52e3926] to versions: 0.1.0-0.1.1\n │ └─Atom [c52e3926] log:\n │   ├─possible versions are: [0.1.0-0.1.1, 0.2.0-0.2.1, 0.3.0, 0.4.0-0.4.6, 0.5.0-0.5.10, 0.6.0-0.6.17, 0.7.0-0.7.15, 0.8.0-0.8.8] or uninstalled\n │   └─restricted to versions 0.7.11 by an explicit requirement, leaving only versions 0.7.11\n └─restricted by julia compatibility requirements to versions: uninstalled — no versions left",
     "output_type": "error",
     "traceback": [
      "Unsatisfiable requirements detected for package ASTInterpreter2 [e6d88f4b]:\n ASTInterpreter2 [e6d88f4b] log:\n ├─possible versions are: 0.1.0-0.1.1 or uninstalled\n ├─restricted by compatibility requirements with Atom [c52e3926] to versions: 0.1.0-0.1.1\n │ └─Atom [c52e3926] log:\n │   ├─possible versions are: [0.1.0-0.1.1, 0.2.0-0.2.1, 0.3.0, 0.4.0-0.4.6, 0.5.0-0.5.10, 0.6.0-0.6.17, 0.7.0-0.7.15, 0.8.0-0.8.8] or uninstalled\n │   └─restricted to versions 0.7.11 by an explicit requirement, leaving only versions 0.7.11\n └─restricted by julia compatibility requirements to versions: uninstalled — no versions left",
      "",
      "Stacktrace:",
      " [1] #propagate_constraints!#61(::Bool, ::Function, ::Pkg.GraphType.Graph, ::Set{Int64}) at C:\\cygwin\\home\\Administrator\\buildbot\\worker\\package_win64\\build\\usr\\share\\julia\\stdlib\\v1.0\\Pkg\\src\\GraphType.jl:1005",
      " [2] propagate_constraints! at C:\\cygwin\\home\\Administrator\\buildbot\\worker\\package_win64\\build\\usr\\share\\julia\\stdlib\\v1.0\\Pkg\\src\\GraphType.jl:946 [inlined]",
      " [3] #simplify_graph!#121(::Bool, ::Function, ::Pkg.GraphType.Graph, ::Set{Int64}) at C:\\cygwin\\home\\Administrator\\buildbot\\worker\\package_win64\\build\\usr\\share\\julia\\stdlib\\v1.0\\Pkg\\src\\GraphType.jl:1460",
      " [4] simplify_graph! at C:\\cygwin\\home\\Administrator\\buildbot\\worker\\package_win64\\build\\usr\\share\\julia\\stdlib\\v1.0\\Pkg\\src\\GraphType.jl:1460 [inlined] (repeats 2 times)",
      " [5] macro expansion at .\\logging.jl:317 [inlined]",
      " [6] resolve_versions!(::Pkg.Types.Context, ::Array{Pkg.Types.PackageSpec,1}, ::Nothing) at C:\\cygwin\\home\\Administrator\\buildbot\\worker\\package_win64\\build\\usr\\share\\julia\\stdlib\\v1.0\\Pkg\\src\\Operations.jl:353",
      " [7] resolve_versions! at C:\\cygwin\\home\\Administrator\\buildbot\\worker\\package_win64\\build\\usr\\share\\julia\\stdlib\\v1.0\\Pkg\\src\\Operations.jl:316 [inlined]",
      " [8] #add_or_develop#62(::Array{Base.UUID,1}, ::Symbol, ::Function, ::Pkg.Types.Context, ::Array{Pkg.Types.PackageSpec,1}) at C:\\cygwin\\home\\Administrator\\buildbot\\worker\\package_win64\\build\\usr\\share\\julia\\stdlib\\v1.0\\Pkg\\src\\Operations.jl:1201",
      " [9] #add_or_develop at .\\none:0 [inlined]",
      " [10] #add_or_develop#13(::Symbol, ::Bool, ::Base.Iterators.Pairs{Union{},Union{},Tuple{},NamedTuple{(),Tuple{}}}, ::Function, ::Pkg.Types.Context, ::Array{Pkg.Types.PackageSpec,1}) at C:\\cygwin\\home\\Administrator\\buildbot\\worker\\package_win64\\build\\usr\\share\\julia\\stdlib\\v1.0\\Pkg\\src\\API.jl:64",
      " [11] #add_or_develop at .\\none:0 [inlined]",
      " [12] #add_or_develop#12 at C:\\cygwin\\home\\Administrator\\buildbot\\worker\\package_win64\\build\\usr\\share\\julia\\stdlib\\v1.0\\Pkg\\src\\API.jl:29 [inlined]",
      " [13] #add_or_develop at .\\none:0 [inlined]",
      " [14] #add_or_develop#11 at C:\\cygwin\\home\\Administrator\\buildbot\\worker\\package_win64\\build\\usr\\share\\julia\\stdlib\\v1.0\\Pkg\\src\\API.jl:28 [inlined]",
      " [15] #add_or_develop at .\\none:0 [inlined]",
      " [16] #add_or_develop#10 at C:\\cygwin\\home\\Administrator\\buildbot\\worker\\package_win64\\build\\usr\\share\\julia\\stdlib\\v1.0\\Pkg\\src\\API.jl:27 [inlined]",
      " [17] #add_or_develop at .\\none:0 [inlined]",
      " [18] #add#18 at C:\\cygwin\\home\\Administrator\\buildbot\\worker\\package_win64\\build\\usr\\share\\julia\\stdlib\\v1.0\\Pkg\\src\\API.jl:69 [inlined]",
      " [19] add(::String) at C:\\cygwin\\home\\Administrator\\buildbot\\worker\\package_win64\\build\\usr\\share\\julia\\stdlib\\v1.0\\Pkg\\src\\API.jl:69",
      " [20] top-level scope at In[18]:1"
     ]
    }
   ],
   "source": [
    "using Pkg\n",
    "Pkg.add(\"UnicodePlots\")"
   ]
  },
  {
   "cell_type": "code",
   "execution_count": 11,
   "metadata": {},
   "outputs": [],
   "source": [
    "x = [i for i in 1:20]\n",
    "y = x .^ 2 / 2\n",
    ";"
   ]
  },
  {
   "cell_type": "code",
   "execution_count": 12,
   "metadata": {},
   "outputs": [
    {
     "ename": "ArgumentError",
     "evalue": "ArgumentError: Package UnicodePlots not found in current path:\n- Run `import Pkg; Pkg.add(\"UnicodePlots\")` to install the UnicodePlots package.\n",
     "output_type": "error",
     "traceback": [
      "ArgumentError: Package UnicodePlots not found in current path:\n- Run `import Pkg; Pkg.add(\"UnicodePlots\")` to install the UnicodePlots package.\n",
      "",
      "Stacktrace:",
      " [1] require(::Module, ::Symbol) at .\\loading.jl:823",
      " [2] top-level scope at C:\\Users\\Z001C9V\\.julia\\packages\\Plots\\rmogG\\src\\backends.jl:320",
      " [3] eval at .\\boot.jl:319 [inlined]",
      " [4] _initialize_backend(::Plots.UnicodePlotsBackend) at C:\\Users\\Z001C9V\\.julia\\packages\\Plots\\rmogG\\src\\backends.jl:319",
      " [5] backend(::Plots.UnicodePlotsBackend) at C:\\Users\\Z001C9V\\.julia\\packages\\Plots\\rmogG\\src\\backends.jl:196",
      " [6] backend(::Symbol) at C:\\Users\\Z001C9V\\.julia\\packages\\Plots\\rmogG\\src\\backends.jl:209",
      " [7] unicodeplots() at C:\\Users\\Z001C9V\\.julia\\packages\\Plots\\rmogG\\src\\backends.jl:29",
      " [8] top-level scope at .\\In[12]:2"
     ]
    }
   ],
   "source": [
    "for backend in [gr, unicodeplots, pyplot]\n",
    "    backend()\n",
    "    f = plot(x, y)\n",
    "    xlabel!(\"x\")\n",
    "    ylabel!(\"x^2 / 2\")\n",
    "    title!(\"x^2 / 2 vs. x\")\n",
    "    display(f)\n",
    "end"
   ]
  },
  {
   "cell_type": "markdown",
   "metadata": {},
   "source": [
    "And notice how this second plot differs from the first!  Using text like this is a little silly in a Jupyter notebook where we have fancy drawing capabilities, but it can be very useful for quick and dirty visualization in a terminal."
   ]
  },
  {
   "cell_type": "markdown",
   "metadata": {},
   "source": [
    "### LaTeXStrings & annotations\n",
    "\n",
    "Add pretty math equations and annotations to plots!"
   ]
  },
  {
   "cell_type": "code",
   "execution_count": 15,
   "metadata": {},
   "outputs": [
    {
     "name": "stdout",
     "output_type": "stream",
     "text": [
      "\u001b[32m\u001b[1m Resolving\u001b[22m\u001b[39m package versions...\n"
     ]
    },
    {
     "ename": "Pkg.Types.ResolverError",
     "evalue": "Unsatisfiable requirements detected for package ASTInterpreter2 [e6d88f4b]:\n ASTInterpreter2 [e6d88f4b] log:\n ├─possible versions are: 0.1.0-0.1.1 or uninstalled\n ├─restricted by compatibility requirements with Atom [c52e3926] to versions: 0.1.0-0.1.1\n │ └─Atom [c52e3926] log:\n │   ├─possible versions are: [0.1.0-0.1.1, 0.2.0-0.2.1, 0.3.0, 0.4.0-0.4.6, 0.5.0-0.5.10, 0.6.0-0.6.17, 0.7.0-0.7.15, 0.8.0-0.8.8] or uninstalled\n │   └─restricted to versions 0.7.11 by an explicit requirement, leaving only versions 0.7.11\n └─restricted by julia compatibility requirements to versions: uninstalled — no versions left",
     "output_type": "error",
     "traceback": [
      "Unsatisfiable requirements detected for package ASTInterpreter2 [e6d88f4b]:\n ASTInterpreter2 [e6d88f4b] log:\n ├─possible versions are: 0.1.0-0.1.1 or uninstalled\n ├─restricted by compatibility requirements with Atom [c52e3926] to versions: 0.1.0-0.1.1\n │ └─Atom [c52e3926] log:\n │   ├─possible versions are: [0.1.0-0.1.1, 0.2.0-0.2.1, 0.3.0, 0.4.0-0.4.6, 0.5.0-0.5.10, 0.6.0-0.6.17, 0.7.0-0.7.15, 0.8.0-0.8.8] or uninstalled\n │   └─restricted to versions 0.7.11 by an explicit requirement, leaving only versions 0.7.11\n └─restricted by julia compatibility requirements to versions: uninstalled — no versions left",
      "",
      "Stacktrace:",
      " [1] #propagate_constraints!#61(::Bool, ::Function, ::Pkg.GraphType.Graph, ::Set{Int64}) at C:\\cygwin\\home\\Administrator\\buildbot\\worker\\package_win64\\build\\usr\\share\\julia\\stdlib\\v1.0\\Pkg\\src\\GraphType.jl:1005",
      " [2] propagate_constraints! at C:\\cygwin\\home\\Administrator\\buildbot\\worker\\package_win64\\build\\usr\\share\\julia\\stdlib\\v1.0\\Pkg\\src\\GraphType.jl:946 [inlined]",
      " [3] #simplify_graph!#121(::Bool, ::Function, ::Pkg.GraphType.Graph, ::Set{Int64}) at C:\\cygwin\\home\\Administrator\\buildbot\\worker\\package_win64\\build\\usr\\share\\julia\\stdlib\\v1.0\\Pkg\\src\\GraphType.jl:1460",
      " [4] simplify_graph! at C:\\cygwin\\home\\Administrator\\buildbot\\worker\\package_win64\\build\\usr\\share\\julia\\stdlib\\v1.0\\Pkg\\src\\GraphType.jl:1460 [inlined] (repeats 2 times)",
      " [5] macro expansion at .\\logging.jl:317 [inlined]",
      " [6] resolve_versions!(::Pkg.Types.Context, ::Array{Pkg.Types.PackageSpec,1}, ::Nothing) at C:\\cygwin\\home\\Administrator\\buildbot\\worker\\package_win64\\build\\usr\\share\\julia\\stdlib\\v1.0\\Pkg\\src\\Operations.jl:353",
      " [7] resolve_versions! at C:\\cygwin\\home\\Administrator\\buildbot\\worker\\package_win64\\build\\usr\\share\\julia\\stdlib\\v1.0\\Pkg\\src\\Operations.jl:316 [inlined]",
      " [8] #add_or_develop#62(::Array{Base.UUID,1}, ::Symbol, ::Function, ::Pkg.Types.Context, ::Array{Pkg.Types.PackageSpec,1}) at C:\\cygwin\\home\\Administrator\\buildbot\\worker\\package_win64\\build\\usr\\share\\julia\\stdlib\\v1.0\\Pkg\\src\\Operations.jl:1201",
      " [9] #add_or_develop at .\\none:0 [inlined]",
      " [10] #add_or_develop#13(::Symbol, ::Bool, ::Base.Iterators.Pairs{Union{},Union{},Tuple{},NamedTuple{(),Tuple{}}}, ::Function, ::Pkg.Types.Context, ::Array{Pkg.Types.PackageSpec,1}) at C:\\cygwin\\home\\Administrator\\buildbot\\worker\\package_win64\\build\\usr\\share\\julia\\stdlib\\v1.0\\Pkg\\src\\API.jl:64",
      " [11] #add_or_develop at .\\none:0 [inlined]",
      " [12] #add_or_develop#12 at C:\\cygwin\\home\\Administrator\\buildbot\\worker\\package_win64\\build\\usr\\share\\julia\\stdlib\\v1.0\\Pkg\\src\\API.jl:29 [inlined]",
      " [13] #add_or_develop at .\\none:0 [inlined]",
      " [14] #add_or_develop#11 at C:\\cygwin\\home\\Administrator\\buildbot\\worker\\package_win64\\build\\usr\\share\\julia\\stdlib\\v1.0\\Pkg\\src\\API.jl:28 [inlined]",
      " [15] #add_or_develop at .\\none:0 [inlined]",
      " [16] #add_or_develop#10 at C:\\cygwin\\home\\Administrator\\buildbot\\worker\\package_win64\\build\\usr\\share\\julia\\stdlib\\v1.0\\Pkg\\src\\API.jl:27 [inlined]",
      " [17] #add_or_develop at .\\none:0 [inlined]",
      " [18] #add#18 at C:\\cygwin\\home\\Administrator\\buildbot\\worker\\package_win64\\build\\usr\\share\\julia\\stdlib\\v1.0\\Pkg\\src\\API.jl:69 [inlined]",
      " [19] add(::String) at C:\\cygwin\\home\\Administrator\\buildbot\\worker\\package_win64\\build\\usr\\share\\julia\\stdlib\\v1.0\\Pkg\\src\\API.jl:69",
      " [20] top-level scope at In[15]:1"
     ]
    }
   ],
   "source": [
    "Pkg.add(LaTeXStrings)\n",
    "using LaTeXStrings"
   ]
  },
  {
   "cell_type": "code",
   "execution_count": 16,
   "metadata": {},
   "outputs": [
    {
     "ename": "LoadError",
     "evalue": "UndefVarError: @L_str not defined",
     "output_type": "error",
     "traceback": [
      "UndefVarError: @L_str not defined",
      ""
     ]
    }
   ],
   "source": [
    "f = plot(x, y)\n",
    "xlabel!(L\"x\")\n",
    "ylabel!(L\"\\frac{x^2}{2}\")\n",
    "title!(L\"\\frac{x^2}{2} \\ vs.\\ x\")"
   ]
  },
  {
   "cell_type": "code",
   "execution_count": 17,
   "metadata": {},
   "outputs": [
    {
     "ename": "LoadError",
     "evalue": "UndefVarError: @L_str not defined",
     "output_type": "error",
     "traceback": [
      "UndefVarError: @L_str not defined",
      ""
     ]
    }
   ],
   "source": [
    "annotate!(f, [(10, 50,text(L\"So\\ exponential!\",16,:center))])"
   ]
  },
  {
   "cell_type": "markdown",
   "metadata": {},
   "source": [
    "### Layouts\n",
    "\n",
    "Arrange subplots within a larger plot using either **grid** or **custom** layouts."
   ]
  },
  {
   "cell_type": "code",
   "execution_count": null,
   "metadata": {},
   "outputs": [],
   "source": [
    "x = -10:10"
   ]
  },
  {
   "cell_type": "code",
   "execution_count": null,
   "metadata": {},
   "outputs": [],
   "source": [
    "myplots = [plot(x, x.^i) for i in 1:4]\n",
    "plot(myplots..., layout = (2, 2), legend = false)\n",
    "# Same as:\n",
    "# plot(myplots[1], myplots[2], myplots[3], myplots[4], layout = (2, 2), legend = false)"
   ]
  },
  {
   "cell_type": "code",
   "execution_count": null,
   "metadata": {},
   "outputs": [],
   "source": [
    "# mylayout = @layout([a{0.5h};[b{0.7w} c]; d])\n",
    "mylayout = @layout([a;[b{0.5w} c{0.5w}]; d])\n",
    "plot(myplots..., layout = mylayout, legend = false)"
   ]
  },
  {
   "cell_type": "markdown",
   "metadata": {},
   "source": [
    "### Going beyond line and scatter plots"
   ]
  },
  {
   "cell_type": "code",
   "execution_count": null,
   "metadata": {},
   "outputs": [],
   "source": [
    "n = 10000\n",
    "x = randn(n)\n",
    "y = randn(n)\n",
    "histogram2d(x, y,nbins=100,colorbar=true)"
   ]
  },
  {
   "cell_type": "code",
   "execution_count": null,
   "metadata": {},
   "outputs": [],
   "source": [
    "n = 1000\n",
    "y = hcat(rand(n), randn(n)) # generate 2 random samples of size 1000 each\n",
    "boxplot([\"Uniform\" \"Normal\"], y, leg=false, color=:red)"
   ]
  },
  {
   "cell_type": "markdown",
   "metadata": {
    "collapsed": true
   },
   "source": [
    "### Exercises\n",
    "\n",
    "#### 8.1 \n",
    "Given\n",
    "```julia\n",
    "x = -10:10\n",
    "```\n",
    "plot y vs. x for $y = x^2$.  You may want to change backends back again."
   ]
  },
  {
   "cell_type": "code",
   "execution_count": null,
   "metadata": {},
   "outputs": [],
   "source": [
    "x = -10:10"
   ]
  },
  {
   "cell_type": "code",
   "execution_count": null,
   "metadata": {},
   "outputs": [],
   "source": []
  },
  {
   "cell_type": "markdown",
   "metadata": {},
   "source": [
    "#### 8.2 \n",
    "Execute the following code"
   ]
  },
  {
   "cell_type": "code",
   "execution_count": null,
   "metadata": {},
   "outputs": [],
   "source": [
    "x = -10:10\n",
    "p1 = plot(x, x)\n",
    "p2 = plot(x, x.^2)\n",
    "p3 = plot(x, x.^3)\n",
    "p4 = plot(x, x.^4)"
   ]
  },
  {
   "cell_type": "markdown",
   "metadata": {},
   "source": [
    "and then create a $4x1$ plot that uses `p1`, `p2`, `p3`, and `p4` as subplots."
   ]
  },
  {
   "cell_type": "code",
   "execution_count": null,
   "metadata": {},
   "outputs": [],
   "source": []
  }
 ],
 "metadata": {
  "@webio": {
   "lastCommId": null,
   "lastKernelId": null
  },
  "anaconda-cloud": {},
  "kernelspec": {
   "display_name": "Julia 1.0.2",
   "language": "julia",
   "name": "julia-1.0"
  },
  "language_info": {
   "file_extension": ".jl",
   "mimetype": "application/julia",
   "name": "julia",
   "version": "1.0.2"
  },
  "toc": {
   "nav_menu": {
    "height": "66px",
    "width": "252px"
   },
   "navigate_menu": true,
   "number_sections": true,
   "sideBar": true,
   "threshold": "2",
   "toc_cell": false,
   "toc_section_display": "block",
   "toc_window_display": false
  }
 },
 "nbformat": 4,
 "nbformat_minor": 2
}
