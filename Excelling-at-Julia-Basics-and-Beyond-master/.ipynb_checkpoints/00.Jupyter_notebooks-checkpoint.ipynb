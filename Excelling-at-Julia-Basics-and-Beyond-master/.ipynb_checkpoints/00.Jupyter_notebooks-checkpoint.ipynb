{
 "cells": [
  {
   "cell_type": "markdown",
   "metadata": {},
   "source": [
    "## Getting started with Jupyter notebooks\n",
    "\n",
    "### Running a cell\n",
    "To execute code within a cell, select that cell and either (1) hit `Shift` and `Enter` or (2) hit the run button (the right pointing arrow) above."
   ]
  },
  {
   "cell_type": "code",
   "execution_count": 1,
   "metadata": {},
   "outputs": [
    {
     "data": {
      "text/plain": [
       "4"
      ]
     },
     "execution_count": 1,
     "metadata": {},
     "output_type": "execute_result"
    }
   ],
   "source": [
    "1 + 1\n",
    "2 + 2"
   ]
  },
  {
   "cell_type": "markdown",
   "metadata": {},
   "source": [
    "If you're new to jupyter notebooks, note that only the last line of a cell prints by default when you execute that cell and that you can suppress this output with a semicolon"
   ]
  },
  {
   "cell_type": "code",
   "execution_count": 2,
   "metadata": {},
   "outputs": [],
   "source": [
    "1 + 1\n",
    "2 + 2;"
   ]
  },
  {
   "cell_type": "markdown",
   "metadata": {},
   "source": [
    "### How to get docs for Julia functions\n",
    "\n",
    "To get docs for a function you're not familiar with, precede it with a question mark. (This works at the REPL too!)"
   ]
  },
  {
   "cell_type": "code",
   "execution_count": null,
   "metadata": {},
   "outputs": [],
   "source": [
    "?println"
   ]
  },
  {
   "cell_type": "markdown",
   "metadata": {},
   "source": [
    "### How to use shell commands\n",
    "\n",
    "Type `;` and then you can use shell commands. For example,"
   ]
  },
  {
   "cell_type": "code",
   "execution_count": 3,
   "metadata": {},
   "outputs": [
    {
     "ename": "Base.IOError",
     "evalue": "IOError: could not spawn `ls`: no such file or directory (ENOENT)",
     "output_type": "error",
     "traceback": [
      "IOError: could not spawn `ls`: no such file or directory (ENOENT)",
      "",
      "Stacktrace:",
      " [1] _jl_spawn(::String, ::Array{String,1}, ::Cmd, ::Tuple{RawFD,RawFD,RawFD}) at .\\process.jl:367",
      " [2] (::getfield(Base, Symbol(\"##494#495\")){Cmd})(::Tuple{RawFD,RawFD,RawFD}) at .\\process.jl:509",
      " [3] setup_stdio(::getfield(Base, Symbol(\"##494#495\")){Cmd}, ::Tuple{RawFD,RawFD,RawFD}) at .\\process.jl:490",
      " [4] #_spawn#493(::Nothing, ::Function, ::Cmd, ::Tuple{RawFD,RawFD,RawFD}) at .\\process.jl:508",
      " [5] _spawn at .\\process.jl:504 [inlined]",
      " [6] #run#504(::Bool, ::Function, ::Cmd) at .\\process.jl:662",
      " [7] run at .\\process.jl:661 [inlined]",
      " [8] repl_cmd(::Cmd, ::IJulia.IJuliaStdio{Base.PipeEndpoint}) at .\\client.jl:77",
      " [9] top-level scope at In[3]:1"
     ]
    }
   ],
   "source": [
    ";ls"
   ]
  },
  {
   "cell_type": "code",
   "execution_count": null,
   "metadata": {},
   "outputs": [],
   "source": [
    ";ls"
   ]
  },
  {
   "cell_type": "code",
   "execution_count": 5,
   "metadata": {},
   "outputs": [
    {
     "ename": "Base.IOError",
     "evalue": "IOError: could not spawn `pwd`: no such file or directory (ENOENT)",
     "output_type": "error",
     "traceback": [
      "IOError: could not spawn `pwd`: no such file or directory (ENOENT)",
      "",
      "Stacktrace:",
      " [1] _jl_spawn(::String, ::Array{String,1}, ::Cmd, ::Tuple{RawFD,RawFD,RawFD}) at .\\process.jl:367",
      " [2] (::getfield(Base, Symbol(\"##494#495\")){Cmd})(::Tuple{RawFD,RawFD,RawFD}) at .\\process.jl:509",
      " [3] setup_stdio(::getfield(Base, Symbol(\"##494#495\")){Cmd}, ::Tuple{RawFD,RawFD,RawFD}) at .\\process.jl:490",
      " [4] #_spawn#493(::Nothing, ::Function, ::Cmd, ::Tuple{RawFD,RawFD,RawFD}) at .\\process.jl:508",
      " [5] _spawn at .\\process.jl:504 [inlined]",
      " [6] #run#504(::Bool, ::Function, ::Cmd) at .\\process.jl:662",
      " [7] run at .\\process.jl:661 [inlined]",
      " [8] repl_cmd(::Cmd, ::IJulia.IJuliaStdio{Base.PipeEndpoint}) at .\\client.jl:77",
      " [9] top-level scope at In[5]:1"
     ]
    }
   ],
   "source": [
    ";pwd"
   ]
  },
  {
   "cell_type": "markdown",
   "metadata": {
    "collapsed": true
   },
   "source": [
    "Shell commands also work at the REPL!"
   ]
  },
  {
   "cell_type": "code",
   "execution_count": 6,
   "metadata": {},
   "outputs": [
    {
     "ename": "ArgumentError",
     "evalue": "ArgumentError: no cmd to execute",
     "output_type": "error",
     "traceback": [
      "ArgumentError: no cmd to execute",
      "",
      "Stacktrace:",
      " [1] repl_cmd(::Cmd, ::IJulia.IJuliaStdio{Base.PipeEndpoint}) at .\\client.jl:41",
      " [2] top-level scope at In[6]:1"
     ]
    }
   ],
   "source": [
    ";"
   ]
  }
 ],
 "metadata": {
  "kernelspec": {
   "display_name": "Julia 1.0.2",
   "language": "julia",
   "name": "julia-1.0"
  },
  "language_info": {
   "file_extension": ".jl",
   "mimetype": "application/julia",
   "name": "julia",
   "version": "1.0.2"
  }
 },
 "nbformat": 4,
 "nbformat_minor": 2
}
