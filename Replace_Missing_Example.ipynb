{
 "cells": [
  {
   "cell_type": "code",
   "execution_count": 10,
   "metadata": {},
   "outputs": [
    {
     "name": "stderr",
     "output_type": "stream",
     "text": [
      "┌ Info: Precompiling DataFrames [a93c6f00-e57d-5684-b7b6-d8193f3e46c0]\n",
      "└ @ Base loading.jl:1186\n"
     ]
    }
   ],
   "source": [
    "using DataFrames"
   ]
  },
  {
   "cell_type": "code",
   "execution_count": 1,
   "metadata": {},
   "outputs": [
    {
     "data": {
      "text/plain": [
       "20-element Array{Union{Missing, String},1}:\n",
       " \"b\" \n",
       " \"b\" \n",
       " \"a\" \n",
       " \"b\" \n",
       " \"a\" \n",
       " \"NA\"\n",
       " \"b\" \n",
       " \"a\" \n",
       " \"b\" \n",
       " \"a\" \n",
       " \"a\" \n",
       " \"NA\"\n",
       " \"NA\"\n",
       " \"NA\"\n",
       " \"b\" \n",
       " \"b\" \n",
       " \"NA\"\n",
       " \"NA\"\n",
       " \"NA\"\n",
       " \"NA\""
      ]
     },
     "execution_count": 1,
     "metadata": {},
     "output_type": "execute_result"
    }
   ],
   "source": [
    "a = rand([\"a\",\"b\",\"NA\"], 20)\n",
    "a2 = Array{Union{Missing, String}}(a)"
   ]
  },
  {
   "cell_type": "code",
   "execution_count": 2,
   "metadata": {},
   "outputs": [],
   "source": [
    "for i in eachindex(a2)\n",
    "    #i == \"NA\" && (as[1] = missing)\n",
    "    if a2[i] == \"NA\"\n",
    "        a2[i] = missing\n",
    "    end\n",
    "end"
   ]
  },
  {
   "cell_type": "code",
   "execution_count": 3,
   "metadata": {},
   "outputs": [
    {
     "data": {
      "text/plain": [
       "20-element Array{Union{Missing, String},1}:\n",
       " \"b\"    \n",
       " \"b\"    \n",
       " \"a\"    \n",
       " \"b\"    \n",
       " \"a\"    \n",
       " missing\n",
       " \"b\"    \n",
       " \"a\"    \n",
       " \"b\"    \n",
       " \"a\"    \n",
       " \"a\"    \n",
       " missing\n",
       " missing\n",
       " missing\n",
       " \"b\"    \n",
       " \"b\"    \n",
       " missing\n",
       " missing\n",
       " missing\n",
       " missing"
      ]
     },
     "execution_count": 3,
     "metadata": {},
     "output_type": "execute_result"
    }
   ],
   "source": [
    "a2"
   ]
  },
  {
   "cell_type": "code",
   "execution_count": 6,
   "metadata": {},
   "outputs": [
    {
     "data": {
      "text/plain": [
       "20-element Array{Union{Missing, String},1}:\n",
       " \"b\"    \n",
       " \"b\"    \n",
       " \"a\"    \n",
       " \"b\"    \n",
       " \"a\"    \n",
       " missing\n",
       " \"b\"    \n",
       " \"a\"    \n",
       " \"b\"    \n",
       " \"a\"    \n",
       " \"a\"    \n",
       " missing\n",
       " missing\n",
       " missing\n",
       " \"b\"    \n",
       " \"b\"    \n",
       " missing\n",
       " missing\n",
       " missing\n",
       " missing"
      ]
     },
     "execution_count": 6,
     "metadata": {},
     "output_type": "execute_result"
    }
   ],
   "source": [
    "a3 = [x == \"NA\" ? missing : x for x in a] # ternary operatore syntax"
   ]
  },
  {
   "cell_type": "code",
   "execution_count": 5,
   "metadata": {},
   "outputs": [
    {
     "data": {
      "text/plain": [
       "convertna (generic function with 1 method)"
      ]
     },
     "execution_count": 5,
     "metadata": {},
     "output_type": "execute_result"
    }
   ],
   "source": [
    "#a4 = map(x -> if x == \"NA\"; missing; else x; end, a)\n",
    "function convertna(x) \n",
    "    if x == \"NA\"\n",
    "        return missing\n",
    "    end \n",
    "    return x\n",
    "end"
   ]
  },
  {
   "cell_type": "code",
   "execution_count": 7,
   "metadata": {},
   "outputs": [
    {
     "data": {
      "text/plain": [
       "20-element Array{Union{Missing, String},1}:\n",
       " \"b\"    \n",
       " \"b\"    \n",
       " \"a\"    \n",
       " \"b\"    \n",
       " \"a\"    \n",
       " missing\n",
       " \"b\"    \n",
       " \"a\"    \n",
       " \"b\"    \n",
       " \"a\"    \n",
       " \"a\"    \n",
       " missing\n",
       " missing\n",
       " missing\n",
       " \"b\"    \n",
       " \"b\"    \n",
       " missing\n",
       " missing\n",
       " missing\n",
       " missing"
      ]
     },
     "execution_count": 7,
     "metadata": {},
     "output_type": "execute_result"
    }
   ],
   "source": [
    "# broadcast\n",
    "a5 = convertna.(a)"
   ]
  },
  {
   "cell_type": "code",
   "execution_count": 8,
   "metadata": {},
   "outputs": [
    {
     "data": {
      "text/plain": [
       "20-element Array{String,1}:\n",
       " \"b\" \n",
       " \"b\" \n",
       " \"a\" \n",
       " \"b\" \n",
       " \"a\" \n",
       " \"NA\"\n",
       " \"b\" \n",
       " \"a\" \n",
       " \"b\" \n",
       " \"a\" \n",
       " \"a\" \n",
       " \"NA\"\n",
       " \"NA\"\n",
       " \"NA\"\n",
       " \"b\" \n",
       " \"b\" \n",
       " \"NA\"\n",
       " \"NA\"\n",
       " \"NA\"\n",
       " \"NA\""
      ]
     },
     "execution_count": 8,
     "metadata": {},
     "output_type": "execute_result"
    }
   ],
   "source": [
    "a5 = convertna(a)"
   ]
  },
  {
   "cell_type": "code",
   "execution_count": 11,
   "metadata": {},
   "outputs": [
    {
     "data": {
      "text/html": [
       "<table class=\"data-frame\"><thead><tr><th></th><th>x1</th><th>x2</th><th>x3</th><th>x4</th></tr><tr><th></th><th>Any</th><th>Any</th><th>Any</th><th>Any</th></tr></thead><tbody><p>20 rows × 4 columns</p><tr><th>1</th><td>NA</td><td>a</td><td>a</td><td>NaN</td></tr><tr><th>2</th><td>a</td><td>a</td><td>NA</td><td>NA</td></tr><tr><th>3</th><td>a</td><td>NaN</td><td>NaN</td><td>a</td></tr><tr><th>4</th><td>NaN</td><td>NaN</td><td>NaN</td><td>NA</td></tr><tr><th>5</th><td>a</td><td>b</td><td>NA</td><td>NA</td></tr><tr><th>6</th><td>b</td><td>a</td><td>NA</td><td>NaN</td></tr><tr><th>7</th><td>a</td><td>b</td><td>a</td><td>a</td></tr><tr><th>8</th><td>a</td><td>NaN</td><td>b</td><td>NA</td></tr><tr><th>9</th><td>NA</td><td>a</td><td>a</td><td>NaN</td></tr><tr><th>10</th><td>a</td><td>NaN</td><td>NA</td><td>NA</td></tr><tr><th>11</th><td>NaN</td><td>b</td><td>NaN</td><td>NA</td></tr><tr><th>12</th><td>b</td><td>NaN</td><td>NaN</td><td>a</td></tr><tr><th>13</th><td>NA</td><td>NA</td><td>NA</td><td>b</td></tr><tr><th>14</th><td>a</td><td>b</td><td>NA</td><td>a</td></tr><tr><th>15</th><td>b</td><td>b</td><td>a</td><td>b</td></tr><tr><th>16</th><td>NaN</td><td>NA</td><td>NaN</td><td>a</td></tr><tr><th>17</th><td>NaN</td><td>NA</td><td>NaN</td><td>NA</td></tr><tr><th>18</th><td>NaN</td><td>b</td><td>NaN</td><td>a</td></tr><tr><th>19</th><td>NaN</td><td>NA</td><td>NA</td><td>a</td></tr><tr><th>20</th><td>b</td><td>b</td><td>NA</td><td>b</td></tr></tbody></table>"
      ],
      "text/latex": [
       "\\begin{tabular}{r|cccc}\n",
       "\t& x1 & x2 & x3 & x4\\\\\n",
       "\t\\hline\n",
       "\t& Any & Any & Any & Any\\\\\n",
       "\t\\hline\n",
       "\t1 & NA & a & a & NaN \\\\\n",
       "\t2 & a & a & NA & NA \\\\\n",
       "\t3 & a & NaN & NaN & a \\\\\n",
       "\t4 & NaN & NaN & NaN & NA \\\\\n",
       "\t5 & a & b & NA & NA \\\\\n",
       "\t6 & b & a & NA & NaN \\\\\n",
       "\t7 & a & b & a & a \\\\\n",
       "\t8 & a & NaN & b & NA \\\\\n",
       "\t9 & NA & a & a & NaN \\\\\n",
       "\t10 & a & NaN & NA & NA \\\\\n",
       "\t11 & NaN & b & NaN & NA \\\\\n",
       "\t12 & b & NaN & NaN & a \\\\\n",
       "\t13 & NA & NA & NA & b \\\\\n",
       "\t14 & a & b & NA & a \\\\\n",
       "\t15 & b & b & a & b \\\\\n",
       "\t16 & NaN & NA & NaN & a \\\\\n",
       "\t17 & NaN & NA & NaN & NA \\\\\n",
       "\t18 & NaN & b & NaN & a \\\\\n",
       "\t19 & NaN & NA & NA & a \\\\\n",
       "\t20 & b & b & NA & b \\\\\n",
       "\\end{tabular}\n"
      ],
      "text/plain": [
       "20×4 DataFrame\n",
       "│ Row │ x1  │ x2  │ x3  │ x4  │\n",
       "│     │ \u001b[90mAny\u001b[39m │ \u001b[90mAny\u001b[39m │ \u001b[90mAny\u001b[39m │ \u001b[90mAny\u001b[39m │\n",
       "├─────┼─────┼─────┼─────┼─────┤\n",
       "│ 1   │ NA  │ a   │ a   │ NaN │\n",
       "│ 2   │ a   │ a   │ NA  │ NA  │\n",
       "│ 3   │ a   │ NaN │ NaN │ a   │\n",
       "│ 4   │ NaN │ NaN │ NaN │ NA  │\n",
       "│ 5   │ a   │ b   │ NA  │ NA  │\n",
       "│ 6   │ b   │ a   │ NA  │ NaN │\n",
       "│ 7   │ a   │ b   │ a   │ a   │\n",
       "│ 8   │ a   │ NaN │ b   │ NA  │\n",
       "│ 9   │ NA  │ a   │ a   │ NaN │\n",
       "│ 10  │ a   │ NaN │ NA  │ NA  │\n",
       "│ 11  │ NaN │ b   │ NaN │ NA  │\n",
       "│ 12  │ b   │ NaN │ NaN │ a   │\n",
       "│ 13  │ NA  │ NA  │ NA  │ b   │\n",
       "│ 14  │ a   │ b   │ NA  │ a   │\n",
       "│ 15  │ b   │ b   │ a   │ b   │\n",
       "│ 16  │ NaN │ NA  │ NaN │ a   │\n",
       "│ 17  │ NaN │ NA  │ NaN │ NA  │\n",
       "│ 18  │ NaN │ b   │ NaN │ a   │\n",
       "│ 19  │ NaN │ NA  │ NA  │ a   │\n",
       "│ 20  │ b   │ b   │ NA  │ b   │"
      ]
     },
     "execution_count": 11,
     "metadata": {},
     "output_type": "execute_result"
    }
   ],
   "source": [
    "a6 = DataFrame(rand([\"a\",\"b\",NaN,\"NA\"], 20, 4))"
   ]
  },
  {
   "cell_type": "code",
   "execution_count": 12,
   "metadata": {},
   "outputs": [
    {
     "data": {
      "text/html": [
       "<table class=\"data-frame\"><thead><tr><th></th><th>x1</th><th>x2</th><th>x3</th><th>x4</th></tr><tr><th></th><th>Any</th><th>Any</th><th>Any</th><th>Any</th></tr></thead><tbody><p>20 rows × 4 columns</p><tr><th>1</th><td>missing</td><td>a</td><td>a</td><td>NaN</td></tr><tr><th>2</th><td>a</td><td>a</td><td>missing</td><td>missing</td></tr><tr><th>3</th><td>a</td><td>NaN</td><td>NaN</td><td>a</td></tr><tr><th>4</th><td>NaN</td><td>NaN</td><td>NaN</td><td>missing</td></tr><tr><th>5</th><td>a</td><td>b</td><td>missing</td><td>missing</td></tr><tr><th>6</th><td>b</td><td>a</td><td>missing</td><td>NaN</td></tr><tr><th>7</th><td>a</td><td>b</td><td>a</td><td>a</td></tr><tr><th>8</th><td>a</td><td>NaN</td><td>b</td><td>missing</td></tr><tr><th>9</th><td>missing</td><td>a</td><td>a</td><td>NaN</td></tr><tr><th>10</th><td>a</td><td>NaN</td><td>missing</td><td>missing</td></tr><tr><th>11</th><td>NaN</td><td>b</td><td>NaN</td><td>missing</td></tr><tr><th>12</th><td>b</td><td>NaN</td><td>NaN</td><td>a</td></tr><tr><th>13</th><td>missing</td><td>missing</td><td>missing</td><td>b</td></tr><tr><th>14</th><td>a</td><td>b</td><td>missing</td><td>a</td></tr><tr><th>15</th><td>b</td><td>b</td><td>a</td><td>b</td></tr><tr><th>16</th><td>NaN</td><td>missing</td><td>NaN</td><td>a</td></tr><tr><th>17</th><td>NaN</td><td>missing</td><td>NaN</td><td>missing</td></tr><tr><th>18</th><td>NaN</td><td>b</td><td>NaN</td><td>a</td></tr><tr><th>19</th><td>NaN</td><td>missing</td><td>missing</td><td>a</td></tr><tr><th>20</th><td>b</td><td>b</td><td>missing</td><td>b</td></tr></tbody></table>"
      ],
      "text/latex": [
       "\\begin{tabular}{r|cccc}\n",
       "\t& x1 & x2 & x3 & x4\\\\\n",
       "\t\\hline\n",
       "\t& Any & Any & Any & Any\\\\\n",
       "\t\\hline\n",
       "\t1 &  & a & a & NaN \\\\\n",
       "\t2 & a & a &  &  \\\\\n",
       "\t3 & a & NaN & NaN & a \\\\\n",
       "\t4 & NaN & NaN & NaN &  \\\\\n",
       "\t5 & a & b &  &  \\\\\n",
       "\t6 & b & a &  & NaN \\\\\n",
       "\t7 & a & b & a & a \\\\\n",
       "\t8 & a & NaN & b &  \\\\\n",
       "\t9 &  & a & a & NaN \\\\\n",
       "\t10 & a & NaN &  &  \\\\\n",
       "\t11 & NaN & b & NaN &  \\\\\n",
       "\t12 & b & NaN & NaN & a \\\\\n",
       "\t13 &  &  &  & b \\\\\n",
       "\t14 & a & b &  & a \\\\\n",
       "\t15 & b & b & a & b \\\\\n",
       "\t16 & NaN &  & NaN & a \\\\\n",
       "\t17 & NaN &  & NaN &  \\\\\n",
       "\t18 & NaN & b & NaN & a \\\\\n",
       "\t19 & NaN &  &  & a \\\\\n",
       "\t20 & b & b &  & b \\\\\n",
       "\\end{tabular}\n"
      ],
      "text/plain": [
       "20×4 DataFrame\n",
       "│ Row │ x1      │ x2      │ x3      │ x4      │\n",
       "│     │ \u001b[90mAny\u001b[39m     │ \u001b[90mAny\u001b[39m     │ \u001b[90mAny\u001b[39m     │ \u001b[90mAny\u001b[39m     │\n",
       "├─────┼─────────┼─────────┼─────────┼─────────┤\n",
       "│ 1   │ \u001b[90mmissing\u001b[39m │ a       │ a       │ NaN     │\n",
       "│ 2   │ a       │ a       │ \u001b[90mmissing\u001b[39m │ \u001b[90mmissing\u001b[39m │\n",
       "│ 3   │ a       │ NaN     │ NaN     │ a       │\n",
       "│ 4   │ NaN     │ NaN     │ NaN     │ \u001b[90mmissing\u001b[39m │\n",
       "│ 5   │ a       │ b       │ \u001b[90mmissing\u001b[39m │ \u001b[90mmissing\u001b[39m │\n",
       "│ 6   │ b       │ a       │ \u001b[90mmissing\u001b[39m │ NaN     │\n",
       "│ 7   │ a       │ b       │ a       │ a       │\n",
       "│ 8   │ a       │ NaN     │ b       │ \u001b[90mmissing\u001b[39m │\n",
       "│ 9   │ \u001b[90mmissing\u001b[39m │ a       │ a       │ NaN     │\n",
       "│ 10  │ a       │ NaN     │ \u001b[90mmissing\u001b[39m │ \u001b[90mmissing\u001b[39m │\n",
       "│ 11  │ NaN     │ b       │ NaN     │ \u001b[90mmissing\u001b[39m │\n",
       "│ 12  │ b       │ NaN     │ NaN     │ a       │\n",
       "│ 13  │ \u001b[90mmissing\u001b[39m │ \u001b[90mmissing\u001b[39m │ \u001b[90mmissing\u001b[39m │ b       │\n",
       "│ 14  │ a       │ b       │ \u001b[90mmissing\u001b[39m │ a       │\n",
       "│ 15  │ b       │ b       │ a       │ b       │\n",
       "│ 16  │ NaN     │ \u001b[90mmissing\u001b[39m │ NaN     │ a       │\n",
       "│ 17  │ NaN     │ \u001b[90mmissing\u001b[39m │ NaN     │ \u001b[90mmissing\u001b[39m │\n",
       "│ 18  │ NaN     │ b       │ NaN     │ a       │\n",
       "│ 19  │ NaN     │ \u001b[90mmissing\u001b[39m │ \u001b[90mmissing\u001b[39m │ a       │\n",
       "│ 20  │ b       │ b       │ \u001b[90mmissing\u001b[39m │ b       │"
      ]
     },
     "execution_count": 12,
     "metadata": {},
     "output_type": "execute_result"
    }
   ],
   "source": [
    "convertna.(a6)"
   ]
  },
  {
   "cell_type": "code",
   "execution_count": 13,
   "metadata": {},
   "outputs": [
    {
     "data": {
      "text/html": [
       "<table class=\"data-frame\"><thead><tr><th></th><th>variable</th><th>mean</th><th>min</th><th>median</th><th>max</th><th>nunique</th><th>nmissing</th><th>eltype</th></tr><tr><th></th><th>Symbol</th><th>Nothing</th><th>Nothing</th><th>Nothing</th><th>Nothing</th><th>Int64</th><th>Int64</th><th>DataType</th></tr></thead><tbody><p>4 rows × 8 columns</p><tr><th>1</th><td>x1</td><td></td><td></td><td></td><td></td><td>3</td><td>3</td><td>Any</td></tr><tr><th>2</th><td>x2</td><td></td><td></td><td></td><td></td><td>3</td><td>4</td><td>Any</td></tr><tr><th>3</th><td>x3</td><td></td><td></td><td></td><td></td><td>3</td><td>8</td><td>Any</td></tr><tr><th>4</th><td>x4</td><td></td><td></td><td></td><td></td><td>3</td><td>7</td><td>Any</td></tr></tbody></table>"
      ],
      "text/latex": [
       "\\begin{tabular}{r|cccccccc}\n",
       "\t& variable & mean & min & median & max & nunique & nmissing & eltype\\\\\n",
       "\t\\hline\n",
       "\t& Symbol & Nothing & Nothing & Nothing & Nothing & Int64 & Int64 & DataType\\\\\n",
       "\t\\hline\n",
       "\t1 & x1 &  &  &  &  & 3 & 3 & Any \\\\\n",
       "\t2 & x2 &  &  &  &  & 3 & 4 & Any \\\\\n",
       "\t3 & x3 &  &  &  &  & 3 & 8 & Any \\\\\n",
       "\t4 & x4 &  &  &  &  & 3 & 7 & Any \\\\\n",
       "\\end{tabular}\n"
      ],
      "text/plain": [
       "4×8 DataFrame. Omitted printing of 1 columns\n",
       "│ Row │ variable │ mean    │ min     │ median  │ max     │ nunique │ nmissing │\n",
       "│     │ \u001b[90mSymbol\u001b[39m   │ \u001b[90mNothing\u001b[39m │ \u001b[90mNothing\u001b[39m │ \u001b[90mNothing\u001b[39m │ \u001b[90mNothing\u001b[39m │ \u001b[90mInt64\u001b[39m   │ \u001b[90mInt64\u001b[39m    │\n",
       "├─────┼──────────┼─────────┼─────────┼─────────┼─────────┼─────────┼──────────┤\n",
       "│ 1   │ x1       │         │         │         │         │ 3       │ 3        │\n",
       "│ 2   │ x2       │         │         │         │         │ 3       │ 4        │\n",
       "│ 3   │ x3       │         │         │         │         │ 3       │ 8        │\n",
       "│ 4   │ x4       │         │         │         │         │ 3       │ 7        │"
      ]
     },
     "execution_count": 13,
     "metadata": {},
     "output_type": "execute_result"
    }
   ],
   "source": [
    "describe(convertna.(a6))"
   ]
  },
  {
   "cell_type": "code",
   "execution_count": 14,
   "metadata": {},
   "outputs": [
    {
     "ename": "UndefVarError",
     "evalue": "UndefVarError: housing_df not defined",
     "output_type": "error",
     "traceback": [
      "UndefVarError: housing_df not defined",
      "",
      "Stacktrace:",
      " [1] top-level scope at In[14]:1"
     ]
    }
   ],
   "source": [
    "describe(housing_df)"
   ]
  },
  {
   "cell_type": "code",
   "execution_count": null,
   "metadata": {},
   "outputs": [],
   "source": []
  }
 ],
 "metadata": {
  "kernelspec": {
   "display_name": "Julia 1.1.1",
   "language": "julia",
   "name": "julia-1.1"
  },
  "language_info": {
   "file_extension": ".jl",
   "mimetype": "application/julia",
   "name": "julia",
   "version": "1.1.1"
  }
 },
 "nbformat": 4,
 "nbformat_minor": 2
}
