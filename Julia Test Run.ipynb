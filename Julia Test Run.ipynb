{
 "cells": [
  {
   "cell_type": "code",
   "execution_count": 1,
   "metadata": {},
   "outputs": [
    {
     "data": {
      "text/plain": [
       "4"
      ]
     },
     "execution_count": 1,
     "metadata": {},
     "output_type": "execute_result"
    }
   ],
   "source": [
    "2 + 2"
   ]
  },
  {
   "cell_type": "code",
   "execution_count": 4,
   "metadata": {},
   "outputs": [
    {
     "data": {
      "text/plain": [
       "Base.EnvDict with 43 entries:\n",
       "  \"XDG_SESSION_ID\"            => \"109306\"\n",
       "  \"SPARK_HOME\"                => \"/usr/share/spark-tgt-2.3.1.tgt.17\"\n",
       "  \"SHELL\"                     => \"/bin/bash\"\n",
       "  \"TERM\"                      => \"xterm\"\n",
       "  \"SPARKR_DRIVER_R\"           => \"/usr/local/R-tgt-201701/bin/R\"\n",
       "  \"SSH_CLIENT\"                => \"10.66.245.47 50708 22\"\n",
       "  \"SPARK_SUBMIT_LIBRARY_PATH\" => \"/usr/hdp/2.5.3.0-37/hadoop/lib/native\"\n",
       "  \"JULIA_BIN\"                 => \"/home_dir/z001c9v/.anaconda/bin/julia\"\n",
       "  \"SSH_TTY\"                   => \"/dev/pts/137\"\n",
       "  \"JUPYTER_HOME\"              => \"/home_dir/z001c9v/.anaconda/bin/jupyter\"\n",
       "  \"SPARK_CONF_DIR\"            => \"/etc/spark-tgt/2.3.1.tgt.17\"\n",
       "  \"USER\"                      => \"Z001C9V\"\n",
       "  \"LD_LIBRARY_PATH\"           => \"/usr/hdp/2.5.3.0-37/hadoop/lib/native:\"\n",
       "  \"PYSPARK_PYTHON\"            => \"/home_dir/z001c9v/.anaconda/bin/python\"\n",
       "  \"PYSPARK_DRIVER_PYTHON\"     => \"/home_dir/z001c9v/.anaconda/bin/jupyter\"\n",
       "  \"PATH\"                      => \"/home_dir/z001c9v/.anaconda/bin:/home_dir/z00…\n",
       "  \"MAIL\"                      => \"/var/mail/Z001C9V\"\n",
       "  \"PYTHONHASHSEED\"            => \"0\"\n",
       "  \"PWD\"                       => \"/home_dir/z001c9v\"\n",
       "  \"JAVA_HOME\"                 => \"/usr/java/jdk1.8.0_73\"\n",
       "  \"HADOOP_CONF_DIR\"           => \"/etc/hadoop/conf\"\n",
       "  \"PYTHONSTARTUP\"             => \"/usr/share/spark-tgt-2.3.1.tgt.17/python/pysp…\n",
       "  \"SPARK_ENV_LOADED\"          => \"1\"\n",
       "  \"KRB5CCNAME\"                => \"FILE:/tmp/krb5cc_59808964_XEzYqD\"\n",
       "  \"HOME\"                      => \"/home_dir/z001c9v\"\n",
       "  ⋮                           => ⋮"
      ]
     },
     "execution_count": 4,
     "metadata": {},
     "output_type": "execute_result"
    }
   ],
   "source": [
    "ENV"
   ]
  },
  {
   "cell_type": "code",
   "execution_count": null,
   "metadata": {},
   "outputs": [],
   "source": []
  }
 ],
 "metadata": {
  "kernelspec": {
   "display_name": "Julia 1.0.3",
   "language": "julia",
   "name": "julia-1.0"
  },
  "language_info": {
   "file_extension": ".jl",
   "mimetype": "application/julia",
   "name": "julia",
   "version": "1.0.3"
  }
 },
 "nbformat": 4,
 "nbformat_minor": 2
}
