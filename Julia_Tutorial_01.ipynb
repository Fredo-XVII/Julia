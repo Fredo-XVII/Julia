{
 "cells": [
  {
   "cell_type": "code",
   "execution_count": 14,
   "metadata": {},
   "outputs": [
    {
     "name": "stderr",
     "output_type": "stream",
     "text": [
      "┌ Info: Precompiling DataFramesMeta [1313f7d8-7da2-5740-9ea0-a2ca25f37964]\n",
      "└ @ Base loading.jl:1192\n"
     ]
    }
   ],
   "source": [
    "using DataFramesMeta"
   ]
  },
  {
   "cell_type": "code",
   "execution_count": 1,
   "metadata": {},
   "outputs": [
    {
     "name": "stderr",
     "output_type": "stream",
     "text": [
      "┌ Info: Precompiling JuliaDB [a93385a2-3734-596a-9a66-3cfbb77141e6]\n",
      "└ @ Base loading.jl:1192\n",
      "┌ Info: Recompiling stale cache file C:\\Users\\marqu\\.julia\\compiled\\v1.0\\DataFrames\\AR9oZ.ji for DataFrames [a93c6f00-e57d-5684-b7b6-d8193f3e46c0]\n",
      "└ @ Base loading.jl:1190\n"
     ]
    }
   ],
   "source": [
    "# Load Packages\n",
    "using Pkg, JuliaDB, DataFrames, DataFramesMeta"
   ]
  },
  {
   "cell_type": "code",
   "execution_count": 3,
   "metadata": {},
   "outputs": [
    {
     "data": {
      "text/plain": [
       "Table with 1460 rows, 81 columns:\n",
       "Columns:\n",
       "\u001b[1m#   \u001b[22m\u001b[1mcolname        \u001b[22m\u001b[1mtype\u001b[22m\n",
       "────────────────────────────────────────\n",
       "1   Id             Int64\n",
       "2   MSSubClass     Int64\n",
       "3   MSZoning       String\n",
       "4   LotFrontage    Union{Missing, Int64}\n",
       "5   LotArea        Int64\n",
       "6   Street         String\n",
       "7   Alley          String\n",
       "8   LotShape       String\n",
       "9   LandContour    String\n",
       "10  Utilities      String\n",
       "11  LotConfig      String\n",
       "12  LandSlope      String\n",
       "13  Neighborhood   String\n",
       "14  Condition1     String\n",
       "15  Condition2     String\n",
       "16  BldgType       String\n",
       "17  HouseStyle     String\n",
       "18  OverallQual    Int64\n",
       "19  OverallCond    Int64\n",
       "20  YearBuilt      Int64\n",
       "21  YearRemodAdd   Int64\n",
       "22  RoofStyle      String\n",
       "23  RoofMatl       String\n",
       "24  Exterior1st    String\n",
       "25  Exterior2nd    String\n",
       "26  MasVnrType     String\n",
       "27  MasVnrArea     Union{Missing, Int64}\n",
       "28  ExterQual      String\n",
       "29  ExterCond      String\n",
       "30  Foundation     String\n",
       "31  BsmtQual       String\n",
       "32  BsmtCond       String\n",
       "33  BsmtExposure   String\n",
       "34  BsmtFinType1   String\n",
       "35  BsmtFinSF1     Int64\n",
       "36  BsmtFinType2   String\n",
       "37  BsmtFinSF2     Int64\n",
       "38  BsmtUnfSF      Int64\n",
       "39  TotalBsmtSF    Int64\n",
       "40  Heating        String\n",
       "41  HeatingQC      String\n",
       "42  CentralAir     String\n",
       "43  Electrical     String\n",
       "44  1stFlrSF       Int64\n",
       "45  2ndFlrSF       Int64\n",
       "46  LowQualFinSF   Int64\n",
       "47  GrLivArea      Int64\n",
       "48  BsmtFullBath   Int64\n",
       "49  BsmtHalfBath   Int64\n",
       "50  FullBath       Int64\n",
       "51  HalfBath       Int64\n",
       "52  BedroomAbvGr   Int64\n",
       "53  KitchenAbvGr   Int64\n",
       "54  KitchenQual    String\n",
       "55  TotRmsAbvGrd   Int64\n",
       "56  Functional     String\n",
       "57  Fireplaces     Int64\n",
       "58  FireplaceQu    String\n",
       "59  GarageType     String\n",
       "60  GarageYrBlt    Union{Missing, Int64}\n",
       "61  GarageFinish   String\n",
       "62  GarageCars     Int64\n",
       "63  GarageArea     Int64\n",
       "64  GarageQual     String\n",
       "65  GarageCond     String\n",
       "66  PavedDrive     String\n",
       "67  WoodDeckSF     Int64\n",
       "68  OpenPorchSF    Int64\n",
       "69  EnclosedPorch  Int64\n",
       "70  3SsnPorch      Int64\n",
       "71  ScreenPorch    Int64\n",
       "72  PoolArea       Int64\n",
       "73  PoolQC         String\n",
       "74  Fence          String\n",
       "75  MiscFeature    String\n",
       "76  MiscVal        Int64\n",
       "77  MoSold         Int64\n",
       "78  YrSold         Int64\n",
       "79  SaleType       String\n",
       "80  SaleCondition  String\n",
       "81  SalePrice      Int64"
      ]
     },
     "execution_count": 3,
     "metadata": {},
     "output_type": "execute_result"
    }
   ],
   "source": [
    "# Load Data\n",
    "housing = loadtable(\"C:\\\\Users\\\\marqu\\\\OneDrive\\\\Documents\\\\Kaggle\\\\House Prices Advanced Regression Techniques\\\\Data\\\\train.csv\")"
   ]
  },
  {
   "cell_type": "code",
   "execution_count": 11,
   "metadata": {},
   "outputs": [
    {
     "data": {
      "text/html": [
       "<table class=\"data-frame\"><thead><tr><th></th><th>Id</th><th>MSSubClass</th><th>MSZoning</th><th>LotFrontage</th><th>LotArea</th><th>Street</th><th>Alley</th><th>LotShape</th><th>LandContour</th><th>Utilities</th><th>LotConfig</th><th>LandSlope</th><th>Neighborhood</th><th>Condition1</th><th>Condition2</th><th>BldgType</th><th>HouseStyle</th><th>OverallQual</th><th>OverallCond</th><th>YearBuilt</th><th>YearRemodAdd</th><th>RoofStyle</th><th>RoofMatl</th><th>Exterior1st</th><th>Exterior2nd</th><th>MasVnrType</th><th>MasVnrArea</th><th>ExterQual</th><th>ExterCond</th><th>Foundation</th><th>BsmtQual</th><th>BsmtCond</th><th>BsmtExposure</th><th>BsmtFinType1</th><th>BsmtFinSF1</th><th>BsmtFinType2</th><th>BsmtFinSF2</th><th>BsmtUnfSF</th><th>TotalBsmtSF</th><th>Heating</th><th>HeatingQC</th><th>CentralAir</th><th>Electrical</th><th>1stFlrSF</th><th>2ndFlrSF</th><th>LowQualFinSF</th><th>GrLivArea</th><th>BsmtFullBath</th><th>BsmtHalfBath</th><th>FullBath</th><th>HalfBath</th><th>BedroomAbvGr</th><th>KitchenAbvGr</th><th>KitchenQual</th><th>TotRmsAbvGrd</th><th>Functional</th><th>Fireplaces</th><th>FireplaceQu</th><th>GarageType</th><th>GarageYrBlt</th><th>GarageFinish</th><th>GarageCars</th><th>GarageArea</th><th>GarageQual</th><th>GarageCond</th><th>PavedDrive</th><th>WoodDeckSF</th><th>OpenPorchSF</th><th>EnclosedPorch</th><th>3SsnPorch</th><th>ScreenPorch</th><th>PoolArea</th><th>PoolQC</th><th>Fence</th><th>MiscFeature</th><th>MiscVal</th><th>MoSold</th><th>YrSold</th><th>SaleType</th><th>SaleCondition</th><th>SalePrice</th></tr><tr><th></th><th>Int64</th><th>Int64</th><th>String</th><th>Int64⍰</th><th>Int64</th><th>String</th><th>String</th><th>String</th><th>String</th><th>String</th><th>String</th><th>String</th><th>String</th><th>String</th><th>String</th><th>String</th><th>String</th><th>Int64</th><th>Int64</th><th>Int64</th><th>Int64</th><th>String</th><th>String</th><th>String</th><th>String</th><th>String</th><th>Int64⍰</th><th>String</th><th>String</th><th>String</th><th>String</th><th>String</th><th>String</th><th>String</th><th>Int64</th><th>String</th><th>Int64</th><th>Int64</th><th>Int64</th><th>String</th><th>String</th><th>String</th><th>String</th><th>Int64</th><th>Int64</th><th>Int64</th><th>Int64</th><th>Int64</th><th>Int64</th><th>Int64</th><th>Int64</th><th>Int64</th><th>Int64</th><th>String</th><th>Int64</th><th>String</th><th>Int64</th><th>String</th><th>String</th><th>Int64⍰</th><th>String</th><th>Int64</th><th>Int64</th><th>String</th><th>String</th><th>String</th><th>Int64</th><th>Int64</th><th>Int64</th><th>Int64</th><th>Int64</th><th>Int64</th><th>String</th><th>String</th><th>String</th><th>Int64</th><th>Int64</th><th>Int64</th><th>String</th><th>String</th><th>Int64</th></tr></thead><tbody><p>1,460 rows × 81 columns</p><tr><th>1</th><td>1</td><td>60</td><td>RL</td><td>65</td><td>8450</td><td>Pave</td><td></td><td>Reg</td><td>Lvl</td><td>AllPub</td><td>Inside</td><td>Gtl</td><td>CollgCr</td><td>Norm</td><td>Norm</td><td>1Fam</td><td>2Story</td><td>7</td><td>5</td><td>2003</td><td>2003</td><td>Gable</td><td>CompShg</td><td>VinylSd</td><td>VinylSd</td><td>BrkFace</td><td>196</td><td>Gd</td><td>TA</td><td>PConc</td><td>Gd</td><td>TA</td><td>No</td><td>GLQ</td><td>706</td><td>Unf</td><td>0</td><td>150</td><td>856</td><td>GasA</td><td>Ex</td><td>Y</td><td>SBrkr</td><td>856</td><td>854</td><td>0</td><td>1710</td><td>1</td><td>0</td><td>2</td><td>1</td><td>3</td><td>1</td><td>Gd</td><td>8</td><td>Typ</td><td>0</td><td>NA</td><td>Attchd</td><td>2003</td><td>RFn</td><td>2</td><td>548</td><td>TA</td><td>TA</td><td>Y</td><td>0</td><td>61</td><td>0</td><td>0</td><td>0</td><td>0</td><td></td><td>NA</td><td>NA</td><td>0</td><td>2</td><td>2008</td><td>WD</td><td>Normal</td><td>208500</td></tr><tr><th>2</th><td>2</td><td>20</td><td>RL</td><td>80</td><td>9600</td><td>Pave</td><td></td><td>Reg</td><td>Lvl</td><td>AllPub</td><td>FR2</td><td>Gtl</td><td>Veenker</td><td>Feedr</td><td>Norm</td><td>1Fam</td><td>1Story</td><td>6</td><td>8</td><td>1976</td><td>1976</td><td>Gable</td><td>CompShg</td><td>MetalSd</td><td>MetalSd</td><td>None</td><td>0</td><td>TA</td><td>TA</td><td>CBlock</td><td>Gd</td><td>TA</td><td>Gd</td><td>ALQ</td><td>978</td><td>Unf</td><td>0</td><td>284</td><td>1262</td><td>GasA</td><td>Ex</td><td>Y</td><td>SBrkr</td><td>1262</td><td>0</td><td>0</td><td>1262</td><td>0</td><td>1</td><td>2</td><td>0</td><td>3</td><td>1</td><td>TA</td><td>6</td><td>Typ</td><td>1</td><td>TA</td><td>Attchd</td><td>1976</td><td>RFn</td><td>2</td><td>460</td><td>TA</td><td>TA</td><td>Y</td><td>298</td><td>0</td><td>0</td><td>0</td><td>0</td><td>0</td><td></td><td>NA</td><td>NA</td><td>0</td><td>5</td><td>2007</td><td>WD</td><td>Normal</td><td>181500</td></tr><tr><th>3</th><td>3</td><td>60</td><td>RL</td><td>68</td><td>11250</td><td>Pave</td><td></td><td>IR1</td><td>Lvl</td><td>AllPub</td><td>Inside</td><td>Gtl</td><td>CollgCr</td><td>Norm</td><td>Norm</td><td>1Fam</td><td>2Story</td><td>7</td><td>5</td><td>2001</td><td>2002</td><td>Gable</td><td>CompShg</td><td>VinylSd</td><td>VinylSd</td><td>BrkFace</td><td>162</td><td>Gd</td><td>TA</td><td>PConc</td><td>Gd</td><td>TA</td><td>Mn</td><td>GLQ</td><td>486</td><td>Unf</td><td>0</td><td>434</td><td>920</td><td>GasA</td><td>Ex</td><td>Y</td><td>SBrkr</td><td>920</td><td>866</td><td>0</td><td>1786</td><td>1</td><td>0</td><td>2</td><td>1</td><td>3</td><td>1</td><td>Gd</td><td>6</td><td>Typ</td><td>1</td><td>TA</td><td>Attchd</td><td>2001</td><td>RFn</td><td>2</td><td>608</td><td>TA</td><td>TA</td><td>Y</td><td>0</td><td>42</td><td>0</td><td>0</td><td>0</td><td>0</td><td></td><td>NA</td><td>NA</td><td>0</td><td>9</td><td>2008</td><td>WD</td><td>Normal</td><td>223500</td></tr><tr><th>4</th><td>4</td><td>70</td><td>RL</td><td>60</td><td>9550</td><td>Pave</td><td></td><td>IR1</td><td>Lvl</td><td>AllPub</td><td>Corner</td><td>Gtl</td><td>Crawfor</td><td>Norm</td><td>Norm</td><td>1Fam</td><td>2Story</td><td>7</td><td>5</td><td>1915</td><td>1970</td><td>Gable</td><td>CompShg</td><td>Wd Sdng</td><td>Wd Shng</td><td>None</td><td>0</td><td>TA</td><td>TA</td><td>BrkTil</td><td>TA</td><td>Gd</td><td>No</td><td>ALQ</td><td>216</td><td>Unf</td><td>0</td><td>540</td><td>756</td><td>GasA</td><td>Gd</td><td>Y</td><td>SBrkr</td><td>961</td><td>756</td><td>0</td><td>1717</td><td>1</td><td>0</td><td>1</td><td>0</td><td>3</td><td>1</td><td>Gd</td><td>7</td><td>Typ</td><td>1</td><td>Gd</td><td>Detchd</td><td>1998</td><td>Unf</td><td>3</td><td>642</td><td>TA</td><td>TA</td><td>Y</td><td>0</td><td>35</td><td>272</td><td>0</td><td>0</td><td>0</td><td></td><td>NA</td><td>NA</td><td>0</td><td>2</td><td>2006</td><td>WD</td><td>Abnorml</td><td>140000</td></tr><tr><th>5</th><td>5</td><td>60</td><td>RL</td><td>84</td><td>14260</td><td>Pave</td><td></td><td>IR1</td><td>Lvl</td><td>AllPub</td><td>FR2</td><td>Gtl</td><td>NoRidge</td><td>Norm</td><td>Norm</td><td>1Fam</td><td>2Story</td><td>8</td><td>5</td><td>2000</td><td>2000</td><td>Gable</td><td>CompShg</td><td>VinylSd</td><td>VinylSd</td><td>BrkFace</td><td>350</td><td>Gd</td><td>TA</td><td>PConc</td><td>Gd</td><td>TA</td><td>Av</td><td>GLQ</td><td>655</td><td>Unf</td><td>0</td><td>490</td><td>1145</td><td>GasA</td><td>Ex</td><td>Y</td><td>SBrkr</td><td>1145</td><td>1053</td><td>0</td><td>2198</td><td>1</td><td>0</td><td>2</td><td>1</td><td>4</td><td>1</td><td>Gd</td><td>9</td><td>Typ</td><td>1</td><td>TA</td><td>Attchd</td><td>2000</td><td>RFn</td><td>3</td><td>836</td><td>TA</td><td>TA</td><td>Y</td><td>192</td><td>84</td><td>0</td><td>0</td><td>0</td><td>0</td><td></td><td>NA</td><td>NA</td><td>0</td><td>12</td><td>2008</td><td>WD</td><td>Normal</td><td>250000</td></tr><tr><th>6</th><td>6</td><td>50</td><td>RL</td><td>85</td><td>14115</td><td>Pave</td><td></td><td>IR1</td><td>Lvl</td><td>AllPub</td><td>Inside</td><td>Gtl</td><td>Mitchel</td><td>Norm</td><td>Norm</td><td>1Fam</td><td>1.5Fin</td><td>5</td><td>5</td><td>1993</td><td>1995</td><td>Gable</td><td>CompShg</td><td>VinylSd</td><td>VinylSd</td><td>None</td><td>0</td><td>TA</td><td>TA</td><td>Wood</td><td>Gd</td><td>TA</td><td>No</td><td>GLQ</td><td>732</td><td>Unf</td><td>0</td><td>64</td><td>796</td><td>GasA</td><td>Ex</td><td>Y</td><td>SBrkr</td><td>796</td><td>566</td><td>0</td><td>1362</td><td>1</td><td>0</td><td>1</td><td>1</td><td>1</td><td>1</td><td>TA</td><td>5</td><td>Typ</td><td>0</td><td>NA</td><td>Attchd</td><td>1993</td><td>Unf</td><td>2</td><td>480</td><td>TA</td><td>TA</td><td>Y</td><td>40</td><td>30</td><td>0</td><td>320</td><td>0</td><td>0</td><td></td><td>MnPrv</td><td>Shed</td><td>700</td><td>10</td><td>2009</td><td>WD</td><td>Normal</td><td>143000</td></tr><tr><th>7</th><td>7</td><td>20</td><td>RL</td><td>75</td><td>10084</td><td>Pave</td><td></td><td>Reg</td><td>Lvl</td><td>AllPub</td><td>Inside</td><td>Gtl</td><td>Somerst</td><td>Norm</td><td>Norm</td><td>1Fam</td><td>1Story</td><td>8</td><td>5</td><td>2004</td><td>2005</td><td>Gable</td><td>CompShg</td><td>VinylSd</td><td>VinylSd</td><td>Stone</td><td>186</td><td>Gd</td><td>TA</td><td>PConc</td><td>Ex</td><td>TA</td><td>Av</td><td>GLQ</td><td>1369</td><td>Unf</td><td>0</td><td>317</td><td>1686</td><td>GasA</td><td>Ex</td><td>Y</td><td>SBrkr</td><td>1694</td><td>0</td><td>0</td><td>1694</td><td>1</td><td>0</td><td>2</td><td>0</td><td>3</td><td>1</td><td>Gd</td><td>7</td><td>Typ</td><td>1</td><td>Gd</td><td>Attchd</td><td>2004</td><td>RFn</td><td>2</td><td>636</td><td>TA</td><td>TA</td><td>Y</td><td>255</td><td>57</td><td>0</td><td>0</td><td>0</td><td>0</td><td></td><td>NA</td><td>NA</td><td>0</td><td>8</td><td>2007</td><td>WD</td><td>Normal</td><td>307000</td></tr><tr><th>8</th><td>8</td><td>60</td><td>RL</td><td>missing</td><td>10382</td><td>Pave</td><td></td><td>IR1</td><td>Lvl</td><td>AllPub</td><td>Corner</td><td>Gtl</td><td>NWAmes</td><td>PosN</td><td>Norm</td><td>1Fam</td><td>2Story</td><td>7</td><td>6</td><td>1973</td><td>1973</td><td>Gable</td><td>CompShg</td><td>HdBoard</td><td>HdBoard</td><td>Stone</td><td>240</td><td>TA</td><td>TA</td><td>CBlock</td><td>Gd</td><td>TA</td><td>Mn</td><td>ALQ</td><td>859</td><td>BLQ</td><td>32</td><td>216</td><td>1107</td><td>GasA</td><td>Ex</td><td>Y</td><td>SBrkr</td><td>1107</td><td>983</td><td>0</td><td>2090</td><td>1</td><td>0</td><td>2</td><td>1</td><td>3</td><td>1</td><td>TA</td><td>7</td><td>Typ</td><td>2</td><td>TA</td><td>Attchd</td><td>1973</td><td>RFn</td><td>2</td><td>484</td><td>TA</td><td>TA</td><td>Y</td><td>235</td><td>204</td><td>228</td><td>0</td><td>0</td><td>0</td><td></td><td>NA</td><td>Shed</td><td>350</td><td>11</td><td>2009</td><td>WD</td><td>Normal</td><td>200000</td></tr><tr><th>9</th><td>9</td><td>50</td><td>RM</td><td>51</td><td>6120</td><td>Pave</td><td></td><td>Reg</td><td>Lvl</td><td>AllPub</td><td>Inside</td><td>Gtl</td><td>OldTown</td><td>Artery</td><td>Norm</td><td>1Fam</td><td>1.5Fin</td><td>7</td><td>5</td><td>1931</td><td>1950</td><td>Gable</td><td>CompShg</td><td>BrkFace</td><td>Wd Shng</td><td>None</td><td>0</td><td>TA</td><td>TA</td><td>BrkTil</td><td>TA</td><td>TA</td><td>No</td><td>Unf</td><td>0</td><td>Unf</td><td>0</td><td>952</td><td>952</td><td>GasA</td><td>Gd</td><td>Y</td><td>FuseF</td><td>1022</td><td>752</td><td>0</td><td>1774</td><td>0</td><td>0</td><td>2</td><td>0</td><td>2</td><td>2</td><td>TA</td><td>8</td><td>Min1</td><td>2</td><td>TA</td><td>Detchd</td><td>1931</td><td>Unf</td><td>2</td><td>468</td><td>Fa</td><td>TA</td><td>Y</td><td>90</td><td>0</td><td>205</td><td>0</td><td>0</td><td>0</td><td></td><td>NA</td><td>NA</td><td>0</td><td>4</td><td>2008</td><td>WD</td><td>Abnorml</td><td>129900</td></tr><tr><th>10</th><td>10</td><td>190</td><td>RL</td><td>50</td><td>7420</td><td>Pave</td><td></td><td>Reg</td><td>Lvl</td><td>AllPub</td><td>Corner</td><td>Gtl</td><td>BrkSide</td><td>Artery</td><td>Artery</td><td>2fmCon</td><td>1.5Unf</td><td>5</td><td>6</td><td>1939</td><td>1950</td><td>Gable</td><td>CompShg</td><td>MetalSd</td><td>MetalSd</td><td>None</td><td>0</td><td>TA</td><td>TA</td><td>BrkTil</td><td>TA</td><td>TA</td><td>No</td><td>GLQ</td><td>851</td><td>Unf</td><td>0</td><td>140</td><td>991</td><td>GasA</td><td>Ex</td><td>Y</td><td>SBrkr</td><td>1077</td><td>0</td><td>0</td><td>1077</td><td>1</td><td>0</td><td>1</td><td>0</td><td>2</td><td>2</td><td>TA</td><td>5</td><td>Typ</td><td>2</td><td>TA</td><td>Attchd</td><td>1939</td><td>RFn</td><td>1</td><td>205</td><td>Gd</td><td>TA</td><td>Y</td><td>0</td><td>4</td><td>0</td><td>0</td><td>0</td><td>0</td><td></td><td>NA</td><td>NA</td><td>0</td><td>1</td><td>2008</td><td>WD</td><td>Normal</td><td>118000</td></tr><tr><th>11</th><td>11</td><td>20</td><td>RL</td><td>70</td><td>11200</td><td>Pave</td><td></td><td>Reg</td><td>Lvl</td><td>AllPub</td><td>Inside</td><td>Gtl</td><td>Sawyer</td><td>Norm</td><td>Norm</td><td>1Fam</td><td>1Story</td><td>5</td><td>5</td><td>1965</td><td>1965</td><td>Hip</td><td>CompShg</td><td>HdBoard</td><td>HdBoard</td><td>None</td><td>0</td><td>TA</td><td>TA</td><td>CBlock</td><td>TA</td><td>TA</td><td>No</td><td>Rec</td><td>906</td><td>Unf</td><td>0</td><td>134</td><td>1040</td><td>GasA</td><td>Ex</td><td>Y</td><td>SBrkr</td><td>1040</td><td>0</td><td>0</td><td>1040</td><td>1</td><td>0</td><td>1</td><td>0</td><td>3</td><td>1</td><td>TA</td><td>5</td><td>Typ</td><td>0</td><td>NA</td><td>Detchd</td><td>1965</td><td>Unf</td><td>1</td><td>384</td><td>TA</td><td>TA</td><td>Y</td><td>0</td><td>0</td><td>0</td><td>0</td><td>0</td><td>0</td><td></td><td>NA</td><td>NA</td><td>0</td><td>2</td><td>2008</td><td>WD</td><td>Normal</td><td>129500</td></tr><tr><th>12</th><td>12</td><td>60</td><td>RL</td><td>85</td><td>11924</td><td>Pave</td><td></td><td>IR1</td><td>Lvl</td><td>AllPub</td><td>Inside</td><td>Gtl</td><td>NridgHt</td><td>Norm</td><td>Norm</td><td>1Fam</td><td>2Story</td><td>9</td><td>5</td><td>2005</td><td>2006</td><td>Hip</td><td>CompShg</td><td>WdShing</td><td>Wd Shng</td><td>Stone</td><td>286</td><td>Ex</td><td>TA</td><td>PConc</td><td>Ex</td><td>TA</td><td>No</td><td>GLQ</td><td>998</td><td>Unf</td><td>0</td><td>177</td><td>1175</td><td>GasA</td><td>Ex</td><td>Y</td><td>SBrkr</td><td>1182</td><td>1142</td><td>0</td><td>2324</td><td>1</td><td>0</td><td>3</td><td>0</td><td>4</td><td>1</td><td>Ex</td><td>11</td><td>Typ</td><td>2</td><td>Gd</td><td>BuiltIn</td><td>2005</td><td>Fin</td><td>3</td><td>736</td><td>TA</td><td>TA</td><td>Y</td><td>147</td><td>21</td><td>0</td><td>0</td><td>0</td><td>0</td><td></td><td>NA</td><td>NA</td><td>0</td><td>7</td><td>2006</td><td>New</td><td>Partial</td><td>345000</td></tr><tr><th>13</th><td>13</td><td>20</td><td>RL</td><td>missing</td><td>12968</td><td>Pave</td><td></td><td>IR2</td><td>Lvl</td><td>AllPub</td><td>Inside</td><td>Gtl</td><td>Sawyer</td><td>Norm</td><td>Norm</td><td>1Fam</td><td>1Story</td><td>5</td><td>6</td><td>1962</td><td>1962</td><td>Hip</td><td>CompShg</td><td>HdBoard</td><td>Plywood</td><td>None</td><td>0</td><td>TA</td><td>TA</td><td>CBlock</td><td>TA</td><td>TA</td><td>No</td><td>ALQ</td><td>737</td><td>Unf</td><td>0</td><td>175</td><td>912</td><td>GasA</td><td>TA</td><td>Y</td><td>SBrkr</td><td>912</td><td>0</td><td>0</td><td>912</td><td>1</td><td>0</td><td>1</td><td>0</td><td>2</td><td>1</td><td>TA</td><td>4</td><td>Typ</td><td>0</td><td>NA</td><td>Detchd</td><td>1962</td><td>Unf</td><td>1</td><td>352</td><td>TA</td><td>TA</td><td>Y</td><td>140</td><td>0</td><td>0</td><td>0</td><td>176</td><td>0</td><td></td><td>NA</td><td>NA</td><td>0</td><td>9</td><td>2008</td><td>WD</td><td>Normal</td><td>144000</td></tr><tr><th>14</th><td>14</td><td>20</td><td>RL</td><td>91</td><td>10652</td><td>Pave</td><td></td><td>IR1</td><td>Lvl</td><td>AllPub</td><td>Inside</td><td>Gtl</td><td>CollgCr</td><td>Norm</td><td>Norm</td><td>1Fam</td><td>1Story</td><td>7</td><td>5</td><td>2006</td><td>2007</td><td>Gable</td><td>CompShg</td><td>VinylSd</td><td>VinylSd</td><td>Stone</td><td>306</td><td>Gd</td><td>TA</td><td>PConc</td><td>Gd</td><td>TA</td><td>Av</td><td>Unf</td><td>0</td><td>Unf</td><td>0</td><td>1494</td><td>1494</td><td>GasA</td><td>Ex</td><td>Y</td><td>SBrkr</td><td>1494</td><td>0</td><td>0</td><td>1494</td><td>0</td><td>0</td><td>2</td><td>0</td><td>3</td><td>1</td><td>Gd</td><td>7</td><td>Typ</td><td>1</td><td>Gd</td><td>Attchd</td><td>2006</td><td>RFn</td><td>3</td><td>840</td><td>TA</td><td>TA</td><td>Y</td><td>160</td><td>33</td><td>0</td><td>0</td><td>0</td><td>0</td><td></td><td>NA</td><td>NA</td><td>0</td><td>8</td><td>2007</td><td>New</td><td>Partial</td><td>279500</td></tr><tr><th>15</th><td>15</td><td>20</td><td>RL</td><td>missing</td><td>10920</td><td>Pave</td><td></td><td>IR1</td><td>Lvl</td><td>AllPub</td><td>Corner</td><td>Gtl</td><td>NAmes</td><td>Norm</td><td>Norm</td><td>1Fam</td><td>1Story</td><td>6</td><td>5</td><td>1960</td><td>1960</td><td>Hip</td><td>CompShg</td><td>MetalSd</td><td>MetalSd</td><td>BrkFace</td><td>212</td><td>TA</td><td>TA</td><td>CBlock</td><td>TA</td><td>TA</td><td>No</td><td>BLQ</td><td>733</td><td>Unf</td><td>0</td><td>520</td><td>1253</td><td>GasA</td><td>TA</td><td>Y</td><td>SBrkr</td><td>1253</td><td>0</td><td>0</td><td>1253</td><td>1</td><td>0</td><td>1</td><td>1</td><td>2</td><td>1</td><td>TA</td><td>5</td><td>Typ</td><td>1</td><td>Fa</td><td>Attchd</td><td>1960</td><td>RFn</td><td>1</td><td>352</td><td>TA</td><td>TA</td><td>Y</td><td>0</td><td>213</td><td>176</td><td>0</td><td>0</td><td>0</td><td></td><td>GdWo</td><td>NA</td><td>0</td><td>5</td><td>2008</td><td>WD</td><td>Normal</td><td>157000</td></tr><tr><th>16</th><td>16</td><td>45</td><td>RM</td><td>51</td><td>6120</td><td>Pave</td><td></td><td>Reg</td><td>Lvl</td><td>AllPub</td><td>Corner</td><td>Gtl</td><td>BrkSide</td><td>Norm</td><td>Norm</td><td>1Fam</td><td>1.5Unf</td><td>7</td><td>8</td><td>1929</td><td>2001</td><td>Gable</td><td>CompShg</td><td>Wd Sdng</td><td>Wd Sdng</td><td>None</td><td>0</td><td>TA</td><td>TA</td><td>BrkTil</td><td>TA</td><td>TA</td><td>No</td><td>Unf</td><td>0</td><td>Unf</td><td>0</td><td>832</td><td>832</td><td>GasA</td><td>Ex</td><td>Y</td><td>FuseA</td><td>854</td><td>0</td><td>0</td><td>854</td><td>0</td><td>0</td><td>1</td><td>0</td><td>2</td><td>1</td><td>TA</td><td>5</td><td>Typ</td><td>0</td><td>NA</td><td>Detchd</td><td>1991</td><td>Unf</td><td>2</td><td>576</td><td>TA</td><td>TA</td><td>Y</td><td>48</td><td>112</td><td>0</td><td>0</td><td>0</td><td>0</td><td></td><td>GdPrv</td><td>NA</td><td>0</td><td>7</td><td>2007</td><td>WD</td><td>Normal</td><td>132000</td></tr><tr><th>17</th><td>17</td><td>20</td><td>RL</td><td>missing</td><td>11241</td><td>Pave</td><td></td><td>IR1</td><td>Lvl</td><td>AllPub</td><td>CulDSac</td><td>Gtl</td><td>NAmes</td><td>Norm</td><td>Norm</td><td>1Fam</td><td>1Story</td><td>6</td><td>7</td><td>1970</td><td>1970</td><td>Gable</td><td>CompShg</td><td>Wd Sdng</td><td>Wd Sdng</td><td>BrkFace</td><td>180</td><td>TA</td><td>TA</td><td>CBlock</td><td>TA</td><td>TA</td><td>No</td><td>ALQ</td><td>578</td><td>Unf</td><td>0</td><td>426</td><td>1004</td><td>GasA</td><td>Ex</td><td>Y</td><td>SBrkr</td><td>1004</td><td>0</td><td>0</td><td>1004</td><td>1</td><td>0</td><td>1</td><td>0</td><td>2</td><td>1</td><td>TA</td><td>5</td><td>Typ</td><td>1</td><td>TA</td><td>Attchd</td><td>1970</td><td>Fin</td><td>2</td><td>480</td><td>TA</td><td>TA</td><td>Y</td><td>0</td><td>0</td><td>0</td><td>0</td><td>0</td><td>0</td><td></td><td>NA</td><td>Shed</td><td>700</td><td>3</td><td>2010</td><td>WD</td><td>Normal</td><td>149000</td></tr><tr><th>18</th><td>18</td><td>90</td><td>RL</td><td>72</td><td>10791</td><td>Pave</td><td></td><td>Reg</td><td>Lvl</td><td>AllPub</td><td>Inside</td><td>Gtl</td><td>Sawyer</td><td>Norm</td><td>Norm</td><td>Duplex</td><td>1Story</td><td>4</td><td>5</td><td>1967</td><td>1967</td><td>Gable</td><td>CompShg</td><td>MetalSd</td><td>MetalSd</td><td>None</td><td>0</td><td>TA</td><td>TA</td><td>Slab</td><td>NA</td><td>NA</td><td>NA</td><td>NA</td><td>0</td><td>NA</td><td>0</td><td>0</td><td>0</td><td>GasA</td><td>TA</td><td>Y</td><td>SBrkr</td><td>1296</td><td>0</td><td>0</td><td>1296</td><td>0</td><td>0</td><td>2</td><td>0</td><td>2</td><td>2</td><td>TA</td><td>6</td><td>Typ</td><td>0</td><td>NA</td><td>CarPort</td><td>1967</td><td>Unf</td><td>2</td><td>516</td><td>TA</td><td>TA</td><td>Y</td><td>0</td><td>0</td><td>0</td><td>0</td><td>0</td><td>0</td><td></td><td>NA</td><td>Shed</td><td>500</td><td>10</td><td>2006</td><td>WD</td><td>Normal</td><td>90000</td></tr><tr><th>19</th><td>19</td><td>20</td><td>RL</td><td>66</td><td>13695</td><td>Pave</td><td></td><td>Reg</td><td>Lvl</td><td>AllPub</td><td>Inside</td><td>Gtl</td><td>SawyerW</td><td>RRAe</td><td>Norm</td><td>1Fam</td><td>1Story</td><td>5</td><td>5</td><td>2004</td><td>2004</td><td>Gable</td><td>CompShg</td><td>VinylSd</td><td>VinylSd</td><td>None</td><td>0</td><td>TA</td><td>TA</td><td>PConc</td><td>TA</td><td>TA</td><td>No</td><td>GLQ</td><td>646</td><td>Unf</td><td>0</td><td>468</td><td>1114</td><td>GasA</td><td>Ex</td><td>Y</td><td>SBrkr</td><td>1114</td><td>0</td><td>0</td><td>1114</td><td>1</td><td>0</td><td>1</td><td>1</td><td>3</td><td>1</td><td>Gd</td><td>6</td><td>Typ</td><td>0</td><td>NA</td><td>Detchd</td><td>2004</td><td>Unf</td><td>2</td><td>576</td><td>TA</td><td>TA</td><td>Y</td><td>0</td><td>102</td><td>0</td><td>0</td><td>0</td><td>0</td><td></td><td>NA</td><td>NA</td><td>0</td><td>6</td><td>2008</td><td>WD</td><td>Normal</td><td>159000</td></tr><tr><th>20</th><td>20</td><td>20</td><td>RL</td><td>70</td><td>7560</td><td>Pave</td><td></td><td>Reg</td><td>Lvl</td><td>AllPub</td><td>Inside</td><td>Gtl</td><td>NAmes</td><td>Norm</td><td>Norm</td><td>1Fam</td><td>1Story</td><td>5</td><td>6</td><td>1958</td><td>1965</td><td>Hip</td><td>CompShg</td><td>BrkFace</td><td>Plywood</td><td>None</td><td>0</td><td>TA</td><td>TA</td><td>CBlock</td><td>TA</td><td>TA</td><td>No</td><td>LwQ</td><td>504</td><td>Unf</td><td>0</td><td>525</td><td>1029</td><td>GasA</td><td>TA</td><td>Y</td><td>SBrkr</td><td>1339</td><td>0</td><td>0</td><td>1339</td><td>0</td><td>0</td><td>1</td><td>0</td><td>3</td><td>1</td><td>TA</td><td>6</td><td>Min1</td><td>0</td><td>NA</td><td>Attchd</td><td>1958</td><td>Unf</td><td>1</td><td>294</td><td>TA</td><td>TA</td><td>Y</td><td>0</td><td>0</td><td>0</td><td>0</td><td>0</td><td>0</td><td></td><td>MnPrv</td><td>NA</td><td>0</td><td>5</td><td>2009</td><td>COD</td><td>Abnorml</td><td>139000</td></tr><tr><th>21</th><td>21</td><td>60</td><td>RL</td><td>101</td><td>14215</td><td>Pave</td><td></td><td>IR1</td><td>Lvl</td><td>AllPub</td><td>Corner</td><td>Gtl</td><td>NridgHt</td><td>Norm</td><td>Norm</td><td>1Fam</td><td>2Story</td><td>8</td><td>5</td><td>2005</td><td>2006</td><td>Gable</td><td>CompShg</td><td>VinylSd</td><td>VinylSd</td><td>BrkFace</td><td>380</td><td>Gd</td><td>TA</td><td>PConc</td><td>Ex</td><td>TA</td><td>Av</td><td>Unf</td><td>0</td><td>Unf</td><td>0</td><td>1158</td><td>1158</td><td>GasA</td><td>Ex</td><td>Y</td><td>SBrkr</td><td>1158</td><td>1218</td><td>0</td><td>2376</td><td>0</td><td>0</td><td>3</td><td>1</td><td>4</td><td>1</td><td>Gd</td><td>9</td><td>Typ</td><td>1</td><td>Gd</td><td>BuiltIn</td><td>2005</td><td>RFn</td><td>3</td><td>853</td><td>TA</td><td>TA</td><td>Y</td><td>240</td><td>154</td><td>0</td><td>0</td><td>0</td><td>0</td><td></td><td>NA</td><td>NA</td><td>0</td><td>11</td><td>2006</td><td>New</td><td>Partial</td><td>325300</td></tr><tr><th>22</th><td>22</td><td>45</td><td>RM</td><td>57</td><td>7449</td><td>Pave</td><td>Grvl</td><td>Reg</td><td>Bnk</td><td>AllPub</td><td>Inside</td><td>Gtl</td><td>IDOTRR</td><td>Norm</td><td>Norm</td><td>1Fam</td><td>1.5Unf</td><td>7</td><td>7</td><td>1930</td><td>1950</td><td>Gable</td><td>CompShg</td><td>Wd Sdng</td><td>Wd Sdng</td><td>None</td><td>0</td><td>TA</td><td>TA</td><td>PConc</td><td>TA</td><td>TA</td><td>No</td><td>Unf</td><td>0</td><td>Unf</td><td>0</td><td>637</td><td>637</td><td>GasA</td><td>Ex</td><td>Y</td><td>FuseF</td><td>1108</td><td>0</td><td>0</td><td>1108</td><td>0</td><td>0</td><td>1</td><td>0</td><td>3</td><td>1</td><td>Gd</td><td>6</td><td>Typ</td><td>1</td><td>Gd</td><td>Attchd</td><td>1930</td><td>Unf</td><td>1</td><td>280</td><td>TA</td><td>TA</td><td>N</td><td>0</td><td>0</td><td>205</td><td>0</td><td>0</td><td>0</td><td></td><td>GdPrv</td><td>NA</td><td>0</td><td>6</td><td>2007</td><td>WD</td><td>Normal</td><td>139400</td></tr><tr><th>23</th><td>23</td><td>20</td><td>RL</td><td>75</td><td>9742</td><td>Pave</td><td>NA</td><td>Reg</td><td>Lvl</td><td>AllPub</td><td>Inside</td><td>Gtl</td><td>CollgCr</td><td>Norm</td><td>Norm</td><td>1Fam</td><td>1Story</td><td>8</td><td>5</td><td>2002</td><td>2002</td><td>Hip</td><td>CompShg</td><td>VinylSd</td><td>VinylSd</td><td>BrkFace</td><td>281</td><td>Gd</td><td>TA</td><td>PConc</td><td>Gd</td><td>TA</td><td>No</td><td>Unf</td><td>0</td><td>Unf</td><td>0</td><td>1777</td><td>1777</td><td>GasA</td><td>Ex</td><td>Y</td><td>SBrkr</td><td>1795</td><td>0</td><td>0</td><td>1795</td><td>0</td><td>0</td><td>2</td><td>0</td><td>3</td><td>1</td><td>Gd</td><td>7</td><td>Typ</td><td>1</td><td>Gd</td><td>Attchd</td><td>2002</td><td>RFn</td><td>2</td><td>534</td><td>TA</td><td>TA</td><td>Y</td><td>171</td><td>159</td><td>0</td><td>0</td><td>0</td><td>0</td><td></td><td>NA</td><td>NA</td><td>0</td><td>9</td><td>2008</td><td>WD</td><td>Normal</td><td>230000</td></tr><tr><th>24</th><td>24</td><td>120</td><td>RM</td><td>44</td><td>4224</td><td>Pave</td><td>NA</td><td>Reg</td><td>Lvl</td><td>AllPub</td><td>Inside</td><td>Gtl</td><td>MeadowV</td><td>Norm</td><td>Norm</td><td>TwnhsE</td><td>1Story</td><td>5</td><td>7</td><td>1976</td><td>1976</td><td>Gable</td><td>CompShg</td><td>CemntBd</td><td>CmentBd</td><td>None</td><td>0</td><td>TA</td><td>TA</td><td>PConc</td><td>Gd</td><td>TA</td><td>No</td><td>GLQ</td><td>840</td><td>Unf</td><td>0</td><td>200</td><td>1040</td><td>GasA</td><td>TA</td><td>Y</td><td>SBrkr</td><td>1060</td><td>0</td><td>0</td><td>1060</td><td>1</td><td>0</td><td>1</td><td>0</td><td>3</td><td>1</td><td>TA</td><td>6</td><td>Typ</td><td>1</td><td>TA</td><td>Attchd</td><td>1976</td><td>Unf</td><td>2</td><td>572</td><td>TA</td><td>TA</td><td>Y</td><td>100</td><td>110</td><td>0</td><td>0</td><td>0</td><td>0</td><td></td><td>NA</td><td>NA</td><td>0</td><td>6</td><td>2007</td><td>WD</td><td>Normal</td><td>129900</td></tr><tr><th>25</th><td>25</td><td>20</td><td>RL</td><td>missing</td><td>8246</td><td>Pave</td><td>NA</td><td>IR1</td><td>Lvl</td><td>AllPub</td><td>Inside</td><td>Gtl</td><td>Sawyer</td><td>Norm</td><td>Norm</td><td>1Fam</td><td>1Story</td><td>5</td><td>8</td><td>1968</td><td>2001</td><td>Gable</td><td>CompShg</td><td>Plywood</td><td>Plywood</td><td>None</td><td>0</td><td>TA</td><td>Gd</td><td>CBlock</td><td>TA</td><td>TA</td><td>Mn</td><td>Rec</td><td>188</td><td>ALQ</td><td>668</td><td>204</td><td>1060</td><td>GasA</td><td>Ex</td><td>Y</td><td>SBrkr</td><td>1060</td><td>0</td><td>0</td><td>1060</td><td>1</td><td>0</td><td>1</td><td>0</td><td>3</td><td>1</td><td>Gd</td><td>6</td><td>Typ</td><td>1</td><td>TA</td><td>Attchd</td><td>1968</td><td>Unf</td><td>1</td><td>270</td><td>TA</td><td>TA</td><td>Y</td><td>406</td><td>90</td><td>0</td><td>0</td><td>0</td><td>0</td><td></td><td>MnPrv</td><td>NA</td><td>0</td><td>5</td><td>2010</td><td>WD</td><td>Normal</td><td>154000</td></tr><tr><th>26</th><td>26</td><td>20</td><td>RL</td><td>110</td><td>14230</td><td>Pave</td><td>NA</td><td>Reg</td><td>Lvl</td><td>AllPub</td><td>Corner</td><td>Gtl</td><td>NridgHt</td><td>Norm</td><td>Norm</td><td>1Fam</td><td>1Story</td><td>8</td><td>5</td><td>2007</td><td>2007</td><td>Gable</td><td>CompShg</td><td>VinylSd</td><td>VinylSd</td><td>Stone</td><td>640</td><td>Gd</td><td>TA</td><td>PConc</td><td>Gd</td><td>TA</td><td>No</td><td>Unf</td><td>0</td><td>Unf</td><td>0</td><td>1566</td><td>1566</td><td>GasA</td><td>Ex</td><td>Y</td><td>SBrkr</td><td>1600</td><td>0</td><td>0</td><td>1600</td><td>0</td><td>0</td><td>2</td><td>0</td><td>3</td><td>1</td><td>Gd</td><td>7</td><td>Typ</td><td>1</td><td>Gd</td><td>Attchd</td><td>2007</td><td>RFn</td><td>3</td><td>890</td><td>TA</td><td>TA</td><td>Y</td><td>0</td><td>56</td><td>0</td><td>0</td><td>0</td><td>0</td><td></td><td>NA</td><td>NA</td><td>0</td><td>7</td><td>2009</td><td>WD</td><td>Normal</td><td>256300</td></tr><tr><th>27</th><td>27</td><td>20</td><td>RL</td><td>60</td><td>7200</td><td>Pave</td><td>NA</td><td>Reg</td><td>Lvl</td><td>AllPub</td><td>Corner</td><td>Gtl</td><td>NAmes</td><td>Norm</td><td>Norm</td><td>1Fam</td><td>1Story</td><td>5</td><td>7</td><td>1951</td><td>2000</td><td>Gable</td><td>CompShg</td><td>Wd Sdng</td><td>Wd Sdng</td><td>None</td><td>0</td><td>TA</td><td>TA</td><td>CBlock</td><td>TA</td><td>TA</td><td>Mn</td><td>BLQ</td><td>234</td><td>Rec</td><td>486</td><td>180</td><td>900</td><td>GasA</td><td>TA</td><td>Y</td><td>SBrkr</td><td>900</td><td>0</td><td>0</td><td>900</td><td>0</td><td>1</td><td>1</td><td>0</td><td>3</td><td>1</td><td>Gd</td><td>5</td><td>Typ</td><td>0</td><td>NA</td><td>Detchd</td><td>2005</td><td>Unf</td><td>2</td><td>576</td><td>TA</td><td>TA</td><td>Y</td><td>222</td><td>32</td><td>0</td><td>0</td><td>0</td><td>0</td><td></td><td>NA</td><td>NA</td><td>0</td><td>5</td><td>2010</td><td>WD</td><td>Normal</td><td>134800</td></tr><tr><th>28</th><td>28</td><td>20</td><td>RL</td><td>98</td><td>11478</td><td>Pave</td><td>NA</td><td>Reg</td><td>Lvl</td><td>AllPub</td><td>Inside</td><td>Gtl</td><td>NridgHt</td><td>Norm</td><td>Norm</td><td>1Fam</td><td>1Story</td><td>8</td><td>5</td><td>2007</td><td>2008</td><td>Gable</td><td>CompShg</td><td>VinylSd</td><td>VinylSd</td><td>Stone</td><td>200</td><td>Gd</td><td>TA</td><td>PConc</td><td>Ex</td><td>TA</td><td>No</td><td>GLQ</td><td>1218</td><td>Unf</td><td>0</td><td>486</td><td>1704</td><td>GasA</td><td>Ex</td><td>Y</td><td>SBrkr</td><td>1704</td><td>0</td><td>0</td><td>1704</td><td>1</td><td>0</td><td>2</td><td>0</td><td>3</td><td>1</td><td>Gd</td><td>7</td><td>Typ</td><td>1</td><td>Gd</td><td>Attchd</td><td>2008</td><td>RFn</td><td>3</td><td>772</td><td>TA</td><td>TA</td><td>Y</td><td>0</td><td>50</td><td>0</td><td>0</td><td>0</td><td>0</td><td></td><td>NA</td><td>NA</td><td>0</td><td>5</td><td>2010</td><td>WD</td><td>Normal</td><td>306000</td></tr><tr><th>29</th><td>29</td><td>20</td><td>RL</td><td>47</td><td>16321</td><td>Pave</td><td>NA</td><td>IR1</td><td>Lvl</td><td>AllPub</td><td>CulDSac</td><td>Gtl</td><td>NAmes</td><td>Norm</td><td>Norm</td><td>1Fam</td><td>1Story</td><td>5</td><td>6</td><td>1957</td><td>1997</td><td>Gable</td><td>CompShg</td><td>MetalSd</td><td>MetalSd</td><td>None</td><td>0</td><td>TA</td><td>TA</td><td>CBlock</td><td>TA</td><td>TA</td><td>Gd</td><td>BLQ</td><td>1277</td><td>Unf</td><td>0</td><td>207</td><td>1484</td><td>GasA</td><td>TA</td><td>Y</td><td>SBrkr</td><td>1600</td><td>0</td><td>0</td><td>1600</td><td>1</td><td>0</td><td>1</td><td>0</td><td>2</td><td>1</td><td>TA</td><td>6</td><td>Typ</td><td>2</td><td>Gd</td><td>Attchd</td><td>1957</td><td>RFn</td><td>1</td><td>319</td><td>TA</td><td>TA</td><td>Y</td><td>288</td><td>258</td><td>0</td><td>0</td><td>0</td><td>0</td><td></td><td>NA</td><td>NA</td><td>0</td><td>12</td><td>2006</td><td>WD</td><td>Normal</td><td>207500</td></tr><tr><th>30</th><td>30</td><td>30</td><td>RM</td><td>60</td><td>6324</td><td>Pave</td><td>NA</td><td>IR1</td><td>Lvl</td><td>AllPub</td><td>Inside</td><td>Gtl</td><td>BrkSide</td><td>Feedr</td><td>RRNn</td><td>1Fam</td><td>1Story</td><td>4</td><td>6</td><td>1927</td><td>1950</td><td>Gable</td><td>CompShg</td><td>MetalSd</td><td>MetalSd</td><td>None</td><td>0</td><td>TA</td><td>TA</td><td>BrkTil</td><td>TA</td><td>TA</td><td>No</td><td>Unf</td><td>0</td><td>Unf</td><td>0</td><td>520</td><td>520</td><td>GasA</td><td>Fa</td><td>N</td><td>SBrkr</td><td>520</td><td>0</td><td>0</td><td>520</td><td>0</td><td>0</td><td>1</td><td>0</td><td>1</td><td>1</td><td>Fa</td><td>4</td><td>Typ</td><td>0</td><td>NA</td><td>Detchd</td><td>1920</td><td>Unf</td><td>1</td><td>240</td><td>Fa</td><td>TA</td><td>Y</td><td>49</td><td>0</td><td>87</td><td>0</td><td>0</td><td>0</td><td></td><td>NA</td><td>NA</td><td>0</td><td>5</td><td>2008</td><td>WD</td><td>Normal</td><td>68500</td></tr><tr><th>&vellip;</th><td>&vellip;</td><td>&vellip;</td><td>&vellip;</td><td>&vellip;</td><td>&vellip;</td><td>&vellip;</td><td>&vellip;</td><td>&vellip;</td><td>&vellip;</td><td>&vellip;</td><td>&vellip;</td><td>&vellip;</td><td>&vellip;</td><td>&vellip;</td><td>&vellip;</td><td>&vellip;</td><td>&vellip;</td><td>&vellip;</td><td>&vellip;</td><td>&vellip;</td><td>&vellip;</td><td>&vellip;</td><td>&vellip;</td><td>&vellip;</td><td>&vellip;</td><td>&vellip;</td><td>&vellip;</td><td>&vellip;</td><td>&vellip;</td><td>&vellip;</td><td>&vellip;</td><td>&vellip;</td><td>&vellip;</td><td>&vellip;</td><td>&vellip;</td><td>&vellip;</td><td>&vellip;</td><td>&vellip;</td><td>&vellip;</td><td>&vellip;</td><td>&vellip;</td><td>&vellip;</td><td>&vellip;</td><td>&vellip;</td><td>&vellip;</td><td>&vellip;</td><td>&vellip;</td><td>&vellip;</td><td>&vellip;</td><td>&vellip;</td><td>&vellip;</td><td>&vellip;</td><td>&vellip;</td><td>&vellip;</td><td>&vellip;</td><td>&vellip;</td><td>&vellip;</td><td>&vellip;</td><td>&vellip;</td><td>&vellip;</td><td>&vellip;</td><td>&vellip;</td><td>&vellip;</td><td>&vellip;</td><td>&vellip;</td><td>&vellip;</td><td>&vellip;</td><td>&vellip;</td><td>&vellip;</td><td>&vellip;</td><td>&vellip;</td><td>&vellip;</td><td>&vellip;</td><td>&vellip;</td><td>&vellip;</td><td>&vellip;</td><td>&vellip;</td><td>&vellip;</td><td>&vellip;</td><td>&vellip;</td><td>&vellip;</td></tr></tbody></table>"
      ],
      "text/latex": [
       "\\begin{tabular}{r|ccccccccccccccccccccccccccccccccccccccccccccccccccccccccccccccccccccccccccccccccc}\n",
       "\t& Id & MSSubClass & MSZoning & LotFrontage & LotArea & Street & Alley & LotShape & LandContour & Utilities & LotConfig & LandSlope & Neighborhood & Condition1 & Condition2 & BldgType & HouseStyle & OverallQual & OverallCond & YearBuilt & YearRemodAdd & RoofStyle & RoofMatl & Exterior1st & Exterior2nd & MasVnrType & MasVnrArea & ExterQual & ExterCond & Foundation & BsmtQual & BsmtCond & BsmtExposure & BsmtFinType1 & BsmtFinSF1 & BsmtFinType2 & BsmtFinSF2 & BsmtUnfSF & TotalBsmtSF & Heating & HeatingQC & CentralAir & Electrical & 1stFlrSF & 2ndFlrSF & LowQualFinSF & GrLivArea & BsmtFullBath & BsmtHalfBath & FullBath & HalfBath & BedroomAbvGr & KitchenAbvGr & KitchenQual & TotRmsAbvGrd & Functional & Fireplaces & FireplaceQu & GarageType & GarageYrBlt & GarageFinish & GarageCars & GarageArea & GarageQual & GarageCond & PavedDrive & WoodDeckSF & OpenPorchSF & EnclosedPorch & 3SsnPorch & ScreenPorch & PoolArea & PoolQC & Fence & MiscFeature & MiscVal & MoSold & YrSold & SaleType & SaleCondition & SalePrice\\\\\n",
       "\t\\hline\n",
       "\t& Int64 & Int64 & String & Int64⍰ & Int64 & String & String & String & String & String & String & String & String & String & String & String & String & Int64 & Int64 & Int64 & Int64 & String & String & String & String & String & Int64⍰ & String & String & String & String & String & String & String & Int64 & String & Int64 & Int64 & Int64 & String & String & String & String & Int64 & Int64 & Int64 & Int64 & Int64 & Int64 & Int64 & Int64 & Int64 & Int64 & String & Int64 & String & Int64 & String & String & Int64⍰ & String & Int64 & Int64 & String & String & String & Int64 & Int64 & Int64 & Int64 & Int64 & Int64 & String & String & String & Int64 & Int64 & Int64 & String & String & Int64\\\\\n",
       "\t\\hline\n",
       "\t1 & 1 & 60 & RL & 65 & 8450 & Pave &  & Reg & Lvl & AllPub & Inside & Gtl & CollgCr & Norm & Norm & 1Fam & 2Story & 7 & 5 & 2003 & 2003 & Gable & CompShg & VinylSd & VinylSd & BrkFace & 196 & Gd & TA & PConc & Gd & TA & No & GLQ & 706 & Unf & 0 & 150 & 856 & GasA & Ex & Y & SBrkr & 856 & 854 & 0 & 1710 & 1 & 0 & 2 & 1 & 3 & 1 & Gd & 8 & Typ & 0 & NA & Attchd & 2003 & RFn & 2 & 548 & TA & TA & Y & 0 & 61 & 0 & 0 & 0 & 0 &  & NA & NA & 0 & 2 & 2008 & WD & Normal & 208500 \\\\\n",
       "\t2 & 2 & 20 & RL & 80 & 9600 & Pave &  & Reg & Lvl & AllPub & FR2 & Gtl & Veenker & Feedr & Norm & 1Fam & 1Story & 6 & 8 & 1976 & 1976 & Gable & CompShg & MetalSd & MetalSd & None & 0 & TA & TA & CBlock & Gd & TA & Gd & ALQ & 978 & Unf & 0 & 284 & 1262 & GasA & Ex & Y & SBrkr & 1262 & 0 & 0 & 1262 & 0 & 1 & 2 & 0 & 3 & 1 & TA & 6 & Typ & 1 & TA & Attchd & 1976 & RFn & 2 & 460 & TA & TA & Y & 298 & 0 & 0 & 0 & 0 & 0 &  & NA & NA & 0 & 5 & 2007 & WD & Normal & 181500 \\\\\n",
       "\t3 & 3 & 60 & RL & 68 & 11250 & Pave &  & IR1 & Lvl & AllPub & Inside & Gtl & CollgCr & Norm & Norm & 1Fam & 2Story & 7 & 5 & 2001 & 2002 & Gable & CompShg & VinylSd & VinylSd & BrkFace & 162 & Gd & TA & PConc & Gd & TA & Mn & GLQ & 486 & Unf & 0 & 434 & 920 & GasA & Ex & Y & SBrkr & 920 & 866 & 0 & 1786 & 1 & 0 & 2 & 1 & 3 & 1 & Gd & 6 & Typ & 1 & TA & Attchd & 2001 & RFn & 2 & 608 & TA & TA & Y & 0 & 42 & 0 & 0 & 0 & 0 &  & NA & NA & 0 & 9 & 2008 & WD & Normal & 223500 \\\\\n",
       "\t4 & 4 & 70 & RL & 60 & 9550 & Pave &  & IR1 & Lvl & AllPub & Corner & Gtl & Crawfor & Norm & Norm & 1Fam & 2Story & 7 & 5 & 1915 & 1970 & Gable & CompShg & Wd Sdng & Wd Shng & None & 0 & TA & TA & BrkTil & TA & Gd & No & ALQ & 216 & Unf & 0 & 540 & 756 & GasA & Gd & Y & SBrkr & 961 & 756 & 0 & 1717 & 1 & 0 & 1 & 0 & 3 & 1 & Gd & 7 & Typ & 1 & Gd & Detchd & 1998 & Unf & 3 & 642 & TA & TA & Y & 0 & 35 & 272 & 0 & 0 & 0 &  & NA & NA & 0 & 2 & 2006 & WD & Abnorml & 140000 \\\\\n",
       "\t5 & 5 & 60 & RL & 84 & 14260 & Pave &  & IR1 & Lvl & AllPub & FR2 & Gtl & NoRidge & Norm & Norm & 1Fam & 2Story & 8 & 5 & 2000 & 2000 & Gable & CompShg & VinylSd & VinylSd & BrkFace & 350 & Gd & TA & PConc & Gd & TA & Av & GLQ & 655 & Unf & 0 & 490 & 1145 & GasA & Ex & Y & SBrkr & 1145 & 1053 & 0 & 2198 & 1 & 0 & 2 & 1 & 4 & 1 & Gd & 9 & Typ & 1 & TA & Attchd & 2000 & RFn & 3 & 836 & TA & TA & Y & 192 & 84 & 0 & 0 & 0 & 0 &  & NA & NA & 0 & 12 & 2008 & WD & Normal & 250000 \\\\\n",
       "\t6 & 6 & 50 & RL & 85 & 14115 & Pave &  & IR1 & Lvl & AllPub & Inside & Gtl & Mitchel & Norm & Norm & 1Fam & 1.5Fin & 5 & 5 & 1993 & 1995 & Gable & CompShg & VinylSd & VinylSd & None & 0 & TA & TA & Wood & Gd & TA & No & GLQ & 732 & Unf & 0 & 64 & 796 & GasA & Ex & Y & SBrkr & 796 & 566 & 0 & 1362 & 1 & 0 & 1 & 1 & 1 & 1 & TA & 5 & Typ & 0 & NA & Attchd & 1993 & Unf & 2 & 480 & TA & TA & Y & 40 & 30 & 0 & 320 & 0 & 0 &  & MnPrv & Shed & 700 & 10 & 2009 & WD & Normal & 143000 \\\\\n",
       "\t7 & 7 & 20 & RL & 75 & 10084 & Pave &  & Reg & Lvl & AllPub & Inside & Gtl & Somerst & Norm & Norm & 1Fam & 1Story & 8 & 5 & 2004 & 2005 & Gable & CompShg & VinylSd & VinylSd & Stone & 186 & Gd & TA & PConc & Ex & TA & Av & GLQ & 1369 & Unf & 0 & 317 & 1686 & GasA & Ex & Y & SBrkr & 1694 & 0 & 0 & 1694 & 1 & 0 & 2 & 0 & 3 & 1 & Gd & 7 & Typ & 1 & Gd & Attchd & 2004 & RFn & 2 & 636 & TA & TA & Y & 255 & 57 & 0 & 0 & 0 & 0 &  & NA & NA & 0 & 8 & 2007 & WD & Normal & 307000 \\\\\n",
       "\t8 & 8 & 60 & RL &  & 10382 & Pave &  & IR1 & Lvl & AllPub & Corner & Gtl & NWAmes & PosN & Norm & 1Fam & 2Story & 7 & 6 & 1973 & 1973 & Gable & CompShg & HdBoard & HdBoard & Stone & 240 & TA & TA & CBlock & Gd & TA & Mn & ALQ & 859 & BLQ & 32 & 216 & 1107 & GasA & Ex & Y & SBrkr & 1107 & 983 & 0 & 2090 & 1 & 0 & 2 & 1 & 3 & 1 & TA & 7 & Typ & 2 & TA & Attchd & 1973 & RFn & 2 & 484 & TA & TA & Y & 235 & 204 & 228 & 0 & 0 & 0 &  & NA & Shed & 350 & 11 & 2009 & WD & Normal & 200000 \\\\\n",
       "\t9 & 9 & 50 & RM & 51 & 6120 & Pave &  & Reg & Lvl & AllPub & Inside & Gtl & OldTown & Artery & Norm & 1Fam & 1.5Fin & 7 & 5 & 1931 & 1950 & Gable & CompShg & BrkFace & Wd Shng & None & 0 & TA & TA & BrkTil & TA & TA & No & Unf & 0 & Unf & 0 & 952 & 952 & GasA & Gd & Y & FuseF & 1022 & 752 & 0 & 1774 & 0 & 0 & 2 & 0 & 2 & 2 & TA & 8 & Min1 & 2 & TA & Detchd & 1931 & Unf & 2 & 468 & Fa & TA & Y & 90 & 0 & 205 & 0 & 0 & 0 &  & NA & NA & 0 & 4 & 2008 & WD & Abnorml & 129900 \\\\\n",
       "\t10 & 10 & 190 & RL & 50 & 7420 & Pave &  & Reg & Lvl & AllPub & Corner & Gtl & BrkSide & Artery & Artery & 2fmCon & 1.5Unf & 5 & 6 & 1939 & 1950 & Gable & CompShg & MetalSd & MetalSd & None & 0 & TA & TA & BrkTil & TA & TA & No & GLQ & 851 & Unf & 0 & 140 & 991 & GasA & Ex & Y & SBrkr & 1077 & 0 & 0 & 1077 & 1 & 0 & 1 & 0 & 2 & 2 & TA & 5 & Typ & 2 & TA & Attchd & 1939 & RFn & 1 & 205 & Gd & TA & Y & 0 & 4 & 0 & 0 & 0 & 0 &  & NA & NA & 0 & 1 & 2008 & WD & Normal & 118000 \\\\\n",
       "\t11 & 11 & 20 & RL & 70 & 11200 & Pave &  & Reg & Lvl & AllPub & Inside & Gtl & Sawyer & Norm & Norm & 1Fam & 1Story & 5 & 5 & 1965 & 1965 & Hip & CompShg & HdBoard & HdBoard & None & 0 & TA & TA & CBlock & TA & TA & No & Rec & 906 & Unf & 0 & 134 & 1040 & GasA & Ex & Y & SBrkr & 1040 & 0 & 0 & 1040 & 1 & 0 & 1 & 0 & 3 & 1 & TA & 5 & Typ & 0 & NA & Detchd & 1965 & Unf & 1 & 384 & TA & TA & Y & 0 & 0 & 0 & 0 & 0 & 0 &  & NA & NA & 0 & 2 & 2008 & WD & Normal & 129500 \\\\\n",
       "\t12 & 12 & 60 & RL & 85 & 11924 & Pave &  & IR1 & Lvl & AllPub & Inside & Gtl & NridgHt & Norm & Norm & 1Fam & 2Story & 9 & 5 & 2005 & 2006 & Hip & CompShg & WdShing & Wd Shng & Stone & 286 & Ex & TA & PConc & Ex & TA & No & GLQ & 998 & Unf & 0 & 177 & 1175 & GasA & Ex & Y & SBrkr & 1182 & 1142 & 0 & 2324 & 1 & 0 & 3 & 0 & 4 & 1 & Ex & 11 & Typ & 2 & Gd & BuiltIn & 2005 & Fin & 3 & 736 & TA & TA & Y & 147 & 21 & 0 & 0 & 0 & 0 &  & NA & NA & 0 & 7 & 2006 & New & Partial & 345000 \\\\\n",
       "\t13 & 13 & 20 & RL &  & 12968 & Pave &  & IR2 & Lvl & AllPub & Inside & Gtl & Sawyer & Norm & Norm & 1Fam & 1Story & 5 & 6 & 1962 & 1962 & Hip & CompShg & HdBoard & Plywood & None & 0 & TA & TA & CBlock & TA & TA & No & ALQ & 737 & Unf & 0 & 175 & 912 & GasA & TA & Y & SBrkr & 912 & 0 & 0 & 912 & 1 & 0 & 1 & 0 & 2 & 1 & TA & 4 & Typ & 0 & NA & Detchd & 1962 & Unf & 1 & 352 & TA & TA & Y & 140 & 0 & 0 & 0 & 176 & 0 &  & NA & NA & 0 & 9 & 2008 & WD & Normal & 144000 \\\\\n",
       "\t14 & 14 & 20 & RL & 91 & 10652 & Pave &  & IR1 & Lvl & AllPub & Inside & Gtl & CollgCr & Norm & Norm & 1Fam & 1Story & 7 & 5 & 2006 & 2007 & Gable & CompShg & VinylSd & VinylSd & Stone & 306 & Gd & TA & PConc & Gd & TA & Av & Unf & 0 & Unf & 0 & 1494 & 1494 & GasA & Ex & Y & SBrkr & 1494 & 0 & 0 & 1494 & 0 & 0 & 2 & 0 & 3 & 1 & Gd & 7 & Typ & 1 & Gd & Attchd & 2006 & RFn & 3 & 840 & TA & TA & Y & 160 & 33 & 0 & 0 & 0 & 0 &  & NA & NA & 0 & 8 & 2007 & New & Partial & 279500 \\\\\n",
       "\t15 & 15 & 20 & RL &  & 10920 & Pave &  & IR1 & Lvl & AllPub & Corner & Gtl & NAmes & Norm & Norm & 1Fam & 1Story & 6 & 5 & 1960 & 1960 & Hip & CompShg & MetalSd & MetalSd & BrkFace & 212 & TA & TA & CBlock & TA & TA & No & BLQ & 733 & Unf & 0 & 520 & 1253 & GasA & TA & Y & SBrkr & 1253 & 0 & 0 & 1253 & 1 & 0 & 1 & 1 & 2 & 1 & TA & 5 & Typ & 1 & Fa & Attchd & 1960 & RFn & 1 & 352 & TA & TA & Y & 0 & 213 & 176 & 0 & 0 & 0 &  & GdWo & NA & 0 & 5 & 2008 & WD & Normal & 157000 \\\\\n",
       "\t16 & 16 & 45 & RM & 51 & 6120 & Pave &  & Reg & Lvl & AllPub & Corner & Gtl & BrkSide & Norm & Norm & 1Fam & 1.5Unf & 7 & 8 & 1929 & 2001 & Gable & CompShg & Wd Sdng & Wd Sdng & None & 0 & TA & TA & BrkTil & TA & TA & No & Unf & 0 & Unf & 0 & 832 & 832 & GasA & Ex & Y & FuseA & 854 & 0 & 0 & 854 & 0 & 0 & 1 & 0 & 2 & 1 & TA & 5 & Typ & 0 & NA & Detchd & 1991 & Unf & 2 & 576 & TA & TA & Y & 48 & 112 & 0 & 0 & 0 & 0 &  & GdPrv & NA & 0 & 7 & 2007 & WD & Normal & 132000 \\\\\n",
       "\t17 & 17 & 20 & RL &  & 11241 & Pave &  & IR1 & Lvl & AllPub & CulDSac & Gtl & NAmes & Norm & Norm & 1Fam & 1Story & 6 & 7 & 1970 & 1970 & Gable & CompShg & Wd Sdng & Wd Sdng & BrkFace & 180 & TA & TA & CBlock & TA & TA & No & ALQ & 578 & Unf & 0 & 426 & 1004 & GasA & Ex & Y & SBrkr & 1004 & 0 & 0 & 1004 & 1 & 0 & 1 & 0 & 2 & 1 & TA & 5 & Typ & 1 & TA & Attchd & 1970 & Fin & 2 & 480 & TA & TA & Y & 0 & 0 & 0 & 0 & 0 & 0 &  & NA & Shed & 700 & 3 & 2010 & WD & Normal & 149000 \\\\\n",
       "\t18 & 18 & 90 & RL & 72 & 10791 & Pave &  & Reg & Lvl & AllPub & Inside & Gtl & Sawyer & Norm & Norm & Duplex & 1Story & 4 & 5 & 1967 & 1967 & Gable & CompShg & MetalSd & MetalSd & None & 0 & TA & TA & Slab & NA & NA & NA & NA & 0 & NA & 0 & 0 & 0 & GasA & TA & Y & SBrkr & 1296 & 0 & 0 & 1296 & 0 & 0 & 2 & 0 & 2 & 2 & TA & 6 & Typ & 0 & NA & CarPort & 1967 & Unf & 2 & 516 & TA & TA & Y & 0 & 0 & 0 & 0 & 0 & 0 &  & NA & Shed & 500 & 10 & 2006 & WD & Normal & 90000 \\\\\n",
       "\t19 & 19 & 20 & RL & 66 & 13695 & Pave &  & Reg & Lvl & AllPub & Inside & Gtl & SawyerW & RRAe & Norm & 1Fam & 1Story & 5 & 5 & 2004 & 2004 & Gable & CompShg & VinylSd & VinylSd & None & 0 & TA & TA & PConc & TA & TA & No & GLQ & 646 & Unf & 0 & 468 & 1114 & GasA & Ex & Y & SBrkr & 1114 & 0 & 0 & 1114 & 1 & 0 & 1 & 1 & 3 & 1 & Gd & 6 & Typ & 0 & NA & Detchd & 2004 & Unf & 2 & 576 & TA & TA & Y & 0 & 102 & 0 & 0 & 0 & 0 &  & NA & NA & 0 & 6 & 2008 & WD & Normal & 159000 \\\\\n",
       "\t20 & 20 & 20 & RL & 70 & 7560 & Pave &  & Reg & Lvl & AllPub & Inside & Gtl & NAmes & Norm & Norm & 1Fam & 1Story & 5 & 6 & 1958 & 1965 & Hip & CompShg & BrkFace & Plywood & None & 0 & TA & TA & CBlock & TA & TA & No & LwQ & 504 & Unf & 0 & 525 & 1029 & GasA & TA & Y & SBrkr & 1339 & 0 & 0 & 1339 & 0 & 0 & 1 & 0 & 3 & 1 & TA & 6 & Min1 & 0 & NA & Attchd & 1958 & Unf & 1 & 294 & TA & TA & Y & 0 & 0 & 0 & 0 & 0 & 0 &  & MnPrv & NA & 0 & 5 & 2009 & COD & Abnorml & 139000 \\\\\n",
       "\t21 & 21 & 60 & RL & 101 & 14215 & Pave &  & IR1 & Lvl & AllPub & Corner & Gtl & NridgHt & Norm & Norm & 1Fam & 2Story & 8 & 5 & 2005 & 2006 & Gable & CompShg & VinylSd & VinylSd & BrkFace & 380 & Gd & TA & PConc & Ex & TA & Av & Unf & 0 & Unf & 0 & 1158 & 1158 & GasA & Ex & Y & SBrkr & 1158 & 1218 & 0 & 2376 & 0 & 0 & 3 & 1 & 4 & 1 & Gd & 9 & Typ & 1 & Gd & BuiltIn & 2005 & RFn & 3 & 853 & TA & TA & Y & 240 & 154 & 0 & 0 & 0 & 0 &  & NA & NA & 0 & 11 & 2006 & New & Partial & 325300 \\\\\n",
       "\t22 & 22 & 45 & RM & 57 & 7449 & Pave & Grvl & Reg & Bnk & AllPub & Inside & Gtl & IDOTRR & Norm & Norm & 1Fam & 1.5Unf & 7 & 7 & 1930 & 1950 & Gable & CompShg & Wd Sdng & Wd Sdng & None & 0 & TA & TA & PConc & TA & TA & No & Unf & 0 & Unf & 0 & 637 & 637 & GasA & Ex & Y & FuseF & 1108 & 0 & 0 & 1108 & 0 & 0 & 1 & 0 & 3 & 1 & Gd & 6 & Typ & 1 & Gd & Attchd & 1930 & Unf & 1 & 280 & TA & TA & N & 0 & 0 & 205 & 0 & 0 & 0 &  & GdPrv & NA & 0 & 6 & 2007 & WD & Normal & 139400 \\\\\n",
       "\t23 & 23 & 20 & RL & 75 & 9742 & Pave & NA & Reg & Lvl & AllPub & Inside & Gtl & CollgCr & Norm & Norm & 1Fam & 1Story & 8 & 5 & 2002 & 2002 & Hip & CompShg & VinylSd & VinylSd & BrkFace & 281 & Gd & TA & PConc & Gd & TA & No & Unf & 0 & Unf & 0 & 1777 & 1777 & GasA & Ex & Y & SBrkr & 1795 & 0 & 0 & 1795 & 0 & 0 & 2 & 0 & 3 & 1 & Gd & 7 & Typ & 1 & Gd & Attchd & 2002 & RFn & 2 & 534 & TA & TA & Y & 171 & 159 & 0 & 0 & 0 & 0 &  & NA & NA & 0 & 9 & 2008 & WD & Normal & 230000 \\\\\n",
       "\t24 & 24 & 120 & RM & 44 & 4224 & Pave & NA & Reg & Lvl & AllPub & Inside & Gtl & MeadowV & Norm & Norm & TwnhsE & 1Story & 5 & 7 & 1976 & 1976 & Gable & CompShg & CemntBd & CmentBd & None & 0 & TA & TA & PConc & Gd & TA & No & GLQ & 840 & Unf & 0 & 200 & 1040 & GasA & TA & Y & SBrkr & 1060 & 0 & 0 & 1060 & 1 & 0 & 1 & 0 & 3 & 1 & TA & 6 & Typ & 1 & TA & Attchd & 1976 & Unf & 2 & 572 & TA & TA & Y & 100 & 110 & 0 & 0 & 0 & 0 &  & NA & NA & 0 & 6 & 2007 & WD & Normal & 129900 \\\\\n",
       "\t25 & 25 & 20 & RL &  & 8246 & Pave & NA & IR1 & Lvl & AllPub & Inside & Gtl & Sawyer & Norm & Norm & 1Fam & 1Story & 5 & 8 & 1968 & 2001 & Gable & CompShg & Plywood & Plywood & None & 0 & TA & Gd & CBlock & TA & TA & Mn & Rec & 188 & ALQ & 668 & 204 & 1060 & GasA & Ex & Y & SBrkr & 1060 & 0 & 0 & 1060 & 1 & 0 & 1 & 0 & 3 & 1 & Gd & 6 & Typ & 1 & TA & Attchd & 1968 & Unf & 1 & 270 & TA & TA & Y & 406 & 90 & 0 & 0 & 0 & 0 &  & MnPrv & NA & 0 & 5 & 2010 & WD & Normal & 154000 \\\\\n",
       "\t26 & 26 & 20 & RL & 110 & 14230 & Pave & NA & Reg & Lvl & AllPub & Corner & Gtl & NridgHt & Norm & Norm & 1Fam & 1Story & 8 & 5 & 2007 & 2007 & Gable & CompShg & VinylSd & VinylSd & Stone & 640 & Gd & TA & PConc & Gd & TA & No & Unf & 0 & Unf & 0 & 1566 & 1566 & GasA & Ex & Y & SBrkr & 1600 & 0 & 0 & 1600 & 0 & 0 & 2 & 0 & 3 & 1 & Gd & 7 & Typ & 1 & Gd & Attchd & 2007 & RFn & 3 & 890 & TA & TA & Y & 0 & 56 & 0 & 0 & 0 & 0 &  & NA & NA & 0 & 7 & 2009 & WD & Normal & 256300 \\\\\n",
       "\t27 & 27 & 20 & RL & 60 & 7200 & Pave & NA & Reg & Lvl & AllPub & Corner & Gtl & NAmes & Norm & Norm & 1Fam & 1Story & 5 & 7 & 1951 & 2000 & Gable & CompShg & Wd Sdng & Wd Sdng & None & 0 & TA & TA & CBlock & TA & TA & Mn & BLQ & 234 & Rec & 486 & 180 & 900 & GasA & TA & Y & SBrkr & 900 & 0 & 0 & 900 & 0 & 1 & 1 & 0 & 3 & 1 & Gd & 5 & Typ & 0 & NA & Detchd & 2005 & Unf & 2 & 576 & TA & TA & Y & 222 & 32 & 0 & 0 & 0 & 0 &  & NA & NA & 0 & 5 & 2010 & WD & Normal & 134800 \\\\\n",
       "\t28 & 28 & 20 & RL & 98 & 11478 & Pave & NA & Reg & Lvl & AllPub & Inside & Gtl & NridgHt & Norm & Norm & 1Fam & 1Story & 8 & 5 & 2007 & 2008 & Gable & CompShg & VinylSd & VinylSd & Stone & 200 & Gd & TA & PConc & Ex & TA & No & GLQ & 1218 & Unf & 0 & 486 & 1704 & GasA & Ex & Y & SBrkr & 1704 & 0 & 0 & 1704 & 1 & 0 & 2 & 0 & 3 & 1 & Gd & 7 & Typ & 1 & Gd & Attchd & 2008 & RFn & 3 & 772 & TA & TA & Y & 0 & 50 & 0 & 0 & 0 & 0 &  & NA & NA & 0 & 5 & 2010 & WD & Normal & 306000 \\\\\n",
       "\t29 & 29 & 20 & RL & 47 & 16321 & Pave & NA & IR1 & Lvl & AllPub & CulDSac & Gtl & NAmes & Norm & Norm & 1Fam & 1Story & 5 & 6 & 1957 & 1997 & Gable & CompShg & MetalSd & MetalSd & None & 0 & TA & TA & CBlock & TA & TA & Gd & BLQ & 1277 & Unf & 0 & 207 & 1484 & GasA & TA & Y & SBrkr & 1600 & 0 & 0 & 1600 & 1 & 0 & 1 & 0 & 2 & 1 & TA & 6 & Typ & 2 & Gd & Attchd & 1957 & RFn & 1 & 319 & TA & TA & Y & 288 & 258 & 0 & 0 & 0 & 0 &  & NA & NA & 0 & 12 & 2006 & WD & Normal & 207500 \\\\\n",
       "\t30 & 30 & 30 & RM & 60 & 6324 & Pave & NA & IR1 & Lvl & AllPub & Inside & Gtl & BrkSide & Feedr & RRNn & 1Fam & 1Story & 4 & 6 & 1927 & 1950 & Gable & CompShg & MetalSd & MetalSd & None & 0 & TA & TA & BrkTil & TA & TA & No & Unf & 0 & Unf & 0 & 520 & 520 & GasA & Fa & N & SBrkr & 520 & 0 & 0 & 520 & 0 & 0 & 1 & 0 & 1 & 1 & Fa & 4 & Typ & 0 & NA & Detchd & 1920 & Unf & 1 & 240 & Fa & TA & Y & 49 & 0 & 87 & 0 & 0 & 0 &  & NA & NA & 0 & 5 & 2008 & WD & Normal & 68500 \\\\\n",
       "\t$\\dots$ & $\\dots$ & $\\dots$ & $\\dots$ & $\\dots$ & $\\dots$ & $\\dots$ & $\\dots$ & $\\dots$ & $\\dots$ & $\\dots$ & $\\dots$ & $\\dots$ & $\\dots$ & $\\dots$ & $\\dots$ & $\\dots$ & $\\dots$ & $\\dots$ & $\\dots$ & $\\dots$ & $\\dots$ & $\\dots$ & $\\dots$ & $\\dots$ & $\\dots$ & $\\dots$ & $\\dots$ & $\\dots$ & $\\dots$ & $\\dots$ & $\\dots$ & $\\dots$ & $\\dots$ & $\\dots$ & $\\dots$ & $\\dots$ & $\\dots$ & $\\dots$ & $\\dots$ & $\\dots$ & $\\dots$ & $\\dots$ & $\\dots$ & $\\dots$ & $\\dots$ & $\\dots$ & $\\dots$ & $\\dots$ & $\\dots$ & $\\dots$ & $\\dots$ & $\\dots$ & $\\dots$ & $\\dots$ & $\\dots$ & $\\dots$ & $\\dots$ & $\\dots$ & $\\dots$ & $\\dots$ & $\\dots$ & $\\dots$ & $\\dots$ & $\\dots$ & $\\dots$ & $\\dots$ & $\\dots$ & $\\dots$ & $\\dots$ & $\\dots$ & $\\dots$ & $\\dots$ & $\\dots$ & $\\dots$ & $\\dots$ & $\\dots$ & $\\dots$ & $\\dots$ & $\\dots$ & $\\dots$ & $\\dots$ \\\\\n",
       "\\end{tabular}\n"
      ],
      "text/plain": [
       "1460×81 DataFrame. Omitted printing of 75 columns\n",
       "│ Row  │ Id    │ MSSubClass │ MSZoning │ LotFrontage │ LotArea │ Street │\n",
       "│      │ \u001b[90mInt64\u001b[39m │ \u001b[90mInt64\u001b[39m      │ \u001b[90mString\u001b[39m   │ \u001b[90mInt64⍰\u001b[39m      │ \u001b[90mInt64\u001b[39m   │ \u001b[90mString\u001b[39m │\n",
       "├──────┼───────┼────────────┼──────────┼─────────────┼─────────┼────────┤\n",
       "│ 1    │ 1     │ 60         │ RL       │ 65          │ 8450    │ Pave   │\n",
       "│ 2    │ 2     │ 20         │ RL       │ 80          │ 9600    │ Pave   │\n",
       "│ 3    │ 3     │ 60         │ RL       │ 68          │ 11250   │ Pave   │\n",
       "│ 4    │ 4     │ 70         │ RL       │ 60          │ 9550    │ Pave   │\n",
       "│ 5    │ 5     │ 60         │ RL       │ 84          │ 14260   │ Pave   │\n",
       "│ 6    │ 6     │ 50         │ RL       │ 85          │ 14115   │ Pave   │\n",
       "│ 7    │ 7     │ 20         │ RL       │ 75          │ 10084   │ Pave   │\n",
       "│ 8    │ 8     │ 60         │ RL       │ \u001b[90mmissing\u001b[39m     │ 10382   │ Pave   │\n",
       "│ 9    │ 9     │ 50         │ RM       │ 51          │ 6120    │ Pave   │\n",
       "│ 10   │ 10    │ 190        │ RL       │ 50          │ 7420    │ Pave   │\n",
       "⋮\n",
       "│ 1450 │ 1450  │ 180        │ RM       │ 21          │ 1533    │ Pave   │\n",
       "│ 1451 │ 1451  │ 90         │ RL       │ 60          │ 9000    │ Pave   │\n",
       "│ 1452 │ 1452  │ 20         │ RL       │ 78          │ 9262    │ Pave   │\n",
       "│ 1453 │ 1453  │ 180        │ RM       │ 35          │ 3675    │ Pave   │\n",
       "│ 1454 │ 1454  │ 20         │ RL       │ 90          │ 17217   │ Pave   │\n",
       "│ 1455 │ 1455  │ 20         │ FV       │ 62          │ 7500    │ Pave   │\n",
       "│ 1456 │ 1456  │ 60         │ RL       │ 62          │ 7917    │ Pave   │\n",
       "│ 1457 │ 1457  │ 20         │ RL       │ 85          │ 13175   │ Pave   │\n",
       "│ 1458 │ 1458  │ 70         │ RL       │ 66          │ 9042    │ Pave   │\n",
       "│ 1459 │ 1459  │ 20         │ RL       │ 68          │ 9717    │ Pave   │\n",
       "│ 1460 │ 1460  │ 20         │ RL       │ 75          │ 9937    │ Pave   │"
      ]
     },
     "execution_count": 11,
     "metadata": {},
     "output_type": "execute_result"
    }
   ],
   "source": [
    "housing_df = housing |> DataFrame"
   ]
  },
  {
   "cell_type": "code",
   "execution_count": 12,
   "metadata": {},
   "outputs": [
    {
     "data": {
      "text/html": [
       "<table class=\"data-frame\"><thead><tr><th></th><th>variable</th><th>mean</th><th>min</th><th>median</th><th>max</th><th>nunique</th><th>nmissing</th><th>eltype</th></tr><tr><th></th><th>Symbol</th><th>Union…</th><th>Any</th><th>Union…</th><th>Any</th><th>Union…</th><th>Union…</th><th>DataType</th></tr></thead><tbody><p>81 rows × 8 columns</p><tr><th>1</th><td>Id</td><td>730.5</td><td>1</td><td>730.5</td><td>1460</td><td></td><td></td><td>Int64</td></tr><tr><th>2</th><td>MSSubClass</td><td>56.8973</td><td>20</td><td>50.0</td><td>190</td><td></td><td></td><td>Int64</td></tr><tr><th>3</th><td>MSZoning</td><td></td><td>C (all)</td><td></td><td>RM</td><td>5</td><td></td><td>String</td></tr><tr><th>4</th><td>LotFrontage</td><td>70.05</td><td>21</td><td>69.0</td><td>313</td><td></td><td>259</td><td>Int64</td></tr><tr><th>5</th><td>LotArea</td><td>10516.8</td><td>1300</td><td>9478.5</td><td>215245</td><td></td><td></td><td>Int64</td></tr><tr><th>6</th><td>Street</td><td></td><td>Grvl</td><td></td><td>Pave</td><td>2</td><td></td><td>String</td></tr><tr><th>7</th><td>Alley</td><td></td><td></td><td></td><td>Pave</td><td>4</td><td></td><td>String</td></tr><tr><th>8</th><td>LotShape</td><td></td><td>IR1</td><td></td><td>Reg</td><td>4</td><td></td><td>String</td></tr><tr><th>9</th><td>LandContour</td><td></td><td>Bnk</td><td></td><td>Lvl</td><td>4</td><td></td><td>String</td></tr><tr><th>10</th><td>Utilities</td><td></td><td>AllPub</td><td></td><td>NoSeWa</td><td>2</td><td></td><td>String</td></tr><tr><th>11</th><td>LotConfig</td><td></td><td>Corner</td><td></td><td>Inside</td><td>5</td><td></td><td>String</td></tr><tr><th>12</th><td>LandSlope</td><td></td><td>Gtl</td><td></td><td>Sev</td><td>3</td><td></td><td>String</td></tr><tr><th>13</th><td>Neighborhood</td><td></td><td>Blmngtn</td><td></td><td>Veenker</td><td>25</td><td></td><td>String</td></tr><tr><th>14</th><td>Condition1</td><td></td><td>Artery</td><td></td><td>RRNn</td><td>9</td><td></td><td>String</td></tr><tr><th>15</th><td>Condition2</td><td></td><td>Artery</td><td></td><td>RRNn</td><td>8</td><td></td><td>String</td></tr><tr><th>16</th><td>BldgType</td><td></td><td>1Fam</td><td></td><td>TwnhsE</td><td>5</td><td></td><td>String</td></tr><tr><th>17</th><td>HouseStyle</td><td></td><td>1.5Fin</td><td></td><td>SLvl</td><td>8</td><td></td><td>String</td></tr><tr><th>18</th><td>OverallQual</td><td>6.09932</td><td>1</td><td>6.0</td><td>10</td><td></td><td></td><td>Int64</td></tr><tr><th>19</th><td>OverallCond</td><td>5.57534</td><td>1</td><td>5.0</td><td>9</td><td></td><td></td><td>Int64</td></tr><tr><th>20</th><td>YearBuilt</td><td>1971.27</td><td>1872</td><td>1973.0</td><td>2010</td><td></td><td></td><td>Int64</td></tr><tr><th>21</th><td>YearRemodAdd</td><td>1984.87</td><td>1950</td><td>1994.0</td><td>2010</td><td></td><td></td><td>Int64</td></tr><tr><th>22</th><td>RoofStyle</td><td></td><td>Flat</td><td></td><td>Shed</td><td>6</td><td></td><td>String</td></tr><tr><th>23</th><td>RoofMatl</td><td></td><td>ClyTile</td><td></td><td>WdShngl</td><td>8</td><td></td><td>String</td></tr><tr><th>24</th><td>Exterior1st</td><td></td><td>AsbShng</td><td></td><td>WdShing</td><td>15</td><td></td><td>String</td></tr><tr><th>25</th><td>Exterior2nd</td><td></td><td>AsbShng</td><td></td><td>Wd Shng</td><td>16</td><td></td><td>String</td></tr><tr><th>26</th><td>MasVnrType</td><td></td><td>BrkCmn</td><td></td><td>Stone</td><td>5</td><td></td><td>String</td></tr><tr><th>27</th><td>MasVnrArea</td><td>103.685</td><td>0</td><td>0.0</td><td>1600</td><td></td><td>8</td><td>Int64</td></tr><tr><th>28</th><td>ExterQual</td><td></td><td>Ex</td><td></td><td>TA</td><td>4</td><td></td><td>String</td></tr><tr><th>29</th><td>ExterCond</td><td></td><td>Ex</td><td></td><td>TA</td><td>5</td><td></td><td>String</td></tr><tr><th>30</th><td>Foundation</td><td></td><td>BrkTil</td><td></td><td>Wood</td><td>6</td><td></td><td>String</td></tr><tr><th>&vellip;</th><td>&vellip;</td><td>&vellip;</td><td>&vellip;</td><td>&vellip;</td><td>&vellip;</td><td>&vellip;</td><td>&vellip;</td><td>&vellip;</td></tr></tbody></table>"
      ],
      "text/latex": [
       "\\begin{tabular}{r|cccccccc}\n",
       "\t& variable & mean & min & median & max & nunique & nmissing & eltype\\\\\n",
       "\t\\hline\n",
       "\t& Symbol & Union… & Any & Union… & Any & Union… & Union… & DataType\\\\\n",
       "\t\\hline\n",
       "\t1 & Id & 730.5 & 1 & 730.5 & 1460 &  &  & Int64 \\\\\n",
       "\t2 & MSSubClass & 56.8973 & 20 & 50.0 & 190 &  &  & Int64 \\\\\n",
       "\t3 & MSZoning &  & C (all) &  & RM & 5 &  & String \\\\\n",
       "\t4 & LotFrontage & 70.05 & 21 & 69.0 & 313 &  & 259 & Int64 \\\\\n",
       "\t5 & LotArea & 10516.8 & 1300 & 9478.5 & 215245 &  &  & Int64 \\\\\n",
       "\t6 & Street &  & Grvl &  & Pave & 2 &  & String \\\\\n",
       "\t7 & Alley &  &  &  & Pave & 4 &  & String \\\\\n",
       "\t8 & LotShape &  & IR1 &  & Reg & 4 &  & String \\\\\n",
       "\t9 & LandContour &  & Bnk &  & Lvl & 4 &  & String \\\\\n",
       "\t10 & Utilities &  & AllPub &  & NoSeWa & 2 &  & String \\\\\n",
       "\t11 & LotConfig &  & Corner &  & Inside & 5 &  & String \\\\\n",
       "\t12 & LandSlope &  & Gtl &  & Sev & 3 &  & String \\\\\n",
       "\t13 & Neighborhood &  & Blmngtn &  & Veenker & 25 &  & String \\\\\n",
       "\t14 & Condition1 &  & Artery &  & RRNn & 9 &  & String \\\\\n",
       "\t15 & Condition2 &  & Artery &  & RRNn & 8 &  & String \\\\\n",
       "\t16 & BldgType &  & 1Fam &  & TwnhsE & 5 &  & String \\\\\n",
       "\t17 & HouseStyle &  & 1.5Fin &  & SLvl & 8 &  & String \\\\\n",
       "\t18 & OverallQual & 6.09932 & 1 & 6.0 & 10 &  &  & Int64 \\\\\n",
       "\t19 & OverallCond & 5.57534 & 1 & 5.0 & 9 &  &  & Int64 \\\\\n",
       "\t20 & YearBuilt & 1971.27 & 1872 & 1973.0 & 2010 &  &  & Int64 \\\\\n",
       "\t21 & YearRemodAdd & 1984.87 & 1950 & 1994.0 & 2010 &  &  & Int64 \\\\\n",
       "\t22 & RoofStyle &  & Flat &  & Shed & 6 &  & String \\\\\n",
       "\t23 & RoofMatl &  & ClyTile &  & WdShngl & 8 &  & String \\\\\n",
       "\t24 & Exterior1st &  & AsbShng &  & WdShing & 15 &  & String \\\\\n",
       "\t25 & Exterior2nd &  & AsbShng &  & Wd Shng & 16 &  & String \\\\\n",
       "\t26 & MasVnrType &  & BrkCmn &  & Stone & 5 &  & String \\\\\n",
       "\t27 & MasVnrArea & 103.685 & 0 & 0.0 & 1600 &  & 8 & Int64 \\\\\n",
       "\t28 & ExterQual &  & Ex &  & TA & 4 &  & String \\\\\n",
       "\t29 & ExterCond &  & Ex &  & TA & 5 &  & String \\\\\n",
       "\t30 & Foundation &  & BrkTil &  & Wood & 6 &  & String \\\\\n",
       "\t$\\dots$ & $\\dots$ & $\\dots$ & $\\dots$ & $\\dots$ & $\\dots$ & $\\dots$ & $\\dots$ & $\\dots$ \\\\\n",
       "\\end{tabular}\n"
      ],
      "text/plain": [
       "81×8 DataFrame. Omitted printing of 2 columns\n",
       "│ Row │ variable      │ mean      │ min     │ median   │ max     │ nunique │\n",
       "│     │ \u001b[90mSymbol\u001b[39m        │ \u001b[90mUnion…\u001b[39m    │ \u001b[90mAny\u001b[39m     │ \u001b[90mUnion…\u001b[39m   │ \u001b[90mAny\u001b[39m     │ \u001b[90mUnion…\u001b[39m  │\n",
       "├─────┼───────────────┼───────────┼─────────┼──────────┼─────────┼─────────┤\n",
       "│ 1   │ Id            │ 730.5     │ 1       │ 730.5    │ 1460    │         │\n",
       "│ 2   │ MSSubClass    │ 56.8973   │ 20      │ 50.0     │ 190     │         │\n",
       "│ 3   │ MSZoning      │           │ C (all) │          │ RM      │ 5       │\n",
       "│ 4   │ LotFrontage   │ 70.05     │ 21      │ 69.0     │ 313     │         │\n",
       "│ 5   │ LotArea       │ 10516.8   │ 1300    │ 9478.5   │ 215245  │         │\n",
       "│ 6   │ Street        │           │ Grvl    │          │ Pave    │ 2       │\n",
       "│ 7   │ Alley         │           │         │          │ Pave    │ 4       │\n",
       "│ 8   │ LotShape      │           │ IR1     │          │ Reg     │ 4       │\n",
       "│ 9   │ LandContour   │           │ Bnk     │          │ Lvl     │ 4       │\n",
       "│ 10  │ Utilities     │           │ AllPub  │          │ NoSeWa  │ 2       │\n",
       "⋮\n",
       "│ 71  │ ScreenPorch   │ 15.061    │ 0       │ 0.0      │ 480     │         │\n",
       "│ 72  │ PoolArea      │ 2.7589    │ 0       │ 0.0      │ 738     │         │\n",
       "│ 73  │ PoolQC        │           │         │          │ NA      │ 5       │\n",
       "│ 74  │ Fence         │           │ GdPrv   │          │ NA      │ 5       │\n",
       "│ 75  │ MiscFeature   │           │ Gar2    │          │ TenC    │ 5       │\n",
       "│ 76  │ MiscVal       │ 43.489    │ 0       │ 0.0      │ 15500   │         │\n",
       "│ 77  │ MoSold        │ 6.32192   │ 1       │ 6.0      │ 12      │         │\n",
       "│ 78  │ YrSold        │ 2007.82   │ 2006    │ 2008.0   │ 2010    │         │\n",
       "│ 79  │ SaleType      │           │ COD     │          │ WD      │ 9       │\n",
       "│ 80  │ SaleCondition │           │ Abnorml │          │ Partial │ 6       │\n",
       "│ 81  │ SalePrice     │ 1.80921e5 │ 34900   │ 163000.0 │ 755000  │         │"
      ]
     },
     "execution_count": 12,
     "metadata": {},
     "output_type": "execute_result"
    }
   ],
   "source": [
    "describe(housing_df)"
   ]
  },
  {
   "cell_type": "code",
   "execution_count": null,
   "metadata": {},
   "outputs": [],
   "source": [
    "levels(housing_df.)"
   ]
  }
 ],
 "metadata": {
  "kernelspec": {
   "display_name": "Julia 1.0.3",
   "language": "julia",
   "name": "julia-1.0"
  },
  "language_info": {
   "file_extension": ".jl",
   "mimetype": "application/julia",
   "name": "julia",
   "version": "1.0.3"
  }
 },
 "nbformat": 4,
 "nbformat_minor": 2
}
